{
 "cells": [
  {
   "cell_type": "markdown",
   "id": "3c4f7f99",
   "metadata": {},
   "source": [
    "# 분류기만"
   ]
  },
  {
   "cell_type": "code",
   "execution_count": 1,
   "id": "4c32fa65",
   "metadata": {},
   "outputs": [
    {
     "name": "stdout",
     "output_type": "stream",
     "text": [
      "(17154, 224, 224, 3) (17154,) (5718, 224, 224, 3) (5718,) (5718, 224, 224, 3) (5718,)\n"
     ]
    }
   ],
   "source": [
    "import os\n",
    "import pickle\n",
    "import datetime\n",
    "\n",
    "folder_path = 'dataset_224_224/'\n",
    "x_train, y_train, x_val, y_val, x_test, y_test = [], [], [], [], [], []\n",
    "\n",
    "with open(folder_path+'x_train.pickle', 'rb') as f:\n",
    "    x_train = pickle.load(f)\n",
    "\n",
    "with open(folder_path+'y_train.pickle', 'rb') as f:\n",
    "    y_train = pickle.load(f)\n",
    "\n",
    "with open(folder_path+'x_val.pickle', 'rb') as f:\n",
    "    x_val = pickle.load(f)\n",
    "\n",
    "with open(folder_path+'y_val.pickle', 'rb') as f:\n",
    "    y_val = pickle.load(f)\n",
    "\n",
    "with open(folder_path+'x_test.pickle', 'rb') as f:\n",
    "    x_test = pickle.load(f)\n",
    "\n",
    "with open(folder_path+'y_test.pickle', 'rb') as f:\n",
    "    y_test = pickle.load(f)\n",
    "    \n",
    "print(x_train.shape, y_train.shape, x_val.shape, y_val.shape, x_test.shape, y_test.shape)"
   ]
  },
  {
   "cell_type": "code",
   "execution_count": 2,
   "id": "59620e2e",
   "metadata": {},
   "outputs": [],
   "source": [
    "train_images = x_train\n",
    "train_labels = y_train\n",
    "val_images = x_val\n",
    "val_labels = y_val\n",
    "test_images = x_test\n",
    "test_labels = y_test"
   ]
  },
  {
   "cell_type": "code",
   "execution_count": 3,
   "id": "57b44667",
   "metadata": {},
   "outputs": [
    {
     "data": {
      "text/plain": [
       "((17154, 3), (5718, 3), (5718, 3))"
      ]
     },
     "execution_count": 3,
     "metadata": {},
     "output_type": "execute_result"
    }
   ],
   "source": [
    "import tensorflow as tf\n",
    "\n",
    "from tensorflow.keras import datasets, layers, models\n",
    "\n",
    "from tensorflow.keras.layers import Dense, Flatten, MaxPooling2D\n",
    "from tensorflow.keras import Input\n",
    "from tensorflow.keras.layers import Dropout, BatchNormalization\n",
    "\n",
    "import matplotlib.pyplot as plt\n",
    "import os\n",
    "import tensorflow as tf\n",
    "\n",
    "y_train = tf.keras.utils.to_categorical(train_labels, 3)\n",
    "y_val = tf.keras.utils.to_categorical(val_labels, 3)\n",
    "y_test = tf.keras.utils.to_categorical(test_labels, 3)\n",
    "y_train.shape, y_val.shape, y_test.shape"
   ]
  },
  {
   "cell_type": "code",
   "execution_count": 4,
   "id": "ff263156",
   "metadata": {},
   "outputs": [
    {
     "name": "stderr",
     "output_type": "stream",
     "text": [
      "2022-12-01 08:47:33.805485: I tensorflow/core/common_runtime/pluggable_device/pluggable_device_factory.cc:306] Could not identify NUMA node of platform GPU ID 0, defaulting to 0. Your kernel may not have been built with NUMA support.\n",
      "2022-12-01 08:47:33.805804: I tensorflow/core/common_runtime/pluggable_device/pluggable_device_factory.cc:272] Created TensorFlow device (/job:localhost/replica:0/task:0/device:GPU:0 with 0 MB memory) -> physical PluggableDevice (device: 0, name: METAL, pci bus id: <undefined>)\n"
     ]
    },
    {
     "name": "stdout",
     "output_type": "stream",
     "text": [
      "Metal device set to: Apple M1\n",
      "Downloading data from https://storage.googleapis.com/tensorflow/keras-applications/nasnet/NASNet-mobile-no-top.h5\n",
      "19993432/19993432 [==============================] - 3s 0us/step\n",
      "Epoch 1/30\n"
     ]
    },
    {
     "name": "stderr",
     "output_type": "stream",
     "text": [
      "2022-12-01 08:47:45.132320: W tensorflow/core/platform/profile_utils/cpu_utils.cc:128] Failed to get CPU frequency: 0 Hz\n",
      "2022-12-01 08:47:51.804158: I tensorflow/core/grappler/optimizers/custom_graph_optimizer_registry.cc:114] Plugin optimizer for device_type GPU is enabled.\n"
     ]
    },
    {
     "name": "stdout",
     "output_type": "stream",
     "text": [
      "138/138 [==============================] - ETA: 0s - loss: 1.6491 - accuracy: 0.5200"
     ]
    },
    {
     "name": "stderr",
     "output_type": "stream",
     "text": [
      "2022-12-01 08:50:34.887775: I tensorflow/core/grappler/optimizers/custom_graph_optimizer_registry.cc:114] Plugin optimizer for device_type GPU is enabled.\n"
     ]
    },
    {
     "name": "stdout",
     "output_type": "stream",
     "text": [
      "138/138 [==============================] - 225s 2s/step - loss: 1.6491 - accuracy: 0.5200 - val_loss: 0.8039 - val_accuracy: 0.6062\n",
      "Epoch 2/30\n",
      "138/138 [==============================] - 197s 1s/step - loss: 0.8381 - accuracy: 0.5796 - val_loss: 0.7699 - val_accuracy: 0.5946\n",
      "Epoch 3/30\n",
      "138/138 [==============================] - 195s 1s/step - loss: 0.7943 - accuracy: 0.6045 - val_loss: 0.7372 - val_accuracy: 0.6518\n",
      "Epoch 4/30\n",
      "138/138 [==============================] - 192s 1s/step - loss: 0.7547 - accuracy: 0.6164 - val_loss: 0.7137 - val_accuracy: 0.6462\n",
      "Epoch 5/30\n",
      "138/138 [==============================] - 190s 1s/step - loss: 0.7227 - accuracy: 0.6400 - val_loss: 0.7028 - val_accuracy: 0.6723\n",
      "Epoch 6/30\n",
      "138/138 [==============================] - 191s 1s/step - loss: 0.6862 - accuracy: 0.6542 - val_loss: 0.6886 - val_accuracy: 0.6747\n",
      "Epoch 7/30\n",
      "138/138 [==============================] - 190s 1s/step - loss: 0.6614 - accuracy: 0.6686 - val_loss: 0.6867 - val_accuracy: 0.6828\n",
      "Epoch 8/30\n",
      "138/138 [==============================] - 190s 1s/step - loss: 0.6471 - accuracy: 0.6742 - val_loss: 0.6795 - val_accuracy: 0.6731\n",
      "Epoch 9/30\n",
      "138/138 [==============================] - 191s 1s/step - loss: 0.6260 - accuracy: 0.6836 - val_loss: 0.6920 - val_accuracy: 0.6905\n",
      "Epoch 10/30\n",
      "138/138 [==============================] - 190s 1s/step - loss: 0.6147 - accuracy: 0.6918 - val_loss: 0.6974 - val_accuracy: 0.6962\n",
      "Epoch 11/30\n",
      "138/138 [==============================] - 190s 1s/step - loss: 0.5994 - accuracy: 0.7031 - val_loss: 0.6744 - val_accuracy: 0.6898\n",
      "Epoch 12/30\n",
      "138/138 [==============================] - 190s 1s/step - loss: 0.5854 - accuracy: 0.7088 - val_loss: 0.6882 - val_accuracy: 0.6997\n",
      "Epoch 13/30\n",
      "138/138 [==============================] - 191s 1s/step - loss: 0.5678 - accuracy: 0.7163 - val_loss: 0.6990 - val_accuracy: 0.6983\n",
      "Epoch 14/30\n",
      "138/138 [==============================] - 193s 1s/step - loss: 0.5586 - accuracy: 0.7187 - val_loss: 0.7099 - val_accuracy: 0.6967\n"
     ]
    }
   ],
   "source": [
    "base_model = tf.keras.applications.NASNetMobile(include_top=False, input_shape = (224, 224 ,3), weights = 'imagenet')\n",
    "base_model.output_shape\n",
    "base_model.trainable = False\n",
    "\n",
    "# model.Sequential()없이 모델 구축하는 방법\n",
    "inputs = tf.keras.Input(shape=(224, 224, 3))\n",
    "\n",
    "x = base_model(inputs, training=False)\n",
    "x = tf.keras.layers.Flatten(input_shape=base_model.output_shape[1:])(x)\n",
    "x = tf.keras.layers.Dense(256, activation='relu')(x)\n",
    "x= tf.keras.layers.Dropout(0.5)(x)\n",
    "outputs = tf.keras.layers.Dense(3, activation='softmax')(x)\n",
    "\n",
    "model = tf.keras.Model(inputs, outputs)\n",
    "\n",
    "early = tf.keras.callbacks.EarlyStopping(monitor='val_loss', patience=3)\n",
    "\n",
    "checkpoint_path = \"checkpoints/NASNetMobile/cp-0-{epoch:04d}.ckpt\"\n",
    "checkpoint_dir = os.path.dirname(checkpoint_path)\n",
    "\n",
    "model_name = '_NASNetMobile_1'\n",
    "current_time = datetime.datetime.now().strftime(\"%Y%m%d\") # Y : 연도 / m : 월 / d : 일 / H : 시 / M : 분 / S : 초\n",
    "\n",
    "log_dir = \"logs/\" + current_time + model_name\n",
    "board_effib7_1 = tf.keras.callbacks.TensorBoard(log_dir=log_dir, histogram_freq=1) # epoch마다 히스토그램 계산\n",
    "\n",
    "\n",
    "# categorical_crossentropy\n",
    "model.compile(optimizer = tf.keras.optimizers.Adam(learning_rate= 0.001),\n",
    "                  loss = 'categorical_crossentropy',\n",
    "                  metrics=['accuracy'])\n",
    "\n",
    "# 모델 fitting\n",
    "hist_classifi = model.fit(train_images, y_train, epochs = 30, validation_data=(val_images, y_val)\n",
    ", batch_size=125, callbacks=[early, board_effib7_1])"
   ]
  },
  {
   "cell_type": "code",
   "execution_count": 5,
   "id": "c9f73935",
   "metadata": {},
   "outputs": [
    {
     "name": "stdout",
     "output_type": "stream",
     "text": [
      "[1.6490848064422607, 0.8380950689315796, 0.7942671775817871, 0.7546895146369934, 0.7226607799530029, 0.6861967444419861, 0.661415159702301, 0.6471307873725891, 0.6260189414024353, 0.6147461533546448, 0.5994052290916443, 0.585368275642395, 0.5677500367164612, 0.5585894584655762]\n",
      "[0.5199953317642212, 0.5796315670013428, 0.6044654250144958, 0.6164159774780273, 0.6400256752967834, 0.6541914343833923, 0.6685904264450073, 0.6741867661476135, 0.683630645275116, 0.6917920112609863, 0.7031013369560242, 0.7087559700012207, 0.7162761092185974, 0.7187244892120361]\n",
      "[0.8038671612739563, 0.7699459195137024, 0.7371582388877869, 0.7137404084205627, 0.7027965784072876, 0.6886428594589233, 0.6866934895515442, 0.6794857978820801, 0.6919587850570679, 0.6974490880966187, 0.6743773818016052, 0.6882140636444092, 0.6989706754684448, 0.7098826766014099]\n",
      "[0.6061559915542603, 0.5946134924888611, 0.651801347732544, 0.6462050080299377, 0.6722630262374878, 0.6747114658355713, 0.682756245136261, 0.6731374859809875, 0.6904512047767639, 0.6962224841117859, 0.6897516846656799, 0.6997202038764954, 0.6983211040496826, 0.6967471241950989]\n"
     ]
    },
    {
     "data": {
      "image/png": "[encoded data removed]",
      "text/plain": [
       "<Figure size 640x480 with 2 Axes>"
      ]
     },
     "metadata": {},
     "output_type": "display_data"
    },
    {
     "name": "stdout",
     "output_type": "stream",
     "text": [
      "179/179 - 50s - loss: 0.7274 - accuracy: 0.6969 - 50s/epoch - 281ms/step\n",
      "loss:  0.7273838520050049 , acc:  0.6969220042228699\n"
     ]
    }
   ],
   "source": [
    "print(hist_classifi.history['loss'])\n",
    "print(hist_classifi.history['accuracy'])\n",
    "print(hist_classifi.history['val_loss'])\n",
    "print(hist_classifi.history['val_accuracy'])\n",
    "\n",
    "import matplotlib.pyplot as plt\n",
    "\n",
    "fig, loss_ax = plt.subplots()\n",
    "acc_ax = loss_ax.twinx()\n",
    "\n",
    "loss_ax.plot(hist_classifi.history['loss'], 'y', label='train loss')\n",
    "loss_ax.plot(hist_classifi.history['val_loss'], 'r', label='val loss')\n",
    "loss_ax.set_xlabel('epoch')\n",
    "loss_ax.set_ylabel('loss')\n",
    "loss_ax.legend(loc='upper left')\n",
    "\n",
    "acc_ax.plot(hist_classifi.history['accuracy'], 'b', label='train acc')\n",
    "acc_ax.plot(hist_classifi.history['val_accuracy'], 'g', label='val acc')\n",
    "acc_ax.set_ylabel('accuracy')\n",
    "acc_ax.legend(loc='lower left')\n",
    "\n",
    "plt.show()\n",
    "\n",
    "#모델 검증\n",
    "test_loss, test_acc = model.evaluate(test_images, y_test, verbose=2)\n",
    "print('loss: ', test_loss, ', acc: ', test_acc)  \n",
    "\n",
    "model.save('models/NASNetMobile_1.h5')"
   ]
  },
  {
   "cell_type": "markdown",
   "id": "17724f4d",
   "metadata": {},
   "source": [
    "# 하위층만"
   ]
  },
  {
   "cell_type": "code",
   "execution_count": 9,
   "id": "d9d0d626",
   "metadata": {},
   "outputs": [
    {
     "name": "stdout",
     "output_type": "stream",
     "text": [
      "normal_left4_10 False\n",
      "normal_right4_10 False\n",
      "separable_conv_2_bn_normal_left5_10 False\n",
      "normal_add_1_10 False\n",
      "normal_add_2_10 False\n",
      "normal_add_3_10 False\n",
      "normal_add_4_10 False\n",
      "normal_add_5_10 False\n",
      "normal_concat_10 False\n",
      "activation_351 False\n",
      "activation_352 False\n",
      "adjust_conv_projection_11 False\n",
      "normal_conv_1_11 False\n",
      "adjust_bn_11 False\n",
      "normal_bn_1_11 False\n",
      "activation_353 False\n",
      "activation_355 False\n",
      "activation_357 False\n",
      "activation_359 False\n",
      "activation_361 False\n",
      "separable_conv_1_normal_left1_11 False\n",
      "separable_conv_1_normal_right1_11 False\n",
      "separable_conv_1_normal_left2_11 False\n",
      "separable_conv_1_normal_right2_11 False\n",
      "separable_conv_1_normal_left5_11 False\n",
      "separable_conv_1_bn_normal_left1_11 False\n",
      "separable_conv_1_bn_normal_right1_11 False\n",
      "separable_conv_1_bn_normal_left2_11 False\n",
      "separable_conv_1_bn_normal_right2_11 False\n",
      "separable_conv_1_bn_normal_left5_11 False\n",
      "activation_354 False\n",
      "activation_356 False\n",
      "activation_358 False\n",
      "activation_360 False\n",
      "activation_362 False\n",
      "separable_conv_2_normal_left1_11 False\n",
      "separable_conv_2_normal_right1_11 False\n",
      "separable_conv_2_normal_left2_11 False\n",
      "separable_conv_2_normal_right2_11 False\n",
      "separable_conv_2_normal_left5_11 False\n",
      "separable_conv_2_bn_normal_left1_11 False\n",
      "separable_conv_2_bn_normal_right1_11 False\n",
      "separable_conv_2_bn_normal_left2_11 False\n",
      "separable_conv_2_bn_normal_right2_11 False\n",
      "normal_left3_11 False\n",
      "normal_left4_11 False\n",
      "normal_right4_11 False\n",
      "separable_conv_2_bn_normal_left5_11 False\n",
      "normal_add_1_11 False\n",
      "normal_add_2_11 False\n",
      "normal_add_3_11 False\n",
      "normal_add_4_11 False\n",
      "normal_add_5_11 False\n",
      "normal_concat_11 False\n",
      "activation_363 False\n",
      "activation_364 False\n",
      "adjust_conv_projection_12 False\n",
      "normal_conv_1_12 False\n",
      "adjust_bn_12 False\n",
      "normal_bn_1_12 False\n",
      "activation_365 False\n",
      "activation_367 False\n",
      "activation_369 False\n",
      "activation_371 False\n",
      "activation_373 False\n",
      "separable_conv_1_normal_left1_12 False\n",
      "separable_conv_1_normal_right1_12 False\n",
      "separable_conv_1_normal_left2_12 False\n",
      "separable_conv_1_normal_right2_12 False\n",
      "separable_conv_1_normal_left5_12 False\n",
      "separable_conv_1_bn_normal_left1_12 False\n",
      "separable_conv_1_bn_normal_right1_12 False\n",
      "separable_conv_1_bn_normal_left2_12 False\n",
      "separable_conv_1_bn_normal_right2_12 False\n",
      "separable_conv_1_bn_normal_left5_12 False\n",
      "activation_366 False\n",
      "activation_368 False\n",
      "activation_370 False\n",
      "activation_372 False\n",
      "activation_374 False\n",
      "separable_conv_2_normal_left1_12 True\n",
      "separable_conv_2_normal_right1_12 True\n",
      "separable_conv_2_normal_left2_12 True\n",
      "separable_conv_2_normal_right2_12 True\n",
      "separable_conv_2_normal_left5_12 True\n",
      "separable_conv_2_bn_normal_left1_12 True\n",
      "separable_conv_2_bn_normal_right1_12 True\n",
      "separable_conv_2_bn_normal_left2_12 True\n",
      "separable_conv_2_bn_normal_right2_12 True\n",
      "normal_left3_12 True\n",
      "normal_left4_12 True\n",
      "normal_right4_12 True\n",
      "separable_conv_2_bn_normal_left5_12 True\n",
      "normal_add_1_12 True\n",
      "normal_add_2_12 True\n",
      "normal_add_3_12 True\n",
      "normal_add_4_12 True\n",
      "normal_add_5_12 True\n",
      "normal_concat_12 True\n",
      "activation_375 True\n"
     ]
    }
   ],
   "source": [
    "base_model = tf.keras.applications.NASNetMobile(include_top=False, input_shape = (224, 224 ,3), weights = 'imagenet')\n",
    "\n",
    "base_model.trainable = False\n",
    "base_model.trainable = True\n",
    "\n",
    "for layer in base_model.layers[:-20]: \n",
    "  layer.trainable = False\t\t\t\t\n",
    "\n",
    "for layer in base_model.layers[-100:]:\t\n",
    "  print(layer.name, layer.trainable)\n",
    "\n",
    "inputs = tf.keras.Input(shape=(224, 224, 3))\n",
    "\n",
    "x = base_model(inputs, training=False) # batchnorm 부분 update 방지\n",
    "\n",
    "x = tf.keras.layers.Flatten(input_shape=base_model.output_shape[1:])(x)\n",
    "x = tf.keras.layers.Dense(256, activation='relu')(x)\n",
    "x= tf.keras.layers.Dropout(0.5)(x)\n",
    "outputs = tf.keras.layers.Dense(3, activation='softmax')(x)\n",
    "\n",
    "model_efficientb7 = tf.keras.Model(inputs, outputs)\n",
    "\n",
    "model_efficientb7.compile(optimizer = tf.keras.optimizers.Adam( learning_rate= 0.0001),\n",
    "                  loss = 'categorical_crossentropy',\n",
    "                  metrics=['accuracy'])\n",
    "\n",
    "early = tf.keras.callbacks.EarlyStopping(monitor='val_loss', patience=2)\n",
    "\n",
    "checkpoint_path = \"checkpoints/EfficientNetB7/cp-2-{epoch:04d}.ckpt\"\n",
    "checkpoint_dir = os.path.dirname(checkpoint_path)\n",
    "\n",
    "cp_callback = tf.keras.callbacks.ModelCheckpoint(\n",
    "    filepath=checkpoint_path, # 고유한 파일이름 부여 가능 \n",
    "    monitor='val_loss', # val_loss값을 기준으로 최저점일때를 기록하고 싶다면\n",
    "    save_best_only=True, # True를 주면 monitor기준 최고상태 기록\n",
    "    save_weights_only=False, # False면 모델 레이어 및 weight값 모두\n",
    "    save_freq='epoch' # 체크포인트 저장하는 에폭주기 설정 가능\n",
    ")\n",
    "\n",
    "def scheduler(epoch, lr):\n",
    "   if epoch < 10:\n",
    "     return lr\n",
    "   else:\n",
    "     return lr * 0.1\n",
    "\n",
    "lr_schedule = tf.keras.callbacks.LearningRateScheduler(scheduler, verbose=0)\n",
    "\n",
    "model_name = '_EfficientNetB7_2'\n",
    "current_time = datetime.datetime.now().strftime(\"%Y%m%d\") # Y : 연도 / m : 월 / d : 일 / H : 시 / M : 분 / S : 초\n",
    "\n",
    "log_dir = \"logs/\" + current_time + model_name\n",
    "board_effib7 = tf.keras.callbacks.TensorBoard(log_dir=log_dir, histogram_freq=1) # epoch마다 히스토그램 계산"
   ]
  },
  {
   "cell_type": "code",
   "execution_count": 10,
   "id": "9533e656",
   "metadata": {
    "scrolled": true
   },
   "outputs": [
    {
     "name": "stdout",
     "output_type": "stream",
     "text": [
      "Epoch 1/30\n"
     ]
    },
    {
     "name": "stderr",
     "output_type": "stream",
     "text": [
      "2022-12-01 09:41:40.545205: I tensorflow/core/grappler/optimizers/custom_graph_optimizer_registry.cc:114] Plugin optimizer for device_type GPU is enabled.\n"
     ]
    },
    {
     "name": "stdout",
     "output_type": "stream",
     "text": [
      "138/138 [==============================] - ETA: 0s - loss: 1.4879 - accuracy: 0.5592"
     ]
    },
    {
     "name": "stderr",
     "output_type": "stream",
     "text": [
      "2022-12-01 09:44:22.051994: I tensorflow/core/grappler/optimizers/custom_graph_optimizer_registry.cc:114] Plugin optimizer for device_type GPU is enabled.\n",
      "WARNING:absl:Found untraced functions such as _jit_compiled_convolution_op, _jit_compiled_convolution_op, _jit_compiled_convolution_op, _jit_compiled_convolution_op, _jit_compiled_convolution_op while saving (showing 5 of 196). These functions will not be directly callable after loading.\n"
     ]
    },
    {
     "name": "stdout",
     "output_type": "stream",
     "text": [
      "INFO:tensorflow:Assets written to: checkpoints/EfficientNetB7/cp-2-0001.ckpt/assets\n"
     ]
    },
    {
     "name": "stderr",
     "output_type": "stream",
     "text": [
      "INFO:tensorflow:Assets written to: checkpoints/EfficientNetB7/cp-2-0001.ckpt/assets\n"
     ]
    },
    {
     "name": "stdout",
     "output_type": "stream",
     "text": [
      "138/138 [==============================] - 299s 2s/step - loss: 1.4879 - accuracy: 0.5592 - val_loss: 0.7810 - val_accuracy: 0.6385 - lr: 1.0000e-04\n",
      "Epoch 2/30\n",
      "138/138 [==============================] - ETA: 0s - loss: 0.7498 - accuracy: 0.6577"
     ]
    },
    {
     "name": "stderr",
     "output_type": "stream",
     "text": [
      "WARNING:absl:Found untraced functions such as _jit_compiled_convolution_op, _jit_compiled_convolution_op, _jit_compiled_convolution_op, _jit_compiled_convolution_op, _jit_compiled_convolution_op while saving (showing 5 of 196). These functions will not be directly callable after loading.\n"
     ]
    },
    {
     "name": "stdout",
     "output_type": "stream",
     "text": [
      "INFO:tensorflow:Assets written to: checkpoints/EfficientNetB7/cp-2-0002.ckpt/assets\n"
     ]
    },
    {
     "name": "stderr",
     "output_type": "stream",
     "text": [
      "INFO:tensorflow:Assets written to: checkpoints/EfficientNetB7/cp-2-0002.ckpt/assets\n"
     ]
    },
    {
     "name": "stdout",
     "output_type": "stream",
     "text": [
      "138/138 [==============================] - 275s 2s/step - loss: 0.7498 - accuracy: 0.6577 - val_loss: 0.7291 - val_accuracy: 0.6663 - lr: 1.0000e-04\n",
      "Epoch 3/30\n",
      "138/138 [==============================] - ETA: 0s - loss: 0.6501 - accuracy: 0.7083"
     ]
    },
    {
     "name": "stderr",
     "output_type": "stream",
     "text": [
      "WARNING:absl:Found untraced functions such as _jit_compiled_convolution_op, _jit_compiled_convolution_op, _jit_compiled_convolution_op, _jit_compiled_convolution_op, _jit_compiled_convolution_op while saving (showing 5 of 196). These functions will not be directly callable after loading.\n"
     ]
    },
    {
     "name": "stdout",
     "output_type": "stream",
     "text": [
      "INFO:tensorflow:Assets written to: checkpoints/EfficientNetB7/cp-2-0003.ckpt/assets\n"
     ]
    },
    {
     "name": "stderr",
     "output_type": "stream",
     "text": [
      "INFO:tensorflow:Assets written to: checkpoints/EfficientNetB7/cp-2-0003.ckpt/assets\n"
     ]
    },
    {
     "name": "stdout",
     "output_type": "stream",
     "text": [
      "138/138 [==============================] - 278s 2s/step - loss: 0.6501 - accuracy: 0.7083 - val_loss: 0.6865 - val_accuracy: 0.6852 - lr: 1.0000e-04\n",
      "Epoch 4/30\n",
      "138/138 [==============================] - ETA: 0s - loss: 0.5671 - accuracy: 0.7507"
     ]
    },
    {
     "name": "stderr",
     "output_type": "stream",
     "text": [
      "WARNING:absl:Found untraced functions such as _jit_compiled_convolution_op, _jit_compiled_convolution_op, _jit_compiled_convolution_op, _jit_compiled_convolution_op, _jit_compiled_convolution_op while saving (showing 5 of 196). These functions will not be directly callable after loading.\n"
     ]
    },
    {
     "name": "stdout",
     "output_type": "stream",
     "text": [
      "INFO:tensorflow:Assets written to: checkpoints/EfficientNetB7/cp-2-0004.ckpt/assets\n"
     ]
    },
    {
     "name": "stderr",
     "output_type": "stream",
     "text": [
      "INFO:tensorflow:Assets written to: checkpoints/EfficientNetB7/cp-2-0004.ckpt/assets\n"
     ]
    },
    {
     "name": "stdout",
     "output_type": "stream",
     "text": [
      "138/138 [==============================] - 280s 2s/step - loss: 0.5671 - accuracy: 0.7507 - val_loss: 0.6688 - val_accuracy: 0.7036 - lr: 1.0000e-04\n",
      "Epoch 5/30\n",
      "138/138 [==============================] - ETA: 0s - loss: 0.5108 - accuracy: 0.7845"
     ]
    },
    {
     "name": "stderr",
     "output_type": "stream",
     "text": [
      "WARNING:absl:Found untraced functions such as _jit_compiled_convolution_op, _jit_compiled_convolution_op, _jit_compiled_convolution_op, _jit_compiled_convolution_op, _jit_compiled_convolution_op while saving (showing 5 of 196). These functions will not be directly callable after loading.\n"
     ]
    },
    {
     "name": "stdout",
     "output_type": "stream",
     "text": [
      "INFO:tensorflow:Assets written to: checkpoints/EfficientNetB7/cp-2-0005.ckpt/assets\n"
     ]
    },
    {
     "name": "stderr",
     "output_type": "stream",
     "text": [
      "INFO:tensorflow:Assets written to: checkpoints/EfficientNetB7/cp-2-0005.ckpt/assets\n"
     ]
    },
    {
     "name": "stdout",
     "output_type": "stream",
     "text": [
      "138/138 [==============================] - 275s 2s/step - loss: 0.5108 - accuracy: 0.7845 - val_loss: 0.6570 - val_accuracy: 0.7155 - lr: 1.0000e-04\n",
      "Epoch 6/30\n",
      "138/138 [==============================] - ETA: 0s - loss: 0.4558 - accuracy: 0.8081"
     ]
    },
    {
     "name": "stderr",
     "output_type": "stream",
     "text": [
      "WARNING:absl:Found untraced functions such as _jit_compiled_convolution_op, _jit_compiled_convolution_op, _jit_compiled_convolution_op, _jit_compiled_convolution_op, _jit_compiled_convolution_op while saving (showing 5 of 196). These functions will not be directly callable after loading.\n"
     ]
    },
    {
     "name": "stdout",
     "output_type": "stream",
     "text": [
      "INFO:tensorflow:Assets written to: checkpoints/EfficientNetB7/cp-2-0006.ckpt/assets\n"
     ]
    },
    {
     "name": "stderr",
     "output_type": "stream",
     "text": [
      "INFO:tensorflow:Assets written to: checkpoints/EfficientNetB7/cp-2-0006.ckpt/assets\n"
     ]
    },
    {
     "name": "stdout",
     "output_type": "stream",
     "text": [
      "138/138 [==============================] - 537s 4s/step - loss: 0.4558 - accuracy: 0.8081 - val_loss: 0.6468 - val_accuracy: 0.7233 - lr: 1.0000e-04\n",
      "Epoch 7/30\n",
      "138/138 [==============================] - ETA: 0s - loss: 0.4066 - accuracy: 0.8311"
     ]
    },
    {
     "name": "stderr",
     "output_type": "stream",
     "text": [
      "WARNING:absl:Found untraced functions such as _jit_compiled_convolution_op, _jit_compiled_convolution_op, _jit_compiled_convolution_op, _jit_compiled_convolution_op, _jit_compiled_convolution_op while saving (showing 5 of 196). These functions will not be directly callable after loading.\n"
     ]
    },
    {
     "name": "stdout",
     "output_type": "stream",
     "text": [
      "INFO:tensorflow:Assets written to: checkpoints/EfficientNetB7/cp-2-0007.ckpt/assets\n"
     ]
    },
    {
     "name": "stderr",
     "output_type": "stream",
     "text": [
      "INFO:tensorflow:Assets written to: checkpoints/EfficientNetB7/cp-2-0007.ckpt/assets\n"
     ]
    },
    {
     "name": "stdout",
     "output_type": "stream",
     "text": [
      "138/138 [==============================] - 586s 4s/step - loss: 0.4066 - accuracy: 0.8311 - val_loss: 0.6453 - val_accuracy: 0.7272 - lr: 1.0000e-04\n",
      "Epoch 8/30\n",
      "138/138 [==============================] - 465s 3s/step - loss: 0.3600 - accuracy: 0.8545 - val_loss: 0.6496 - val_accuracy: 0.7289 - lr: 1.0000e-04\n",
      "Epoch 9/30\n",
      "138/138 [==============================] - 478s 3s/step - loss: 0.3243 - accuracy: 0.8684 - val_loss: 0.6546 - val_accuracy: 0.7356 - lr: 1.0000e-04\n"
     ]
    }
   ],
   "source": [
    "hist_classifi_2 = model_efficientb7.fit(train_images, y_train, epochs = 30, validation_data=(val_images, y_val), batch_size=125\n",
    "                            , callbacks=[cp_callback, early, board_effib7, lr_schedule])"
   ]
  },
  {
   "cell_type": "code",
   "execution_count": 11,
   "id": "1b84adb9",
   "metadata": {},
   "outputs": [
    {
     "name": "stdout",
     "output_type": "stream",
     "text": [
      "[1.4878841638565063, 0.7497758269309998, 0.6501461863517761, 0.5670680403709412, 0.510836660861969, 0.4557720124721527, 0.4065972864627838, 0.36003172397613525, 0.3242606222629547]\n",
      "[0.5591698884963989, 0.6577474474906921, 0.7083479166030884, 0.7507287263870239, 0.784540057182312, 0.8081496953964233, 0.8310598134994507, 0.854494571685791, 0.868368923664093]\n",
      "[0.7809619307518005, 0.729080080986023, 0.6864543557167053, 0.6687605977058411, 0.6570231914520264, 0.6467556953430176, 0.6452513337135315, 0.6495884656906128, 0.6545524597167969]\n",
      "[0.63850998878479, 0.6663169264793396, 0.6852046251296997, 0.7035676836967468, 0.715459942817688, 0.7233298420906067, 0.7271773815155029, 0.7289262413978577, 0.7355719208717346]\n"
     ]
    },
    {
     "data": {
      "image/png": "[encoded data removed]",
      "text/plain": [
       "<Figure size 640x480 with 2 Axes>"
      ]
     },
     "metadata": {},
     "output_type": "display_data"
    },
    {
     "name": "stdout",
     "output_type": "stream",
     "text": [
      "179/179 - 120s - loss: 0.7274 - accuracy: 0.6969 - 120s/epoch - 668ms/step\n",
      "loss:  0.7273838520050049 , acc:  0.6969220042228699\n"
     ]
    }
   ],
   "source": [
    "print(hist_classifi_2.history['loss'])\n",
    "print(hist_classifi_2.history['accuracy'])\n",
    "print(hist_classifi_2.history['val_loss'])\n",
    "print(hist_classifi_2.history['val_accuracy'])\n",
    "\n",
    "import matplotlib.pyplot as plt\n",
    "\n",
    "fig, loss_ax = plt.subplots()\n",
    "acc_ax = loss_ax.twinx()\n",
    "\n",
    "loss_ax.plot(hist_classifi.history['loss'], 'y', label='train loss')\n",
    "loss_ax.plot(hist_classifi.history['val_loss'], 'r', label='val loss')\n",
    "loss_ax.set_xlabel('epoch')\n",
    "loss_ax.set_ylabel('loss')\n",
    "loss_ax.legend(loc='upper left')\n",
    "\n",
    "acc_ax.plot(hist_classifi.history['accuracy'], 'b', label='train acc')\n",
    "acc_ax.plot(hist_classifi.history['val_accuracy'], 'g', label='val acc')\n",
    "acc_ax.set_ylabel('accuracy')\n",
    "acc_ax.legend(loc='lower left')\n",
    "\n",
    "plt.show()\n",
    "\n",
    "#모델 검증\n",
    "test_loss, test_acc = model.evaluate(test_images, y_test, verbose=2)\n",
    "print('loss: ', test_loss, ', acc: ', test_acc)  \n",
    "model_efficientb7.save('models/NASNetMobile_2.h5')"
   ]
  },
  {
   "cell_type": "markdown",
   "id": "f8f1e718",
   "metadata": {},
   "source": [
    "# 전부재학습"
   ]
  },
  {
   "cell_type": "code",
   "execution_count": null,
   "id": "978a03e2",
   "metadata": {},
   "outputs": [],
   "source": [
    "base_model = tf.keras.applications.NASNetMobile(include_top=False, input_shape = (224, 224 ,3), weights = 'imagenet')\n",
    "\n",
    "base_model.trainable = True\n",
    "\n",
    "inputs = tf.keras.Input(shape=(224, 224, 3))\n",
    "\n",
    "x = base_model(inputs, training=False) # batchnorm 부분 update 방지\n",
    "\n",
    "x = tf.keras.layers.Flatten(input_shape=base_model.output_shape[1:])(x)\n",
    "x = tf.keras.layers.Dense(256, activation='relu')(x)\n",
    "x= tf.keras.layers.Dropout(0.5)(x)\n",
    "outputs = tf.keras.layers.Dense(3, activation='softmax')(x)\n",
    "\n",
    "model_effib7_3 = tf.keras.Model(inputs, outputs)\n",
    "\n",
    "model_effib7_3.compile(optimizer = tf.keras.optimizers.Adam( learning_rate= 0.0001),\n",
    "                  loss = 'categorical_crossentropy',\n",
    "                  metrics=['accuracy'])\n",
    "\n",
    "early = tf.keras.callbacks.EarlyStopping(monitor='val_loss', patience=2)\n",
    "\n",
    "checkpoint_path = \"checkpoints/EfficientNetB7/cp-3-{epoch:04d}.ckpt\"\n",
    "checkpoint_dir = os.path.dirname(checkpoint_path)\n",
    "\n",
    "cp_callback = tf.keras.callbacks.ModelCheckpoint(\n",
    "    filepath=checkpoint_path, # 고유한 파일이름 부여 가능 \n",
    "    monitor='val_loss', # val_loss값을 기준으로 최저점일때를 기록하고 싶다면\n",
    "    save_best_only=True, # True를 주면 monitor기준 최고상태 기록\n",
    "    save_weights_only=False, # False면 모델 레이어 및 weight값 모두\n",
    "    save_freq='epoch' # 체크포인트 저장하는 에폭주기 설정 가능\n",
    ")\n",
    "\n",
    "def scheduler(epoch, lr):\n",
    "   if epoch < 10:\n",
    "     return lr\n",
    "   else:\n",
    "     return lr * 0.1\n",
    "\n",
    "lr_schedule = tf.keras.callbacks.LearningRateScheduler(scheduler, verbose=0)\n",
    "\n",
    "model_name = '_EfficientNetB7_3'\n",
    "current_time = datetime.datetime.now().strftime(\"%Y%m%d\") # Y : 연도 / m : 월 / d : 일 / H : 시 / M : 분 / S : 초\n",
    "\n",
    "log_dir = \"logs/\" + current_time + model_name\n",
    "board_effib7 = tf.keras.callbacks.TensorBoard(log_dir=log_dir, histogram_freq=1) # epoch마다 히스토그램 계산"
   ]
  },
  {
   "cell_type": "code",
   "execution_count": null,
   "id": "b55c2130",
   "metadata": {},
   "outputs": [],
   "source": [
    "hist_classifi_7 = model_effib7_3.fit(train_images, y_train, epochs = 30, validation_data=(val_images, y_val), batch_size=125\n",
    "                            , callbacks=[cp_callback, early, board_effib7, lr_schedule])"
   ]
  },
  {
   "cell_type": "code",
   "execution_count": null,
   "id": "22c1f703",
   "metadata": {},
   "outputs": [],
   "source": [
    "print(hist_classifi_7.history['loss'])\n",
    "print(hist_classifi_7.history['accuracy'])\n",
    "print(hist_classifi_7.history['val_loss'])\n",
    "print(hist_classifi_7.history['val_accuracy'])\n",
    "\n",
    "import matplotlib.pyplot as plt\n",
    "\n",
    "fig, loss_ax = plt.subplots()\n",
    "acc_ax = loss_ax.twinx()\n",
    "\n",
    "loss_ax.plot(hist_classifi_7.history['loss'], 'y', label='train loss')\n",
    "loss_ax.plot(hist_classifi_7.history['val_loss'], 'r', label='val loss')\n",
    "loss_ax.set_xlabel('epoch')\n",
    "loss_ax.set_ylabel('loss')\n",
    "loss_ax.legend(loc='upper left')\n",
    "\n",
    "acc_ax.plot(hist_classifi_7.history['accuracy'], 'b', label='train acc')\n",
    "acc_ax.plot(hist_classifi_7.history['val_accuracy'], 'g', label='val acc')\n",
    "acc_ax.set_ylabel('accuracy')\n",
    "acc_ax.legend(loc='lower left')\n",
    "\n",
    "plt.show()\n",
    "\n",
    "#모델 검증\n",
    "test_loss, test_acc = model_effib7_3.evaluate(test_images, y_test, verbose=2)\n",
    "print('loss: ', test_loss, ', acc: ', test_acc)  \n",
    "model_effib7_3.save('models/NASNetMobile_3.h5')"
   ]
  },
  {
   "cell_type": "markdown",
   "id": "89bc4df1",
   "metadata": {},
   "source": [
    "# fine-tune"
   ]
  },
  {
   "cell_type": "code",
   "execution_count": null,
   "id": "c5a33888",
   "metadata": {},
   "outputs": [],
   "source": [
    "## fine-tune\n",
    "model.trainable = True\n",
    "\n",
    "model.compile(optimizer = tf.keras.optimizers.Adam( learning_rate= 0.0001),\n",
    "                loss = 'categorical_crossentropy',\n",
    "                metrics=['accuracy'])\n",
    "\n",
    "early = tf.keras.callbacks.EarlyStopping(monitor='val_loss', patience=3)\n",
    "\n",
    "checkpoint_path = \"/Users/jeonminjeong/Downloads/알파코/프로젝트/이미지인식/checkpoints/EfficientNetB7/cp-4-{epoch:04d}.ckpt\"\n",
    "checkpoint_dir = os.path.dirname(checkpoint_path)\n",
    "\n",
    "cp_callback = tf.keras.callbacks.ModelCheckpoint(\n",
    "    filepath=checkpoint_path, # 고유한 파일이름 부여 가능 \n",
    "    monitor='val_loss', # val_loss값을 기준으로 최저점일때를 기록하고 싶다면\n",
    "    save_best_only=True, # True를 주면 monitor기준 최고상태 기록\n",
    "    save_weights_only=False, # False면 모델 레이어 및 weight값 모두\n",
    "    save_freq='epoch' # 체크포인트 저장하는 에폭주기 설정 가능\n",
    ")\n",
    "\n",
    "def scheduler(epoch, lr):\n",
    "   if epoch < 10:\n",
    "     return lr\n",
    "   else:\n",
    "     return lr * 0.1\n",
    "\n",
    "lr_schedule = tf.keras.callbacks.LearningRateScheduler(scheduler, verbose=0)\n",
    "\n",
    "model_name = '_EfficientNetB7_4'\n",
    "current_time = datetime.datetime.now().strftime(\"%Y%m%d\") # Y : 연도 / m : 월 / d : 일 / H : 시 / M : 분 / S : 초\n",
    "\n",
    "log_dir = \"logs/\" + current_time + model_name\n",
    "board_inception4 = tf.keras.callbacks.TensorBoard(log_dir=log_dir, histogram_freq=1) # epoch마다 히스토그램 계산"
   ]
  },
  {
   "cell_type": "code",
   "execution_count": null,
   "id": "0255f396",
   "metadata": {},
   "outputs": [],
   "source": [
    "hist_classifi_8 = model.fit(train_images, y_train, epochs = 30, validation_data=(val_images, y_val), batch_size=125\n",
    "                            , callbacks=[cp_callback, early, board_inception4, lr_schedule])"
   ]
  },
  {
   "cell_type": "code",
   "execution_count": null,
   "id": "64bedac8",
   "metadata": {},
   "outputs": [],
   "source": [
    "print(hist_classifi_8.history['loss'])\n",
    "print(hist_classifi_8.history['accuracy'])\n",
    "print(hist_classifi_8.history['val_loss'])\n",
    "print(hist_classifi_8.history['val_accuracy'])\n",
    "\n",
    "import matplotlib.pyplot as plt\n",
    "\n",
    "fig, loss_ax = plt.subplots()\n",
    "acc_ax = loss_ax.twinx()\n",
    "\n",
    "loss_ax.plot(hist_classifi_8.history['loss'], 'y', label='train loss')\n",
    "loss_ax.plot(hist_classifi_8.history['val_loss'], 'r', label='val loss')\n",
    "loss_ax.set_xlabel('epoch')\n",
    "loss_ax.set_ylabel('loss')\n",
    "loss_ax.legend(loc='upper left')\n",
    "\n",
    "acc_ax.plot(hist_classifi_8.history['accuracy'], 'b', label='train acc')\n",
    "acc_ax.plot(hist_classifi_8.history['val_accuracy'], 'g', label='val acc')\n",
    "acc_ax.set_ylabel('accuracy')\n",
    "acc_ax.legend(loc='lower left')\n",
    "\n",
    "plt.show()"
   ]
  },
  {
   "cell_type": "code",
   "execution_count": null,
   "id": "fda2a20d",
   "metadata": {},
   "outputs": [],
   "source": [
    "#모델 검증\n",
    "test_loss, test_acc = model.evaluate(test_images, y_test, verbose=2)\n",
    "print('loss: ', test_loss, ', acc: ', test_acc)  \n",
    "model.save('models/NASNetMobile_4.h5')"
   ]
  }
 ],
 "metadata": {
  "kernelspec": {
   "display_name": "Python 3 (ipykernel)",
   "language": "python",
   "name": "python3"
  },
  "language_info": {
   "codemirror_mode": {
    "name": "ipython",
    "version": 3
   },
   "file_extension": ".py",
   "mimetype": "text/x-python",
   "name": "python",
   "nbconvert_exporter": "python",
   "pygments_lexer": "ipython3",
   "version": "3.9.12"
  }
 },
 "nbformat": 4,
 "nbformat_minor": 5
}
