{
 "cells": [
  {
   "cell_type": "markdown",
   "metadata": {},
   "source": [
    "# 데이터 불러오기"
   ]
  },
  {
   "cell_type": "code",
   "execution_count": 1,
   "metadata": {},
   "outputs": [],
   "source": [
    "import pickle"
   ]
  },
  {
   "cell_type": "code",
   "execution_count": 2,
   "metadata": {},
   "outputs": [],
   "source": [
    "folder_path = 'dataset_224_224/'\n",
    "x_train, y_train, x_val, y_val, x_test, y_test = [], [], [], [], [], []"
   ]
  },
  {
   "cell_type": "code",
   "execution_count": 3,
   "metadata": {},
   "outputs": [],
   "source": [
    "with open(folder_path+'x_train.pickle', 'rb') as f:\n",
    "    x_train = pickle.load(f)\n",
    "\n",
    "with open(folder_path+'y_train.pickle', 'rb') as f:\n",
    "    y_train = pickle.load(f)\n",
    "\n",
    "with open(folder_path+'x_val.pickle', 'rb') as f:\n",
    "    x_val = pickle.load(f)\n",
    "\n",
    "with open(folder_path+'y_val.pickle', 'rb') as f:\n",
    "    y_val = pickle.load(f)\n",
    "\n",
    "with open(folder_path+'x_test.pickle', 'rb') as f:\n",
    "    x_test = pickle.load(f)\n",
    "\n",
    "with open(folder_path+'y_test.pickle', 'rb') as f:\n",
    "    y_test = pickle.load(f)"
   ]
  },
  {
   "cell_type": "code",
   "execution_count": 4,
   "metadata": {},
   "outputs": [],
   "source": [
    "with open(folder_path+'x_train_zero.pickle', 'rb') as f:\n",
    "    x_train = pickle.load(f)\n",
    "\n",
    "with open(folder_path+'y_train_zero.pickle', 'rb') as f:\n",
    "    y_train = pickle.load(f)\n",
    "\n",
    "with open(folder_path+'x_val_zero.pickle', 'rb') as f:\n",
    "    x_val = pickle.load(f)\n",
    "\n",
    "with open(folder_path+'y_val_zero.pickle', 'rb') as f:\n",
    "    y_val = pickle.load(f)\n",
    "\n",
    "with open(folder_path+'x_test_zero.pickle', 'rb') as f:\n",
    "    x_test = pickle.load(f)\n",
    "\n",
    "with open(folder_path+'y_test_zero.pickle', 'rb') as f:\n",
    "    y_test = pickle.load(f)"
   ]
  },
  {
   "cell_type": "code",
   "execution_count": 4,
   "metadata": {},
   "outputs": [
    {
     "name": "stdout",
     "output_type": "stream",
     "text": [
      "(17154, 224, 224, 3) (17154,) (5718, 224, 224, 3) (5718,) (5718, 224, 224, 3) (5718,)\n"
     ]
    }
   ],
   "source": [
    "print(x_train.shape, y_train.shape, x_val.shape, y_val.shape, x_test.shape, y_test.shape)"
   ]
  },
  {
   "cell_type": "code",
   "execution_count": 5,
   "metadata": {},
   "outputs": [],
   "source": [
    "train_images = x_train\n",
    "train_labels = y_train\n",
    "val_images = x_val\n",
    "val_labels = y_val\n",
    "test_images = x_test\n",
    "test_labels = y_test"
   ]
  },
  {
   "cell_type": "markdown",
   "metadata": {},
   "source": [
    "# CNN Basic Modeling"
   ]
  },
  {
   "cell_type": "code",
   "execution_count": 99,
   "metadata": {},
   "outputs": [],
   "source": [
    "from tensorflow.keras import datasets, layers, models #Tensorflow에 있는 Keras 함수들 호출하기\n",
    "import os\n",
    "import tensorflow as tf"
   ]
  },
  {
   "cell_type": "code",
   "execution_count": 100,
   "metadata": {},
   "outputs": [],
   "source": [
    "#모델 구축\n",
    "model = models.Sequential()\n",
    "## filtering layer\n",
    "model.add(layers.Conv2D(64, (3, 3), activation='relu', input_shape=(224, 224, 3)))\n",
    "model.add(layers.MaxPooling2D((2, 2)))\n",
    "model.add(layers.Conv2D(128, (3, 3), activation='relu'))\n",
    "model.add(layers.MaxPooling2D((2, 2)))\n",
    "model.add(layers.Conv2D(256, (3, 3), activation='relu'))\n",
    "\n",
    "## classification layer\n",
    "model.add(layers.Flatten())\n",
    "model.add(layers.Dense(32, activation='relu'))\n",
    "model.add(layers.Dense(3, activation='softmax'))"
   ]
  },
  {
   "cell_type": "code",
   "execution_count": 101,
   "metadata": {},
   "outputs": [],
   "source": [
    "#모델 컴파일\n",
    "model.compile(optimizer='adam',\n",
    "              loss='sparse_categorical_crossentropy',\n",
    "              metrics=['accuracy'])"
   ]
  },
  {
   "cell_type": "code",
   "execution_count": 103,
   "metadata": {},
   "outputs": [
    {
     "name": "stdout",
     "output_type": "stream",
     "text": [
      "checkpoints/cnn_basic\n"
     ]
    }
   ],
   "source": [
    "early = tf.keras.callbacks.EarlyStopping(monitor='val_loss', patience=3)\n",
    "\n",
    "checkpoint_path = \"checkpoints/cnn_basic/cp-{epoch:04d}.ckpt\"\n",
    "checkpoint_dir = os.path.dirname(checkpoint_path)\n",
    "\n",
    "cp_callback = tf.keras.callbacks.ModelCheckpoint(\n",
    "    filepath=checkpoint_path, # 고유한 파일이름 부여 가능 \n",
    "    monitor='val_loss', # val_loss값을 기준으로 최저점일때를 기록하고 싶다면\n",
    "    save_best_only=True, # True를 주면 monitor기준 최고상태 기록\n",
    "    save_weights_only=False, # False면 모델 레이어 및 weight값 모두\n",
    "    save_freq=5 # 체크포인트 저장하는 에폭주기 설정 가능\n",
    ")\n",
    "\n",
    "print(checkpoint_dir)"
   ]
  },
  {
   "cell_type": "code",
   "execution_count": 10,
   "metadata": {},
   "outputs": [
    {
     "name": "stdout",
     "output_type": "stream",
     "text": [
      "Python Platform: macOS-12.3.1-arm64-arm-64bit\n",
      "Tensor Flow Version: 2.10.0\n",
      "Keras Version: 2.10.0\n",
      "\n",
      "Python 3.9.12 (main, Apr  5 2022, 01:52:34) \n",
      "[Clang 12.0.0 ]\n",
      "Pandas 1.5.2\n",
      "SciPy 1.9.3\n",
      "True\n",
      "GPU is available\n"
     ]
    }
   ],
   "source": [
    "import sys\n",
    "import tensorflow.keras\n",
    "import pandas as pd\n",
    "# import sklearn as sk\n",
    "import scipy as sp\n",
    "import tensorflow as tf\n",
    "import platform\n",
    "print(f\"Python Platform: {platform.platform()}\")\n",
    "print(f\"Tensor Flow Version: {tf.__version__}\")\n",
    "print(f\"Keras Version: {tensorflow.keras.__version__}\")\n",
    "print()\n",
    "print(f\"Python {sys.version}\")\n",
    "print(f\"Pandas {pd.__version__}\")\n",
    "# print(f\"Scikit-Learn {sk.__version__}\")\n",
    "print(f\"SciPy {sp.__version__}\")\n",
    "gpu = len(tf.config.list_physical_devices('GPU'))>0\n",
    "print(gpu)\n",
    "print(\"GPU is\", \"available\" if gpu else \"NOT AVAILABLE\")"
   ]
  },
  {
   "cell_type": "code",
   "execution_count": 4,
   "metadata": {
    "scrolled": false
   },
   "outputs": [
    {
     "name": "stdout",
     "output_type": "stream",
     "text": [
      "Requirement already satisfied: tensorflow-metal in /Users/jeonminjeong/opt/miniconda3/lib/python3.9/site-packages (0.6.0)\n",
      "Requirement already satisfied: six>=1.15.0 in /Users/jeonminjeong/opt/miniconda3/lib/python3.9/site-packages (from tensorflow-metal) (1.16.0)\n",
      "Requirement already satisfied: wheel~=0.35 in /Users/jeonminjeong/opt/miniconda3/lib/python3.9/site-packages (from tensorflow-metal) (0.37.1)\n",
      "Requirement already satisfied: tensorflow-macos in /Users/jeonminjeong/opt/miniconda3/lib/python3.9/site-packages (2.10.0)\n",
      "Requirement already satisfied: packaging in /Users/jeonminjeong/opt/miniconda3/lib/python3.9/site-packages (from tensorflow-macos) (21.3)\n",
      "Requirement already satisfied: tensorflow-estimator<2.11,>=2.10.0 in /Users/jeonminjeong/opt/miniconda3/lib/python3.9/site-packages (from tensorflow-macos) (2.10.0)\n",
      "Requirement already satisfied: termcolor>=1.1.0 in /Users/jeonminjeong/opt/miniconda3/lib/python3.9/site-packages (from tensorflow-macos) (2.1.1)\n",
      "Requirement already satisfied: keras-preprocessing>=1.1.1 in /Users/jeonminjeong/opt/miniconda3/lib/python3.9/site-packages (from tensorflow-macos) (1.1.2)\n",
      "Requirement already satisfied: flatbuffers>=2.0 in /Users/jeonminjeong/opt/miniconda3/lib/python3.9/site-packages (from tensorflow-macos) (22.11.23)\n",
      "Requirement already satisfied: h5py>=2.9.0 in /Users/jeonminjeong/opt/miniconda3/lib/python3.9/site-packages (from tensorflow-macos) (3.6.0)\n",
      "Requirement already satisfied: grpcio<2.0,>=1.24.3 in /Users/jeonminjeong/opt/miniconda3/lib/python3.9/site-packages (from tensorflow-macos) (1.42.0)\n",
      "Requirement already satisfied: six>=1.12.0 in /Users/jeonminjeong/opt/miniconda3/lib/python3.9/site-packages (from tensorflow-macos) (1.16.0)\n",
      "Requirement already satisfied: typing-extensions>=3.6.6 in /Users/jeonminjeong/opt/miniconda3/lib/python3.9/site-packages (from tensorflow-macos) (4.4.0)\n",
      "Requirement already satisfied: libclang>=13.0.0 in /Users/jeonminjeong/opt/miniconda3/lib/python3.9/site-packages (from tensorflow-macos) (14.0.6)\n",
      "Requirement already satisfied: setuptools in /Users/jeonminjeong/opt/miniconda3/lib/python3.9/site-packages (from tensorflow-macos) (61.2.0)\n",
      "Requirement already satisfied: tensorboard<2.11,>=2.10 in /Users/jeonminjeong/opt/miniconda3/lib/python3.9/site-packages (from tensorflow-macos) (2.10.1)\n",
      "Requirement already satisfied: keras<2.11,>=2.10.0 in /Users/jeonminjeong/opt/miniconda3/lib/python3.9/site-packages (from tensorflow-macos) (2.10.0)\n",
      "Requirement already satisfied: gast<=0.4.0,>=0.2.1 in /Users/jeonminjeong/opt/miniconda3/lib/python3.9/site-packages (from tensorflow-macos) (0.4.0)\n",
      "Collecting numpy>=1.20\n",
      "  Using cached numpy-1.23.5-cp39-cp39-macosx_11_0_arm64.whl (13.4 MB)\n",
      "Requirement already satisfied: astunparse>=1.6.0 in /Users/jeonminjeong/opt/miniconda3/lib/python3.9/site-packages (from tensorflow-macos) (1.6.3)\n",
      "Requirement already satisfied: absl-py>=1.0.0 in /Users/jeonminjeong/opt/miniconda3/lib/python3.9/site-packages (from tensorflow-macos) (1.3.0)\n",
      "Requirement already satisfied: google-pasta>=0.1.1 in /Users/jeonminjeong/opt/miniconda3/lib/python3.9/site-packages (from tensorflow-macos) (0.2.0)\n",
      "Requirement already satisfied: protobuf<3.20,>=3.9.2 in /Users/jeonminjeong/opt/miniconda3/lib/python3.9/site-packages (from tensorflow-macos) (3.19.6)\n",
      "Requirement already satisfied: wrapt>=1.11.0 in /Users/jeonminjeong/opt/miniconda3/lib/python3.9/site-packages (from tensorflow-macos) (1.14.1)\n",
      "Requirement already satisfied: opt-einsum>=2.3.2 in /Users/jeonminjeong/opt/miniconda3/lib/python3.9/site-packages (from tensorflow-macos) (3.3.0)\n",
      "Requirement already satisfied: wheel<1.0,>=0.23.0 in /Users/jeonminjeong/opt/miniconda3/lib/python3.9/site-packages (from astunparse>=1.6.0->tensorflow-macos) (0.37.1)\n",
      "Requirement already satisfied: tensorboard-plugin-wit>=1.6.0 in /Users/jeonminjeong/opt/miniconda3/lib/python3.9/site-packages (from tensorboard<2.11,>=2.10->tensorflow-macos) (1.8.1)\n",
      "Requirement already satisfied: google-auth<3,>=1.6.3 in /Users/jeonminjeong/opt/miniconda3/lib/python3.9/site-packages (from tensorboard<2.11,>=2.10->tensorflow-macos) (2.14.1)\n",
      "Requirement already satisfied: google-auth-oauthlib<0.5,>=0.4.1 in /Users/jeonminjeong/opt/miniconda3/lib/python3.9/site-packages (from tensorboard<2.11,>=2.10->tensorflow-macos) (0.4.6)\n",
      "Requirement already satisfied: tensorboard-data-server<0.7.0,>=0.6.0 in /Users/jeonminjeong/opt/miniconda3/lib/python3.9/site-packages (from tensorboard<2.11,>=2.10->tensorflow-macos) (0.6.1)\n",
      "Requirement already satisfied: requests<3,>=2.21.0 in /Users/jeonminjeong/opt/miniconda3/lib/python3.9/site-packages (from tensorboard<2.11,>=2.10->tensorflow-macos) (2.27.1)\n",
      "Requirement already satisfied: markdown>=2.6.8 in /Users/jeonminjeong/opt/miniconda3/lib/python3.9/site-packages (from tensorboard<2.11,>=2.10->tensorflow-macos) (3.4.1)\n",
      "Requirement already satisfied: werkzeug>=1.0.1 in /Users/jeonminjeong/opt/miniconda3/lib/python3.9/site-packages (from tensorboard<2.11,>=2.10->tensorflow-macos) (2.2.2)\n",
      "Requirement already satisfied: cachetools<6.0,>=2.0.0 in /Users/jeonminjeong/opt/miniconda3/lib/python3.9/site-packages (from google-auth<3,>=1.6.3->tensorboard<2.11,>=2.10->tensorflow-macos) (5.2.0)\n",
      "Requirement already satisfied: pyasn1-modules>=0.2.1 in /Users/jeonminjeong/opt/miniconda3/lib/python3.9/site-packages (from google-auth<3,>=1.6.3->tensorboard<2.11,>=2.10->tensorflow-macos) (0.2.8)\n",
      "Requirement already satisfied: rsa<5,>=3.1.4 in /Users/jeonminjeong/opt/miniconda3/lib/python3.9/site-packages (from google-auth<3,>=1.6.3->tensorboard<2.11,>=2.10->tensorflow-macos) (4.9)\n",
      "Requirement already satisfied: requests-oauthlib>=0.7.0 in /Users/jeonminjeong/opt/miniconda3/lib/python3.9/site-packages (from google-auth-oauthlib<0.5,>=0.4.1->tensorboard<2.11,>=2.10->tensorflow-macos) (1.3.1)\n",
      "Requirement already satisfied: importlib-metadata>=4.4 in /Users/jeonminjeong/opt/miniconda3/lib/python3.9/site-packages (from markdown>=2.6.8->tensorboard<2.11,>=2.10->tensorflow-macos) (5.1.0)\n",
      "Requirement already satisfied: zipp>=0.5 in /Users/jeonminjeong/opt/miniconda3/lib/python3.9/site-packages (from importlib-metadata>=4.4->markdown>=2.6.8->tensorboard<2.11,>=2.10->tensorflow-macos) (3.11.0)\n",
      "Requirement already satisfied: pyasn1<0.5.0,>=0.4.6 in /Users/jeonminjeong/opt/miniconda3/lib/python3.9/site-packages (from pyasn1-modules>=0.2.1->google-auth<3,>=1.6.3->tensorboard<2.11,>=2.10->tensorflow-macos) (0.4.8)\n",
      "Requirement already satisfied: urllib3<1.27,>=1.21.1 in /Users/jeonminjeong/opt/miniconda3/lib/python3.9/site-packages (from requests<3,>=2.21.0->tensorboard<2.11,>=2.10->tensorflow-macos) (1.26.9)\n",
      "Requirement already satisfied: certifi>=2017.4.17 in /Users/jeonminjeong/opt/miniconda3/lib/python3.9/site-packages (from requests<3,>=2.21.0->tensorboard<2.11,>=2.10->tensorflow-macos) (2022.9.24)\n",
      "Requirement already satisfied: idna<4,>=2.5 in /Users/jeonminjeong/opt/miniconda3/lib/python3.9/site-packages (from requests<3,>=2.21.0->tensorboard<2.11,>=2.10->tensorflow-macos) (3.3)\n",
      "Requirement already satisfied: charset-normalizer~=2.0.0 in /Users/jeonminjeong/opt/miniconda3/lib/python3.9/site-packages (from requests<3,>=2.21.0->tensorboard<2.11,>=2.10->tensorflow-macos) (2.0.4)\n",
      "Requirement already satisfied: oauthlib>=3.0.0 in /Users/jeonminjeong/opt/miniconda3/lib/python3.9/site-packages (from requests-oauthlib>=0.7.0->google-auth-oauthlib<0.5,>=0.4.1->tensorboard<2.11,>=2.10->tensorflow-macos) (3.2.2)\n",
      "Requirement already satisfied: MarkupSafe>=2.1.1 in /Users/jeonminjeong/opt/miniconda3/lib/python3.9/site-packages (from werkzeug>=1.0.1->tensorboard<2.11,>=2.10->tensorflow-macos) (2.1.1)\n",
      "Requirement already satisfied: pyparsing!=3.0.5,>=2.0.2 in /Users/jeonminjeong/opt/miniconda3/lib/python3.9/site-packages (from packaging->tensorflow-macos) (3.0.9)\n",
      "Installing collected packages: numpy\n",
      "Successfully installed numpy-1.23.5\n",
      "Requirement already satisfied: pandas in /Users/jeonminjeong/opt/miniconda3/lib/python3.9/site-packages (1.5.2)\n",
      "Requirement already satisfied: python-dateutil>=2.8.1 in /Users/jeonminjeong/opt/miniconda3/lib/python3.9/site-packages (from pandas) (2.8.2)\n",
      "Requirement already satisfied: pytz>=2020.1 in /Users/jeonminjeong/opt/miniconda3/lib/python3.9/site-packages (from pandas) (2022.6)\n",
      "Requirement already satisfied: numpy>=1.20.3 in /Users/jeonminjeong/opt/miniconda3/lib/python3.9/site-packages (from pandas) (1.23.5)\n",
      "Requirement already satisfied: six>=1.5 in /Users/jeonminjeong/opt/miniconda3/lib/python3.9/site-packages (from python-dateutil>=2.8.1->pandas) (1.16.0)\n"
     ]
    },
    {
     "name": "stdout",
     "output_type": "stream",
     "text": [
      "Requirement already satisfied: matplotlib in /Users/jeonminjeong/opt/miniconda3/lib/python3.9/site-packages (3.6.2)\n",
      "Requirement already satisfied: python-dateutil>=2.7 in /Users/jeonminjeong/opt/miniconda3/lib/python3.9/site-packages (from matplotlib) (2.8.2)\n",
      "Requirement already satisfied: numpy>=1.19 in /Users/jeonminjeong/opt/miniconda3/lib/python3.9/site-packages (from matplotlib) (1.23.5)\n",
      "Requirement already satisfied: contourpy>=1.0.1 in /Users/jeonminjeong/opt/miniconda3/lib/python3.9/site-packages (from matplotlib) (1.0.6)\n",
      "Requirement already satisfied: pillow>=6.2.0 in /Users/jeonminjeong/opt/miniconda3/lib/python3.9/site-packages (from matplotlib) (9.3.0)\n",
      "Requirement already satisfied: kiwisolver>=1.0.1 in /Users/jeonminjeong/opt/miniconda3/lib/python3.9/site-packages (from matplotlib) (1.4.4)\n",
      "Requirement already satisfied: packaging>=20.0 in /Users/jeonminjeong/opt/miniconda3/lib/python3.9/site-packages (from matplotlib) (21.3)\n",
      "Requirement already satisfied: fonttools>=4.22.0 in /Users/jeonminjeong/opt/miniconda3/lib/python3.9/site-packages (from matplotlib) (4.38.0)\n",
      "Requirement already satisfied: cycler>=0.10 in /Users/jeonminjeong/opt/miniconda3/lib/python3.9/site-packages (from matplotlib) (0.11.0)\n",
      "Requirement already satisfied: pyparsing>=2.2.1 in /Users/jeonminjeong/opt/miniconda3/lib/python3.9/site-packages (from matplotlib) (3.0.9)\n",
      "Requirement already satisfied: six>=1.5 in /Users/jeonminjeong/opt/miniconda3/lib/python3.9/site-packages (from python-dateutil>=2.7->matplotlib) (1.16.0)\n",
      "Requirement already satisfied: scikit-learn in /Users/jeonminjeong/opt/miniconda3/lib/python3.9/site-packages (1.1.3)\n",
      "Requirement already satisfied: scipy>=1.3.2 in /Users/jeonminjeong/opt/miniconda3/lib/python3.9/site-packages (from scikit-learn) (1.9.3)\n",
      "Requirement already satisfied: numpy>=1.17.3 in /Users/jeonminjeong/opt/miniconda3/lib/python3.9/site-packages (from scikit-learn) (1.23.5)\n",
      "Requirement already satisfied: joblib>=1.0.0 in /Users/jeonminjeong/opt/miniconda3/lib/python3.9/site-packages (from scikit-learn) (1.2.0)\n",
      "Requirement already satisfied: threadpoolctl>=2.0.0 in /Users/jeonminjeong/opt/miniconda3/lib/python3.9/site-packages (from scikit-learn) (3.1.0)\n",
      "Requirement already satisfied: scipy in /Users/jeonminjeong/opt/miniconda3/lib/python3.9/site-packages (1.9.3)\n",
      "Requirement already satisfied: numpy<1.26.0,>=1.18.5 in /Users/jeonminjeong/opt/miniconda3/lib/python3.9/site-packages (from scipy) (1.23.5)\n",
      "Requirement already satisfied: plotly in /Users/jeonminjeong/opt/miniconda3/lib/python3.9/site-packages (5.11.0)\n",
      "Requirement already satisfied: tenacity>=6.2.0 in /Users/jeonminjeong/opt/miniconda3/lib/python3.9/site-packages (from plotly) (8.1.0)\n",
      "Found existing installation: numpy 1.23.5\n",
      "Uninstalling numpy-1.23.5:\n",
      "  Successfully uninstalled numpy-1.23.5\n",
      "Collecting package metadata (current_repodata.json): done\n",
      "Solving environment: done\n",
      "\n",
      "## Package Plan ##\n",
      "\n",
      "  environment location: /Users/jeonminjeong/opt/miniconda3\n",
      "\n",
      "  added / updated specs:\n",
      "    - numpy\n",
      "\n",
      "\n",
      "The following packages will be SUPERSEDED by a higher-priority channel:\n",
      "\n",
      "  ca-certificates    pkgs/main::ca-certificates-2022.10.11~ --> conda-forge::ca-certificates-2022.9.24-h4653dfc_0 None\n",
      "  certifi            pkgs/main/osx-arm64::certifi-2022.9.2~ --> conda-forge/noarch::certifi-2022.9.24-pyhd8ed1ab_0 None\n",
      "  openssl              pkgs/main::openssl-1.1.1s-h1a28f6b_0 --> conda-forge::openssl-1.1.1s-h03a7124_0 None\n",
      "\n",
      "\n",
      "Preparing transaction: done\n",
      "Verifying transaction: done\n",
      "Executing transaction: done\n",
      "Retrieving notices: ...working... done\n",
      "Collecting package metadata (current_repodata.json): done\n",
      "Solving environment: done\n",
      "\n",
      "## Package Plan ##\n",
      "\n",
      "  environment location: /Users/jeonminjeong/opt/miniconda3\n",
      "\n",
      "  added / updated specs:\n",
      "    - tensorflow-deps\n",
      "\n",
      "\n",
      "The following packages will be UPDATED:\n",
      "\n",
      "  ca-certificates    conda-forge::ca-certificates-2022.9.2~ --> pkgs/main::ca-certificates-2022.10.11-hca03da5_0 None\n",
      "\n",
      "The following packages will be SUPERSEDED by a higher-priority channel:\n",
      "\n",
      "  certifi            conda-forge/noarch::certifi-2022.9.24~ --> pkgs/main/osx-arm64::certifi-2022.9.24-py39hca03da5_0 None\n",
      "  openssl            conda-forge::openssl-1.1.1s-h03a7124_0 --> pkgs/main::openssl-1.1.1s-h1a28f6b_0 None\n",
      "\n",
      "\n",
      "Preparing transaction: done\n",
      "Verifying transaction: done\n",
      "Executing transaction: done\n",
      "Retrieving notices: ...working... done\n"
     ]
    }
   ],
   "source": [
    "!pip install tensorflow-metal\n",
    "!pip install tensorflow-macos\n",
    "!pip install pandas  --upgrade\n",
    "!pip install matplotlib  --upgrade\n",
    "!pip install scikit-learn  --upgrade\n",
    "!pip install scipy  --upgrade\n",
    "!pip install plotly  --upgrade\n",
    "!pip uninstall numpy -y\n",
    "!conda install -c conda-forge numpy -y\n",
    "!conda install -c apple tensorflow-deps -y"
   ]
  },
  {
   "cell_type": "code",
   "execution_count": 6,
   "metadata": {},
   "outputs": [
    {
     "name": "stdout",
     "output_type": "stream",
     "text": [
      "Collecting numpy\n",
      "  Using cached numpy-1.23.5-cp39-cp39-macosx_11_0_arm64.whl (13.4 MB)\n",
      "Installing collected packages: numpy\n",
      "Successfully installed numpy-1.23.5\n"
     ]
    }
   ],
   "source": [
    "!pip install numpy --upgrade"
   ]
  },
  {
   "cell_type": "code",
   "execution_count": 7,
   "metadata": {},
   "outputs": [
    {
     "name": "stdout",
     "output_type": "stream",
     "text": [
      "Python Platform: macOS-12.3.1-arm64-arm-64bit\n",
      "Tensor Flow Version: 2.10.0\n",
      "Keras Version: 2.10.0\n",
      "\n",
      "Python 3.9.12 (main, Apr  5 2022, 01:52:34) \n",
      "[Clang 12.0.0 ]\n",
      "Pandas 1.5.2\n",
      "SciPy 1.9.3\n",
      "True\n",
      "GPU is available\n"
     ]
    }
   ],
   "source": [
    "import sys\n",
    "import tensorflow.keras\n",
    "import pandas as pd\n",
    "# import sklearn as sk\n",
    "import scipy as sp\n",
    "import tensorflow as tf\n",
    "import platform\n",
    "print(f\"Python Platform: {platform.platform()}\")\n",
    "print(f\"Tensor Flow Version: {tf.__version__}\")\n",
    "print(f\"Keras Version: {tensorflow.keras.__version__}\")\n",
    "print()\n",
    "print(f\"Python {sys.version}\")\n",
    "print(f\"Pandas {pd.__version__}\")\n",
    "# print(f\"Scikit-Learn {sk.__version__}\")\n",
    "print(f\"SciPy {sp.__version__}\")\n",
    "gpu = len(tf.config.list_physical_devices('GPU'))>0\n",
    "print(gpu)\n",
    "print(\"GPU is\", \"available\" if gpu else \"NOT AVAILABLE\")"
   ]
  },
  {
   "cell_type": "code",
   "execution_count": 104,
   "metadata": {},
   "outputs": [
    {
     "name": "stdout",
     "output_type": "stream",
     "text": [
      "Epoch 1/30\n"
     ]
    },
    {
     "name": "stderr",
     "output_type": "stream",
     "text": [
      "2022-11-29 11:31:02.480035: I tensorflow/core/grappler/optimizers/custom_graph_optimizer_registry.cc:114] Plugin optimizer for device_type GPU is enabled.\n"
     ]
    },
    {
     "name": "stdout",
     "output_type": "stream",
     "text": [
      "  4/138 [..............................] - ETA: 8:33 - loss: 1668.4021 - accuracy: 0.3500 WARNING:tensorflow:Can save best model only with val_loss available, skipping.\n",
      "  9/138 [>.............................] - ETA: 6:21 - loss: 757.8026 - accuracy: 0.3360WARNING:tensorflow:Can save best model only with val_loss available, skipping.\n",
      " 14/138 [==>...........................] - ETA: 5:32 - loss: 487.6591 - accuracy: 0.3263WARNING:tensorflow:Can save best model only with val_loss available, skipping.\n",
      " 19/138 [===>..........................] - ETA: 5:31 - loss: 359.7017 - accuracy: 0.3297WARNING:tensorflow:Can save best model only with val_loss available, skipping.\n",
      " 24/138 [====>.........................] - ETA: 5:11 - loss: 284.9927 - accuracy: 0.3347WARNING:tensorflow:Can save best model only with val_loss available, skipping.\n",
      " 29/138 [=====>........................] - ETA: 4:53 - loss: 236.0454 - accuracy: 0.3377WARNING:tensorflow:Can save best model only with val_loss available, skipping.\n",
      " 34/138 [======>.......................] - ETA: 4:35 - loss: 201.4929 - accuracy: 0.3381WARNING:tensorflow:Can save best model only with val_loss available, skipping.\n",
      " 39/138 [=======>......................] - ETA: 4:19 - loss: 175.7968 - accuracy: 0.3370WARNING:tensorflow:Can save best model only with val_loss available, skipping.\n",
      " 44/138 [========>.....................] - ETA: 4:03 - loss: 155.9415 - accuracy: 0.3360WARNING:tensorflow:Can save best model only with val_loss available, skipping.\n",
      " 49/138 [=========>....................] - ETA: 3:48 - loss: 140.1370 - accuracy: 0.3355WARNING:tensorflow:Can save best model only with val_loss available, skipping.\n",
      " 54/138 [==========>...................] - ETA: 3:35 - loss: 127.2572 - accuracy: 0.3382WARNING:tensorflow:Can save best model only with val_loss available, skipping.\n",
      " 59/138 [===========>..................] - ETA: 3:21 - loss: 116.5599 - accuracy: 0.3412WARNING:tensorflow:Can save best model only with val_loss available, skipping.\n",
      " 64/138 [============>.................] - ETA: 3:07 - loss: 107.5331 - accuracy: 0.3423WARNING:tensorflow:Can save best model only with val_loss available, skipping.\n",
      " 69/138 [==============>...............] - ETA: 2:53 - loss: 99.8126 - accuracy: 0.3549 WARNING:tensorflow:Can save best model only with val_loss available, skipping.\n",
      " 74/138 [===============>..............] - ETA: 2:40 - loss: 93.1352 - accuracy: 0.3667WARNING:tensorflow:Can save best model only with val_loss available, skipping.\n",
      " 79/138 [================>.............] - ETA: 2:27 - loss: 87.3038 - accuracy: 0.3764WARNING:tensorflow:Can save best model only with val_loss available, skipping.\n",
      " 84/138 [=================>............] - ETA: 2:14 - loss: 82.1652 - accuracy: 0.3863WARNING:tensorflow:Can save best model only with val_loss available, skipping.\n",
      " 89/138 [==================>...........] - ETA: 2:02 - loss: 77.6032 - accuracy: 0.3957WARNING:tensorflow:Can save best model only with val_loss available, skipping.\n",
      " 94/138 [===================>..........] - ETA: 1:49 - loss: 73.5263 - accuracy: 0.4031WARNING:tensorflow:Can save best model only with val_loss available, skipping.\n",
      " 99/138 [====================>.........] - ETA: 1:36 - loss: 69.8595 - accuracy: 0.4139WARNING:tensorflow:Can save best model only with val_loss available, skipping.\n",
      "104/138 [=====================>........] - ETA: 1:24 - loss: 66.5466 - accuracy: 0.4221WARNING:tensorflow:Can save best model only with val_loss available, skipping.\n",
      "109/138 [======================>.......] - ETA: 1:11 - loss: 63.5361 - accuracy: 0.4308WARNING:tensorflow:Can save best model only with val_loss available, skipping.\n",
      "114/138 [=======================>......] - ETA: 59s - loss: 60.7880 - accuracy: 0.4384 WARNING:tensorflow:Can save best model only with val_loss available, skipping.\n",
      "119/138 [========================>.....] - ETA: 46s - loss: 58.2719 - accuracy: 0.4469WARNING:tensorflow:Can save best model only with val_loss available, skipping.\n",
      "124/138 [=========================>....] - ETA: 34s - loss: 55.9589 - accuracy: 0.4539WARNING:tensorflow:Can save best model only with val_loss available, skipping.\n",
      "129/138 [===========================>..] - ETA: 22s - loss: 53.8249 - accuracy: 0.4596WARNING:tensorflow:Can save best model only with val_loss available, skipping.\n",
      "134/138 [============================>.] - ETA: 10s - loss: 51.8492 - accuracy: 0.4651WARNING:tensorflow:Can save best model only with val_loss available, skipping.\n",
      "138/138 [==============================] - ETA: 0s - loss: 50.6492 - accuracy: 0.4678"
     ]
    },
    {
     "name": "stderr",
     "output_type": "stream",
     "text": [
      "2022-11-29 11:36:58.313715: I tensorflow/core/grappler/optimizers/custom_graph_optimizer_registry.cc:114] Plugin optimizer for device_type GPU is enabled.\n"
     ]
    },
    {
     "name": "stdout",
     "output_type": "stream",
     "text": [
      "138/138 [==============================] - 402s 3s/step - loss: 50.6492 - accuracy: 0.4678 - val_loss: 0.8673 - val_accuracy: 0.6210\n",
      "Epoch 2/30\n",
      "  1/138 [..............................] - ETA: 6:51 - loss: 0.8280 - accuracy: 0.7120WARNING:tensorflow:Can save best model only with val_loss available, skipping.\n",
      "  6/138 [>.............................] - ETA: 6:38 - loss: 0.8862 - accuracy: 0.6307WARNING:tensorflow:Can save best model only with val_loss available, skipping.\n",
      " 11/138 [=>............................] - ETA: 6:00 - loss: 0.8671 - accuracy: 0.6298WARNING:tensorflow:Can save best model only with val_loss available, skipping.\n",
      " 16/138 [==>...........................] - ETA: 6:06 - loss: 0.8694 - accuracy: 0.6235WARNING:tensorflow:Can save best model only with val_loss available, skipping.\n",
      " 21/138 [===>..........................] - ETA: 5:56 - loss: 0.8643 - accuracy: 0.6206WARNING:tensorflow:Can save best model only with val_loss available, skipping.\n",
      " 26/138 [====>.........................] - ETA: 5:37 - loss: 0.8649 - accuracy: 0.6194WARNING:tensorflow:Can save best model only with val_loss available, skipping.\n",
      " 31/138 [=====>........................] - ETA: 5:14 - loss: 0.8603 - accuracy: 0.6214WARNING:tensorflow:Can save best model only with val_loss available, skipping.\n",
      " 36/138 [======>.......................] - ETA: 4:54 - loss: 0.8534 - accuracy: 0.6269WARNING:tensorflow:Can save best model only with val_loss available, skipping.\n",
      " 41/138 [=======>......................] - ETA: 4:38 - loss: 0.8513 - accuracy: 0.6244WARNING:tensorflow:Can save best model only with val_loss available, skipping.\n",
      " 46/138 [=========>....................] - ETA: 4:23 - loss: 0.8525 - accuracy: 0.6242WARNING:tensorflow:Can save best model only with val_loss available, skipping.\n",
      " 51/138 [==========>...................] - ETA: 4:04 - loss: 0.8506 - accuracy: 0.6260WARNING:tensorflow:Can save best model only with val_loss available, skipping.\n",
      " 56/138 [===========>..................] - ETA: 3:49 - loss: 0.8474 - accuracy: 0.6253WARNING:tensorflow:Can save best model only with val_loss available, skipping.\n",
      " 61/138 [============>.................] - ETA: 3:34 - loss: 0.8436 - accuracy: 0.6268WARNING:tensorflow:Can save best model only with val_loss available, skipping.\n",
      " 66/138 [=============>................] - ETA: 3:18 - loss: 0.8450 - accuracy: 0.6279WARNING:tensorflow:Can save best model only with val_loss available, skipping.\n",
      " 71/138 [==============>...............] - ETA: 3:02 - loss: 0.8450 - accuracy: 0.6293WARNING:tensorflow:Can save best model only with val_loss available, skipping.\n",
      " 76/138 [===============>..............] - ETA: 2:48 - loss: 0.8455 - accuracy: 0.6289WARNING:tensorflow:Can save best model only with val_loss available, skipping.\n",
      " 81/138 [================>.............] - ETA: 2:33 - loss: 0.8462 - accuracy: 0.6298WARNING:tensorflow:Can save best model only with val_loss available, skipping.\n",
      " 86/138 [=================>............] - ETA: 2:19 - loss: 0.8404 - accuracy: 0.6318WARNING:tensorflow:Can save best model only with val_loss available, skipping.\n",
      " 91/138 [==================>...........] - ETA: 2:05 - loss: 0.8391 - accuracy: 0.6324WARNING:tensorflow:Can save best model only with val_loss available, skipping.\n",
      " 96/138 [===================>..........] - ETA: 1:52 - loss: 0.8387 - accuracy: 0.6317WARNING:tensorflow:Can save best model only with val_loss available, skipping.\n",
      "101/138 [====================>.........] - ETA: 1:39 - loss: 0.8376 - accuracy: 0.6335WARNING:tensorflow:Can save best model only with val_loss available, skipping.\n",
      "106/138 [======================>.......] - ETA: 1:25 - loss: 0.8380 - accuracy: 0.6343WARNING:tensorflow:Can save best model only with val_loss available, skipping.\n",
      "111/138 [=======================>......] - ETA: 1:12 - loss: 0.8376 - accuracy: 0.6352WARNING:tensorflow:Can save best model only with val_loss available, skipping.\n",
      "116/138 [========================>.....] - ETA: 58s - loss: 0.8365 - accuracy: 0.6354 WARNING:tensorflow:Can save best model only with val_loss available, skipping.\n",
      "121/138 [=========================>....] - ETA: 45s - loss: 0.8350 - accuracy: 0.6370WARNING:tensorflow:Can save best model only with val_loss available, skipping.\n",
      "126/138 [==========================>...] - ETA: 31s - loss: 0.8346 - accuracy: 0.6366WARNING:tensorflow:Can save best model only with val_loss available, skipping.\n",
      "131/138 [===========================>..] - ETA: 18s - loss: 0.8315 - accuracy: 0.6384WARNING:tensorflow:Can save best model only with val_loss available, skipping.\n",
      "136/138 [============================>.] - ETA: 5s - loss: 0.8304 - accuracy: 0.6394WARNING:tensorflow:Can save best model only with val_loss available, skipping.\n",
      "138/138 [==============================] - 403s 3s/step - loss: 0.8310 - accuracy: 0.6390 - val_loss: 0.8113 - val_accuracy: 0.6525\n",
      "Epoch 3/30\n",
      "  3/138 [..............................] - ETA: 5:18 - loss: 0.7388 - accuracy: 0.6587WARNING:tensorflow:Can save best model only with val_loss available, skipping.\n",
      "  8/138 [>.............................] - ETA: 5:08 - loss: 0.7559 - accuracy: 0.6610WARNING:tensorflow:Can save best model only with val_loss available, skipping.\n",
      " 13/138 [=>............................] - ETA: 4:58 - loss: 0.7786 - accuracy: 0.6548WARNING:tensorflow:Can save best model only with val_loss available, skipping.\n",
      " 18/138 [==>...........................] - ETA: 4:48 - loss: 0.7663 - accuracy: 0.6600WARNING:tensorflow:Can save best model only with val_loss available, skipping.\n",
      " 23/138 [====>.........................] - ETA: 4:34 - loss: 0.7596 - accuracy: 0.6699WARNING:tensorflow:Can save best model only with val_loss available, skipping.\n",
      " 28/138 [=====>........................] - ETA: 4:30 - loss: 0.7597 - accuracy: 0.6769WARNING:tensorflow:Can save best model only with val_loss available, skipping.\n",
      " 33/138 [======>.......................] - ETA: 4:19 - loss: 0.7604 - accuracy: 0.6764WARNING:tensorflow:Can save best model only with val_loss available, skipping.\n",
      " 38/138 [=======>......................] - ETA: 4:06 - loss: 0.7625 - accuracy: 0.6781WARNING:tensorflow:Can save best model only with val_loss available, skipping.\n",
      " 43/138 [========>.....................] - ETA: 3:53 - loss: 0.7618 - accuracy: 0.6804WARNING:tensorflow:Can save best model only with val_loss available, skipping.\n",
      " 48/138 [=========>....................] - ETA: 3:40 - loss: 0.7645 - accuracy: 0.6812WARNING:tensorflow:Can save best model only with val_loss available, skipping.\n",
      " 53/138 [==========>...................] - ETA: 3:27 - loss: 0.7661 - accuracy: 0.6808WARNING:tensorflow:Can save best model only with val_loss available, skipping.\n",
      " 58/138 [===========>..................] - ETA: 3:15 - loss: 0.7680 - accuracy: 0.6793WARNING:tensorflow:Can save best model only with val_loss available, skipping.\n",
      " 63/138 [============>.................] - ETA: 3:02 - loss: 0.7713 - accuracy: 0.6773WARNING:tensorflow:Can save best model only with val_loss available, skipping.\n",
      " 68/138 [=============>................] - ETA: 2:51 - loss: 0.7721 - accuracy: 0.6779WARNING:tensorflow:Can save best model only with val_loss available, skipping.\n",
      " 73/138 [==============>...............] - ETA: 2:38 - loss: 0.7702 - accuracy: 0.6772WARNING:tensorflow:Can save best model only with val_loss available, skipping.\n",
      " 78/138 [===============>..............] - ETA: 2:26 - loss: 0.7707 - accuracy: 0.6741WARNING:tensorflow:Can save best model only with val_loss available, skipping.\n",
      " 83/138 [=================>............] - ETA: 2:16 - loss: 0.7712 - accuracy: 0.6740WARNING:tensorflow:Can save best model only with val_loss available, skipping.\n",
      " 88/138 [==================>...........] - ETA: 2:04 - loss: 0.7709 - accuracy: 0.6731WARNING:tensorflow:Can save best model only with val_loss available, skipping.\n",
      " 93/138 [===================>..........] - ETA: 1:51 - loss: 0.7716 - accuracy: 0.6725WARNING:tensorflow:Can save best model only with val_loss available, skipping.\n",
      " 98/138 [====================>.........] - ETA: 1:39 - loss: 0.7714 - accuracy: 0.6732WARNING:tensorflow:Can save best model only with val_loss available, skipping.\n"
     ]
    },
    {
     "name": "stdout",
     "output_type": "stream",
     "text": [
      "103/138 [=====================>........] - ETA: 1:27 - loss: 0.7709 - accuracy: 0.6722WARNING:tensorflow:Can save best model only with val_loss available, skipping.\n",
      "108/138 [======================>.......] - ETA: 1:14 - loss: 0.7701 - accuracy: 0.6713WARNING:tensorflow:Can save best model only with val_loss available, skipping.\n",
      "113/138 [=======================>......] - ETA: 1:02 - loss: 0.7694 - accuracy: 0.6703WARNING:tensorflow:Can save best model only with val_loss available, skipping.\n",
      "118/138 [========================>.....] - ETA: 49s - loss: 0.7689 - accuracy: 0.6716WARNING:tensorflow:Can save best model only with val_loss available, skipping.\n",
      "123/138 [=========================>....] - ETA: 37s - loss: 0.7681 - accuracy: 0.6720WARNING:tensorflow:Can save best model only with val_loss available, skipping.\n",
      "128/138 [==========================>...] - ETA: 24s - loss: 0.7662 - accuracy: 0.6733WARNING:tensorflow:Can save best model only with val_loss available, skipping.\n",
      "133/138 [===========================>..] - ETA: 12s - loss: 0.7647 - accuracy: 0.6737WARNING:tensorflow:Can save best model only with val_loss available, skipping.\n",
      "138/138 [==============================] - 383s 3s/step - loss: 0.7626 - accuracy: 0.6755 - val_loss: 0.8195 - val_accuracy: 0.6595\n",
      "Epoch 4/30\n",
      "WARNING:tensorflow:Can save best model only with val_loss available, skipping.\n",
      "  5/138 [>.............................] - ETA: 5:33 - loss: 0.7102 - accuracy: 0.6928WARNING:tensorflow:Can save best model only with val_loss available, skipping.\n",
      " 10/138 [=>............................] - ETA: 5:07 - loss: 0.6856 - accuracy: 0.7056WARNING:tensorflow:Can save best model only with val_loss available, skipping.\n",
      " 15/138 [==>...........................] - ETA: 4:58 - loss: 0.6970 - accuracy: 0.7056WARNING:tensorflow:Can save best model only with val_loss available, skipping.\n",
      " 20/138 [===>..........................] - ETA: 4:57 - loss: 0.7014 - accuracy: 0.7000WARNING:tensorflow:Can save best model only with val_loss available, skipping.\n",
      " 25/138 [====>.........................] - ETA: 4:40 - loss: 0.6927 - accuracy: 0.7018WARNING:tensorflow:Can save best model only with val_loss available, skipping.\n",
      " 30/138 [=====>........................] - ETA: 4:25 - loss: 0.6996 - accuracy: 0.6984WARNING:tensorflow:Can save best model only with val_loss available, skipping.\n",
      " 35/138 [======>.......................] - ETA: 4:12 - loss: 0.7003 - accuracy: 0.7017WARNING:tensorflow:Can save best model only with val_loss available, skipping.\n",
      " 40/138 [=======>......................] - ETA: 4:01 - loss: 0.6943 - accuracy: 0.7064WARNING:tensorflow:Can save best model only with val_loss available, skipping.\n",
      " 45/138 [========>.....................] - ETA: 3:49 - loss: 0.6861 - accuracy: 0.7109WARNING:tensorflow:Can save best model only with val_loss available, skipping.\n",
      " 50/138 [=========>....................] - ETA: 3:38 - loss: 0.6896 - accuracy: 0.7109WARNING:tensorflow:Can save best model only with val_loss available, skipping.\n",
      " 55/138 [==========>...................] - ETA: 3:26 - loss: 0.6924 - accuracy: 0.7111WARNING:tensorflow:Can save best model only with val_loss available, skipping.\n",
      " 60/138 [============>.................] - ETA: 3:13 - loss: 0.6904 - accuracy: 0.7108WARNING:tensorflow:Can save best model only with val_loss available, skipping.\n",
      " 65/138 [=============>................] - ETA: 3:02 - loss: 0.6902 - accuracy: 0.7110WARNING:tensorflow:Can save best model only with val_loss available, skipping.\n",
      " 70/138 [==============>...............] - ETA: 2:51 - loss: 0.6899 - accuracy: 0.7113WARNING:tensorflow:Can save best model only with val_loss available, skipping.\n",
      " 75/138 [===============>..............] - ETA: 2:39 - loss: 0.6894 - accuracy: 0.7121WARNING:tensorflow:Can save best model only with val_loss available, skipping.\n",
      " 80/138 [================>.............] - ETA: 2:28 - loss: 0.6877 - accuracy: 0.7117WARNING:tensorflow:Can save best model only with val_loss available, skipping.\n",
      " 82/138 [================>.............] - ETA: 2:23 - loss: 0.6870 - accuracy: 0.7123"
     ]
    },
    {
     "name": "stderr",
     "output_type": "stream",
     "text": [
      "Error: command buffer exited with error status.\n",
      "\tThe Metal Performance Shaders operations encoded on it may not have completed.\n",
      "\tError: \n",
      "\t(null)\n",
      "\tInternal Error (0000000e:Internal Error)\n",
      "\t<AGXG13GFamilyCommandBuffer: 0x45b210d30>\n",
      "    label = <none> \n",
      "    device = <AGXG13GDevice: 0x13158b200>\n",
      "        name = Apple M1 \n",
      "    commandQueue = <AGXG13GFamilyCommandQueue: 0x140683000>\n",
      "        label = <none> \n",
      "        device = <AGXG13GDevice: 0x13158b200>\n",
      "            name = Apple M1 \n",
      "    retainedReferences = 1\n"
     ]
    },
    {
     "name": "stdout",
     "output_type": "stream",
     "text": [
      " 85/138 [=================>............] - ETA: 2:15 - loss: 0.6870 - accuracy: 0.7128WARNING:tensorflow:Can save best model only with val_loss available, skipping.\n",
      " 90/138 [==================>...........] - ETA: 2:03 - loss: 0.6871 - accuracy: 0.7136WARNING:tensorflow:Can save best model only with val_loss available, skipping.\n",
      " 95/138 [===================>..........] - ETA: 1:51 - loss: 0.6868 - accuracy: 0.7134WARNING:tensorflow:Can save best model only with val_loss available, skipping.\n",
      "100/138 [====================>.........] - ETA: 1:38 - loss: 0.6867 - accuracy: 0.7133WARNING:tensorflow:Can save best model only with val_loss available, skipping.\n",
      "105/138 [=====================>........] - ETA: 1:25 - loss: 0.6865 - accuracy: 0.7127WARNING:tensorflow:Can save best model only with val_loss available, skipping.\n",
      "110/138 [======================>.......] - ETA: 1:12 - loss: 0.6864 - accuracy: 0.7131WARNING:tensorflow:Can save best model only with val_loss available, skipping.\n",
      "115/138 [========================>.....] - ETA: 59s - loss: 0.6872 - accuracy: 0.7128 WARNING:tensorflow:Can save best model only with val_loss available, skipping.\n",
      "120/138 [=========================>....] - ETA: 46s - loss: 0.6882 - accuracy: 0.7137WARNING:tensorflow:Can save best model only with val_loss available, skipping.\n",
      "125/138 [==========================>...] - ETA: 33s - loss: 0.6884 - accuracy: 0.7135WARNING:tensorflow:Can save best model only with val_loss available, skipping.\n",
      "130/138 [===========================>..] - ETA: 20s - loss: 0.6897 - accuracy: 0.7130WARNING:tensorflow:Can save best model only with val_loss available, skipping.\n",
      "135/138 [============================>.] - ETA: 7s - loss: 0.6882 - accuracy: 0.7127 WARNING:tensorflow:Can save best model only with val_loss available, skipping.\n",
      "138/138 [==============================] - 395s 3s/step - loss: 0.6877 - accuracy: 0.7125 - val_loss: 0.7657 - val_accuracy: 0.6850\n",
      "Epoch 5/30\n",
      "  2/138 [..............................] - ETA: 6:31 - loss: 0.5977 - accuracy: 0.7520WARNING:tensorflow:Can save best model only with val_loss available, skipping.\n",
      "  7/138 [>.............................] - ETA: 5:34 - loss: 0.6235 - accuracy: 0.7371WARNING:tensorflow:Can save best model only with val_loss available, skipping.\n",
      " 12/138 [=>............................] - ETA: 5:10 - loss: 0.6322 - accuracy: 0.7400WARNING:tensorflow:Can save best model only with val_loss available, skipping.\n",
      " 17/138 [==>...........................] - ETA: 5:06 - loss: 0.6427 - accuracy: 0.7365"
     ]
    },
    {
     "name": "stderr",
     "output_type": "stream",
     "text": [
      "Error: command buffer exited with error status.\n",
      "\tThe Metal Performance Shaders operations encoded on it may not have completed.\n",
      "\tError: \n",
      "\t(null)\n",
      "\tInternal Error (0000000e:Internal Error)\n",
      "\t<AGXG13GFamilyCommandBuffer: 0x45b5adf20>\n",
      "    label = <none> \n",
      "    device = <AGXG13GDevice: 0x13158b200>\n",
      "        name = Apple M1 \n",
      "    commandQueue = <AGXG13GFamilyCommandQueue: 0x140683000>\n",
      "        label = <none> \n",
      "        device = <AGXG13GDevice: 0x13158b200>\n",
      "            name = Apple M1 \n",
      "    retainedReferences = 1\n"
     ]
    },
    {
     "name": "stdout",
     "output_type": "stream",
     "text": [
      "WARNING:tensorflow:Can save best model only with val_loss available, skipping.\n",
      " 22/138 [===>..........................] - ETA: 5:16 - loss: 0.6306 - accuracy: 0.7375WARNING:tensorflow:Can save best model only with val_loss available, skipping.\n",
      " 27/138 [====>.........................] - ETA: 4:58 - loss: 0.6349 - accuracy: 0.7381WARNING:tensorflow:Can save best model only with val_loss available, skipping.\n",
      " 32/138 [=====>........................] - ETA: 4:41 - loss: 0.6341 - accuracy: 0.7403WARNING:tensorflow:Can save best model only with val_loss available, skipping.\n",
      " 37/138 [=======>......................] - ETA: 4:27 - loss: 0.6330 - accuracy: 0.7379WARNING:tensorflow:Can save best model only with val_loss available, skipping.\n",
      " 42/138 [========>.....................] - ETA: 4:12 - loss: 0.6341 - accuracy: 0.7341WARNING:tensorflow:Can save best model only with val_loss available, skipping.\n",
      " 47/138 [=========>....................] - ETA: 3:57 - loss: 0.6487 - accuracy: 0.7280WARNING:tensorflow:Can save best model only with val_loss available, skipping.\n",
      " 52/138 [==========>...................] - ETA: 3:44 - loss: 0.6536 - accuracy: 0.7291WARNING:tensorflow:Can save best model only with val_loss available, skipping.\n",
      " 57/138 [===========>..................] - ETA: 3:30 - loss: 0.6547 - accuracy: 0.7281WARNING:tensorflow:Can save best model only with val_loss available, skipping.\n",
      " 62/138 [============>.................] - ETA: 3:18 - loss: 0.6553 - accuracy: 0.7285WARNING:tensorflow:Can save best model only with val_loss available, skipping.\n",
      " 67/138 [=============>................] - ETA: 3:04 - loss: 0.6551 - accuracy: 0.7284WARNING:tensorflow:Can save best model only with val_loss available, skipping.\n",
      " 72/138 [==============>...............] - ETA: 2:51 - loss: 0.6578 - accuracy: 0.7276WARNING:tensorflow:Can save best model only with val_loss available, skipping.\n",
      " 77/138 [===============>..............] - ETA: 2:38 - loss: 0.6565 - accuracy: 0.7260WARNING:tensorflow:Can save best model only with val_loss available, skipping.\n",
      " 82/138 [================>.............] - ETA: 2:26 - loss: 0.6542 - accuracy: 0.7260WARNING:tensorflow:Can save best model only with val_loss available, skipping.\n",
      " 87/138 [=================>............] - ETA: 2:13 - loss: 0.6530 - accuracy: 0.7267WARNING:tensorflow:Can save best model only with val_loss available, skipping.\n",
      " 92/138 [===================>..........] - ETA: 1:59 - loss: 0.6513 - accuracy: 0.7267WARNING:tensorflow:Can save best model only with val_loss available, skipping.\n",
      " 97/138 [====================>.........] - ETA: 1:46 - loss: 0.6501 - accuracy: 0.7268WARNING:tensorflow:Can save best model only with val_loss available, skipping.\n",
      "102/138 [=====================>........] - ETA: 1:32 - loss: 0.6476 - accuracy: 0.7273WARNING:tensorflow:Can save best model only with val_loss available, skipping.\n",
      "107/138 [======================>.......] - ETA: 1:19 - loss: 0.6472 - accuracy: 0.7282WARNING:tensorflow:Can save best model only with val_loss available, skipping.\n",
      "112/138 [=======================>......] - ETA: 1:06 - loss: 0.6481 - accuracy: 0.7272WARNING:tensorflow:Can save best model only with val_loss available, skipping.\n",
      "117/138 [========================>.....] - ETA: 53s - loss: 0.6488 - accuracy: 0.7269WARNING:tensorflow:Can save best model only with val_loss available, skipping.\n",
      "122/138 [=========================>....] - ETA: 41s - loss: 0.6509 - accuracy: 0.7257WARNING:tensorflow:Can save best model only with val_loss available, skipping.\n",
      "127/138 [==========================>...] - ETA: 28s - loss: 0.6500 - accuracy: 0.7257WARNING:tensorflow:Can save best model only with val_loss available, skipping.\n",
      "132/138 [===========================>..] - ETA: 15s - loss: 0.6546 - accuracy: 0.7242WARNING:tensorflow:Can save best model only with val_loss available, skipping.\n",
      "137/138 [============================>.] - ETA: 2s - loss: 0.6546 - accuracy: 0.7236WARNING:tensorflow:Can save best model only with val_loss available, skipping.\n",
      "138/138 [==============================] - 392s 3s/step - loss: 0.6547 - accuracy: 0.7234 - val_loss: 0.8002 - val_accuracy: 0.6922\n",
      "Epoch 6/30\n",
      "  4/138 [..............................] - ETA: 5:16 - loss: 0.6339 - accuracy: 0.7340WARNING:tensorflow:Can save best model only with val_loss available, skipping.\n",
      "  9/138 [>.............................] - ETA: 5:05 - loss: 0.6250 - accuracy: 0.7289WARNING:tensorflow:Can save best model only with val_loss available, skipping.\n",
      " 14/138 [==>...........................] - ETA: 4:55 - loss: 0.6103 - accuracy: 0.7366WARNING:tensorflow:Can save best model only with val_loss available, skipping.\n",
      " 19/138 [===>..........................] - ETA: 4:48 - loss: 0.6137 - accuracy: 0.7356WARNING:tensorflow:Can save best model only with val_loss available, skipping.\n",
      " 24/138 [====>.........................] - ETA: 4:40 - loss: 0.6040 - accuracy: 0.7417WARNING:tensorflow:Can save best model only with val_loss available, skipping.\n",
      " 29/138 [=====>........................] - ETA: 4:27 - loss: 0.6015 - accuracy: 0.7418WARNING:tensorflow:Can save best model only with val_loss available, skipping.\n",
      " 34/138 [======>.......................] - ETA: 4:13 - loss: 0.5968 - accuracy: 0.7431WARNING:tensorflow:Can save best model only with val_loss available, skipping.\n",
      " 39/138 [=======>......................] - ETA: 4:00 - loss: 0.5966 - accuracy: 0.7465WARNING:tensorflow:Can save best model only with val_loss available, skipping.\n",
      " 44/138 [========>.....................] - ETA: 3:49 - loss: 0.5965 - accuracy: 0.7458WARNING:tensorflow:Can save best model only with val_loss available, skipping.\n",
      " 49/138 [=========>....................] - ETA: 3:37 - loss: 0.5965 - accuracy: 0.7456WARNING:tensorflow:Can save best model only with val_loss available, skipping.\n",
      " 54/138 [==========>...................] - ETA: 3:24 - loss: 0.5945 - accuracy: 0.7465WARNING:tensorflow:Can save best model only with val_loss available, skipping.\n",
      " 59/138 [===========>..................] - ETA: 3:11 - loss: 0.5876 - accuracy: 0.7479WARNING:tensorflow:Can save best model only with val_loss available, skipping.\n",
      " 64/138 [============>.................] - ETA: 2:59 - loss: 0.5900 - accuracy: 0.7470WARNING:tensorflow:Can save best model only with val_loss available, skipping.\n",
      " 69/138 [==============>...............] - ETA: 2:47 - loss: 0.5883 - accuracy: 0.7494WARNING:tensorflow:Can save best model only with val_loss available, skipping.\n",
      " 74/138 [===============>..............] - ETA: 2:35 - loss: 0.5852 - accuracy: 0.7499WARNING:tensorflow:Can save best model only with val_loss available, skipping.\n",
      " 79/138 [================>.............] - ETA: 2:23 - loss: 0.5857 - accuracy: 0.7494WARNING:tensorflow:Can save best model only with val_loss available, skipping.\n",
      " 84/138 [=================>............] - ETA: 2:11 - loss: 0.5813 - accuracy: 0.7507WARNING:tensorflow:Can save best model only with val_loss available, skipping.\n",
      " 89/138 [==================>...........] - ETA: 1:59 - loss: 0.5776 - accuracy: 0.7510WARNING:tensorflow:Can save best model only with val_loss available, skipping.\n",
      " 94/138 [===================>..........] - ETA: 1:47 - loss: 0.5745 - accuracy: 0.7519WARNING:tensorflow:Can save best model only with val_loss available, skipping.\n",
      " 99/138 [====================>.........] - ETA: 1:34 - loss: 0.5752 - accuracy: 0.7514WARNING:tensorflow:Can save best model only with val_loss available, skipping.\n",
      "104/138 [=====================>........] - ETA: 1:22 - loss: 0.5758 - accuracy: 0.7504WARNING:tensorflow:Can save best model only with val_loss available, skipping.\n",
      "109/138 [======================>.......] - ETA: 1:10 - loss: 0.5760 - accuracy: 0.7502WARNING:tensorflow:Can save best model only with val_loss available, skipping.\n",
      "114/138 [=======================>......] - ETA: 58s - loss: 0.5773 - accuracy: 0.7485 WARNING:tensorflow:Can save best model only with val_loss available, skipping.\n",
      "119/138 [========================>.....] - ETA: 46s - loss: 0.5774 - accuracy: 0.7472WARNING:tensorflow:Can save best model only with val_loss available, skipping.\n",
      "124/138 [=========================>....] - ETA: 33s - loss: 0.5772 - accuracy: 0.7467WARNING:tensorflow:Can save best model only with val_loss available, skipping.\n",
      "129/138 [===========================>..] - ETA: 21s - loss: 0.5761 - accuracy: 0.7465WARNING:tensorflow:Can save best model only with val_loss available, skipping.\n",
      "134/138 [============================>.] - ETA: 9s - loss: 0.5742 - accuracy: 0.7467 WARNING:tensorflow:Can save best model only with val_loss available, skipping.\n",
      "138/138 [==============================] - 374s 3s/step - loss: 0.5724 - accuracy: 0.7465 - val_loss: 0.7003 - val_accuracy: 0.7139\n",
      "Epoch 7/30\n",
      "  1/138 [..............................] - ETA: 5:38 - loss: 0.4463 - accuracy: 0.8160WARNING:tensorflow:Can save best model only with val_loss available, skipping.\n",
      "  6/138 [>.............................] - ETA: 5:11 - loss: 0.4726 - accuracy: 0.7693WARNING:tensorflow:Can save best model only with val_loss available, skipping.\n",
      " 11/138 [=>............................] - ETA: 4:55 - loss: 0.4927 - accuracy: 0.7724WARNING:tensorflow:Can save best model only with val_loss available, skipping.\n",
      " 16/138 [==>...........................] - ETA: 4:43 - loss: 0.5057 - accuracy: 0.7635WARNING:tensorflow:Can save best model only with val_loss available, skipping.\n",
      " 21/138 [===>..........................] - ETA: 4:42 - loss: 0.4953 - accuracy: 0.7699WARNING:tensorflow:Can save best model only with val_loss available, skipping.\n",
      " 26/138 [====>.........................] - ETA: 4:45 - loss: 0.4972 - accuracy: 0.7665WARNING:tensorflow:Can save best model only with val_loss available, skipping.\n",
      " 31/138 [=====>........................] - ETA: 4:31 - loss: 0.5014 - accuracy: 0.7615WARNING:tensorflow:Can save best model only with val_loss available, skipping.\n",
      " 36/138 [======>.......................] - ETA: 4:17 - loss: 0.5015 - accuracy: 0.7629WARNING:tensorflow:Can save best model only with val_loss available, skipping.\n",
      " 41/138 [=======>......................] - ETA: 4:04 - loss: 0.4992 - accuracy: 0.7633WARNING:tensorflow:Can save best model only with val_loss available, skipping.\n",
      " 46/138 [=========>....................] - ETA: 3:50 - loss: 0.4957 - accuracy: 0.7637WARNING:tensorflow:Can save best model only with val_loss available, skipping.\n",
      " 51/138 [==========>...................] - ETA: 3:38 - loss: 0.4956 - accuracy: 0.7620WARNING:tensorflow:Can save best model only with val_loss available, skipping.\n",
      " 56/138 [===========>..................] - ETA: 3:24 - loss: 0.5001 - accuracy: 0.7630WARNING:tensorflow:Can save best model only with val_loss available, skipping.\n",
      " 61/138 [============>.................] - ETA: 3:12 - loss: 0.5019 - accuracy: 0.7633WARNING:tensorflow:Can save best model only with val_loss available, skipping.\n",
      " 66/138 [=============>................] - ETA: 3:00 - loss: 0.5067 - accuracy: 0.7624WARNING:tensorflow:Can save best model only with val_loss available, skipping.\n",
      " 71/138 [==============>...............] - ETA: 2:48 - loss: 0.5131 - accuracy: 0.7605WARNING:tensorflow:Can save best model only with val_loss available, skipping.\n",
      " 76/138 [===============>..............] - ETA: 2:35 - loss: 0.5178 - accuracy: 0.7572WARNING:tensorflow:Can save best model only with val_loss available, skipping.\n",
      " 81/138 [================>.............] - ETA: 2:22 - loss: 0.5225 - accuracy: 0.7558WARNING:tensorflow:Can save best model only with val_loss available, skipping.\n",
      " 86/138 [=================>............] - ETA: 2:10 - loss: 0.5265 - accuracy: 0.7543WARNING:tensorflow:Can save best model only with val_loss available, skipping.\n",
      " 91/138 [==================>...........] - ETA: 1:57 - loss: 0.5279 - accuracy: 0.7544WARNING:tensorflow:Can save best model only with val_loss available, skipping.\n",
      " 96/138 [===================>..........] - ETA: 1:44 - loss: 0.5303 - accuracy: 0.7542WARNING:tensorflow:Can save best model only with val_loss available, skipping.\n",
      "101/138 [====================>.........] - ETA: 1:31 - loss: 0.5354 - accuracy: 0.7518WARNING:tensorflow:Can save best model only with val_loss available, skipping.\n",
      "106/138 [======================>.......] - ETA: 1:19 - loss: 0.5382 - accuracy: 0.7498WARNING:tensorflow:Can save best model only with val_loss available, skipping.\n",
      "111/138 [=======================>......] - ETA: 1:06 - loss: 0.5409 - accuracy: 0.7496WARNING:tensorflow:Can save best model only with val_loss available, skipping.\n",
      "116/138 [========================>.....] - ETA: 54s - loss: 0.5446 - accuracy: 0.7475WARNING:tensorflow:Can save best model only with val_loss available, skipping.\n",
      "121/138 [=========================>....] - ETA: 41s - loss: 0.5488 - accuracy: 0.7448WARNING:tensorflow:Can save best model only with val_loss available, skipping.\n",
      "126/138 [==========================>...] - ETA: 29s - loss: 0.5514 - accuracy: 0.7433WARNING:tensorflow:Can save best model only with val_loss available, skipping.\n",
      "131/138 [===========================>..] - ETA: 17s - loss: 0.5530 - accuracy: 0.7433WARNING:tensorflow:Can save best model only with val_loss available, skipping.\n",
      "136/138 [============================>.] - ETA: 4s - loss: 0.5544 - accuracy: 0.7428WARNING:tensorflow:Can save best model only with val_loss available, skipping.\n",
      "138/138 [==============================] - 378s 3s/step - loss: 0.5554 - accuracy: 0.7426 - val_loss: 0.7047 - val_accuracy: 0.7107\n",
      "Epoch 8/30\n",
      "  3/138 [..............................] - ETA: 5:29 - loss: 0.4914 - accuracy: 0.7627WARNING:tensorflow:Can save best model only with val_loss available, skipping.\n",
      "  8/138 [>.............................] - ETA: 5:06 - loss: 0.4895 - accuracy: 0.7610WARNING:tensorflow:Can save best model only with val_loss available, skipping.\n",
      " 13/138 [=>............................] - ETA: 4:54 - loss: 0.4893 - accuracy: 0.7637WARNING:tensorflow:Can save best model only with val_loss available, skipping.\n",
      " 18/138 [==>...........................] - ETA: 4:47 - loss: 0.4885 - accuracy: 0.7658WARNING:tensorflow:Can save best model only with val_loss available, skipping.\n",
      " 23/138 [====>.........................] - ETA: 4:38 - loss: 0.4855 - accuracy: 0.7694WARNING:tensorflow:Can save best model only with val_loss available, skipping.\n",
      " 28/138 [=====>........................] - ETA: 4:24 - loss: 0.4923 - accuracy: 0.7680WARNING:tensorflow:Can save best model only with val_loss available, skipping.\n",
      " 33/138 [======>.......................] - ETA: 4:13 - loss: 0.4858 - accuracy: 0.7745WARNING:tensorflow:Can save best model only with val_loss available, skipping.\n",
      " 38/138 [=======>......................] - ETA: 4:02 - loss: 0.4898 - accuracy: 0.7756WARNING:tensorflow:Can save best model only with val_loss available, skipping.\n",
      " 43/138 [========>.....................] - ETA: 3:49 - loss: 0.4958 - accuracy: 0.7702WARNING:tensorflow:Can save best model only with val_loss available, skipping.\n",
      " 48/138 [=========>....................] - ETA: 3:36 - loss: 0.4967 - accuracy: 0.7692WARNING:tensorflow:Can save best model only with val_loss available, skipping.\n",
      " 53/138 [==========>...................] - ETA: 3:25 - loss: 0.4972 - accuracy: 0.7683WARNING:tensorflow:Can save best model only with val_loss available, skipping.\n",
      " 58/138 [===========>..................] - ETA: 3:14 - loss: 0.4991 - accuracy: 0.7665WARNING:tensorflow:Can save best model only with val_loss available, skipping.\n",
      " 63/138 [============>.................] - ETA: 3:03 - loss: 0.5020 - accuracy: 0.7661WARNING:tensorflow:Can save best model only with val_loss available, skipping.\n",
      " 68/138 [=============>................] - ETA: 2:50 - loss: 0.5050 - accuracy: 0.7640WARNING:tensorflow:Can save best model only with val_loss available, skipping.\n",
      " 73/138 [==============>...............] - ETA: 2:38 - loss: 0.5086 - accuracy: 0.7608WARNING:tensorflow:Can save best model only with val_loss available, skipping.\n",
      " 78/138 [===============>..............] - ETA: 2:29 - loss: 0.5110 - accuracy: 0.7592WARNING:tensorflow:Can save best model only with val_loss available, skipping.\n",
      " 83/138 [=================>............] - ETA: 2:18 - loss: 0.5094 - accuracy: 0.7600WARNING:tensorflow:Can save best model only with val_loss available, skipping.\n"
     ]
    },
    {
     "name": "stdout",
     "output_type": "stream",
     "text": [
      " 88/138 [==================>...........] - ETA: 2:05 - loss: 0.5088 - accuracy: 0.7603WARNING:tensorflow:Can save best model only with val_loss available, skipping.\n",
      " 93/138 [===================>..........] - ETA: 1:52 - loss: 0.5097 - accuracy: 0.7598WARNING:tensorflow:Can save best model only with val_loss available, skipping.\n",
      " 98/138 [====================>.........] - ETA: 1:39 - loss: 0.5086 - accuracy: 0.7605WARNING:tensorflow:Can save best model only with val_loss available, skipping.\n",
      "103/138 [=====================>........] - ETA: 1:27 - loss: 0.5097 - accuracy: 0.7596WARNING:tensorflow:Can save best model only with val_loss available, skipping.\n",
      "108/138 [======================>.......] - ETA: 1:14 - loss: 0.5105 - accuracy: 0.7594WARNING:tensorflow:Can save best model only with val_loss available, skipping.\n",
      "113/138 [=======================>......] - ETA: 1:01 - loss: 0.5113 - accuracy: 0.7582WARNING:tensorflow:Can save best model only with val_loss available, skipping.\n",
      "118/138 [========================>.....] - ETA: 49s - loss: 0.5111 - accuracy: 0.7593WARNING:tensorflow:Can save best model only with val_loss available, skipping.\n",
      "123/138 [=========================>....] - ETA: 37s - loss: 0.5128 - accuracy: 0.7589WARNING:tensorflow:Can save best model only with val_loss available, skipping.\n",
      "128/138 [==========================>...] - ETA: 24s - loss: 0.5125 - accuracy: 0.7593WARNING:tensorflow:Can save best model only with val_loss available, skipping.\n",
      "133/138 [===========================>..] - ETA: 12s - loss: 0.5125 - accuracy: 0.7591WARNING:tensorflow:Can save best model only with val_loss available, skipping.\n",
      "138/138 [==============================] - 379s 3s/step - loss: 0.5127 - accuracy: 0.7590 - val_loss: 0.6577 - val_accuracy: 0.7015\n",
      "Epoch 9/30\n",
      "WARNING:tensorflow:Can save best model only with val_loss available, skipping.\n",
      "  5/138 [>.............................] - ETA: 5:14 - loss: 0.4662 - accuracy: 0.7840WARNING:tensorflow:Can save best model only with val_loss available, skipping.\n",
      " 10/138 [=>............................] - ETA: 5:05 - loss: 0.4668 - accuracy: 0.7800WARNING:tensorflow:Can save best model only with val_loss available, skipping.\n",
      " 15/138 [==>...........................] - ETA: 4:52 - loss: 0.4746 - accuracy: 0.7744WARNING:tensorflow:Can save best model only with val_loss available, skipping.\n",
      " 20/138 [===>..........................] - ETA: 4:38 - loss: 0.4755 - accuracy: 0.7720WARNING:tensorflow:Can save best model only with val_loss available, skipping.\n",
      " 25/138 [====>.........................] - ETA: 4:24 - loss: 0.4661 - accuracy: 0.7770WARNING:tensorflow:Can save best model only with val_loss available, skipping.\n",
      " 30/138 [=====>........................] - ETA: 4:13 - loss: 0.4622 - accuracy: 0.7789WARNING:tensorflow:Can save best model only with val_loss available, skipping.\n",
      " 35/138 [======>.......................] - ETA: 4:01 - loss: 0.4569 - accuracy: 0.7822WARNING:tensorflow:Can save best model only with val_loss available, skipping.\n",
      " 40/138 [=======>......................] - ETA: 3:49 - loss: 0.4574 - accuracy: 0.7832WARNING:tensorflow:Can save best model only with val_loss available, skipping.\n",
      " 45/138 [========>.....................] - ETA: 3:37 - loss: 0.4581 - accuracy: 0.7817WARNING:tensorflow:Can save best model only with val_loss available, skipping.\n",
      " 50/138 [=========>....................] - ETA: 3:25 - loss: 0.4572 - accuracy: 0.7832WARNING:tensorflow:Can save best model only with val_loss available, skipping.\n",
      " 55/138 [==========>...................] - ETA: 3:14 - loss: 0.4545 - accuracy: 0.7830WARNING:tensorflow:Can save best model only with val_loss available, skipping.\n",
      " 60/138 [============>.................] - ETA: 3:02 - loss: 0.4513 - accuracy: 0.7840WARNING:tensorflow:Can save best model only with val_loss available, skipping.\n",
      " 65/138 [=============>................] - ETA: 2:50 - loss: 0.4514 - accuracy: 0.7841WARNING:tensorflow:Can save best model only with val_loss available, skipping.\n",
      " 70/138 [==============>...............] - ETA: 2:38 - loss: 0.4478 - accuracy: 0.7842WARNING:tensorflow:Can save best model only with val_loss available, skipping.\n",
      " 75/138 [===============>..............] - ETA: 2:26 - loss: 0.4470 - accuracy: 0.7843WARNING:tensorflow:Can save best model only with val_loss available, skipping.\n",
      " 80/138 [================>.............] - ETA: 2:15 - loss: 0.4484 - accuracy: 0.7832WARNING:tensorflow:Can save best model only with val_loss available, skipping.\n",
      " 85/138 [=================>............] - ETA: 2:03 - loss: 0.4486 - accuracy: 0.7831WARNING:tensorflow:Can save best model only with val_loss available, skipping.\n",
      " 90/138 [==================>...........] - ETA: 1:52 - loss: 0.4500 - accuracy: 0.7825WARNING:tensorflow:Can save best model only with val_loss available, skipping.\n",
      " 95/138 [===================>..........] - ETA: 1:40 - loss: 0.4492 - accuracy: 0.7827WARNING:tensorflow:Can save best model only with val_loss available, skipping.\n",
      "100/138 [====================>.........] - ETA: 1:29 - loss: 0.4503 - accuracy: 0.7821WARNING:tensorflow:Can save best model only with val_loss available, skipping.\n",
      "105/138 [=====================>........] - ETA: 1:17 - loss: 0.4495 - accuracy: 0.7824WARNING:tensorflow:Can save best model only with val_loss available, skipping.\n",
      "110/138 [======================>.......] - ETA: 1:05 - loss: 0.4495 - accuracy: 0.7823WARNING:tensorflow:Can save best model only with val_loss available, skipping.\n",
      "115/138 [========================>.....] - ETA: 53s - loss: 0.4488 - accuracy: 0.7817WARNING:tensorflow:Can save best model only with val_loss available, skipping.\n",
      "120/138 [=========================>....] - ETA: 42s - loss: 0.4474 - accuracy: 0.7822WARNING:tensorflow:Can save best model only with val_loss available, skipping.\n",
      "125/138 [==========================>...] - ETA: 30s - loss: 0.4476 - accuracy: 0.7816WARNING:tensorflow:Can save best model only with val_loss available, skipping.\n",
      "130/138 [===========================>..] - ETA: 18s - loss: 0.4479 - accuracy: 0.7818WARNING:tensorflow:Can save best model only with val_loss available, skipping.\n",
      "135/138 [============================>.] - ETA: 7s - loss: 0.4488 - accuracy: 0.7813WARNING:tensorflow:Can save best model only with val_loss available, skipping.\n",
      "138/138 [==============================] - 361s 3s/step - loss: 0.4488 - accuracy: 0.7812 - val_loss: 0.7309 - val_accuracy: 0.7237\n",
      "Epoch 10/30\n",
      "  2/138 [..............................] - ETA: 5:19 - loss: 0.3766 - accuracy: 0.8480WARNING:tensorflow:Can save best model only with val_loss available, skipping.\n",
      "  7/138 [>.............................] - ETA: 5:04 - loss: 0.3798 - accuracy: 0.8126WARNING:tensorflow:Can save best model only with val_loss available, skipping.\n",
      " 12/138 [=>............................] - ETA: 4:51 - loss: 0.4142 - accuracy: 0.7907WARNING:tensorflow:Can save best model only with val_loss available, skipping.\n",
      " 17/138 [==>...........................] - ETA: 4:39 - loss: 0.4138 - accuracy: 0.7896WARNING:tensorflow:Can save best model only with val_loss available, skipping.\n",
      " 22/138 [===>..........................] - ETA: 4:32 - loss: 0.4173 - accuracy: 0.7884WARNING:tensorflow:Can save best model only with val_loss available, skipping.\n",
      " 27/138 [====>.........................] - ETA: 4:21 - loss: 0.4147 - accuracy: 0.7905WARNING:tensorflow:Can save best model only with val_loss available, skipping.\n",
      " 32/138 [=====>........................] - ETA: 4:09 - loss: 0.4139 - accuracy: 0.7905WARNING:tensorflow:Can save best model only with val_loss available, skipping.\n",
      " 37/138 [=======>......................] - ETA: 3:57 - loss: 0.4173 - accuracy: 0.7905WARNING:tensorflow:Can save best model only with val_loss available, skipping.\n",
      " 42/138 [========>.....................] - ETA: 3:46 - loss: 0.4172 - accuracy: 0.7899WARNING:tensorflow:Can save best model only with val_loss available, skipping.\n",
      " 47/138 [=========>....................] - ETA: 3:34 - loss: 0.4193 - accuracy: 0.7888WARNING:tensorflow:Can save best model only with val_loss available, skipping.\n",
      " 52/138 [==========>...................] - ETA: 3:22 - loss: 0.4203 - accuracy: 0.7888WARNING:tensorflow:Can save best model only with val_loss available, skipping.\n",
      " 57/138 [===========>..................] - ETA: 3:11 - loss: 0.4215 - accuracy: 0.7885WARNING:tensorflow:Can save best model only with val_loss available, skipping.\n",
      " 62/138 [============>.................] - ETA: 2:59 - loss: 0.4173 - accuracy: 0.7910WARNING:tensorflow:Can save best model only with val_loss available, skipping.\n",
      " 67/138 [=============>................] - ETA: 2:47 - loss: 0.4166 - accuracy: 0.7915WARNING:tensorflow:Can save best model only with val_loss available, skipping.\n",
      " 72/138 [==============>...............] - ETA: 2:35 - loss: 0.4185 - accuracy: 0.7900WARNING:tensorflow:Can save best model only with val_loss available, skipping.\n",
      " 77/138 [===============>..............] - ETA: 2:23 - loss: 0.4186 - accuracy: 0.7898WARNING:tensorflow:Can save best model only with val_loss available, skipping.\n",
      " 82/138 [================>.............] - ETA: 2:12 - loss: 0.4194 - accuracy: 0.7882WARNING:tensorflow:Can save best model only with val_loss available, skipping.\n",
      " 87/138 [=================>............] - ETA: 2:00 - loss: 0.4177 - accuracy: 0.7902WARNING:tensorflow:Can save best model only with val_loss available, skipping.\n",
      " 92/138 [===================>..........] - ETA: 1:49 - loss: 0.4177 - accuracy: 0.7903WARNING:tensorflow:Can save best model only with val_loss available, skipping.\n",
      " 97/138 [====================>.........] - ETA: 1:37 - loss: 0.4179 - accuracy: 0.7902WARNING:tensorflow:Can save best model only with val_loss available, skipping.\n",
      "102/138 [=====================>........] - ETA: 1:25 - loss: 0.4155 - accuracy: 0.7921WARNING:tensorflow:Can save best model only with val_loss available, skipping.\n",
      "107/138 [======================>.......] - ETA: 1:13 - loss: 0.4138 - accuracy: 0.7933WARNING:tensorflow:Can save best model only with val_loss available, skipping.\n",
      "112/138 [=======================>......] - ETA: 1:01 - loss: 0.4140 - accuracy: 0.7937WARNING:tensorflow:Can save best model only with val_loss available, skipping.\n",
      "117/138 [========================>.....] - ETA: 49s - loss: 0.4143 - accuracy: 0.7939WARNING:tensorflow:Can save best model only with val_loss available, skipping.\n",
      "122/138 [=========================>....] - ETA: 38s - loss: 0.4144 - accuracy: 0.7938WARNING:tensorflow:Can save best model only with val_loss available, skipping.\n",
      "127/138 [==========================>...] - ETA: 26s - loss: 0.4133 - accuracy: 0.7938WARNING:tensorflow:Can save best model only with val_loss available, skipping.\n",
      "132/138 [===========================>..] - ETA: 14s - loss: 0.4124 - accuracy: 0.7944WARNING:tensorflow:Can save best model only with val_loss available, skipping.\n",
      "137/138 [============================>.] - ETA: 2s - loss: 0.4121 - accuracy: 0.7951WARNING:tensorflow:Can save best model only with val_loss available, skipping.\n",
      "138/138 [==============================] - 366s 3s/step - loss: 0.4121 - accuracy: 0.7951 - val_loss: 0.7048 - val_accuracy: 0.7095\n",
      "Epoch 11/30\n",
      "  4/138 [..............................] - ETA: 5:31 - loss: 0.3712 - accuracy: 0.8220WARNING:tensorflow:Can save best model only with val_loss available, skipping.\n",
      "  9/138 [>.............................] - ETA: 5:07 - loss: 0.3877 - accuracy: 0.8116WARNING:tensorflow:Can save best model only with val_loss available, skipping.\n",
      " 14/138 [==>...........................] - ETA: 4:54 - loss: 0.3869 - accuracy: 0.8034WARNING:tensorflow:Can save best model only with val_loss available, skipping.\n",
      " 19/138 [===>..........................] - ETA: 4:41 - loss: 0.3926 - accuracy: 0.8034WARNING:tensorflow:Can save best model only with val_loss available, skipping.\n",
      " 24/138 [====>.........................] - ETA: 4:28 - loss: 0.3890 - accuracy: 0.8077WARNING:tensorflow:Can save best model only with val_loss available, skipping.\n",
      " 29/138 [=====>........................] - ETA: 4:19 - loss: 0.3875 - accuracy: 0.8047WARNING:tensorflow:Can save best model only with val_loss available, skipping.\n",
      " 34/138 [======>.......................] - ETA: 4:06 - loss: 0.3845 - accuracy: 0.8073WARNING:tensorflow:Can save best model only with val_loss available, skipping.\n",
      " 39/138 [=======>......................] - ETA: 3:54 - loss: 0.3851 - accuracy: 0.8057WARNING:tensorflow:Can save best model only with val_loss available, skipping.\n",
      " 44/138 [========>.....................] - ETA: 3:41 - loss: 0.3809 - accuracy: 0.8084WARNING:tensorflow:Can save best model only with val_loss available, skipping.\n",
      " 49/138 [=========>....................] - ETA: 3:29 - loss: 0.3822 - accuracy: 0.8069WARNING:tensorflow:Can save best model only with val_loss available, skipping.\n",
      " 54/138 [==========>...................] - ETA: 3:19 - loss: 0.3820 - accuracy: 0.8067WARNING:tensorflow:Can save best model only with val_loss available, skipping.\n",
      " 59/138 [===========>..................] - ETA: 3:07 - loss: 0.3832 - accuracy: 0.8054WARNING:tensorflow:Can save best model only with val_loss available, skipping.\n",
      " 64/138 [============>.................] - ETA: 2:55 - loss: 0.3839 - accuracy: 0.8043WARNING:tensorflow:Can save best model only with val_loss available, skipping.\n",
      " 69/138 [==============>...............] - ETA: 2:43 - loss: 0.3831 - accuracy: 0.8036WARNING:tensorflow:Can save best model only with val_loss available, skipping.\n",
      " 74/138 [===============>..............] - ETA: 2:31 - loss: 0.3829 - accuracy: 0.8037WARNING:tensorflow:Can save best model only with val_loss available, skipping.\n",
      " 79/138 [================>.............] - ETA: 2:19 - loss: 0.3834 - accuracy: 0.8037WARNING:tensorflow:Can save best model only with val_loss available, skipping.\n",
      " 84/138 [=================>............] - ETA: 2:08 - loss: 0.3818 - accuracy: 0.8047WARNING:tensorflow:Can save best model only with val_loss available, skipping.\n",
      " 89/138 [==================>...........] - ETA: 1:55 - loss: 0.3838 - accuracy: 0.8046WARNING:tensorflow:Can save best model only with val_loss available, skipping.\n",
      " 94/138 [===================>..........] - ETA: 1:44 - loss: 0.3831 - accuracy: 0.8054WARNING:tensorflow:Can save best model only with val_loss available, skipping.\n",
      " 99/138 [====================>.........] - ETA: 1:32 - loss: 0.3832 - accuracy: 0.8051WARNING:tensorflow:Can save best model only with val_loss available, skipping.\n",
      "104/138 [=====================>........] - ETA: 1:20 - loss: 0.3842 - accuracy: 0.8048WARNING:tensorflow:Can save best model only with val_loss available, skipping.\n",
      "109/138 [======================>.......] - ETA: 1:08 - loss: 0.3850 - accuracy: 0.8037WARNING:tensorflow:Can save best model only with val_loss available, skipping.\n",
      "114/138 [=======================>......] - ETA: 56s - loss: 0.3852 - accuracy: 0.8041WARNING:tensorflow:Can save best model only with val_loss available, skipping.\n",
      "119/138 [========================>.....] - ETA: 45s - loss: 0.3863 - accuracy: 0.8039WARNING:tensorflow:Can save best model only with val_loss available, skipping.\n",
      "124/138 [=========================>....] - ETA: 33s - loss: 0.3859 - accuracy: 0.8038WARNING:tensorflow:Can save best model only with val_loss available, skipping.\n",
      "129/138 [===========================>..] - ETA: 21s - loss: 0.3853 - accuracy: 0.8040WARNING:tensorflow:Can save best model only with val_loss available, skipping.\n",
      "134/138 [============================>.] - ETA: 9s - loss: 0.3878 - accuracy: 0.8036 WARNING:tensorflow:Can save best model only with val_loss available, skipping.\n",
      "138/138 [==============================] - 365s 3s/step - loss: 0.3866 - accuracy: 0.8045 - val_loss: 0.7123 - val_accuracy: 0.7195\n"
     ]
    }
   ],
   "source": [
    "#모델 학습\n",
    "# model.fit(train_images, train_labels, epochs=3,validation_split=0.2,verbose=1)\n",
    "hist = model.fit(train_images, train_labels, epochs=30, validation_data=(val_images, val_labels), verbose=1, batch_size= 125, callbacks=[cp_callback, early])"
   ]
  },
  {
   "cell_type": "code",
   "execution_count": 106,
   "metadata": {},
   "outputs": [
    {
     "name": "stdout",
     "output_type": "stream",
     "text": [
      "[50.649227142333984, 0.831024706363678, 0.7625709176063538, 0.6877292394638062, 0.6546511650085449, 0.5723602175712585, 0.5554120540618896, 0.5127042531967163, 0.44882088899612427, 0.4120733141899109, 0.3866075277328491]\n",
      "[0.46776261925697327, 0.639034628868103, 0.6754692792892456, 0.7124868631362915, 0.723388135433197, 0.7465314269065857, 0.7426256537437439, 0.759006679058075, 0.7812172174453735, 0.7951498031616211, 0.8045353889465332]\n",
      "[0.8673496246337891, 0.8112910389900208, 0.8195466995239258, 0.7656719088554382, 0.8002151250839233, 0.700291633605957, 0.7046827077865601, 0.6577333211898804, 0.7308896780014038, 0.7048047780990601, 0.7123353481292725]\n",
      "[0.6210213303565979, 0.6525008678436279, 0.6594963669776917, 0.6850297451019287, 0.6922000646591187, 0.713886022567749, 0.7107380628585815, 0.7014690637588501, 0.7236796021461487, 0.7095138430595398, 0.7194823622703552]\n"
     ]
    }
   ],
   "source": [
    "print(hist.history['loss'])\n",
    "print(hist.history['accuracy'])\n",
    "print(hist.history['val_loss'])\n",
    "print(hist.history['val_accuracy'])"
   ]
  },
  {
   "cell_type": "code",
   "execution_count": 107,
   "metadata": {},
   "outputs": [
    {
     "data": {
      "image/png": "[encoded data removed]",
      "text/plain": [
       "<Figure size 640x480 with 2 Axes>"
      ]
     },
     "metadata": {},
     "output_type": "display_data"
    }
   ],
   "source": [
    "import matplotlib.pyplot as plt\n",
    "\n",
    "fig, loss_ax = plt.subplots()\n",
    "acc_ax = loss_ax.twinx()\n",
    "\n",
    "loss_ax.plot(hist_classifi.history['loss'], 'y', label='train loss')\n",
    "loss_ax.plot(hist_classifi.history['val_loss'], 'r', label='val loss')\n",
    "loss_ax.set_xlabel('epoch')\n",
    "loss_ax.set_ylabel('loss')\n",
    "loss_ax.legend(loc='upper left')\n",
    "\n",
    "acc_ax.plot(hist_classifi.history['accuracy'], 'b', label='train acc')\n",
    "acc_ax.plot(hist_classifi.history['val_accuracy'], 'g', label='val acc')\n",
    "acc_ax.set_ylabel('accuracy')\n",
    "acc_ax.legend(loc='lower left')\n",
    "\n",
    "plt.show()"
   ]
  },
  {
   "cell_type": "code",
   "execution_count": 108,
   "metadata": {},
   "outputs": [
    {
     "name": "stdout",
     "output_type": "stream",
     "text": [
      "179/179 - 71s - loss: 0.6986 - accuracy: 0.7274 - 71s/epoch - 399ms/step\n",
      "loss:  0.6986321806907654 , acc:  0.7273522615432739\n"
     ]
    }
   ],
   "source": [
    "#모델 검증\n",
    "test_loss, test_acc = model.evaluate(test_images, test_labels, verbose=2)\n",
    "print('loss: ', test_loss, ', acc: ', test_acc)"
   ]
  },
  {
   "cell_type": "markdown",
   "metadata": {},
   "source": [
    "# ResNet 분류기만 학습"
   ]
  },
  {
   "cell_type": "code",
   "execution_count": 7,
   "metadata": {},
   "outputs": [],
   "source": [
    "import tensorflow as tf\n",
    "\n",
    "from tensorflow.keras.applications.resnet50 import ResNet50\n",
    "\n",
    "from tensorflow.keras import datasets, layers, models\n",
    "\n",
    "from tensorflow.keras.layers import Dense, Flatten, MaxPooling2D\n",
    "from tensorflow.keras import Input\n",
    "from tensorflow.keras.layers import Dropout, BatchNormalization\n",
    "\n",
    "import matplotlib.pyplot as plt\n",
    "import os"
   ]
  },
  {
   "cell_type": "code",
   "execution_count": 10,
   "metadata": {},
   "outputs": [
    {
     "name": "stdout",
     "output_type": "stream",
     "text": [
      "Metal device set to: Apple M1\n"
     ]
    },
    {
     "name": "stderr",
     "output_type": "stream",
     "text": [
      "2022-12-01 15:12:49.441724: I tensorflow/core/common_runtime/pluggable_device/pluggable_device_factory.cc:306] Could not identify NUMA node of platform GPU ID 0, defaulting to 0. Your kernel may not have been built with NUMA support.\n",
      "2022-12-01 15:12:49.442111: I tensorflow/core/common_runtime/pluggable_device/pluggable_device_factory.cc:272] Created TensorFlow device (/job:localhost/replica:0/task:0/device:GPU:0 with 0 MB memory) -> physical PluggableDevice (device: 0, name: METAL, pci bus id: <undefined>)\n"
     ]
    }
   ],
   "source": [
    "base_model = ResNet50(include_top=False, input_shape = (224, 224 ,3), weights = 'imagenet')\n",
    "base_model.output_shape\n",
    "base_model.trainable = False"
   ]
  },
  {
   "cell_type": "code",
   "execution_count": 8,
   "metadata": {},
   "outputs": [
    {
     "data": {
      "text/plain": [
       "((17154, 3), (5718, 3), (5718, 3))"
      ]
     },
     "execution_count": 8,
     "metadata": {},
     "output_type": "execute_result"
    }
   ],
   "source": [
    "y_train = tf.keras.utils.to_categorical(train_labels, 3)\n",
    "y_val = tf.keras.utils.to_categorical(val_labels, 3)\n",
    "y_test = tf.keras.utils.to_categorical(test_labels, 3)\n",
    "y_train.shape, y_val.shape, y_test.shape"
   ]
  },
  {
   "cell_type": "code",
   "execution_count": 11,
   "metadata": {},
   "outputs": [],
   "source": [
    "# model.Sequential()없이 모델 구축하는 방법\n",
    "inputs = tf.keras.Input(shape=(224, 224, 3))\n",
    "\n",
    "x = base_model(inputs, training=False)\n",
    "x = tf.keras.layers.Flatten(input_shape=base_model.output_shape[1:])(x)\n",
    "x = tf.keras.layers.Dense(256, activation='relu')(x)\n",
    "x= tf.keras.layers.Dropout(0.5)(x)\n",
    "outputs = tf.keras.layers.Dense(3, activation='softmax')(x)\n",
    "\n",
    "model = tf.keras.Model(inputs, outputs)"
   ]
  },
  {
   "cell_type": "code",
   "execution_count": 12,
   "metadata": {},
   "outputs": [],
   "source": [
    "early = tf.keras.callbacks.EarlyStopping(monitor='val_loss', patience=3)\n",
    "\n",
    "checkpoint_path = \"/Users/jeonminjeong/Downloads/알파코/프로젝트/이미지인식/checkpoints/resnet50_1/cp-{epoch:04d}.ckpt\"\n",
    "checkpoint_dir = os.path.dirname(checkpoint_path)\n",
    "\n",
    "cp_callback = tf.keras.callbacks.ModelCheckpoint(\n",
    "    filepath=checkpoint_path, # 고유한 파일이름 부여 가능 \n",
    "    monitor='val_loss', # val_loss값을 기준으로 최저점일때를 기록하고 싶다면\n",
    "    save_best_only=True, # True를 주면 monitor기준 최고상태 기록\n",
    "    save_weights_only=False, # False면 모델 레이어 및 weight값 모두\n",
    "    save_freq=5 # 체크포인트 저장하는 에폭주기 설정 가능\n",
    ")"
   ]
  },
  {
   "cell_type": "code",
   "execution_count": 114,
   "metadata": {},
   "outputs": [
    {
     "name": "stdout",
     "output_type": "stream",
     "text": [
      "Epoch 1/30\n"
     ]
    },
    {
     "name": "stderr",
     "output_type": "stream",
     "text": [
      "2022-11-29 13:04:34.992717: I tensorflow/core/grappler/optimizers/custom_graph_optimizer_registry.cc:114] Plugin optimizer for device_type GPU is enabled.\n"
     ]
    },
    {
     "name": "stdout",
     "output_type": "stream",
     "text": [
      "  4/138 [..............................] - ETA: 3:56 - loss: 39.0369 - accuracy: 0.4580WARNING:tensorflow:Can save best model only with val_loss available, skipping.\n",
      "  9/138 [>.............................] - ETA: 3:40 - loss: 28.3333 - accuracy: 0.5556WARNING:tensorflow:Can save best model only with val_loss available, skipping.\n",
      " 14/138 [==>...........................] - ETA: 3:32 - loss: 20.9869 - accuracy: 0.6074WARNING:tensorflow:Can save best model only with val_loss available, skipping.\n",
      " 19/138 [===>..........................] - ETA: 3:21 - loss: 16.2016 - accuracy: 0.6316WARNING:tensorflow:Can save best model only with val_loss available, skipping.\n",
      " 24/138 [====>.........................] - ETA: 3:12 - loss: 13.0836 - accuracy: 0.6440WARNING:tensorflow:Can save best model only with val_loss available, skipping.\n",
      " 29/138 [=====>........................] - ETA: 3:03 - loss: 10.9593 - accuracy: 0.6403WARNING:tensorflow:Can save best model only with val_loss available, skipping.\n",
      " 34/138 [======>.......................] - ETA: 2:54 - loss: 9.4510 - accuracy: 0.6449WARNING:tensorflow:Can save best model only with val_loss available, skipping.\n",
      " 39/138 [=======>......................] - ETA: 2:45 - loss: 8.3317 - accuracy: 0.6515WARNING:tensorflow:Can save best model only with val_loss available, skipping.\n",
      " 44/138 [========>.....................] - ETA: 2:36 - loss: 7.4602 - accuracy: 0.6544WARNING:tensorflow:Can save best model only with val_loss available, skipping.\n",
      " 49/138 [=========>....................] - ETA: 2:28 - loss: 6.7595 - accuracy: 0.6614WARNING:tensorflow:Can save best model only with val_loss available, skipping.\n",
      " 54/138 [==========>...................] - ETA: 2:20 - loss: 6.1892 - accuracy: 0.6649WARNING:tensorflow:Can save best model only with val_loss available, skipping.\n",
      " 59/138 [===========>..................] - ETA: 2:11 - loss: 5.7240 - accuracy: 0.6689WARNING:tensorflow:Can save best model only with val_loss available, skipping.\n",
      " 64/138 [============>.................] - ETA: 2:03 - loss: 5.3205 - accuracy: 0.6703WARNING:tensorflow:Can save best model only with val_loss available, skipping.\n",
      " 69/138 [==============>...............] - ETA: 1:55 - loss: 4.9770 - accuracy: 0.6752WARNING:tensorflow:Can save best model only with val_loss available, skipping.\n",
      " 74/138 [===============>..............] - ETA: 1:47 - loss: 4.6779 - accuracy: 0.6796WARNING:tensorflow:Can save best model only with val_loss available, skipping.\n",
      " 79/138 [================>.............] - ETA: 1:38 - loss: 4.4149 - accuracy: 0.6834WARNING:tensorflow:Can save best model only with val_loss available, skipping.\n",
      " 84/138 [=================>............] - ETA: 1:30 - loss: 4.1829 - accuracy: 0.6866WARNING:tensorflow:Can save best model only with val_loss available, skipping.\n",
      " 89/138 [==================>...........] - ETA: 1:22 - loss: 3.9755 - accuracy: 0.6897WARNING:tensorflow:Can save best model only with val_loss available, skipping.\n",
      " 94/138 [===================>..........] - ETA: 1:13 - loss: 3.7915 - accuracy: 0.6922WARNING:tensorflow:Can save best model only with val_loss available, skipping.\n",
      " 99/138 [====================>.........] - ETA: 1:05 - loss: 3.6286 - accuracy: 0.6931WARNING:tensorflow:Can save best model only with val_loss available, skipping.\n",
      "104/138 [=====================>........] - ETA: 57s - loss: 3.4766 - accuracy: 0.6943WARNING:tensorflow:Can save best model only with val_loss available, skipping.\n",
      "109/138 [======================>.......] - ETA: 48s - loss: 3.3428 - accuracy: 0.6953WARNING:tensorflow:Can save best model only with val_loss available, skipping.\n",
      "114/138 [=======================>......] - ETA: 40s - loss: 3.2236 - accuracy: 0.6961WARNING:tensorflow:Can save best model only with val_loss available, skipping.\n",
      "119/138 [========================>.....] - ETA: 31s - loss: 3.1096 - accuracy: 0.6986WARNING:tensorflow:Can save best model only with val_loss available, skipping.\n",
      "124/138 [=========================>....] - ETA: 23s - loss: 3.0069 - accuracy: 0.6988WARNING:tensorflow:Can save best model only with val_loss available, skipping.\n",
      "129/138 [===========================>..] - ETA: 15s - loss: 2.9096 - accuracy: 0.7002WARNING:tensorflow:Can save best model only with val_loss available, skipping.\n",
      "134/138 [============================>.] - ETA: 6s - loss: 2.8208 - accuracy: 0.7016WARNING:tensorflow:Can save best model only with val_loss available, skipping.\n",
      "138/138 [==============================] - ETA: 0s - loss: 2.7654 - accuracy: 0.7024"
     ]
    },
    {
     "name": "stderr",
     "output_type": "stream",
     "text": [
      "2022-11-29 13:08:31.126258: I tensorflow/core/grappler/optimizers/custom_graph_optimizer_registry.cc:114] Plugin optimizer for device_type GPU is enabled.\n"
     ]
    },
    {
     "name": "stdout",
     "output_type": "stream",
     "text": [
      "138/138 [==============================] - 313s 2s/step - loss: 2.7654 - accuracy: 0.7024 - val_loss: 0.4254 - val_accuracy: 0.7929\n",
      "Epoch 2/30\n",
      "  1/138 [..............................] - ETA: 4:16 - loss: 0.5329 - accuracy: 0.7120WARNING:tensorflow:Can save best model only with val_loss available, skipping.\n",
      "  6/138 [>.............................] - ETA: 3:47 - loss: 0.4662 - accuracy: 0.7507WARNING:tensorflow:Can save best model only with val_loss available, skipping.\n",
      " 11/138 [=>............................] - ETA: 3:39 - loss: 0.4960 - accuracy: 0.7295WARNING:tensorflow:Can save best model only with val_loss available, skipping.\n",
      " 16/138 [==>...........................] - ETA: 3:28 - loss: 0.4958 - accuracy: 0.7390WARNING:tensorflow:Can save best model only with val_loss available, skipping.\n",
      " 21/138 [===>..........................] - ETA: 3:19 - loss: 0.4876 - accuracy: 0.7467WARNING:tensorflow:Can save best model only with val_loss available, skipping.\n",
      " 26/138 [====>.........................] - ETA: 3:09 - loss: 0.4806 - accuracy: 0.7514WARNING:tensorflow:Can save best model only with val_loss available, skipping.\n",
      " 31/138 [=====>........................] - ETA: 3:00 - loss: 0.4763 - accuracy: 0.7559WARNING:tensorflow:Can save best model only with val_loss available, skipping.\n",
      " 36/138 [======>.......................] - ETA: 2:52 - loss: 0.4739 - accuracy: 0.7551WARNING:tensorflow:Can save best model only with val_loss available, skipping.\n",
      " 41/138 [=======>......................] - ETA: 2:43 - loss: 0.4746 - accuracy: 0.7561WARNING:tensorflow:Can save best model only with val_loss available, skipping.\n",
      " 46/138 [=========>....................] - ETA: 2:35 - loss: 0.4726 - accuracy: 0.7560WARNING:tensorflow:Can save best model only with val_loss available, skipping.\n",
      " 51/138 [==========>...................] - ETA: 2:26 - loss: 0.4772 - accuracy: 0.7551WARNING:tensorflow:Can save best model only with val_loss available, skipping.\n",
      " 56/138 [===========>..................] - ETA: 2:18 - loss: 0.4806 - accuracy: 0.7527WARNING:tensorflow:Can save best model only with val_loss available, skipping.\n",
      " 61/138 [============>.................] - ETA: 2:09 - loss: 0.4789 - accuracy: 0.7515WARNING:tensorflow:Can save best model only with val_loss available, skipping.\n",
      " 66/138 [=============>................] - ETA: 2:01 - loss: 0.4819 - accuracy: 0.7514WARNING:tensorflow:Can save best model only with val_loss available, skipping.\n",
      " 71/138 [==============>...............] - ETA: 1:53 - loss: 0.4818 - accuracy: 0.7517WARNING:tensorflow:Can save best model only with val_loss available, skipping.\n",
      " 76/138 [===============>..............] - ETA: 1:44 - loss: 0.4806 - accuracy: 0.7519WARNING:tensorflow:Can save best model only with val_loss available, skipping.\n",
      " 81/138 [================>.............] - ETA: 1:38 - loss: 0.4794 - accuracy: 0.7518WARNING:tensorflow:Can save best model only with val_loss available, skipping.\n",
      " 86/138 [=================>............] - ETA: 1:36 - loss: 0.4783 - accuracy: 0.7508WARNING:tensorflow:Can save best model only with val_loss available, skipping.\n",
      " 91/138 [==================>...........] - ETA: 1:32 - loss: 0.4769 - accuracy: 0.7519WARNING:tensorflow:Can save best model only with val_loss available, skipping.\n",
      " 96/138 [===================>..........] - ETA: 1:26 - loss: 0.4763 - accuracy: 0.7512WARNING:tensorflow:Can save best model only with val_loss available, skipping.\n",
      "101/138 [====================>.........] - ETA: 1:19 - loss: 0.4772 - accuracy: 0.7508WARNING:tensorflow:Can save best model only with val_loss available, skipping.\n",
      "106/138 [======================>.......] - ETA: 1:11 - loss: 0.4769 - accuracy: 0.7507WARNING:tensorflow:Can save best model only with val_loss available, skipping.\n",
      "111/138 [=======================>......] - ETA: 1:02 - loss: 0.4754 - accuracy: 0.7524WARNING:tensorflow:Can save best model only with val_loss available, skipping.\n",
      "116/138 [========================>.....] - ETA: 52s - loss: 0.4761 - accuracy: 0.7517WARNING:tensorflow:Can save best model only with val_loss available, skipping.\n",
      "121/138 [=========================>....] - ETA: 41s - loss: 0.4767 - accuracy: 0.7515WARNING:tensorflow:Can save best model only with val_loss available, skipping.\n",
      "126/138 [==========================>...] - ETA: 30s - loss: 0.4758 - accuracy: 0.7530WARNING:tensorflow:Can save best model only with val_loss available, skipping.\n",
      "131/138 [===========================>..] - ETA: 17s - loss: 0.4770 - accuracy: 0.7532WARNING:tensorflow:Can save best model only with val_loss available, skipping.\n",
      "136/138 [============================>.] - ETA: 5s - loss: 0.4762 - accuracy: 0.7535WARNING:tensorflow:Can save best model only with val_loss available, skipping.\n",
      "138/138 [==============================] - 524s 4s/step - loss: 0.4766 - accuracy: 0.7538 - val_loss: 0.4361 - val_accuracy: 0.8157\n",
      "Epoch 3/30\n",
      "  3/138 [..............................] - ETA: 8:37 - loss: 0.7126 - accuracy: 0.6293WARNING:tensorflow:Can save best model only with val_loss available, skipping.\n",
      "  8/138 [>.............................] - ETA: 7:29 - loss: 0.5222 - accuracy: 0.7290WARNING:tensorflow:Can save best model only with val_loss available, skipping.\n",
      " 13/138 [=>............................] - ETA: 5:38 - loss: 0.4821 - accuracy: 0.7458WARNING:tensorflow:Can save best model only with val_loss available, skipping.\n",
      " 18/138 [==>...........................] - ETA: 4:47 - loss: 0.4612 - accuracy: 0.7542WARNING:tensorflow:Can save best model only with val_loss available, skipping.\n",
      " 23/138 [====>.........................] - ETA: 4:15 - loss: 0.4590 - accuracy: 0.7537WARNING:tensorflow:Can save best model only with val_loss available, skipping.\n",
      " 28/138 [=====>........................] - ETA: 3:51 - loss: 0.4671 - accuracy: 0.7531WARNING:tensorflow:Can save best model only with val_loss available, skipping.\n",
      " 33/138 [======>.......................] - ETA: 3:33 - loss: 0.4673 - accuracy: 0.7556WARNING:tensorflow:Can save best model only with val_loss available, skipping.\n",
      " 38/138 [=======>......................] - ETA: 3:17 - loss: 0.4639 - accuracy: 0.7573WARNING:tensorflow:Can save best model only with val_loss available, skipping.\n",
      " 43/138 [========>.....................] - ETA: 3:03 - loss: 0.4621 - accuracy: 0.7600WARNING:tensorflow:Can save best model only with val_loss available, skipping.\n",
      " 48/138 [=========>....................] - ETA: 2:51 - loss: 0.4614 - accuracy: 0.7593WARNING:tensorflow:Can save best model only with val_loss available, skipping.\n",
      " 53/138 [==========>...................] - ETA: 2:40 - loss: 0.4569 - accuracy: 0.7612WARNING:tensorflow:Can save best model only with val_loss available, skipping.\n",
      " 58/138 [===========>..................] - ETA: 2:29 - loss: 0.4528 - accuracy: 0.7639WARNING:tensorflow:Can save best model only with val_loss available, skipping.\n",
      " 63/138 [============>.................] - ETA: 2:18 - loss: 0.4506 - accuracy: 0.7667WARNING:tensorflow:Can save best model only with val_loss available, skipping.\n",
      " 68/138 [=============>................] - ETA: 2:08 - loss: 0.4490 - accuracy: 0.7681WARNING:tensorflow:Can save best model only with val_loss available, skipping.\n",
      " 73/138 [==============>...............] - ETA: 1:58 - loss: 0.4460 - accuracy: 0.7693WARNING:tensorflow:Can save best model only with val_loss available, skipping.\n",
      " 78/138 [===============>..............] - ETA: 1:49 - loss: 0.4401 - accuracy: 0.7714WARNING:tensorflow:Can save best model only with val_loss available, skipping.\n",
      " 83/138 [=================>............] - ETA: 1:39 - loss: 0.4398 - accuracy: 0.7724WARNING:tensorflow:Can save best model only with val_loss available, skipping.\n",
      " 88/138 [==================>...........] - ETA: 1:30 - loss: 0.4362 - accuracy: 0.7746WARNING:tensorflow:Can save best model only with val_loss available, skipping.\n",
      " 93/138 [===================>..........] - ETA: 1:20 - loss: 0.4354 - accuracy: 0.7752WARNING:tensorflow:Can save best model only with val_loss available, skipping.\n",
      " 98/138 [====================>.........] - ETA: 1:11 - loss: 0.4342 - accuracy: 0.7768WARNING:tensorflow:Can save best model only with val_loss available, skipping.\n"
     ]
    },
    {
     "name": "stdout",
     "output_type": "stream",
     "text": [
      "103/138 [=====================>........] - ETA: 1:02 - loss: 0.4368 - accuracy: 0.7755WARNING:tensorflow:Can save best model only with val_loss available, skipping.\n",
      "108/138 [======================>.......] - ETA: 53s - loss: 0.4355 - accuracy: 0.7752WARNING:tensorflow:Can save best model only with val_loss available, skipping.\n",
      "113/138 [=======================>......] - ETA: 44s - loss: 0.4351 - accuracy: 0.7753WARNING:tensorflow:Can save best model only with val_loss available, skipping.\n",
      "118/138 [========================>.....] - ETA: 35s - loss: 0.4358 - accuracy: 0.7748WARNING:tensorflow:Can save best model only with val_loss available, skipping.\n",
      "123/138 [=========================>....] - ETA: 26s - loss: 0.4351 - accuracy: 0.7752WARNING:tensorflow:Can save best model only with val_loss available, skipping.\n",
      "128/138 [==========================>...] - ETA: 17s - loss: 0.4358 - accuracy: 0.7752WARNING:tensorflow:Can save best model only with val_loss available, skipping.\n",
      "133/138 [===========================>..] - ETA: 8s - loss: 0.4347 - accuracy: 0.7765 WARNING:tensorflow:Can save best model only with val_loss available, skipping.\n",
      "138/138 [==============================] - 319s 2s/step - loss: 0.4347 - accuracy: 0.7761 - val_loss: 0.3690 - val_accuracy: 0.8248\n",
      "Epoch 4/30\n",
      "WARNING:tensorflow:Can save best model only with val_loss available, skipping.\n",
      "  5/138 [>.............................] - ETA: 3:44 - loss: 0.3818 - accuracy: 0.7920WARNING:tensorflow:Can save best model only with val_loss available, skipping.\n",
      " 10/138 [=>............................] - ETA: 3:37 - loss: 0.3972 - accuracy: 0.7944WARNING:tensorflow:Can save best model only with val_loss available, skipping.\n",
      " 15/138 [==>...........................] - ETA: 3:28 - loss: 0.3939 - accuracy: 0.8064WARNING:tensorflow:Can save best model only with val_loss available, skipping.\n",
      " 20/138 [===>..........................] - ETA: 3:19 - loss: 0.4091 - accuracy: 0.7956WARNING:tensorflow:Can save best model only with val_loss available, skipping.\n",
      " 25/138 [====>.........................] - ETA: 3:10 - loss: 0.4039 - accuracy: 0.7990WARNING:tensorflow:Can save best model only with val_loss available, skipping.\n",
      " 30/138 [=====>........................] - ETA: 3:00 - loss: 0.4086 - accuracy: 0.8003WARNING:tensorflow:Can save best model only with val_loss available, skipping.\n",
      " 35/138 [======>.......................] - ETA: 2:52 - loss: 0.4057 - accuracy: 0.8016WARNING:tensorflow:Can save best model only with val_loss available, skipping.\n",
      " 40/138 [=======>......................] - ETA: 2:43 - loss: 0.4017 - accuracy: 0.8012WARNING:tensorflow:Can save best model only with val_loss available, skipping.\n",
      " 45/138 [========>.....................] - ETA: 2:34 - loss: 0.4026 - accuracy: 0.8014WARNING:tensorflow:Can save best model only with val_loss available, skipping.\n",
      " 50/138 [=========>....................] - ETA: 2:25 - loss: 0.4070 - accuracy: 0.8006WARNING:tensorflow:Can save best model only with val_loss available, skipping.\n",
      " 55/138 [==========>...................] - ETA: 2:17 - loss: 0.4069 - accuracy: 0.8013WARNING:tensorflow:Can save best model only with val_loss available, skipping.\n",
      " 60/138 [============>.................] - ETA: 2:09 - loss: 0.4045 - accuracy: 0.8013WARNING:tensorflow:Can save best model only with val_loss available, skipping.\n",
      " 65/138 [=============>................] - ETA: 2:00 - loss: 0.4032 - accuracy: 0.8014WARNING:tensorflow:Can save best model only with val_loss available, skipping.\n",
      " 70/138 [==============>...............] - ETA: 1:52 - loss: 0.4039 - accuracy: 0.8010WARNING:tensorflow:Can save best model only with val_loss available, skipping.\n",
      " 75/138 [===============>..............] - ETA: 1:43 - loss: 0.4020 - accuracy: 0.8012WARNING:tensorflow:Can save best model only with val_loss available, skipping.\n",
      " 80/138 [================>.............] - ETA: 1:35 - loss: 0.4013 - accuracy: 0.8010WARNING:tensorflow:Can save best model only with val_loss available, skipping.\n",
      " 85/138 [=================>............] - ETA: 1:27 - loss: 0.4027 - accuracy: 0.7999WARNING:tensorflow:Can save best model only with val_loss available, skipping.\n",
      " 90/138 [==================>...........] - ETA: 1:19 - loss: 0.4036 - accuracy: 0.7999WARNING:tensorflow:Can save best model only with val_loss available, skipping.\n",
      " 95/138 [===================>..........] - ETA: 1:11 - loss: 0.4051 - accuracy: 0.7989WARNING:tensorflow:Can save best model only with val_loss available, skipping.\n",
      "100/138 [====================>.........] - ETA: 1:03 - loss: 0.4057 - accuracy: 0.7983WARNING:tensorflow:Can save best model only with val_loss available, skipping.\n",
      "105/138 [=====================>........] - ETA: 54s - loss: 0.4054 - accuracy: 0.7977WARNING:tensorflow:Can save best model only with val_loss available, skipping.\n",
      "110/138 [======================>.......] - ETA: 46s - loss: 0.4055 - accuracy: 0.7978WARNING:tensorflow:Can save best model only with val_loss available, skipping.\n",
      "115/138 [========================>.....] - ETA: 38s - loss: 0.4038 - accuracy: 0.7993WARNING:tensorflow:Can save best model only with val_loss available, skipping.\n",
      "120/138 [=========================>....] - ETA: 29s - loss: 0.4040 - accuracy: 0.8000WARNING:tensorflow:Can save best model only with val_loss available, skipping.\n",
      "125/138 [==========================>...] - ETA: 22s - loss: 0.4070 - accuracy: 0.8006WARNING:tensorflow:Can save best model only with val_loss available, skipping.\n",
      "130/138 [===========================>..] - ETA: 14s - loss: 0.4073 - accuracy: 0.8004WARNING:tensorflow:Can save best model only with val_loss available, skipping.\n",
      "135/138 [============================>.] - ETA: 5s - loss: 0.4068 - accuracy: 0.8003WARNING:tensorflow:Can save best model only with val_loss available, skipping.\n",
      "138/138 [==============================] - 342s 2s/step - loss: 0.4068 - accuracy: 0.8008 - val_loss: 0.3642 - val_accuracy: 0.8295\n",
      "Epoch 5/30\n",
      "  2/138 [..............................] - ETA: 3:45 - loss: 0.3427 - accuracy: 0.8560WARNING:tensorflow:Can save best model only with val_loss available, skipping.\n",
      "  7/138 [>.............................] - ETA: 3:35 - loss: 0.3646 - accuracy: 0.8286WARNING:tensorflow:Can save best model only with val_loss available, skipping.\n",
      " 12/138 [=>............................] - ETA: 3:26 - loss: 0.3655 - accuracy: 0.8253WARNING:tensorflow:Can save best model only with val_loss available, skipping.\n",
      " 17/138 [==>...........................] - ETA: 3:18 - loss: 0.3650 - accuracy: 0.8207WARNING:tensorflow:Can save best model only with val_loss available, skipping.\n",
      " 22/138 [===>..........................] - ETA: 3:10 - loss: 0.3565 - accuracy: 0.8240WARNING:tensorflow:Can save best model only with val_loss available, skipping.\n",
      " 27/138 [====>.........................] - ETA: 3:01 - loss: 0.3538 - accuracy: 0.8228WARNING:tensorflow:Can save best model only with val_loss available, skipping.\n",
      " 32/138 [=====>........................] - ETA: 2:53 - loss: 0.3517 - accuracy: 0.8255WARNING:tensorflow:Can save best model only with val_loss available, skipping.\n",
      " 37/138 [=======>......................] - ETA: 2:45 - loss: 0.3496 - accuracy: 0.8242WARNING:tensorflow:Can save best model only with val_loss available, skipping.\n",
      " 42/138 [========>.....................] - ETA: 2:37 - loss: 0.3485 - accuracy: 0.8230WARNING:tensorflow:Can save best model only with val_loss available, skipping.\n",
      " 47/138 [=========>....................] - ETA: 2:28 - loss: 0.3490 - accuracy: 0.8221WARNING:tensorflow:Can save best model only with val_loss available, skipping.\n",
      " 52/138 [==========>...................] - ETA: 2:20 - loss: 0.3515 - accuracy: 0.8215WARNING:tensorflow:Can save best model only with val_loss available, skipping.\n",
      " 57/138 [===========>..................] - ETA: 2:12 - loss: 0.3506 - accuracy: 0.8226WARNING:tensorflow:Can save best model only with val_loss available, skipping.\n",
      " 62/138 [============>.................] - ETA: 2:05 - loss: 0.3526 - accuracy: 0.8248WARNING:tensorflow:Can save best model only with val_loss available, skipping.\n",
      " 67/138 [=============>................] - ETA: 1:56 - loss: 0.3545 - accuracy: 0.8233WARNING:tensorflow:Can save best model only with val_loss available, skipping.\n"
     ]
    },
    {
     "name": "stdout",
     "output_type": "stream",
     "text": [
      " 72/138 [==============>...............] - ETA: 1:48 - loss: 0.3575 - accuracy: 0.8219WARNING:tensorflow:Can save best model only with val_loss available, skipping.\n",
      " 77/138 [===============>..............] - ETA: 1:40 - loss: 0.3611 - accuracy: 0.8214WARNING:tensorflow:Can save best model only with val_loss available, skipping.\n",
      " 82/138 [================>.............] - ETA: 1:32 - loss: 0.3622 - accuracy: 0.8204WARNING:tensorflow:Can save best model only with val_loss available, skipping.\n",
      " 87/138 [=================>............] - ETA: 1:23 - loss: 0.3623 - accuracy: 0.8207WARNING:tensorflow:Can save best model only with val_loss available, skipping.\n",
      " 92/138 [===================>..........] - ETA: 1:15 - loss: 0.3623 - accuracy: 0.8208WARNING:tensorflow:Can save best model only with val_loss available, skipping.\n",
      " 97/138 [====================>.........] - ETA: 1:07 - loss: 0.3643 - accuracy: 0.8186WARNING:tensorflow:Can save best model only with val_loss available, skipping.\n",
      "102/138 [=====================>........] - ETA: 59s - loss: 0.3662 - accuracy: 0.8184 WARNING:tensorflow:Can save best model only with val_loss available, skipping.\n",
      "107/138 [======================>.......] - ETA: 51s - loss: 0.3650 - accuracy: 0.8190WARNING:tensorflow:Can save best model only with val_loss available, skipping.\n",
      "112/138 [=======================>......] - ETA: 42s - loss: 0.3647 - accuracy: 0.8186WARNING:tensorflow:Can save best model only with val_loss available, skipping.\n",
      "117/138 [========================>.....] - ETA: 34s - loss: 0.3652 - accuracy: 0.8176WARNING:tensorflow:Can save best model only with val_loss available, skipping.\n",
      "122/138 [=========================>....] - ETA: 26s - loss: 0.3669 - accuracy: 0.8178WARNING:tensorflow:Can save best model only with val_loss available, skipping.\n",
      "127/138 [==========================>...] - ETA: 18s - loss: 0.3679 - accuracy: 0.8171WARNING:tensorflow:Can save best model only with val_loss available, skipping.\n",
      "132/138 [===========================>..] - ETA: 9s - loss: 0.3685 - accuracy: 0.8168 WARNING:tensorflow:Can save best model only with val_loss available, skipping.\n",
      "137/138 [============================>.] - ETA: 1s - loss: 0.3676 - accuracy: 0.8176WARNING:tensorflow:Can save best model only with val_loss available, skipping.\n",
      "138/138 [==============================] - 303s 2s/step - loss: 0.3673 - accuracy: 0.8179 - val_loss: 0.3657 - val_accuracy: 0.8321\n",
      "Epoch 6/30\n",
      "  4/138 [..............................] - ETA: 3:47 - loss: 0.3401 - accuracy: 0.8380WARNING:tensorflow:Can save best model only with val_loss available, skipping.\n",
      "  9/138 [>.............................] - ETA: 3:49 - loss: 0.3596 - accuracy: 0.8267WARNING:tensorflow:Can save best model only with val_loss available, skipping.\n",
      " 14/138 [==>...........................] - ETA: 3:37 - loss: 0.3767 - accuracy: 0.8171WARNING:tensorflow:Can save best model only with val_loss available, skipping.\n",
      " 19/138 [===>..........................] - ETA: 3:27 - loss: 0.3698 - accuracy: 0.8278WARNING:tensorflow:Can save best model only with val_loss available, skipping.\n",
      " 24/138 [====>.........................] - ETA: 3:18 - loss: 0.3689 - accuracy: 0.8283WARNING:tensorflow:Can save best model only with val_loss available, skipping.\n",
      " 29/138 [=====>........................] - ETA: 3:08 - loss: 0.3694 - accuracy: 0.8265WARNING:tensorflow:Can save best model only with val_loss available, skipping.\n",
      " 34/138 [======>.......................] - ETA: 2:58 - loss: 0.3707 - accuracy: 0.8273WARNING:tensorflow:Can save best model only with val_loss available, skipping.\n",
      " 39/138 [=======>......................] - ETA: 2:49 - loss: 0.3646 - accuracy: 0.8291WARNING:tensorflow:Can save best model only with val_loss available, skipping.\n",
      " 44/138 [========>.....................] - ETA: 2:40 - loss: 0.3600 - accuracy: 0.8291WARNING:tensorflow:Can save best model only with val_loss available, skipping.\n",
      " 49/138 [=========>....................] - ETA: 2:31 - loss: 0.3635 - accuracy: 0.8282WARNING:tensorflow:Can save best model only with val_loss available, skipping.\n",
      " 54/138 [==========>...................] - ETA: 2:22 - loss: 0.3592 - accuracy: 0.8295WARNING:tensorflow:Can save best model only with val_loss available, skipping.\n",
      " 59/138 [===========>..................] - ETA: 2:14 - loss: 0.3585 - accuracy: 0.8296WARNING:tensorflow:Can save best model only with val_loss available, skipping.\n",
      " 64/138 [============>.................] - ETA: 2:05 - loss: 0.3576 - accuracy: 0.8291WARNING:tensorflow:Can save best model only with val_loss available, skipping.\n",
      " 69/138 [==============>...............] - ETA: 1:57 - loss: 0.3563 - accuracy: 0.8282WARNING:tensorflow:Can save best model only with val_loss available, skipping.\n",
      " 74/138 [===============>..............] - ETA: 1:48 - loss: 0.3537 - accuracy: 0.8291WARNING:tensorflow:Can save best model only with val_loss available, skipping.\n",
      " 79/138 [================>.............] - ETA: 1:40 - loss: 0.3528 - accuracy: 0.8296WARNING:tensorflow:Can save best model only with val_loss available, skipping.\n",
      " 84/138 [=================>............] - ETA: 1:31 - loss: 0.3508 - accuracy: 0.8312WARNING:tensorflow:Can save best model only with val_loss available, skipping.\n",
      " 89/138 [==================>...........] - ETA: 1:22 - loss: 0.3493 - accuracy: 0.8312WARNING:tensorflow:Can save best model only with val_loss available, skipping.\n",
      " 94/138 [===================>..........] - ETA: 1:14 - loss: 0.3477 - accuracy: 0.8314WARNING:tensorflow:Can save best model only with val_loss available, skipping.\n",
      " 99/138 [====================>.........] - ETA: 1:05 - loss: 0.3474 - accuracy: 0.8311WARNING:tensorflow:Can save best model only with val_loss available, skipping.\n",
      "104/138 [=====================>........] - ETA: 57s - loss: 0.3473 - accuracy: 0.8315WARNING:tensorflow:Can save best model only with val_loss available, skipping.\n",
      "109/138 [======================>.......] - ETA: 48s - loss: 0.3478 - accuracy: 0.8327WARNING:tensorflow:Can save best model only with val_loss available, skipping.\n",
      "114/138 [=======================>......] - ETA: 40s - loss: 0.3461 - accuracy: 0.8338WARNING:tensorflow:Can save best model only with val_loss available, skipping.\n",
      "119/138 [========================>.....] - ETA: 32s - loss: 0.3452 - accuracy: 0.8336WARNING:tensorflow:Can save best model only with val_loss available, skipping.\n",
      "124/138 [=========================>....] - ETA: 23s - loss: 0.3437 - accuracy: 0.8345WARNING:tensorflow:Can save best model only with val_loss available, skipping.\n",
      "129/138 [===========================>..] - ETA: 15s - loss: 0.3454 - accuracy: 0.8339WARNING:tensorflow:Can save best model only with val_loss available, skipping.\n",
      "134/138 [============================>.] - ETA: 6s - loss: 0.3463 - accuracy: 0.8335WARNING:tensorflow:Can save best model only with val_loss available, skipping.\n",
      "138/138 [==============================] - ETA: 0s - loss: 0.3479 - accuracy: 0.8328"
     ]
    },
    {
     "name": "stderr",
     "output_type": "stream",
     "text": [
      "Error: command buffer exited with error status.\n",
      "\tThe Metal Performance Shaders operations encoded on it may not have completed.\n",
      "\tError: \n",
      "\t(null)\n",
      "\tDiscarded (victim of GPU error/recovery) (00000005:kIOGPUCommandBufferCallbackErrorInnocentVictim)\n",
      "\t<AGXG13GFamilyCommandBuffer: 0x45e8756b0>\n",
      "    label = <none> \n",
      "    device = <AGXG13GDevice: 0x13158b200>\n",
      "        name = Apple M1 \n",
      "    commandQueue = <AGXG13GFamilyCommandQueue: 0x140683000>\n",
      "        label = <none> \n",
      "        device = <AGXG13GDevice: 0x13158b200>\n",
      "            name = Apple M1 \n",
      "    retainedReferences = 1\n"
     ]
    },
    {
     "name": "stdout",
     "output_type": "stream",
     "text": [
      "138/138 [==============================] - 403s 3s/step - loss: 0.3479 - accuracy: 0.8328 - val_loss: 0.3494 - val_accuracy: 0.8129\n",
      "Epoch 7/30\n",
      "  1/138 [..............................] - ETA: 9:00 - loss: 0.3458 - accuracy: 0.8480WARNING:tensorflow:Can save best model only with val_loss available, skipping.\n",
      "  6/138 [>.............................] - ETA: 8:08 - loss: 0.3386 - accuracy: 0.8280WARNING:tensorflow:Can save best model only with val_loss available, skipping.\n",
      " 11/138 [=>............................] - ETA: 7:50 - loss: 0.3433 - accuracy: 0.8291WARNING:tensorflow:Can save best model only with val_loss available, skipping.\n",
      " 16/138 [==>...........................] - ETA: 7:32 - loss: 0.3423 - accuracy: 0.8290WARNING:tensorflow:Can save best model only with val_loss available, skipping.\n",
      " 21/138 [===>..........................] - ETA: 7:16 - loss: 0.3361 - accuracy: 0.8354WARNING:tensorflow:Can save best model only with val_loss available, skipping.\n",
      " 26/138 [====>.........................] - ETA: 6:57 - loss: 0.3356 - accuracy: 0.8415WARNING:tensorflow:Can save best model only with val_loss available, skipping.\n",
      " 31/138 [=====>........................] - ETA: 6:37 - loss: 0.3321 - accuracy: 0.8418WARNING:tensorflow:Can save best model only with val_loss available, skipping.\n",
      " 36/138 [======>.......................] - ETA: 6:19 - loss: 0.3378 - accuracy: 0.8373WARNING:tensorflow:Can save best model only with val_loss available, skipping.\n",
      " 41/138 [=======>......................] - ETA: 6:02 - loss: 0.3383 - accuracy: 0.8384WARNING:tensorflow:Can save best model only with val_loss available, skipping.\n",
      " 46/138 [=========>....................] - ETA: 5:46 - loss: 0.3425 - accuracy: 0.8402WARNING:tensorflow:Can save best model only with val_loss available, skipping.\n",
      " 51/138 [==========>...................] - ETA: 5:28 - loss: 0.3410 - accuracy: 0.8405WARNING:tensorflow:Can save best model only with val_loss available, skipping.\n",
      " 56/138 [===========>..................] - ETA: 5:10 - loss: 0.3394 - accuracy: 0.8409WARNING:tensorflow:Can save best model only with val_loss available, skipping.\n",
      " 61/138 [============>.................] - ETA: 4:51 - loss: 0.3379 - accuracy: 0.8417WARNING:tensorflow:Can save best model only with val_loss available, skipping.\n",
      " 66/138 [=============>................] - ETA: 4:31 - loss: 0.3383 - accuracy: 0.8424WARNING:tensorflow:Can save best model only with val_loss available, skipping.\n",
      " 71/138 [==============>...............] - ETA: 4:12 - loss: 0.3366 - accuracy: 0.8429WARNING:tensorflow:Can save best model only with val_loss available, skipping.\n",
      " 76/138 [===============>..............] - ETA: 3:53 - loss: 0.3378 - accuracy: 0.8420WARNING:tensorflow:Can save best model only with val_loss available, skipping.\n",
      " 81/138 [================>.............] - ETA: 3:34 - loss: 0.3361 - accuracy: 0.8439WARNING:tensorflow:Can save best model only with val_loss available, skipping.\n",
      " 86/138 [=================>............] - ETA: 3:15 - loss: 0.3355 - accuracy: 0.8438WARNING:tensorflow:Can save best model only with val_loss available, skipping.\n",
      " 91/138 [==================>...........] - ETA: 2:57 - loss: 0.3357 - accuracy: 0.8439WARNING:tensorflow:Can save best model only with val_loss available, skipping.\n",
      " 96/138 [===================>..........] - ETA: 2:38 - loss: 0.3344 - accuracy: 0.8446WARNING:tensorflow:Can save best model only with val_loss available, skipping.\n",
      "101/138 [====================>.........] - ETA: 2:19 - loss: 0.3335 - accuracy: 0.8448WARNING:tensorflow:Can save best model only with val_loss available, skipping.\n",
      "106/138 [======================>.......] - ETA: 2:00 - loss: 0.3329 - accuracy: 0.8442WARNING:tensorflow:Can save best model only with val_loss available, skipping.\n",
      "111/138 [=======================>......] - ETA: 1:41 - loss: 0.3318 - accuracy: 0.8452WARNING:tensorflow:Can save best model only with val_loss available, skipping.\n",
      "116/138 [========================>.....] - ETA: 1:23 - loss: 0.3301 - accuracy: 0.8451WARNING:tensorflow:Can save best model only with val_loss available, skipping.\n",
      "121/138 [=========================>....] - ETA: 1:04 - loss: 0.3314 - accuracy: 0.8442WARNING:tensorflow:Can save best model only with val_loss available, skipping.\n",
      "126/138 [==========================>...] - ETA: 45s - loss: 0.3315 - accuracy: 0.8442WARNING:tensorflow:Can save best model only with val_loss available, skipping.\n",
      "131/138 [===========================>..] - ETA: 26s - loss: 0.3303 - accuracy: 0.8443WARNING:tensorflow:Can save best model only with val_loss available, skipping.\n",
      "136/138 [============================>.] - ETA: 7s - loss: 0.3303 - accuracy: 0.8439 WARNING:tensorflow:Can save best model only with val_loss available, skipping.\n",
      "138/138 [==============================] - 695s 5s/step - loss: 0.3301 - accuracy: 0.8439 - val_loss: 0.3409 - val_accuracy: 0.8437\n",
      "Epoch 8/30\n",
      "  3/138 [..............................] - ETA: 8:20 - loss: 0.2655 - accuracy: 0.8827WARNING:tensorflow:Can save best model only with val_loss available, skipping.\n",
      "  8/138 [>.............................] - ETA: 7:58 - loss: 0.2908 - accuracy: 0.8620WARNING:tensorflow:Can save best model only with val_loss available, skipping.\n",
      " 13/138 [=>............................] - ETA: 7:42 - loss: 0.2865 - accuracy: 0.8671WARNING:tensorflow:Can save best model only with val_loss available, skipping.\n",
      " 18/138 [==>...........................] - ETA: 7:23 - loss: 0.2964 - accuracy: 0.8613WARNING:tensorflow:Can save best model only with val_loss available, skipping.\n",
      " 23/138 [====>.........................] - ETA: 7:04 - loss: 0.2981 - accuracy: 0.8616WARNING:tensorflow:Can save best model only with val_loss available, skipping.\n",
      " 28/138 [=====>........................] - ETA: 6:48 - loss: 0.2964 - accuracy: 0.8600WARNING:tensorflow:Can save best model only with val_loss available, skipping.\n",
      " 33/138 [======>.......................] - ETA: 6:29 - loss: 0.2913 - accuracy: 0.8613WARNING:tensorflow:Can save best model only with val_loss available, skipping.\n",
      " 38/138 [=======>......................] - ETA: 6:09 - loss: 0.2937 - accuracy: 0.8587WARNING:tensorflow:Can save best model only with val_loss available, skipping.\n",
      " 43/138 [========>.....................] - ETA: 5:51 - loss: 0.2934 - accuracy: 0.8588WARNING:tensorflow:Can save best model only with val_loss available, skipping.\n",
      " 48/138 [=========>....................] - ETA: 5:33 - loss: 0.2906 - accuracy: 0.8597WARNING:tensorflow:Can save best model only with val_loss available, skipping.\n",
      " 53/138 [==========>...................] - ETA: 5:15 - loss: 0.2913 - accuracy: 0.8584WARNING:tensorflow:Can save best model only with val_loss available, skipping.\n",
      " 58/138 [===========>..................] - ETA: 4:56 - loss: 0.2910 - accuracy: 0.8589WARNING:tensorflow:Can save best model only with val_loss available, skipping.\n",
      " 63/138 [============>.................] - ETA: 4:37 - loss: 0.2906 - accuracy: 0.8594WARNING:tensorflow:Can save best model only with val_loss available, skipping.\n",
      " 68/138 [=============>................] - ETA: 4:18 - loss: 0.2908 - accuracy: 0.8607WARNING:tensorflow:Can save best model only with val_loss available, skipping.\n",
      " 73/138 [==============>...............] - ETA: 4:00 - loss: 0.2908 - accuracy: 0.8621WARNING:tensorflow:Can save best model only with val_loss available, skipping.\n",
      " 78/138 [===============>..............] - ETA: 3:41 - loss: 0.2930 - accuracy: 0.8609WARNING:tensorflow:Can save best model only with val_loss available, skipping.\n",
      " 83/138 [=================>............] - ETA: 3:23 - loss: 0.2910 - accuracy: 0.8619WARNING:tensorflow:Can save best model only with val_loss available, skipping.\n",
      " 88/138 [==================>...........] - ETA: 3:04 - loss: 0.2918 - accuracy: 0.8607WARNING:tensorflow:Can save best model only with val_loss available, skipping.\n",
      " 93/138 [===================>..........] - ETA: 2:46 - loss: 0.2917 - accuracy: 0.8610WARNING:tensorflow:Can save best model only with val_loss available, skipping.\n",
      " 98/138 [====================>.........] - ETA: 2:28 - loss: 0.2924 - accuracy: 0.8608WARNING:tensorflow:Can save best model only with val_loss available, skipping.\n"
     ]
    },
    {
     "name": "stdout",
     "output_type": "stream",
     "text": [
      "103/138 [=====================>........] - ETA: 2:10 - loss: 0.2923 - accuracy: 0.8613WARNING:tensorflow:Can save best model only with val_loss available, skipping.\n",
      "108/138 [======================>.......] - ETA: 1:51 - loss: 0.2938 - accuracy: 0.8609WARNING:tensorflow:Can save best model only with val_loss available, skipping.\n",
      "113/138 [=======================>......] - ETA: 1:33 - loss: 0.2943 - accuracy: 0.8610WARNING:tensorflow:Can save best model only with val_loss available, skipping.\n",
      "118/138 [========================>.....] - ETA: 1:14 - loss: 0.2947 - accuracy: 0.8614WARNING:tensorflow:Can save best model only with val_loss available, skipping.\n",
      "123/138 [=========================>....] - ETA: 56s - loss: 0.2948 - accuracy: 0.8613WARNING:tensorflow:Can save best model only with val_loss available, skipping.\n",
      "128/138 [==========================>...] - ETA: 37s - loss: 0.2944 - accuracy: 0.8616WARNING:tensorflow:Can save best model only with val_loss available, skipping.\n",
      "133/138 [===========================>..] - ETA: 18s - loss: 0.2936 - accuracy: 0.8617WARNING:tensorflow:Can save best model only with val_loss available, skipping.\n",
      "138/138 [==============================] - 686s 5s/step - loss: 0.2927 - accuracy: 0.8619 - val_loss: 0.3464 - val_accuracy: 0.8501\n",
      "Epoch 9/30\n",
      "WARNING:tensorflow:Can save best model only with val_loss available, skipping.\n",
      "  5/138 [>.............................] - ETA: 8:11 - loss: 0.2713 - accuracy: 0.8736WARNING:tensorflow:Can save best model only with val_loss available, skipping.\n",
      " 10/138 [=>............................] - ETA: 7:54 - loss: 0.2786 - accuracy: 0.8696WARNING:tensorflow:Can save best model only with val_loss available, skipping.\n",
      " 15/138 [==>...........................] - ETA: 7:34 - loss: 0.2821 - accuracy: 0.8693WARNING:tensorflow:Can save best model only with val_loss available, skipping.\n",
      " 20/138 [===>..........................] - ETA: 7:17 - loss: 0.2766 - accuracy: 0.8728WARNING:tensorflow:Can save best model only with val_loss available, skipping.\n",
      " 25/138 [====>.........................] - ETA: 6:58 - loss: 0.3172 - accuracy: 0.8502WARNING:tensorflow:Can save best model only with val_loss available, skipping.\n",
      " 30/138 [=====>........................] - ETA: 6:40 - loss: 0.3065 - accuracy: 0.8576WARNING:tensorflow:Can save best model only with val_loss available, skipping.\n",
      " 35/138 [======>.......................] - ETA: 6:22 - loss: 0.2986 - accuracy: 0.8624WARNING:tensorflow:Can save best model only with val_loss available, skipping.\n",
      " 40/138 [=======>......................] - ETA: 6:03 - loss: 0.2963 - accuracy: 0.8642WARNING:tensorflow:Can save best model only with val_loss available, skipping.\n",
      " 45/138 [========>.....................] - ETA: 5:45 - loss: 0.2914 - accuracy: 0.8667WARNING:tensorflow:Can save best model only with val_loss available, skipping.\n",
      " 50/138 [=========>....................] - ETA: 5:26 - loss: 0.2918 - accuracy: 0.8654WARNING:tensorflow:Can save best model only with val_loss available, skipping.\n",
      " 55/138 [==========>...................] - ETA: 5:08 - loss: 0.2899 - accuracy: 0.8675WARNING:tensorflow:Can save best model only with val_loss available, skipping.\n",
      " 60/138 [============>.................] - ETA: 4:49 - loss: 0.2892 - accuracy: 0.8688WARNING:tensorflow:Can save best model only with val_loss available, skipping.\n",
      " 65/138 [=============>................] - ETA: 4:30 - loss: 0.2892 - accuracy: 0.8688WARNING:tensorflow:Can save best model only with val_loss available, skipping.\n",
      " 70/138 [==============>...............] - ETA: 4:12 - loss: 0.2889 - accuracy: 0.8691WARNING:tensorflow:Can save best model only with val_loss available, skipping.\n",
      " 75/138 [===============>..............] - ETA: 3:53 - loss: 0.2881 - accuracy: 0.8695WARNING:tensorflow:Can save best model only with val_loss available, skipping.\n",
      " 80/138 [================>.............] - ETA: 3:35 - loss: 0.2852 - accuracy: 0.8694WARNING:tensorflow:Can save best model only with val_loss available, skipping.\n",
      " 85/138 [=================>............] - ETA: 3:16 - loss: 0.2854 - accuracy: 0.8702WARNING:tensorflow:Can save best model only with val_loss available, skipping.\n",
      " 90/138 [==================>...........] - ETA: 2:57 - loss: 0.2839 - accuracy: 0.8707WARNING:tensorflow:Can save best model only with val_loss available, skipping.\n",
      " 95/138 [===================>..........] - ETA: 2:39 - loss: 0.2842 - accuracy: 0.8703WARNING:tensorflow:Can save best model only with val_loss available, skipping.\n",
      "100/138 [====================>.........] - ETA: 2:21 - loss: 0.2847 - accuracy: 0.8704WARNING:tensorflow:Can save best model only with val_loss available, skipping.\n",
      "105/138 [=====================>........] - ETA: 2:02 - loss: 0.2855 - accuracy: 0.8709WARNING:tensorflow:Can save best model only with val_loss available, skipping.\n",
      "110/138 [======================>.......] - ETA: 1:44 - loss: 0.2873 - accuracy: 0.8707WARNING:tensorflow:Can save best model only with val_loss available, skipping.\n",
      "115/138 [========================>.....] - ETA: 1:25 - loss: 0.2889 - accuracy: 0.8697WARNING:tensorflow:Can save best model only with val_loss available, skipping.\n",
      "120/138 [=========================>....] - ETA: 1:07 - loss: 0.2893 - accuracy: 0.8699WARNING:tensorflow:Can save best model only with val_loss available, skipping.\n",
      "125/138 [==========================>...] - ETA: 48s - loss: 0.2895 - accuracy: 0.8695WARNING:tensorflow:Can save best model only with val_loss available, skipping.\n",
      "130/138 [===========================>..] - ETA: 29s - loss: 0.2897 - accuracy: 0.8697WARNING:tensorflow:Can save best model only with val_loss available, skipping.\n",
      "135/138 [============================>.] - ETA: 11s - loss: 0.2901 - accuracy: 0.8690WARNING:tensorflow:Can save best model only with val_loss available, skipping.\n",
      "138/138 [==============================] - 681s 5s/step - loss: 0.2904 - accuracy: 0.8689 - val_loss: 0.3309 - val_accuracy: 0.8526\n",
      "Epoch 10/30\n",
      "  2/138 [..............................] - ETA: 8:24 - loss: 0.2365 - accuracy: 0.8960WARNING:tensorflow:Can save best model only with val_loss available, skipping.\n",
      "  7/138 [>.............................] - ETA: 8:09 - loss: 0.2391 - accuracy: 0.8937WARNING:tensorflow:Can save best model only with val_loss available, skipping.\n",
      " 12/138 [=>............................] - ETA: 7:49 - loss: 0.2426 - accuracy: 0.8840WARNING:tensorflow:Can save best model only with val_loss available, skipping.\n",
      " 17/138 [==>...........................] - ETA: 7:31 - loss: 0.2502 - accuracy: 0.8800WARNING:tensorflow:Can save best model only with val_loss available, skipping.\n",
      " 22/138 [===>..........................] - ETA: 7:14 - loss: 0.2526 - accuracy: 0.8822WARNING:tensorflow:Can save best model only with val_loss available, skipping.\n",
      " 27/138 [====>.........................] - ETA: 7:01 - loss: 0.2863 - accuracy: 0.8575WARNING:tensorflow:Can save best model only with val_loss available, skipping.\n",
      " 32/138 [=====>........................] - ETA: 6:47 - loss: 0.2779 - accuracy: 0.8640WARNING:tensorflow:Can save best model only with val_loss available, skipping.\n",
      " 37/138 [=======>......................] - ETA: 6:32 - loss: 0.2744 - accuracy: 0.8662WARNING:tensorflow:Can save best model only with val_loss available, skipping.\n",
      " 42/138 [========>.....................] - ETA: 6:11 - loss: 0.2754 - accuracy: 0.8663WARNING:tensorflow:Can save best model only with val_loss available, skipping.\n",
      " 47/138 [=========>....................] - ETA: 5:52 - loss: 0.2733 - accuracy: 0.8694WARNING:tensorflow:Can save best model only with val_loss available, skipping.\n",
      " 52/138 [==========>...................] - ETA: 5:34 - loss: 0.2708 - accuracy: 0.8709WARNING:tensorflow:Can save best model only with val_loss available, skipping.\n",
      " 57/138 [===========>..................] - ETA: 5:14 - loss: 0.2679 - accuracy: 0.8721WARNING:tensorflow:Can save best model only with val_loss available, skipping.\n",
      " 62/138 [============>.................] - ETA: 4:56 - loss: 0.2664 - accuracy: 0.8733WARNING:tensorflow:Can save best model only with val_loss available, skipping.\n",
      " 67/138 [=============>................] - ETA: 4:37 - loss: 0.2664 - accuracy: 0.8740WARNING:tensorflow:Can save best model only with val_loss available, skipping.\n",
      " 72/138 [==============>...............] - ETA: 4:18 - loss: 0.2647 - accuracy: 0.8761WARNING:tensorflow:Can save best model only with val_loss available, skipping.\n",
      " 77/138 [===============>..............] - ETA: 3:58 - loss: 0.2634 - accuracy: 0.8786WARNING:tensorflow:Can save best model only with val_loss available, skipping.\n",
      " 82/138 [================>.............] - ETA: 3:38 - loss: 0.2636 - accuracy: 0.8783WARNING:tensorflow:Can save best model only with val_loss available, skipping.\n",
      " 87/138 [=================>............] - ETA: 3:19 - loss: 0.2632 - accuracy: 0.8789WARNING:tensorflow:Can save best model only with val_loss available, skipping.\n",
      " 92/138 [===================>..........] - ETA: 2:59 - loss: 0.2730 - accuracy: 0.8740WARNING:tensorflow:Can save best model only with val_loss available, skipping.\n",
      " 97/138 [====================>.........] - ETA: 2:40 - loss: 0.2722 - accuracy: 0.8746WARNING:tensorflow:Can save best model only with val_loss available, skipping.\n",
      "102/138 [=====================>........] - ETA: 2:20 - loss: 0.2747 - accuracy: 0.8736WARNING:tensorflow:Can save best model only with val_loss available, skipping.\n",
      "107/138 [======================>.......] - ETA: 2:01 - loss: 0.2741 - accuracy: 0.8736WARNING:tensorflow:Can save best model only with val_loss available, skipping.\n",
      "112/138 [=======================>......] - ETA: 1:41 - loss: 0.2738 - accuracy: 0.8734WARNING:tensorflow:Can save best model only with val_loss available, skipping.\n",
      "117/138 [========================>.....] - ETA: 1:21 - loss: 0.2752 - accuracy: 0.8741WARNING:tensorflow:Can save best model only with val_loss available, skipping.\n",
      "122/138 [=========================>....] - ETA: 1:02 - loss: 0.2744 - accuracy: 0.8744WARNING:tensorflow:Can save best model only with val_loss available, skipping.\n",
      "127/138 [==========================>...] - ETA: 42s - loss: 0.2728 - accuracy: 0.8748WARNING:tensorflow:Can save best model only with val_loss available, skipping.\n",
      "132/138 [===========================>..] - ETA: 23s - loss: 0.2719 - accuracy: 0.8758WARNING:tensorflow:Can save best model only with val_loss available, skipping.\n",
      "137/138 [============================>.] - ETA: 3s - loss: 0.2702 - accuracy: 0.8768WARNING:tensorflow:Can save best model only with val_loss available, skipping.\n",
      "138/138 [==============================] - 699s 5s/step - loss: 0.2702 - accuracy: 0.8768 - val_loss: 0.4246 - val_accuracy: 0.8384\n",
      "Epoch 11/30\n",
      "  4/138 [..............................] - ETA: 8:15 - loss: 0.3053 - accuracy: 0.8580WARNING:tensorflow:Can save best model only with val_loss available, skipping.\n",
      "  9/138 [>.............................] - ETA: 7:59 - loss: 0.2748 - accuracy: 0.8693WARNING:tensorflow:Can save best model only with val_loss available, skipping.\n",
      " 14/138 [==>...........................] - ETA: 7:43 - loss: 0.2628 - accuracy: 0.8737WARNING:tensorflow:Can save best model only with val_loss available, skipping.\n",
      " 19/138 [===>..........................] - ETA: 7:25 - loss: 0.2615 - accuracy: 0.8775WARNING:tensorflow:Can save best model only with val_loss available, skipping.\n",
      " 24/138 [====>.........................] - ETA: 7:14 - loss: 0.2528 - accuracy: 0.8820WARNING:tensorflow:Can save best model only with val_loss available, skipping.\n",
      " 29/138 [=====>........................] - ETA: 6:56 - loss: 0.2521 - accuracy: 0.8808WARNING:tensorflow:Can save best model only with val_loss available, skipping.\n",
      " 34/138 [======>.......................] - ETA: 6:34 - loss: 0.2509 - accuracy: 0.8816WARNING:tensorflow:Can save best model only with val_loss available, skipping.\n",
      " 39/138 [=======>......................] - ETA: 6:20 - loss: 0.2452 - accuracy: 0.8839WARNING:tensorflow:Can save best model only with val_loss available, skipping.\n",
      " 44/138 [========>.....................] - ETA: 6:04 - loss: 0.2425 - accuracy: 0.8849WARNING:tensorflow:Can save best model only with val_loss available, skipping.\n",
      " 49/138 [=========>....................] - ETA: 5:43 - loss: 0.2420 - accuracy: 0.8857WARNING:tensorflow:Can save best model only with val_loss available, skipping.\n",
      " 54/138 [==========>...................] - ETA: 5:22 - loss: 0.2419 - accuracy: 0.8853WARNING:tensorflow:Can save best model only with val_loss available, skipping.\n",
      " 59/138 [===========>..................] - ETA: 5:02 - loss: 0.2573 - accuracy: 0.8774WARNING:tensorflow:Can save best model only with val_loss available, skipping.\n",
      " 64/138 [============>.................] - ETA: 4:42 - loss: 0.2593 - accuracy: 0.8784WARNING:tensorflow:Can save best model only with val_loss available, skipping.\n",
      " 69/138 [==============>...............] - ETA: 4:23 - loss: 0.2593 - accuracy: 0.8787WARNING:tensorflow:Can save best model only with val_loss available, skipping.\n",
      " 74/138 [===============>..............] - ETA: 4:04 - loss: 0.2605 - accuracy: 0.8794WARNING:tensorflow:Can save best model only with val_loss available, skipping.\n",
      " 79/138 [================>.............] - ETA: 3:45 - loss: 0.2604 - accuracy: 0.8805WARNING:tensorflow:Can save best model only with val_loss available, skipping.\n",
      " 84/138 [=================>............] - ETA: 3:26 - loss: 0.2611 - accuracy: 0.8803WARNING:tensorflow:Can save best model only with val_loss available, skipping.\n",
      " 89/138 [==================>...........] - ETA: 3:07 - loss: 0.2729 - accuracy: 0.8735WARNING:tensorflow:Can save best model only with val_loss available, skipping.\n",
      " 94/138 [===================>..........] - ETA: 2:48 - loss: 0.2717 - accuracy: 0.8753WARNING:tensorflow:Can save best model only with val_loss available, skipping.\n",
      " 99/138 [====================>.........] - ETA: 2:29 - loss: 0.2702 - accuracy: 0.8758WARNING:tensorflow:Can save best model only with val_loss available, skipping.\n",
      "104/138 [=====================>........] - ETA: 2:10 - loss: 0.2707 - accuracy: 0.8770WARNING:tensorflow:Can save best model only with val_loss available, skipping.\n",
      "109/138 [======================>.......] - ETA: 1:51 - loss: 0.2692 - accuracy: 0.8779WARNING:tensorflow:Can save best model only with val_loss available, skipping.\n",
      "114/138 [=======================>......] - ETA: 1:32 - loss: 0.2696 - accuracy: 0.8773WARNING:tensorflow:Can save best model only with val_loss available, skipping.\n",
      "119/138 [========================>.....] - ETA: 1:13 - loss: 0.2695 - accuracy: 0.8775WARNING:tensorflow:Can save best model only with val_loss available, skipping.\n",
      "124/138 [=========================>....] - ETA: 53s - loss: 0.2685 - accuracy: 0.8776WARNING:tensorflow:Can save best model only with val_loss available, skipping.\n",
      "129/138 [===========================>..] - ETA: 34s - loss: 0.2683 - accuracy: 0.8780WARNING:tensorflow:Can save best model only with val_loss available, skipping.\n",
      "134/138 [============================>.] - ETA: 15s - loss: 0.2681 - accuracy: 0.8784WARNING:tensorflow:Can save best model only with val_loss available, skipping.\n",
      "138/138 [==============================] - ETA: 0s - loss: 0.2666 - accuracy: 0.8794"
     ]
    },
    {
     "name": "stderr",
     "output_type": "stream",
     "text": [
      "Error: command buffer exited with error status.\n",
      "\tThe Metal Performance Shaders operations encoded on it may not have completed.\n",
      "\tError: \n",
      "\t(null)\n",
      "\tDiscarded (victim of GPU error/recovery) (00000005:kIOGPUCommandBufferCallbackErrorInnocentVictim)\n",
      "\t<AGXG13GFamilyCommandBuffer: 0x40dd0b4c0>\n",
      "    label = <none> \n",
      "    device = <AGXG13GDevice: 0x13158b200>\n",
      "        name = Apple M1 \n",
      "    commandQueue = <AGXG13GFamilyCommandQueue: 0x140683000>\n",
      "        label = <none> \n",
      "        device = <AGXG13GDevice: 0x13158b200>\n",
      "            name = Apple M1 \n",
      "    retainedReferences = 1\n"
     ]
    },
    {
     "name": "stdout",
     "output_type": "stream",
     "text": [
      "138/138 [==============================] - 702s 5s/step - loss: 0.2666 - accuracy: 0.8794 - val_loss: 0.3744 - val_accuracy: 0.8412\n",
      "Epoch 12/30\n",
      "  1/138 [..............................] - ETA: 10:09 - loss: 0.2909 - accuracy: 0.8800WARNING:tensorflow:Can save best model only with val_loss available, skipping.\n",
      "  6/138 [>.............................] - ETA: 8:37 - loss: 0.2824 - accuracy: 0.8893WARNING:tensorflow:Can save best model only with val_loss available, skipping.\n",
      " 11/138 [=>............................] - ETA: 8:19 - loss: 0.2439 - accuracy: 0.9047WARNING:tensorflow:Can save best model only with val_loss available, skipping.\n",
      " 16/138 [==>...........................] - ETA: 7:50 - loss: 0.2353 - accuracy: 0.9035WARNING:tensorflow:Can save best model only with val_loss available, skipping.\n",
      " 21/138 [===>..........................] - ETA: 7:25 - loss: 0.2351 - accuracy: 0.8979WARNING:tensorflow:Can save best model only with val_loss available, skipping.\n",
      " 26/138 [====>.........................] - ETA: 7:13 - loss: 0.2316 - accuracy: 0.8963WARNING:tensorflow:Can save best model only with val_loss available, skipping.\n",
      " 31/138 [=====>........................] - ETA: 6:54 - loss: 0.2274 - accuracy: 0.8981WARNING:tensorflow:Can save best model only with val_loss available, skipping.\n",
      " 36/138 [======>.......................] - ETA: 6:36 - loss: 0.2235 - accuracy: 0.8989WARNING:tensorflow:Can save best model only with val_loss available, skipping.\n",
      " 41/138 [=======>......................] - ETA: 6:18 - loss: 0.2258 - accuracy: 0.8981WARNING:tensorflow:Can save best model only with val_loss available, skipping.\n",
      " 46/138 [=========>....................] - ETA: 6:00 - loss: 0.2288 - accuracy: 0.8953WARNING:tensorflow:Can save best model only with val_loss available, skipping.\n",
      " 51/138 [==========>...................] - ETA: 5:42 - loss: 0.2315 - accuracy: 0.8951WARNING:tensorflow:Can save best model only with val_loss available, skipping.\n",
      " 56/138 [===========>..................] - ETA: 5:22 - loss: 0.2343 - accuracy: 0.8923WARNING:tensorflow:Can save best model only with val_loss available, skipping.\n",
      " 61/138 [============>.................] - ETA: 5:03 - loss: 0.2329 - accuracy: 0.8923WARNING:tensorflow:Can save best model only with val_loss available, skipping.\n",
      " 66/138 [=============>................] - ETA: 4:43 - loss: 0.2339 - accuracy: 0.8925WARNING:tensorflow:Can save best model only with val_loss available, skipping.\n",
      " 71/138 [==============>...............] - ETA: 4:24 - loss: 0.2311 - accuracy: 0.8927WARNING:tensorflow:Can save best model only with val_loss available, skipping.\n",
      " 76/138 [===============>..............] - ETA: 4:04 - loss: 0.2289 - accuracy: 0.8939WARNING:tensorflow:Can save best model only with val_loss available, skipping.\n",
      " 81/138 [================>.............] - ETA: 3:45 - loss: 0.2286 - accuracy: 0.8939WARNING:tensorflow:Can save best model only with val_loss available, skipping.\n",
      " 86/138 [=================>............] - ETA: 3:25 - loss: 0.2291 - accuracy: 0.8938WARNING:tensorflow:Can save best model only with val_loss available, skipping.\n",
      " 91/138 [==================>...........] - ETA: 3:05 - loss: 0.2387 - accuracy: 0.8881WARNING:tensorflow:Can save best model only with val_loss available, skipping.\n",
      " 96/138 [===================>..........] - ETA: 2:46 - loss: 0.2365 - accuracy: 0.8895WARNING:tensorflow:Can save best model only with val_loss available, skipping.\n",
      "101/138 [====================>.........] - ETA: 2:26 - loss: 0.2362 - accuracy: 0.8900WARNING:tensorflow:Can save best model only with val_loss available, skipping.\n",
      "106/138 [======================>.......] - ETA: 2:06 - loss: 0.2363 - accuracy: 0.8901WARNING:tensorflow:Can save best model only with val_loss available, skipping.\n",
      "111/138 [=======================>......] - ETA: 1:46 - loss: 0.2359 - accuracy: 0.8899WARNING:tensorflow:Can save best model only with val_loss available, skipping.\n",
      "116/138 [========================>.....] - ETA: 1:27 - loss: 0.2355 - accuracy: 0.8909WARNING:tensorflow:Can save best model only with val_loss available, skipping.\n",
      "121/138 [=========================>....] - ETA: 1:07 - loss: 0.2352 - accuracy: 0.8910WARNING:tensorflow:Can save best model only with val_loss available, skipping.\n",
      "126/138 [==========================>...] - ETA: 47s - loss: 0.2345 - accuracy: 0.8915WARNING:tensorflow:Can save best model only with val_loss available, skipping.\n",
      "131/138 [===========================>..] - ETA: 27s - loss: 0.2351 - accuracy: 0.8915WARNING:tensorflow:Can save best model only with val_loss available, skipping.\n",
      "136/138 [============================>.] - ETA: 7s - loss: 0.2377 - accuracy: 0.8906 WARNING:tensorflow:Can save best model only with val_loss available, skipping.\n",
      "138/138 [==============================] - 712s 5s/step - loss: 0.2379 - accuracy: 0.8903 - val_loss: 0.3520 - val_accuracy: 0.8485\n"
     ]
    }
   ],
   "source": [
    "# categorical_crossentropy\n",
    "model.compile(optimizer = tf.keras.optimizers.Adam(learning_rate= 0.001),\n",
    "                  loss = 'categorical_crossentropy',\n",
    "                  metrics=['accuracy'])\n",
    "\n",
    "# 모델 fitting\n",
    "hist_classifi = model.fit(train_images, y_train, epochs = 30, validation_data=(val_images, y_val), batch_size=125, callbacks=[cp_callback, early])"
   ]
  },
  {
   "cell_type": "code",
   "execution_count": 116,
   "metadata": {
    "scrolled": true
   },
   "outputs": [
    {
     "name": "stdout",
     "output_type": "stream",
     "text": [
      "[2.765408754348755, 0.4766216576099396, 0.43473687767982483, 0.40681004524230957, 0.36726346611976624, 0.3479359447956085, 0.3300985097885132, 0.29270341992378235, 0.29037293791770935, 0.2702273428440094, 0.2665938138961792, 0.23785513639450073]\n",
      "[0.7024017572402954, 0.753760039806366, 0.77608722448349, 0.8008044958114624, 0.8178850412368774, 0.8328086733818054, 0.8439431190490723, 0.8618981242179871, 0.868893563747406, 0.876821756362915, 0.8794450163841248, 0.8902879953384399]\n",
      "[0.4254401624202728, 0.4360872209072113, 0.36896374821662903, 0.36420172452926636, 0.36565661430358887, 0.349443644285202, 0.3409099280834198, 0.34644052386283875, 0.33090558648109436, 0.4245726764202118, 0.37438979744911194, 0.3520362377166748]\n",
      "[0.7929345965385437, 0.8156698346138, 0.8247639536857605, 0.8294858336448669, 0.8321091532707214, 0.8128716349601746, 0.8436516523361206, 0.8501224517822266, 0.8525708317756653, 0.8384050726890564, 0.8412032127380371, 0.8485484719276428]\n"
     ]
    }
   ],
   "source": [
    "print(hist_classifi.history['loss'])\n",
    "print(hist_classifi.history['accuracy'])\n",
    "print(hist_classifi.history['val_loss'])\n",
    "print(hist_classifi.history['val_accuracy'])"
   ]
  },
  {
   "cell_type": "code",
   "execution_count": 117,
   "metadata": {},
   "outputs": [
    {
     "data": {
      "image/png": "[encoded data removed]",
      "text/plain": [
       "<Figure size 640x480 with 2 Axes>"
      ]
     },
     "metadata": {},
     "output_type": "display_data"
    }
   ],
   "source": [
    "import matplotlib.pyplot as plt\n",
    "\n",
    "fig, loss_ax = plt.subplots()\n",
    "acc_ax = loss_ax.twinx()\n",
    "\n",
    "loss_ax.plot(hist_classifi.history['loss'], 'y', label='train loss')\n",
    "loss_ax.plot(hist_classifi.history['val_loss'], 'r', label='val loss')\n",
    "loss_ax.set_xlabel('epoch')\n",
    "loss_ax.set_ylabel('loss')\n",
    "loss_ax.legend(loc='upper left')\n",
    "\n",
    "acc_ax.plot(hist_classifi.history['accuracy'], 'b', label='train acc')\n",
    "acc_ax.plot(hist_classifi.history['val_accuracy'], 'g', label='val acc')\n",
    "acc_ax.set_ylabel('accuracy')\n",
    "acc_ax.legend(loc='lower left')\n",
    "\n",
    "plt.show()"
   ]
  },
  {
   "cell_type": "code",
   "execution_count": 44,
   "metadata": {},
   "outputs": [
    {
     "name": "stdout",
     "output_type": "stream",
     "text": [
      "179/179 - 64s - loss: 0.3405 - accuracy: 0.8466 - 64s/epoch - 359ms/step\n",
      "loss:  0.34049415588378906 , acc:  0.8466247320175171\n"
     ]
    }
   ],
   "source": [
    "#모델 검증\n",
    "test_loss, test_acc = model.evaluate(test_images, y_test, verbose=2)\n",
    "print('loss: ', test_loss, ', acc: ', test_acc)  "
   ]
  },
  {
   "cell_type": "code",
   "execution_count": 45,
   "metadata": {},
   "outputs": [],
   "source": [
    "model.save('models/resnet50_1.h5')"
   ]
  },
  {
   "cell_type": "markdown",
   "metadata": {},
   "source": [
    "# ResNet 하위층 일부 재학습"
   ]
  },
  {
   "cell_type": "code",
   "execution_count": 46,
   "metadata": {},
   "outputs": [],
   "source": [
    "base_model = ResNet50(include_top=False, input_shape = (224, 224 ,3), weights = 'imagenet')"
   ]
  },
  {
   "cell_type": "code",
   "execution_count": 47,
   "metadata": {
    "collapsed": true
   },
   "outputs": [
    {
     "name": "stdout",
     "output_type": "stream",
     "text": [
      "conv3_block4_2_bn False\n",
      "conv3_block4_2_relu False\n",
      "conv3_block4_3_conv False\n",
      "conv3_block4_3_bn False\n",
      "conv3_block4_add False\n",
      "conv3_block4_out False\n",
      "conv4_block1_1_conv False\n",
      "conv4_block1_1_bn False\n",
      "conv4_block1_1_relu False\n",
      "conv4_block1_2_conv False\n",
      "conv4_block1_2_bn False\n",
      "conv4_block1_2_relu False\n",
      "conv4_block1_0_conv False\n",
      "conv4_block1_3_conv False\n",
      "conv4_block1_0_bn False\n",
      "conv4_block1_3_bn False\n",
      "conv4_block1_add False\n",
      "conv4_block1_out False\n",
      "conv4_block2_1_conv False\n",
      "conv4_block2_1_bn False\n",
      "conv4_block2_1_relu False\n",
      "conv4_block2_2_conv False\n",
      "conv4_block2_2_bn False\n",
      "conv4_block2_2_relu False\n",
      "conv4_block2_3_conv False\n",
      "conv4_block2_3_bn False\n",
      "conv4_block2_add False\n",
      "conv4_block2_out False\n",
      "conv4_block3_1_conv False\n",
      "conv4_block3_1_bn False\n",
      "conv4_block3_1_relu False\n",
      "conv4_block3_2_conv False\n",
      "conv4_block3_2_bn False\n",
      "conv4_block3_2_relu False\n",
      "conv4_block3_3_conv False\n",
      "conv4_block3_3_bn False\n",
      "conv4_block3_add False\n",
      "conv4_block3_out False\n",
      "conv4_block4_1_conv False\n",
      "conv4_block4_1_bn False\n",
      "conv4_block4_1_relu False\n",
      "conv4_block4_2_conv False\n",
      "conv4_block4_2_bn False\n",
      "conv4_block4_2_relu False\n",
      "conv4_block4_3_conv False\n",
      "conv4_block4_3_bn False\n",
      "conv4_block4_add False\n",
      "conv4_block4_out False\n",
      "conv4_block5_1_conv False\n",
      "conv4_block5_1_bn False\n",
      "conv4_block5_1_relu False\n",
      "conv4_block5_2_conv False\n",
      "conv4_block5_2_bn False\n",
      "conv4_block5_2_relu False\n",
      "conv4_block5_3_conv False\n",
      "conv4_block5_3_bn False\n",
      "conv4_block5_add False\n",
      "conv4_block5_out False\n",
      "conv4_block6_1_conv False\n",
      "conv4_block6_1_bn False\n",
      "conv4_block6_1_relu False\n",
      "conv4_block6_2_conv False\n",
      "conv4_block6_2_bn False\n",
      "conv4_block6_2_relu False\n",
      "conv4_block6_3_conv False\n",
      "conv4_block6_3_bn False\n",
      "conv4_block6_add False\n",
      "conv4_block6_out False\n",
      "conv5_block1_1_conv False\n",
      "conv5_block1_1_bn False\n",
      "conv5_block1_1_relu False\n",
      "conv5_block1_2_conv False\n",
      "conv5_block1_2_bn False\n",
      "conv5_block1_2_relu False\n",
      "conv5_block1_0_conv False\n",
      "conv5_block1_3_conv False\n",
      "conv5_block1_0_bn False\n",
      "conv5_block1_3_bn False\n",
      "conv5_block1_add False\n",
      "conv5_block1_out False\n",
      "conv5_block2_1_conv True\n",
      "conv5_block2_1_bn True\n",
      "conv5_block2_1_relu True\n",
      "conv5_block2_2_conv True\n",
      "conv5_block2_2_bn True\n",
      "conv5_block2_2_relu True\n",
      "conv5_block2_3_conv True\n",
      "conv5_block2_3_bn True\n",
      "conv5_block2_add True\n",
      "conv5_block2_out True\n",
      "conv5_block3_1_conv True\n",
      "conv5_block3_1_bn True\n",
      "conv5_block3_1_relu True\n",
      "conv5_block3_2_conv True\n",
      "conv5_block3_2_bn True\n",
      "conv5_block3_2_relu True\n",
      "conv5_block3_3_conv True\n",
      "conv5_block3_3_bn True\n",
      "conv5_block3_add True\n",
      "conv5_block3_out True\n"
     ]
    }
   ],
   "source": [
    "base_model.trainable = False\n",
    "base_model.trainable = True\n",
    "\n",
    "for layer in base_model.layers[:-20]: \n",
    "  layer.trainable = False\t\t\t\t\n",
    "\n",
    "for layer in base_model.layers[-100:]:\t\n",
    "  print(layer.name, layer.trainable)"
   ]
  },
  {
   "cell_type": "code",
   "execution_count": 48,
   "metadata": {},
   "outputs": [],
   "source": [
    "inputs = tf.keras.Input(shape=(224, 224, 3))\n",
    "\n",
    "x = base_model(inputs, training=False) # batchnorm 부분 update 방지\n",
    "\n",
    "x = tf.keras.layers.Flatten(input_shape=base_model.output_shape[1:])(x)\n",
    "x = tf.keras.layers.Dense(256, activation='relu')(x)\n",
    "x= tf.keras.layers.Dropout(0.5)(x)\n",
    "outputs = tf.keras.layers.Dense(3, activation='softmax')(x)\n",
    "\n",
    "model = tf.keras.Model(inputs, outputs)"
   ]
  },
  {
   "cell_type": "code",
   "execution_count": 49,
   "metadata": {},
   "outputs": [],
   "source": [
    "early = tf.keras.callbacks.EarlyStopping(monitor='val_loss', patience=3)\n",
    "\n",
    "checkpoint_path = \"checkpoints/resnet50_2/cp-{epoch:04d}.ckpt\"\n",
    "checkpoint_dir = os.path.dirname(checkpoint_path)\n",
    "\n",
    "cp_callback = tf.keras.callbacks.ModelCheckpoint(\n",
    "    filepath=checkpoint_path, # 고유한 파일이름 부여 가능 \n",
    "    monitor='val_loss', # val_loss값을 기준으로 최저점일때를 기록하고 싶다면\n",
    "    save_best_only=True, # True를 주면 monitor기준 최고상태 기록\n",
    "    save_weights_only=False, # False면 모델 레이어 및 weight값 모두\n",
    "    save_freq=5 # 체크포인트 저장하는 에폭주기 설정 가능\n",
    ")"
   ]
  },
  {
   "cell_type": "code",
   "execution_count": 50,
   "metadata": {},
   "outputs": [
    {
     "name": "stdout",
     "output_type": "stream",
     "text": [
      "Epoch 1/30\n"
     ]
    },
    {
     "name": "stderr",
     "output_type": "stream",
     "text": [
      "2022-11-28 23:39:18.218458: I tensorflow/core/grappler/optimizers/custom_graph_optimizer_registry.cc:114] Plugin optimizer for device_type GPU is enabled.\n"
     ]
    },
    {
     "name": "stdout",
     "output_type": "stream",
     "text": [
      "  4/138 [..............................] - ETA: 3:54 - loss: 4.5314 - accuracy: 0.4880WARNING:tensorflow:Can save best model only with val_loss available, skipping.\n",
      "  9/138 [>.............................] - ETA: 3:42 - loss: 2.8984 - accuracy: 0.5378WARNING:tensorflow:Can save best model only with val_loss available, skipping.\n",
      " 14/138 [==>...........................] - ETA: 3:34 - loss: 2.1534 - accuracy: 0.5789WARNING:tensorflow:Can save best model only with val_loss available, skipping.\n",
      " 19/138 [===>..........................] - ETA: 3:29 - loss: 1.7353 - accuracy: 0.6215WARNING:tensorflow:Can save best model only with val_loss available, skipping.\n",
      " 24/138 [====>.........................] - ETA: 3:20 - loss: 1.4847 - accuracy: 0.6440WARNING:tensorflow:Can save best model only with val_loss available, skipping.\n",
      " 29/138 [=====>........................] - ETA: 3:11 - loss: 1.3174 - accuracy: 0.6601WARNING:tensorflow:Can save best model only with val_loss available, skipping.\n",
      " 34/138 [======>.......................] - ETA: 3:01 - loss: 1.1981 - accuracy: 0.6736WARNING:tensorflow:Can save best model only with val_loss available, skipping.\n",
      " 39/138 [=======>......................] - ETA: 2:53 - loss: 1.1053 - accuracy: 0.6853WARNING:tensorflow:Can save best model only with val_loss available, skipping.\n",
      " 44/138 [========>.....................] - ETA: 2:45 - loss: 1.0304 - accuracy: 0.6955WARNING:tensorflow:Can save best model only with val_loss available, skipping.\n",
      " 49/138 [=========>....................] - ETA: 2:37 - loss: 0.9725 - accuracy: 0.7030WARNING:tensorflow:Can save best model only with val_loss available, skipping.\n",
      " 54/138 [==========>...................] - ETA: 2:28 - loss: 0.9217 - accuracy: 0.7111WARNING:tensorflow:Can save best model only with val_loss available, skipping.\n",
      " 59/138 [===========>..................] - ETA: 2:20 - loss: 0.8805 - accuracy: 0.7158WARNING:tensorflow:Can save best model only with val_loss available, skipping.\n",
      " 64/138 [============>.................] - ETA: 2:12 - loss: 0.8460 - accuracy: 0.7219WARNING:tensorflow:Can save best model only with val_loss available, skipping.\n",
      " 69/138 [==============>...............] - ETA: 2:03 - loss: 0.8142 - accuracy: 0.7279WARNING:tensorflow:Can save best model only with val_loss available, skipping.\n",
      " 74/138 [===============>..............] - ETA: 1:54 - loss: 0.7869 - accuracy: 0.7337WARNING:tensorflow:Can save best model only with val_loss available, skipping.\n",
      " 79/138 [================>.............] - ETA: 1:45 - loss: 0.7619 - accuracy: 0.7397WARNING:tensorflow:Can save best model only with val_loss available, skipping.\n",
      " 84/138 [=================>............] - ETA: 1:36 - loss: 0.7394 - accuracy: 0.7446WARNING:tensorflow:Can save best model only with val_loss available, skipping.\n",
      " 89/138 [==================>...........] - ETA: 1:28 - loss: 0.7209 - accuracy: 0.7480WARNING:tensorflow:Can save best model only with val_loss available, skipping.\n",
      " 94/138 [===================>..........] - ETA: 1:19 - loss: 0.7023 - accuracy: 0.7518WARNING:tensorflow:Can save best model only with val_loss available, skipping.\n",
      " 99/138 [====================>.........] - ETA: 1:10 - loss: 0.6869 - accuracy: 0.7552WARNING:tensorflow:Can save best model only with val_loss available, skipping.\n",
      "104/138 [=====================>........] - ETA: 1:01 - loss: 0.6731 - accuracy: 0.7582WARNING:tensorflow:Can save best model only with val_loss available, skipping.\n",
      "109/138 [======================>.......] - ETA: 52s - loss: 0.6584 - accuracy: 0.7625WARNING:tensorflow:Can save best model only with val_loss available, skipping.\n",
      "114/138 [=======================>......] - ETA: 43s - loss: 0.6477 - accuracy: 0.7644WARNING:tensorflow:Can save best model only with val_loss available, skipping.\n",
      "119/138 [========================>.....] - ETA: 34s - loss: 0.6364 - accuracy: 0.7658WARNING:tensorflow:Can save best model only with val_loss available, skipping.\n",
      "124/138 [=========================>....] - ETA: 25s - loss: 0.6277 - accuracy: 0.7666WARNING:tensorflow:Can save best model only with val_loss available, skipping.\n",
      "129/138 [===========================>..] - ETA: 16s - loss: 0.6187 - accuracy: 0.7684WARNING:tensorflow:Can save best model only with val_loss available, skipping.\n",
      "134/138 [============================>.] - ETA: 7s - loss: 0.6087 - accuracy: 0.7704WARNING:tensorflow:Can save best model only with val_loss available, skipping.\n",
      "138/138 [==============================] - ETA: 0s - loss: 0.6028 - accuracy: 0.7721"
     ]
    },
    {
     "name": "stderr",
     "output_type": "stream",
     "text": [
      "2022-11-28 23:43:35.424033: I tensorflow/core/grappler/optimizers/custom_graph_optimizer_registry.cc:114] Plugin optimizer for device_type GPU is enabled.\n"
     ]
    },
    {
     "name": "stdout",
     "output_type": "stream",
     "text": [
      "138/138 [==============================] - 330s 2s/step - loss: 0.6028 - accuracy: 0.7721 - val_loss: 0.3427 - val_accuracy: 0.8323\n",
      "Epoch 2/30\n",
      "  1/138 [..............................] - ETA: 4:44 - loss: 0.2965 - accuracy: 0.8320WARNING:tensorflow:Can save best model only with val_loss available, skipping.\n",
      "  6/138 [>.............................] - ETA: 4:00 - loss: 0.3072 - accuracy: 0.8667WARNING:tensorflow:Can save best model only with val_loss available, skipping.\n",
      " 11/138 [=>............................] - ETA: 3:50 - loss: 0.3150 - accuracy: 0.8582WARNING:tensorflow:Can save best model only with val_loss available, skipping.\n",
      " 16/138 [==>...........................] - ETA: 3:41 - loss: 0.3063 - accuracy: 0.8605WARNING:tensorflow:Can save best model only with val_loss available, skipping.\n",
      " 21/138 [===>..........................] - ETA: 3:34 - loss: 0.3004 - accuracy: 0.8613WARNING:tensorflow:Can save best model only with val_loss available, skipping.\n",
      " 26/138 [====>.........................] - ETA: 3:26 - loss: 0.2955 - accuracy: 0.8668WARNING:tensorflow:Can save best model only with val_loss available, skipping.\n",
      " 31/138 [=====>........................] - ETA: 3:16 - loss: 0.2972 - accuracy: 0.8661WARNING:tensorflow:Can save best model only with val_loss available, skipping.\n",
      " 36/138 [======>.......................] - ETA: 3:07 - loss: 0.2994 - accuracy: 0.8651WARNING:tensorflow:Can save best model only with val_loss available, skipping.\n",
      " 41/138 [=======>......................] - ETA: 2:58 - loss: 0.3004 - accuracy: 0.8654WARNING:tensorflow:Can save best model only with val_loss available, skipping.\n",
      " 46/138 [=========>....................] - ETA: 2:48 - loss: 0.3013 - accuracy: 0.8643WARNING:tensorflow:Can save best model only with val_loss available, skipping.\n",
      " 51/138 [==========>...................] - ETA: 2:39 - loss: 0.2988 - accuracy: 0.8648WARNING:tensorflow:Can save best model only with val_loss available, skipping.\n",
      " 56/138 [===========>..................] - ETA: 2:29 - loss: 0.2949 - accuracy: 0.8683WARNING:tensorflow:Can save best model only with val_loss available, skipping.\n",
      " 61/138 [============>.................] - ETA: 2:20 - loss: 0.2935 - accuracy: 0.8687WARNING:tensorflow:Can save best model only with val_loss available, skipping.\n",
      " 66/138 [=============>................] - ETA: 2:11 - loss: 0.2937 - accuracy: 0.8690WARNING:tensorflow:Can save best model only with val_loss available, skipping.\n",
      " 71/138 [==============>...............] - ETA: 2:02 - loss: 0.2946 - accuracy: 0.8682WARNING:tensorflow:Can save best model only with val_loss available, skipping.\n",
      " 76/138 [===============>..............] - ETA: 1:53 - loss: 0.2943 - accuracy: 0.8674WARNING:tensorflow:Can save best model only with val_loss available, skipping.\n",
      " 81/138 [================>.............] - ETA: 1:44 - loss: 0.2948 - accuracy: 0.8671WARNING:tensorflow:Can save best model only with val_loss available, skipping.\n",
      " 86/138 [=================>............] - ETA: 1:34 - loss: 0.2936 - accuracy: 0.8680WARNING:tensorflow:Can save best model only with val_loss available, skipping.\n",
      " 91/138 [==================>...........] - ETA: 1:25 - loss: 0.2925 - accuracy: 0.8684WARNING:tensorflow:Can save best model only with val_loss available, skipping.\n",
      " 96/138 [===================>..........] - ETA: 1:16 - loss: 0.2926 - accuracy: 0.8687WARNING:tensorflow:Can save best model only with val_loss available, skipping.\n",
      "101/138 [====================>.........] - ETA: 1:07 - loss: 0.2924 - accuracy: 0.8688WARNING:tensorflow:Can save best model only with val_loss available, skipping.\n",
      "106/138 [======================>.......] - ETA: 58s - loss: 0.2924 - accuracy: 0.8688 WARNING:tensorflow:Can save best model only with val_loss available, skipping.\n",
      "111/138 [=======================>......] - ETA: 49s - loss: 0.2924 - accuracy: 0.8685WARNING:tensorflow:Can save best model only with val_loss available, skipping.\n",
      "116/138 [========================>.....] - ETA: 40s - loss: 0.2918 - accuracy: 0.8688WARNING:tensorflow:Can save best model only with val_loss available, skipping.\n",
      "121/138 [=========================>....] - ETA: 30s - loss: 0.2911 - accuracy: 0.8689WARNING:tensorflow:Can save best model only with val_loss available, skipping.\n",
      "126/138 [==========================>...] - ETA: 21s - loss: 0.2917 - accuracy: 0.8684WARNING:tensorflow:Can save best model only with val_loss available, skipping.\n",
      "131/138 [===========================>..] - ETA: 12s - loss: 0.2912 - accuracy: 0.8689WARNING:tensorflow:Can save best model only with val_loss available, skipping.\n",
      "136/138 [============================>.] - ETA: 3s - loss: 0.2913 - accuracy: 0.8687WARNING:tensorflow:Can save best model only with val_loss available, skipping.\n",
      "138/138 [==============================] - 317s 2s/step - loss: 0.2909 - accuracy: 0.8691 - val_loss: 0.3217 - val_accuracy: 0.8468\n",
      "Epoch 3/30\n",
      "  3/138 [..............................] - ETA: 4:02 - loss: 0.2174 - accuracy: 0.9120WARNING:tensorflow:Can save best model only with val_loss available, skipping.\n",
      "  8/138 [>.............................] - ETA: 3:53 - loss: 0.2023 - accuracy: 0.9180WARNING:tensorflow:Can save best model only with val_loss available, skipping.\n",
      " 13/138 [=>............................] - ETA: 3:42 - loss: 0.1986 - accuracy: 0.9225WARNING:tensorflow:Can save best model only with val_loss available, skipping.\n",
      " 18/138 [==>...........................] - ETA: 3:33 - loss: 0.1974 - accuracy: 0.9213WARNING:tensorflow:Can save best model only with val_loss available, skipping.\n",
      " 23/138 [====>.........................] - ETA: 3:24 - loss: 0.1956 - accuracy: 0.9193WARNING:tensorflow:Can save best model only with val_loss available, skipping.\n",
      " 28/138 [=====>........................] - ETA: 3:17 - loss: 0.1950 - accuracy: 0.9220WARNING:tensorflow:Can save best model only with val_loss available, skipping.\n",
      " 33/138 [======>.......................] - ETA: 3:08 - loss: 0.1927 - accuracy: 0.9229WARNING:tensorflow:Can save best model only with val_loss available, skipping.\n",
      " 38/138 [=======>......................] - ETA: 2:59 - loss: 0.1933 - accuracy: 0.9223WARNING:tensorflow:Can save best model only with val_loss available, skipping.\n",
      " 43/138 [========>.....................] - ETA: 2:50 - loss: 0.1956 - accuracy: 0.9209WARNING:tensorflow:Can save best model only with val_loss available, skipping.\n",
      " 48/138 [=========>....................] - ETA: 2:41 - loss: 0.1949 - accuracy: 0.9208WARNING:tensorflow:Can save best model only with val_loss available, skipping.\n",
      " 53/138 [==========>...................] - ETA: 2:32 - loss: 0.1910 - accuracy: 0.9224WARNING:tensorflow:Can save best model only with val_loss available, skipping.\n",
      " 58/138 [===========>..................] - ETA: 2:23 - loss: 0.1928 - accuracy: 0.9219WARNING:tensorflow:Can save best model only with val_loss available, skipping.\n",
      " 63/138 [============>.................] - ETA: 2:14 - loss: 0.1938 - accuracy: 0.9219WARNING:tensorflow:Can save best model only with val_loss available, skipping.\n",
      " 68/138 [=============>................] - ETA: 2:06 - loss: 0.1947 - accuracy: 0.9211WARNING:tensorflow:Can save best model only with val_loss available, skipping.\n",
      " 73/138 [==============>...............] - ETA: 1:56 - loss: 0.1935 - accuracy: 0.9213WARNING:tensorflow:Can save best model only with val_loss available, skipping.\n",
      " 78/138 [===============>..............] - ETA: 1:47 - loss: 0.1930 - accuracy: 0.9214WARNING:tensorflow:Can save best model only with val_loss available, skipping.\n",
      " 83/138 [=================>............] - ETA: 1:39 - loss: 0.1931 - accuracy: 0.9216WARNING:tensorflow:Can save best model only with val_loss available, skipping.\n",
      " 88/138 [==================>...........] - ETA: 1:30 - loss: 0.1926 - accuracy: 0.9214WARNING:tensorflow:Can save best model only with val_loss available, skipping.\n",
      " 93/138 [===================>..........] - ETA: 1:21 - loss: 0.1935 - accuracy: 0.9215WARNING:tensorflow:Can save best model only with val_loss available, skipping.\n",
      " 98/138 [====================>.........] - ETA: 1:12 - loss: 0.1950 - accuracy: 0.9210WARNING:tensorflow:Can save best model only with val_loss available, skipping.\n"
     ]
    },
    {
     "name": "stdout",
     "output_type": "stream",
     "text": [
      "103/138 [=====================>........] - ETA: 1:03 - loss: 0.1957 - accuracy: 0.9205WARNING:tensorflow:Can save best model only with val_loss available, skipping.\n",
      "108/138 [======================>.......] - ETA: 54s - loss: 0.1955 - accuracy: 0.9212WARNING:tensorflow:Can save best model only with val_loss available, skipping.\n",
      "113/138 [=======================>......] - ETA: 45s - loss: 0.1960 - accuracy: 0.9206WARNING:tensorflow:Can save best model only with val_loss available, skipping.\n",
      "118/138 [========================>.....] - ETA: 36s - loss: 0.1966 - accuracy: 0.9203WARNING:tensorflow:Can save best model only with val_loss available, skipping.\n",
      "123/138 [=========================>....] - ETA: 27s - loss: 0.1982 - accuracy: 0.9199WARNING:tensorflow:Can save best model only with val_loss available, skipping.\n",
      "128/138 [==========================>...] - ETA: 18s - loss: 0.1990 - accuracy: 0.9193WARNING:tensorflow:Can save best model only with val_loss available, skipping.\n",
      "133/138 [===========================>..] - ETA: 9s - loss: 0.1995 - accuracy: 0.9192 WARNING:tensorflow:Can save best model only with val_loss available, skipping.\n",
      "138/138 [==============================] - 314s 2s/step - loss: 0.2000 - accuracy: 0.9187 - val_loss: 0.3263 - val_accuracy: 0.8526\n",
      "Epoch 4/30\n",
      "WARNING:tensorflow:Can save best model only with val_loss available, skipping.\n",
      "  5/138 [>.............................] - ETA: 3:58 - loss: 0.1328 - accuracy: 0.9568WARNING:tensorflow:Can save best model only with val_loss available, skipping.\n",
      " 10/138 [=>............................] - ETA: 3:50 - loss: 0.1264 - accuracy: 0.9608WARNING:tensorflow:Can save best model only with val_loss available, skipping.\n",
      " 15/138 [==>...........................] - ETA: 3:42 - loss: 0.1268 - accuracy: 0.9568WARNING:tensorflow:Can save best model only with val_loss available, skipping.\n",
      " 20/138 [===>..........................] - ETA: 3:32 - loss: 0.1323 - accuracy: 0.9524WARNING:tensorflow:Can save best model only with val_loss available, skipping.\n",
      " 25/138 [====>.........................] - ETA: 3:23 - loss: 0.1353 - accuracy: 0.9514WARNING:tensorflow:Can save best model only with val_loss available, skipping.\n",
      " 30/138 [=====>........................] - ETA: 3:15 - loss: 0.1315 - accuracy: 0.9525WARNING:tensorflow:Can save best model only with val_loss available, skipping.\n",
      " 35/138 [======>.......................] - ETA: 3:06 - loss: 0.1278 - accuracy: 0.9550WARNING:tensorflow:Can save best model only with val_loss available, skipping.\n",
      " 40/138 [=======>......................] - ETA: 2:56 - loss: 0.1293 - accuracy: 0.9544WARNING:tensorflow:Can save best model only with val_loss available, skipping.\n",
      " 45/138 [========>.....................] - ETA: 2:47 - loss: 0.1298 - accuracy: 0.9540WARNING:tensorflow:Can save best model only with val_loss available, skipping.\n",
      " 50/138 [=========>....................] - ETA: 2:38 - loss: 0.1331 - accuracy: 0.9534WARNING:tensorflow:Can save best model only with val_loss available, skipping.\n",
      " 55/138 [==========>...................] - ETA: 2:29 - loss: 0.1326 - accuracy: 0.9535WARNING:tensorflow:Can save best model only with val_loss available, skipping.\n",
      " 60/138 [============>.................] - ETA: 2:21 - loss: 0.1324 - accuracy: 0.9529WARNING:tensorflow:Can save best model only with val_loss available, skipping.\n",
      " 65/138 [=============>................] - ETA: 2:12 - loss: 0.1339 - accuracy: 0.9518WARNING:tensorflow:Can save best model only with val_loss available, skipping.\n",
      " 70/138 [==============>...............] - ETA: 2:03 - loss: 0.1358 - accuracy: 0.9510WARNING:tensorflow:Can save best model only with val_loss available, skipping.\n",
      " 75/138 [===============>..............] - ETA: 1:54 - loss: 0.1353 - accuracy: 0.9522WARNING:tensorflow:Can save best model only with val_loss available, skipping.\n",
      " 80/138 [================>.............] - ETA: 1:45 - loss: 0.1374 - accuracy: 0.9510WARNING:tensorflow:Can save best model only with val_loss available, skipping.\n",
      " 85/138 [=================>............] - ETA: 1:36 - loss: 0.1376 - accuracy: 0.9511WARNING:tensorflow:Can save best model only with val_loss available, skipping.\n",
      " 90/138 [==================>...........] - ETA: 1:26 - loss: 0.1371 - accuracy: 0.9511WARNING:tensorflow:Can save best model only with val_loss available, skipping.\n",
      " 95/138 [===================>..........] - ETA: 1:17 - loss: 0.1364 - accuracy: 0.9518WARNING:tensorflow:Can save best model only with val_loss available, skipping.\n",
      "100/138 [====================>.........] - ETA: 1:08 - loss: 0.1368 - accuracy: 0.9515WARNING:tensorflow:Can save best model only with val_loss available, skipping.\n",
      "105/138 [=====================>........] - ETA: 59s - loss: 0.1364 - accuracy: 0.9515 WARNING:tensorflow:Can save best model only with val_loss available, skipping.\n",
      "110/138 [======================>.......] - ETA: 50s - loss: 0.1363 - accuracy: 0.9513WARNING:tensorflow:Can save best model only with val_loss available, skipping.\n",
      "115/138 [========================>.....] - ETA: 41s - loss: 0.1357 - accuracy: 0.9515WARNING:tensorflow:Can save best model only with val_loss available, skipping.\n",
      "120/138 [=========================>....] - ETA: 32s - loss: 0.1369 - accuracy: 0.9509WARNING:tensorflow:Can save best model only with val_loss available, skipping.\n",
      "125/138 [==========================>...] - ETA: 23s - loss: 0.1368 - accuracy: 0.9509WARNING:tensorflow:Can save best model only with val_loss available, skipping.\n",
      "130/138 [===========================>..] - ETA: 14s - loss: 0.1387 - accuracy: 0.9501WARNING:tensorflow:Can save best model only with val_loss available, skipping.\n",
      "135/138 [============================>.] - ETA: 5s - loss: 0.1384 - accuracy: 0.9498WARNING:tensorflow:Can save best model only with val_loss available, skipping.\n",
      "138/138 [==============================] - 315s 2s/step - loss: 0.1385 - accuracy: 0.9497 - val_loss: 0.3270 - val_accuracy: 0.8524\n",
      "Epoch 5/30\n",
      "  2/138 [..............................] - ETA: 4:08 - loss: 0.0983 - accuracy: 0.9720WARNING:tensorflow:Can save best model only with val_loss available, skipping.\n",
      "  7/138 [>.............................] - ETA: 3:49 - loss: 0.1004 - accuracy: 0.9703WARNING:tensorflow:Can save best model only with val_loss available, skipping.\n",
      " 12/138 [=>............................] - ETA: 3:40 - loss: 0.0967 - accuracy: 0.9713WARNING:tensorflow:Can save best model only with val_loss available, skipping.\n",
      " 17/138 [==>...........................] - ETA: 3:32 - loss: 0.0954 - accuracy: 0.9699WARNING:tensorflow:Can save best model only with val_loss available, skipping.\n",
      " 22/138 [===>..........................] - ETA: 3:23 - loss: 0.0918 - accuracy: 0.9716WARNING:tensorflow:Can save best model only with val_loss available, skipping.\n",
      " 27/138 [====>.........................] - ETA: 3:14 - loss: 0.0922 - accuracy: 0.9707WARNING:tensorflow:Can save best model only with val_loss available, skipping.\n",
      " 32/138 [=====>........................] - ETA: 3:05 - loss: 0.0883 - accuracy: 0.9710WARNING:tensorflow:Can save best model only with val_loss available, skipping.\n",
      " 37/138 [=======>......................] - ETA: 2:57 - loss: 0.0905 - accuracy: 0.9697WARNING:tensorflow:Can save best model only with val_loss available, skipping.\n",
      " 42/138 [========>.....................] - ETA: 2:48 - loss: 0.0872 - accuracy: 0.9707WARNING:tensorflow:Can save best model only with val_loss available, skipping.\n",
      " 47/138 [=========>....................] - ETA: 2:39 - loss: 0.0848 - accuracy: 0.9717WARNING:tensorflow:Can save best model only with val_loss available, skipping.\n",
      " 52/138 [==========>...................] - ETA: 2:30 - loss: 0.0876 - accuracy: 0.9708WARNING:tensorflow:Can save best model only with val_loss available, skipping.\n",
      " 57/138 [===========>..................] - ETA: 2:22 - loss: 0.0872 - accuracy: 0.9702WARNING:tensorflow:Can save best model only with val_loss available, skipping.\n",
      " 62/138 [============>.................] - ETA: 2:13 - loss: 0.0904 - accuracy: 0.9689WARNING:tensorflow:Can save best model only with val_loss available, skipping.\n",
      " 67/138 [=============>................] - ETA: 2:04 - loss: 0.0922 - accuracy: 0.9681WARNING:tensorflow:Can save best model only with val_loss available, skipping.\n",
      " 72/138 [==============>...............] - ETA: 1:55 - loss: 0.0903 - accuracy: 0.9688WARNING:tensorflow:Can save best model only with val_loss available, skipping.\n",
      " 77/138 [===============>..............] - ETA: 1:46 - loss: 0.0916 - accuracy: 0.9684WARNING:tensorflow:Can save best model only with val_loss available, skipping.\n",
      " 82/138 [================>.............] - ETA: 1:38 - loss: 0.0911 - accuracy: 0.9683WARNING:tensorflow:Can save best model only with val_loss available, skipping.\n",
      " 87/138 [=================>............] - ETA: 1:29 - loss: 0.0911 - accuracy: 0.9685WARNING:tensorflow:Can save best model only with val_loss available, skipping.\n",
      " 92/138 [===================>..........] - ETA: 1:20 - loss: 0.0923 - accuracy: 0.9685WARNING:tensorflow:Can save best model only with val_loss available, skipping.\n",
      " 97/138 [====================>.........] - ETA: 1:11 - loss: 0.0923 - accuracy: 0.9682WARNING:tensorflow:Can save best model only with val_loss available, skipping.\n",
      "102/138 [=====================>........] - ETA: 1:02 - loss: 0.0930 - accuracy: 0.9685WARNING:tensorflow:Can save best model only with val_loss available, skipping.\n",
      "107/138 [======================>.......] - ETA: 54s - loss: 0.0933 - accuracy: 0.9681WARNING:tensorflow:Can save best model only with val_loss available, skipping.\n",
      "112/138 [=======================>......] - ETA: 45s - loss: 0.0931 - accuracy: 0.9685WARNING:tensorflow:Can save best model only with val_loss available, skipping.\n",
      "117/138 [========================>.....] - ETA: 36s - loss: 0.0928 - accuracy: 0.9686WARNING:tensorflow:Can save best model only with val_loss available, skipping.\n",
      "122/138 [=========================>....] - ETA: 27s - loss: 0.0928 - accuracy: 0.9684WARNING:tensorflow:Can save best model only with val_loss available, skipping.\n",
      "127/138 [==========================>...] - ETA: 19s - loss: 0.0932 - accuracy: 0.9682WARNING:tensorflow:Can save best model only with val_loss available, skipping.\n",
      "132/138 [===========================>..] - ETA: 10s - loss: 0.0923 - accuracy: 0.9685WARNING:tensorflow:Can save best model only with val_loss available, skipping.\n",
      "137/138 [============================>.] - ETA: 1s - loss: 0.0929 - accuracy: 0.9683WARNING:tensorflow:Can save best model only with val_loss available, skipping.\n",
      "138/138 [==============================] - 305s 2s/step - loss: 0.0932 - accuracy: 0.9682 - val_loss: 0.3489 - val_accuracy: 0.8667\n"
     ]
    }
   ],
   "source": [
    "model.compile(optimizer = tf.keras.optimizers.Adam( learning_rate= 0.0001),\n",
    "                  loss = 'categorical_crossentropy',\n",
    "                  metrics=['accuracy'])\n",
    "\n",
    "hist_classifi_2 = model.fit(train_images, y_train, epochs = 30, validation_data=(val_images, y_val), batch_size=125, callbacks=[cp_callback, early])"
   ]
  },
  {
   "cell_type": "code",
   "execution_count": 51,
   "metadata": {},
   "outputs": [
    {
     "name": "stdout",
     "output_type": "stream",
     "text": [
      "[0.6028326749801636, 0.290896475315094, 0.20000377297401428, 0.138525128364563, 0.09315317124128342]\n",
      "[0.7720648050308228, 0.869068443775177, 0.9186778664588928, 0.9497493505477905, 0.968170702457428]\n",
      "[0.3427234888076782, 0.3216700553894043, 0.3262627124786377, 0.32697850465774536, 0.3489185571670532]\n",
      "[0.8322840332984924, 0.8467996120452881, 0.8525708317756653, 0.8523959517478943, 0.866736650466919]\n"
     ]
    }
   ],
   "source": [
    "print(hist_classifi_2.history['loss'])\n",
    "print(hist_classifi_2.history['accuracy'])\n",
    "print(hist_classifi_2.history['val_loss'])\n",
    "print(hist_classifi_2.history['val_accuracy'])"
   ]
  },
  {
   "cell_type": "code",
   "execution_count": 68,
   "metadata": {},
   "outputs": [
    {
     "data": {
      "image/png": "[encoded data removed]",
      "text/plain": [
       "<Figure size 640x480 with 2 Axes>"
      ]
     },
     "metadata": {},
     "output_type": "display_data"
    }
   ],
   "source": [
    "import matplotlib.pyplot as plt\n",
    "\n",
    "fig, loss_ax = plt.subplots()\n",
    "acc_ax = loss_ax.twinx()\n",
    "\n",
    "loss_ax.plot(hist_classifi_2.history['loss'], 'y', label='train loss')\n",
    "loss_ax.plot(hist_classifi_2.history['val_loss'], 'r', label='val loss')\n",
    "loss_ax.set_xlabel('epoch')\n",
    "loss_ax.set_ylabel('loss')\n",
    "loss_ax.legend(loc='upper left')\n",
    "\n",
    "acc_ax.plot(hist_classifi_2.history['accuracy'], 'b', label='train acc')\n",
    "acc_ax.plot(hist_classifi_2.history['val_accuracy'], 'g', label='val acc')\n",
    "acc_ax.set_ylabel('accuracy')\n",
    "acc_ax.legend(loc='lower left')\n",
    "\n",
    "plt.show()"
   ]
  },
  {
   "cell_type": "code",
   "execution_count": 53,
   "metadata": {},
   "outputs": [
    {
     "name": "stdout",
     "output_type": "stream",
     "text": [
      "179/179 - 67s - loss: 0.3347 - accuracy: 0.8688 - 67s/epoch - 375ms/step\n",
      "loss:  0.33469370007514954 , acc:  0.8688352704048157\n"
     ]
    }
   ],
   "source": [
    "#모델 검증\n",
    "test_loss, test_acc = model.evaluate(test_images, y_test, verbose=2)\n",
    "print('loss: ', test_loss, ', acc: ', test_acc) "
   ]
  },
  {
   "cell_type": "code",
   "execution_count": 54,
   "metadata": {},
   "outputs": [],
   "source": [
    "model.save('models/resnet50_2.h5')"
   ]
  },
  {
   "cell_type": "markdown",
   "metadata": {},
   "source": [
    "# ResNet 50 전부 재학습"
   ]
  },
  {
   "cell_type": "code",
   "execution_count": 29,
   "metadata": {},
   "outputs": [],
   "source": [
    "base_model = ResNet50(include_top=False, input_shape = (224, 224 ,3), weights = 'imagenet')"
   ]
  },
  {
   "cell_type": "code",
   "execution_count": 30,
   "metadata": {},
   "outputs": [
    {
     "name": "stdout",
     "output_type": "stream",
     "text": [
      "['deserialize', 'elu', 'exponential', 'gelu', 'get', 'hard_sigmoid', 'linear', 'relu', 'selu', 'serialize', 'sigmoid', 'softmax', 'softplus', 'softsign', 'swish', 'tanh']\n",
      "\n",
      "['LeakyReLU', 'PReLU', 'ReLU', 'ThresholdedReLU']\n"
     ]
    }
   ],
   "source": [
    "from tensorflow import keras\n",
    "a= [m for m in dir(keras.activations) if not m.startswith(\"_\")]\n",
    "print(a)\n",
    "print()\n",
    "b = [m for m in dir(keras.layers) if \"relu\" in m.lower()]\n",
    "print(b)"
   ]
  },
  {
   "cell_type": "code",
   "execution_count": 31,
   "metadata": {},
   "outputs": [
    {
     "data": {
      "text/plain": [
       "((17154, 3), (5718, 3), (5718, 3))"
      ]
     },
     "execution_count": 31,
     "metadata": {},
     "output_type": "execute_result"
    }
   ],
   "source": [
    "y_train = tf.keras.utils.to_categorical(train_labels, 3)\n",
    "y_val = tf.keras.utils.to_categorical(val_labels, 3)\n",
    "y_test = tf.keras.utils.to_categorical(test_labels, 3)\n",
    "y_train.shape, y_val.shape, y_test.shape"
   ]
  },
  {
   "cell_type": "code",
   "execution_count": 32,
   "metadata": {},
   "outputs": [],
   "source": [
    "base_model.trainable = True"
   ]
  },
  {
   "cell_type": "code",
   "execution_count": 33,
   "metadata": {},
   "outputs": [],
   "source": [
    "inputs = tf.keras.Input(shape=(224, 224, 3))\n",
    "\n",
    "x = base_model(inputs, training=False)\n",
    "\n",
    "x = tf.keras.layers.Flatten(input_shape=base_model.output_shape[1:])(x)\n",
    "x = tf.keras.layers.Dense(256, activation='LeakyReLU')(x)\n",
    "x= tf.keras.layers.Dropout(0.5)(x)\n",
    "outputs = tf.keras.layers.Dense(3, activation='softmax')(x)\n",
    "\n",
    "model = tf.keras.Model(inputs, outputs)"
   ]
  },
  {
   "cell_type": "code",
   "execution_count": 34,
   "metadata": {},
   "outputs": [],
   "source": [
    "early = tf.keras.callbacks.EarlyStopping(monitor='val_loss', patience=5, min_delta=0.01)\n",
    "\n",
    "checkpoint_path = \"./checkpoints/resnet50_3/cp-2-{epoch:04d}.ckpt\"\n",
    "checkpoint_dir = os.path.dirname(checkpoint_path)\n",
    "\n",
    "cp_callback = tf.keras.callbacks.ModelCheckpoint(\n",
    "    filepath=checkpoint_path, # 고유한 파일이름 부여 가능 \n",
    "    monitor='val_loss', # val_loss값을 기준으로 최저점일때를 기록하고 싶다면\n",
    "    save_best_only=True, # True를 주면 monitor기준 최고상태 기록\n",
    "    save_weights_only=False, # False면 모델 레이어 및 weight값 모두\n",
    "    save_freq='epoch' # 체크포인트 저장하는 에폭주기 설정 가능\n",
    ")\n",
    "\n",
    "model_name = '_ResNet50'\n",
    "current_time = datetime.datetime.now().strftime(\"%Y%m%d\") # Y : 연도 / m : 월 / d : 일 / H : 시 / M : 분 / S : 초\n",
    "\n",
    "log_dir = \"logs/\" + current_time + model_name\n",
    "board_resnet50_tune = tf.keras.callbacks.TensorBoard(log_dir=log_dir, histogram_freq=1) # epoch마다 히스토그램 계산\n",
    "\n",
    "reduce_lr = tf.keras.callbacks.ReduceLROnPlateau(monitor='val_loss', factor=0.1,\n",
    "                              patience=3, min_lr=0)"
   ]
  },
  {
   "cell_type": "code",
   "execution_count": 35,
   "metadata": {},
   "outputs": [
    {
     "name": "stdout",
     "output_type": "stream",
     "text": [
      "Epoch 1/30\n"
     ]
    },
    {
     "name": "stderr",
     "output_type": "stream",
     "text": [
      "2022-11-30 19:03:07.882797: I tensorflow/core/grappler/optimizers/custom_graph_optimizer_registry.cc:114] Plugin optimizer for device_type GPU is enabled.\n"
     ]
    },
    {
     "name": "stdout",
     "output_type": "stream",
     "text": [
      " 28/138 [=====>........................] - ETA: 22:18 - loss: 1.4048 - accuracy: 0.6369"
     ]
    },
    {
     "name": "stderr",
     "output_type": "stream",
     "text": [
      "Error: command buffer exited with error status.\n",
      "\tThe Metal Performance Shaders operations encoded on it may not have completed.\n",
      "\tError: \n",
      "\t(null)\n",
      "\tInternal Error (0000000e:Internal Error)\n",
      "\t<AGXG13GFamilyCommandBuffer: 0x2f54ece80>\n",
      "    label = <none> \n",
      "    device = <AGXG13GDevice: 0x132445400>\n",
      "        name = Apple M1 \n",
      "    commandQueue = <AGXG13GFamilyCommandQueue: 0x17fc18200>\n",
      "        label = <none> \n",
      "        device = <AGXG13GDevice: 0x132445400>\n",
      "            name = Apple M1 \n",
      "    retainedReferences = 1\n"
     ]
    },
    {
     "name": "stdout",
     "output_type": "stream",
     "text": [
      "127/138 [==========================>...] - ETA: 2:06 - loss: 0.7535 - accuracy: 0.7302"
     ]
    },
    {
     "name": "stderr",
     "output_type": "stream",
     "text": [
      "Error: command buffer exited with error status.\n",
      "\tThe Metal Performance Shaders operations encoded on it may not have completed.\n",
      "\tError: \n",
      "\t(null)\n",
      "\tInternal Error (0000000e:Internal Error)\n",
      "\t<AGXG13GFamilyCommandBuffer: 0x6c6ef4800>\n",
      "    label = <none> \n",
      "    device = <AGXG13GDevice: 0x132445400>\n",
      "        name = Apple M1 \n",
      "    commandQueue = <AGXG13GFamilyCommandQueue: 0x17fc18200>\n",
      "        label = <none> \n",
      "        device = <AGXG13GDevice: 0x132445400>\n",
      "            name = Apple M1 \n",
      "    retainedReferences = 1\n"
     ]
    },
    {
     "name": "stdout",
     "output_type": "stream",
     "text": [
      "138/138 [==============================] - ETA: 0s - loss: 0.7297 - accuracy: 0.7357 "
     ]
    },
    {
     "name": "stderr",
     "output_type": "stream",
     "text": [
      "2022-11-30 19:29:47.099999: I tensorflow/core/grappler/optimizers/custom_graph_optimizer_registry.cc:114] Plugin optimizer for device_type GPU is enabled.\n",
      "WARNING:absl:Found untraced functions such as _jit_compiled_convolution_op, _jit_compiled_convolution_op, _jit_compiled_convolution_op, _jit_compiled_convolution_op, _jit_compiled_convolution_op while saving (showing 5 of 55). These functions will not be directly callable after loading.\n"
     ]
    },
    {
     "name": "stdout",
     "output_type": "stream",
     "text": [
      "INFO:tensorflow:Assets written to: ./checkpoints/resnet50_3/cp-2-0001.ckpt/assets\n"
     ]
    },
    {
     "name": "stderr",
     "output_type": "stream",
     "text": [
      "INFO:tensorflow:Assets written to: ./checkpoints/resnet50_3/cp-2-0001.ckpt/assets\n"
     ]
    },
    {
     "name": "stdout",
     "output_type": "stream",
     "text": [
      "138/138 [==============================] - 1751s 13s/step - loss: 0.7297 - accuracy: 0.7357 - val_loss: 0.3924 - val_accuracy: 0.8218 - lr: 1.0000e-05\n",
      "Epoch 2/30\n",
      "138/138 [==============================] - ETA: 0s - loss: 0.3508 - accuracy: 0.8424"
     ]
    },
    {
     "name": "stderr",
     "output_type": "stream",
     "text": [
      "WARNING:absl:Found untraced functions such as _jit_compiled_convolution_op, _jit_compiled_convolution_op, _jit_compiled_convolution_op, _jit_compiled_convolution_op, _jit_compiled_convolution_op while saving (showing 5 of 55). These functions will not be directly callable after loading.\n"
     ]
    },
    {
     "name": "stdout",
     "output_type": "stream",
     "text": [
      "INFO:tensorflow:Assets written to: ./checkpoints/resnet50_3/cp-2-0002.ckpt/assets\n"
     ]
    },
    {
     "name": "stderr",
     "output_type": "stream",
     "text": [
      "INFO:tensorflow:Assets written to: ./checkpoints/resnet50_3/cp-2-0002.ckpt/assets\n"
     ]
    },
    {
     "name": "stdout",
     "output_type": "stream",
     "text": [
      "138/138 [==============================] - 900s 7s/step - loss: 0.3508 - accuracy: 0.8424 - val_loss: 0.3541 - val_accuracy: 0.8354 - lr: 1.0000e-05\n",
      "Epoch 3/30\n",
      "138/138 [==============================] - ETA: 0s - loss: 0.2546 - accuracy: 0.8896"
     ]
    },
    {
     "name": "stderr",
     "output_type": "stream",
     "text": [
      "WARNING:absl:Found untraced functions such as _jit_compiled_convolution_op, _jit_compiled_convolution_op, _jit_compiled_convolution_op, _jit_compiled_convolution_op, _jit_compiled_convolution_op while saving (showing 5 of 55). These functions will not be directly callable after loading.\n"
     ]
    },
    {
     "name": "stdout",
     "output_type": "stream",
     "text": [
      "INFO:tensorflow:Assets written to: ./checkpoints/resnet50_3/cp-2-0003.ckpt/assets\n"
     ]
    },
    {
     "name": "stderr",
     "output_type": "stream",
     "text": [
      "INFO:tensorflow:Assets written to: ./checkpoints/resnet50_3/cp-2-0003.ckpt/assets\n"
     ]
    },
    {
     "name": "stdout",
     "output_type": "stream",
     "text": [
      "138/138 [==============================] - 846s 6s/step - loss: 0.2546 - accuracy: 0.8896 - val_loss: 0.3368 - val_accuracy: 0.8475 - lr: 1.0000e-05\n",
      "Epoch 4/30\n",
      "138/138 [==============================] - ETA: 0s - loss: 0.1847 - accuracy: 0.9257"
     ]
    },
    {
     "name": "stderr",
     "output_type": "stream",
     "text": [
      "WARNING:absl:Found untraced functions such as _jit_compiled_convolution_op, _jit_compiled_convolution_op, _jit_compiled_convolution_op, _jit_compiled_convolution_op, _jit_compiled_convolution_op while saving (showing 5 of 55). These functions will not be directly callable after loading.\n"
     ]
    },
    {
     "name": "stdout",
     "output_type": "stream",
     "text": [
      "INFO:tensorflow:Assets written to: ./checkpoints/resnet50_3/cp-2-0004.ckpt/assets\n"
     ]
    },
    {
     "name": "stderr",
     "output_type": "stream",
     "text": [
      "INFO:tensorflow:Assets written to: ./checkpoints/resnet50_3/cp-2-0004.ckpt/assets\n"
     ]
    },
    {
     "name": "stdout",
     "output_type": "stream",
     "text": [
      "138/138 [==============================] - 845s 6s/step - loss: 0.1847 - accuracy: 0.9257 - val_loss: 0.3361 - val_accuracy: 0.8592 - lr: 1.0000e-05\n",
      "Epoch 5/30\n",
      "138/138 [==============================] - 778s 6s/step - loss: 0.1311 - accuracy: 0.9516 - val_loss: 0.3429 - val_accuracy: 0.8608 - lr: 1.0000e-05\n",
      "Epoch 6/30\n",
      "138/138 [==============================] - 762s 6s/step - loss: 0.0930 - accuracy: 0.9681 - val_loss: 0.3726 - val_accuracy: 0.8687 - lr: 1.0000e-05\n",
      "Epoch 7/30\n",
      "138/138 [==============================] - 1504s 11s/step - loss: 0.0674 - accuracy: 0.9777 - val_loss: 0.4058 - val_accuracy: 0.8618 - lr: 1.0000e-05\n",
      "Epoch 8/30\n",
      "138/138 [==============================] - 762s 6s/step - loss: 0.0448 - accuracy: 0.9879 - val_loss: 0.3725 - val_accuracy: 0.8709 - lr: 1.0000e-06\n"
     ]
    }
   ],
   "source": [
    "model.compile(optimizer = tf.keras.optimizers.Adam( learning_rate= 0.00001),\n",
    "                  loss = 'categorical_crossentropy',\n",
    "                  metrics=['accuracy'])\n",
    "\n",
    "model.trainable = True\n",
    "\n",
    "hist_classifi_3 = model.fit(train_images, y_train, epochs = 30, validation_data=(val_images, y_val)\n",
    "                            , batch_size=125, callbacks=[cp_callback, early, board_resnet50_tune, reduce_lr])"
   ]
  },
  {
   "cell_type": "code",
   "execution_count": 36,
   "metadata": {},
   "outputs": [
    {
     "name": "stdout",
     "output_type": "stream",
     "text": [
      "[0.7296504974365234, 0.3508484959602356, 0.25460588932037354, 0.18473610281944275, 0.13106891512870789, 0.09300900250673294, 0.06736957281827927, 0.04477789252996445]\n",
      "[0.7356884479522705, 0.8424274325370789, 0.8896467089653015, 0.9257315993309021, 0.9516147971153259, 0.9681124091148376, 0.9776728749275208, 0.9879328608512878]\n",
      "[0.3923550546169281, 0.3540952801704407, 0.3368423283100128, 0.33611878752708435, 0.3429426848888397, 0.37263986468315125, 0.40584874153137207, 0.37252020835876465]\n",
      "[0.821790874004364, 0.8354319930076599, 0.8474991321563721, 0.8592165112495422, 0.860790491104126, 0.8686603903770447, 0.8618398308753967, 0.8709338903427124]\n"
     ]
    }
   ],
   "source": [
    "print(hist_classifi_3.history['loss'])\n",
    "print(hist_classifi_3.history['accuracy'])\n",
    "print(hist_classifi_3.history['val_loss'])\n",
    "print(hist_classifi_3.history['val_accuracy'])"
   ]
  },
  {
   "cell_type": "code",
   "execution_count": 37,
   "metadata": {
    "scrolled": true
   },
   "outputs": [
    {
     "data": {
      "image/png": "[encoded data removed]",
      "text/plain": [
       "<Figure size 640x480 with 2 Axes>"
      ]
     },
     "metadata": {},
     "output_type": "display_data"
    }
   ],
   "source": [
    "import matplotlib.pyplot as plt\n",
    "\n",
    "fig, loss_ax = plt.subplots()\n",
    "acc_ax = loss_ax.twinx()\n",
    "\n",
    "loss_ax.plot(hist_classifi_3.history['loss'], 'y', label='train loss')\n",
    "loss_ax.plot(hist_classifi_3.history['val_loss'], 'r', label='val loss')\n",
    "loss_ax.set_xlabel('epoch')\n",
    "loss_ax.set_ylabel('loss')\n",
    "loss_ax.legend(loc='upper left')\n",
    "\n",
    "acc_ax.plot(hist_classifi_3.history['accuracy'], 'b', label='train acc')\n",
    "acc_ax.plot(hist_classifi_3.history['val_accuracy'], 'g', label='val acc')\n",
    "acc_ax.set_ylabel('accuracy')\n",
    "acc_ax.legend(loc='lower left')\n",
    "\n",
    "plt.show()"
   ]
  },
  {
   "cell_type": "code",
   "execution_count": 38,
   "metadata": {},
   "outputs": [
    {
     "name": "stdout",
     "output_type": "stream",
     "text": [
      "179/179 - 70s - loss: 0.3647 - accuracy: 0.8718 - 70s/epoch - 389ms/step\n",
      "loss:  0.3647293150424957 , acc:  0.8718083500862122\n"
     ]
    }
   ],
   "source": [
    "#모델 검증\n",
    "test_loss, test_acc = model.evaluate(test_images, y_test, verbose=2)\n",
    "print('loss: ', test_loss, ', acc: ', test_acc) "
   ]
  },
  {
   "cell_type": "code",
   "execution_count": 39,
   "metadata": {},
   "outputs": [],
   "source": [
    "model.save('models/resnet50_3_tuned1.h5')"
   ]
  },
  {
   "cell_type": "markdown",
   "metadata": {},
   "source": [
    "# ResNet50 find-tune"
   ]
  },
  {
   "cell_type": "code",
   "execution_count": 21,
   "metadata": {},
   "outputs": [],
   "source": [
    "import datetime\n",
    "\n",
    "model_name = '_ResNet50_find_tune'\n",
    "current_time = datetime.datetime.now().strftime(\"%Y%m%d\") # Y : 연도 / m : 월 / d : 일 / H : 시 / M : 분 / S : 초\n",
    "\n",
    "log_dir = \"logs/\" + current_time + model_name\n",
    "board_resnet50_fine = tf.keras.callbacks.TensorBoard(log_dir=log_dir, histogram_freq=1) # epoch마다 히스토그램 계산\n",
    "\n"
   ]
  },
  {
   "cell_type": "code",
   "execution_count": 22,
   "metadata": {},
   "outputs": [],
   "source": [
    "base_model = tf.keras.models.load_model('models/resnet50_1.h5')"
   ]
  },
  {
   "cell_type": "code",
   "execution_count": 23,
   "metadata": {},
   "outputs": [],
   "source": [
    "## fine-tune\n",
    "base_model.trainable = True\n",
    "\n",
    "base_model.compile(optimizer = tf.keras.optimizers.Adam( learning_rate= 0.0001),\n",
    "                loss = 'categorical_crossentropy',\n",
    "                metrics=['accuracy'])"
   ]
  },
  {
   "cell_type": "code",
   "execution_count": 24,
   "metadata": {},
   "outputs": [],
   "source": [
    "early = tf.keras.callbacks.EarlyStopping(monitor='val_loss', patience=3)\n",
    "\n",
    "checkpoint_path = \"/Users/jeonminjeong/Downloads/알파코/프로젝트/이미지인식/checkpoints/resnet50_fine/cp-{epoch:04d}.ckpt\"\n",
    "checkpoint_dir = os.path.dirname(checkpoint_path)\n",
    "\n",
    "cp_callback = tf.keras.callbacks.ModelCheckpoint(\n",
    "    filepath=checkpoint_path, # 고유한 파일이름 부여 가능 \n",
    "    monitor='val_loss', # val_loss값을 기준으로 최저점일때를 기록하고 싶다면\n",
    "    save_best_only=True, # True를 주면 monitor기준 최고상태 기록\n",
    "    save_weights_only=False, # False면 모델 레이어 및 weight값 모두\n",
    "    save_freq='epoch' # 체크포인트 저장하는 에폭주기 설정 가능\n",
    ")\n",
    "\n",
    "def scheduler(epoch, lr):\n",
    "   if epoch < 5:\n",
    "     return lr\n",
    "   else:\n",
    "     return lr * 0.1\n",
    "\n",
    "lr_schedule = tf.keras.callbacks.LearningRateScheduler(scheduler, verbose=0)"
   ]
  },
  {
   "cell_type": "code",
   "execution_count": 25,
   "metadata": {},
   "outputs": [
    {
     "name": "stdout",
     "output_type": "stream",
     "text": [
      "Epoch 1/30\n"
     ]
    },
    {
     "name": "stderr",
     "output_type": "stream",
     "text": [
      "2022-12-01 15:19:02.826239: I tensorflow/core/grappler/optimizers/custom_graph_optimizer_registry.cc:114] Plugin optimizer for device_type GPU is enabled.\n"
     ]
    },
    {
     "name": "stdout",
     "output_type": "stream",
     "text": [
      " 21/138 [===>..........................] - ETA: 10:32 - loss: 0.6734 - accuracy: 0.7360"
     ]
    },
    {
     "name": "stderr",
     "output_type": "stream",
     "text": [
      "Error: command buffer exited with error status.\n",
      "\tThe Metal Performance Shaders operations encoded on it may not have completed.\n",
      "\tError: \n",
      "\t(null)\n",
      "\tInternal Error (0000000e:Internal Error)\n",
      "\t<AGXG13GFamilyCommandBuffer: 0x5616d8bd0>\n",
      "    label = <none> \n",
      "    device = <AGXG13GDevice: 0x105c75600>\n",
      "        name = Apple M1 \n",
      "    commandQueue = <AGXG13GFamilyCommandQueue: 0x38a814e00>\n",
      "        label = <none> \n",
      "        device = <AGXG13GDevice: 0x105c75600>\n",
      "            name = Apple M1 \n",
      "    retainedReferences = 1\n"
     ]
    },
    {
     "name": "stdout",
     "output_type": "stream",
     "text": [
      " 29/138 [=====>........................] - ETA: 13:04 - loss: 0.6198 - accuracy: 0.7528"
     ]
    },
    {
     "name": "stderr",
     "output_type": "stream",
     "text": [
      "Error: command buffer exited with error status.\n",
      "\tThe Metal Performance Shaders operations encoded on it may not have completed.\n",
      "\tError: \n",
      "\t(null)\n",
      "\tInternal Error (0000000e:Internal Error)\n",
      "\t<AGXG13GFamilyCommandBuffer: 0x563279750>\n",
      "    label = <none> \n",
      "    device = <AGXG13GDevice: 0x105c75600>\n",
      "        name = Apple M1 \n",
      "    commandQueue = <AGXG13GFamilyCommandQueue: 0x38a814e00>\n",
      "        label = <none> \n",
      "        device = <AGXG13GDevice: 0x105c75600>\n",
      "            name = Apple M1 \n",
      "    retainedReferences = 1\n"
     ]
    },
    {
     "name": "stdout",
     "output_type": "stream",
     "text": [
      " 31/138 [=====>........................] - ETA: 13:23 - loss: 0.6070 - accuracy: 0.7566"
     ]
    },
    {
     "name": "stderr",
     "output_type": "stream",
     "text": [
      "Error: command buffer exited with error status.\n",
      "\tThe Metal Performance Shaders operations encoded on it may not have completed.\n",
      "\tError: \n",
      "\t(null)\n",
      "\tInternal Error (0000000e:Internal Error)\n",
      "\t<AGXG13GFamilyCommandBuffer: 0x5616dc7c0>\n",
      "    label = <none> \n",
      "    device = <AGXG13GDevice: 0x105c75600>\n",
      "        name = Apple M1 \n",
      "    commandQueue = <AGXG13GFamilyCommandQueue: 0x38a814e00>\n",
      "        label = <none> \n",
      "        device = <AGXG13GDevice: 0x105c75600>\n",
      "            name = Apple M1 \n",
      "    retainedReferences = 1\n"
     ]
    },
    {
     "name": "stdout",
     "output_type": "stream",
     "text": [
      " 56/138 [===========>..................] - ETA: 12:48 - loss: 0.5193 - accuracy: 0.7839"
     ]
    },
    {
     "name": "stderr",
     "output_type": "stream",
     "text": [
      "Error: command buffer exited with error status.\n",
      "\tThe Metal Performance Shaders operations encoded on it may not have completed.\n",
      "\tError: \n",
      "\t(null)\n",
      "\tInternal Error (0000000e:Internal Error)\n",
      "\t<AGXG13GFamilyCommandBuffer: 0x561552c20>\n",
      "    label = <none> \n",
      "    device = <AGXG13GDevice: 0x105c75600>\n",
      "        name = Apple M1 \n",
      "    commandQueue = <AGXG13GFamilyCommandQueue: 0x38a814e00>\n",
      "        label = <none> \n",
      "        device = <AGXG13GDevice: 0x105c75600>\n",
      "            name = Apple M1 \n",
      "    retainedReferences = 1\n"
     ]
    },
    {
     "name": "stdout",
     "output_type": "stream",
     "text": [
      "\b\b\b\b\b\b\b\b\b\b\b\b\b\b\b\b\b\b\b\b\b\b\b\b\b\b\b\b\b\b\b\b\b\b\b\b\b\b\b\b\b\b\b\b\b\b\b\b\b\b\b\b\b\b\b\b\b\b\b\b\b\b\b\b\b\b\b\b\b\b\b\b\b\b\b\b\b\b\b\b\b\b\b\b\b\b\b\r",
      " 57/138 [===========>..................] - ETA: 12:42 - loss: 0.5172 - accuracy: 0.7846"
     ]
    },
    {
     "name": "stderr",
     "output_type": "stream",
     "text": [
      "Error: command buffer exited with error status.\n",
      "\tThe Metal Performance Shaders operations encoded on it may not have completed.\n",
      "\tError: \n",
      "\t(null)\n",
      "\tInternal Error (0000000e:Internal Error)\n",
      "\t<AGXG13GFamilyCommandBuffer: 0x556a986a0>\n",
      "    label = <none> \n",
      "    device = <AGXG13GDevice: 0x105c75600>\n",
      "        name = Apple M1 \n",
      "    commandQueue = <AGXG13GFamilyCommandQueue: 0x38a814e00>\n",
      "        label = <none> \n",
      "        device = <AGXG13GDevice: 0x105c75600>\n",
      "            name = Apple M1 \n",
      "    retainedReferences = 1\n"
     ]
    },
    {
     "name": "stdout",
     "output_type": "stream",
     "text": [
      "138/138 [==============================] - ETA: 0s - loss: 0.4160 - accuracy: 0.8210"
     ]
    },
    {
     "name": "stderr",
     "output_type": "stream",
     "text": [
      "2022-12-01 15:40:22.659542: I tensorflow/core/grappler/optimizers/custom_graph_optimizer_registry.cc:114] Plugin optimizer for device_type GPU is enabled.\n",
      "WARNING:absl:Found untraced functions such as _jit_compiled_convolution_op, _jit_compiled_convolution_op, _jit_compiled_convolution_op, _jit_compiled_convolution_op, _jit_compiled_convolution_op while saving (showing 5 of 53). These functions will not be directly callable after loading.\n"
     ]
    },
    {
     "name": "stdout",
     "output_type": "stream",
     "text": [
      "INFO:tensorflow:Assets written to: /Users/jeonminjeong/Downloads/알파코/프로젝트/이미지인식/checkpoints/resnet50_fine/cp-0001.ckpt/assets\n"
     ]
    },
    {
     "name": "stderr",
     "output_type": "stream",
     "text": [
      "INFO:tensorflow:Assets written to: /Users/jeonminjeong/Downloads/알파코/프로젝트/이미지인식/checkpoints/resnet50_fine/cp-0001.ckpt/assets\n"
     ]
    },
    {
     "name": "stdout",
     "output_type": "stream",
     "text": [
      "138/138 [==============================] - 1381s 10s/step - loss: 0.4160 - accuracy: 0.8210 - val_loss: 0.3506 - val_accuracy: 0.8389 - lr: 1.0000e-04\n",
      "Epoch 2/30\n",
      "138/138 [==============================] - ETA: 0s - loss: 0.2919 - accuracy: 0.8770"
     ]
    },
    {
     "name": "stderr",
     "output_type": "stream",
     "text": [
      "WARNING:absl:Found untraced functions such as _jit_compiled_convolution_op, _jit_compiled_convolution_op, _jit_compiled_convolution_op, _jit_compiled_convolution_op, _jit_compiled_convolution_op while saving (showing 5 of 53). These functions will not be directly callable after loading.\n"
     ]
    },
    {
     "name": "stdout",
     "output_type": "stream",
     "text": [
      "INFO:tensorflow:Assets written to: /Users/jeonminjeong/Downloads/알파코/프로젝트/이미지인식/checkpoints/resnet50_fine/cp-0002.ckpt/assets\n"
     ]
    },
    {
     "name": "stderr",
     "output_type": "stream",
     "text": [
      "INFO:tensorflow:Assets written to: /Users/jeonminjeong/Downloads/알파코/프로젝트/이미지인식/checkpoints/resnet50_fine/cp-0002.ckpt/assets\n"
     ]
    },
    {
     "name": "stdout",
     "output_type": "stream",
     "text": [
      "138/138 [==============================] - 1049s 8s/step - loss: 0.2919 - accuracy: 0.8770 - val_loss: 0.3366 - val_accuracy: 0.8318 - lr: 1.0000e-04\n",
      "Epoch 3/30\n",
      "138/138 [==============================] - ETA: 0s - loss: 0.2511 - accuracy: 0.8979"
     ]
    },
    {
     "name": "stderr",
     "output_type": "stream",
     "text": [
      "WARNING:absl:Found untraced functions such as _jit_compiled_convolution_op, _jit_compiled_convolution_op, _jit_compiled_convolution_op, _jit_compiled_convolution_op, _jit_compiled_convolution_op while saving (showing 5 of 53). These functions will not be directly callable after loading.\n"
     ]
    },
    {
     "name": "stdout",
     "output_type": "stream",
     "text": [
      "INFO:tensorflow:Assets written to: /Users/jeonminjeong/Downloads/알파코/프로젝트/이미지인식/checkpoints/resnet50_fine/cp-0003.ckpt/assets\n"
     ]
    },
    {
     "name": "stderr",
     "output_type": "stream",
     "text": [
      "INFO:tensorflow:Assets written to: /Users/jeonminjeong/Downloads/알파코/프로젝트/이미지인식/checkpoints/resnet50_fine/cp-0003.ckpt/assets\n"
     ]
    },
    {
     "name": "stdout",
     "output_type": "stream",
     "text": [
      "138/138 [==============================] - 855s 6s/step - loss: 0.2511 - accuracy: 0.8979 - val_loss: 0.3242 - val_accuracy: 0.8554 - lr: 1.0000e-04\n",
      "Epoch 4/30\n",
      "138/138 [==============================] - 816s 6s/step - loss: 0.2016 - accuracy: 0.9201 - val_loss: 0.3713 - val_accuracy: 0.8438 - lr: 1.0000e-04\n",
      "Epoch 5/30\n",
      "138/138 [==============================] - 767s 6s/step - loss: 0.1787 - accuracy: 0.9297 - val_loss: 0.3847 - val_accuracy: 0.8543 - lr: 1.0000e-04\n",
      "Epoch 6/30\n",
      "138/138 [==============================] - 840s 6s/step - loss: 0.1055 - accuracy: 0.9632 - val_loss: 0.4073 - val_accuracy: 0.8664 - lr: 1.0000e-05\n"
     ]
    }
   ],
   "source": [
    "hist_classifi_4 = base_model.fit(train_images, y_train, epochs = 30, validation_data=(val_images, y_val)\n",
    "                            , batch_size=125, callbacks=[cp_callback, early, board_resnet50_fine, lr_schedule])"
   ]
  },
  {
   "cell_type": "code",
   "execution_count": 26,
   "metadata": {},
   "outputs": [
    {
     "name": "stdout",
     "output_type": "stream",
     "text": [
      "[0.41599321365356445, 0.2918623685836792, 0.25112032890319824, 0.20160967111587524, 0.17873628437519073, 0.1054941937327385]\n",
      "[0.8209747076034546, 0.876996636390686, 0.8979246616363525, 0.9200769662857056, 0.929695725440979, 0.9632155895233154]\n",
      "[0.35060814023017883, 0.33659639954566956, 0.32416293025016785, 0.37132757902145386, 0.3847469389438629, 0.4072977900505066]\n",
      "[0.8389297127723694, 0.8317593932151794, 0.8553690314292908, 0.8438265323638916, 0.85431969165802, 0.866386890411377]\n"
     ]
    }
   ],
   "source": [
    "print(hist_classifi_4.history['loss'])\n",
    "print(hist_classifi_4.history['accuracy'])\n",
    "print(hist_classifi_4.history['val_loss'])\n",
    "print(hist_classifi_4.history['val_accuracy'])"
   ]
  },
  {
   "cell_type": "code",
   "execution_count": 27,
   "metadata": {},
   "outputs": [
    {
     "data": {
      "image/png": "[encoded data removed]",
      "text/plain": [
       "<Figure size 640x480 with 2 Axes>"
      ]
     },
     "metadata": {},
     "output_type": "display_data"
    }
   ],
   "source": [
    "import matplotlib.pyplot as plt\n",
    "\n",
    "fig, loss_ax = plt.subplots()\n",
    "acc_ax = loss_ax.twinx()\n",
    "\n",
    "loss_ax.plot(hist_classifi_4.history['loss'], 'y', label='train loss')\n",
    "loss_ax.plot(hist_classifi_4.history['val_loss'], 'r', label='val loss')\n",
    "loss_ax.set_xlabel('epoch')\n",
    "loss_ax.set_ylabel('loss')\n",
    "loss_ax.legend(loc='upper left')\n",
    "\n",
    "acc_ax.plot(hist_classifi_4.history['accuracy'], 'b', label='train acc')\n",
    "acc_ax.plot(hist_classifi_4.history['val_accuracy'], 'g', label='val acc')\n",
    "acc_ax.set_ylabel('accuracy')\n",
    "acc_ax.legend(loc='lower left')\n",
    "\n",
    "plt.show()"
   ]
  },
  {
   "cell_type": "code",
   "execution_count": 28,
   "metadata": {},
   "outputs": [
    {
     "name": "stdout",
     "output_type": "stream",
     "text": [
      "179/179 - 72s - loss: 0.3781 - accuracy: 0.8680 - 72s/epoch - 400ms/step\n",
      "loss:  0.3781234622001648 , acc:  0.8679608702659607\n"
     ]
    }
   ],
   "source": [
    "#모델 검증\n",
    "test_loss, test_acc = base_model.evaluate(test_images, y_test, verbose=2)\n",
    "print('loss: ', test_loss, ', acc: ', test_acc) "
   ]
  },
  {
   "cell_type": "code",
   "execution_count": 29,
   "metadata": {},
   "outputs": [],
   "source": [
    "base_model.save('models/resnet50_4.h5')"
   ]
  },
  {
   "cell_type": "markdown",
   "metadata": {},
   "source": [
    "# TensorBoard"
   ]
  },
  {
   "cell_type": "code",
   "execution_count": 7,
   "metadata": {},
   "outputs": [],
   "source": [
    "%load_ext tensorboard"
   ]
  },
  {
   "cell_type": "code",
   "execution_count": 8,
   "metadata": {},
   "outputs": [],
   "source": [
    "import datetime"
   ]
  },
  {
   "cell_type": "code",
   "execution_count": 15,
   "metadata": {},
   "outputs": [],
   "source": [
    "model_name = '_InceptionResNetV2'\n",
    "current_time = datetime.datetime.now().strftime(\"%Y%m%d\") # Y : 연도 / m : 월 / d : 일 / H : 시 / M : 분 / S : 초\n",
    "\n",
    "log_dir = \"logs/\" + current_time + model_name\n",
    "board_inception = tf.keras.callbacks.TensorBoard(log_dir=log_dir, histogram_freq=1) # epoch마다 히스토그램 계산\n"
   ]
  },
  {
   "cell_type": "markdown",
   "metadata": {},
   "source": [
    "# InceptionResNetV2"
   ]
  },
  {
   "cell_type": "markdown",
   "metadata": {},
   "source": [
    "## 분류기만"
   ]
  },
  {
   "cell_type": "code",
   "execution_count": 9,
   "metadata": {},
   "outputs": [],
   "source": [
    "import os"
   ]
  },
  {
   "cell_type": "code",
   "execution_count": 29,
   "metadata": {},
   "outputs": [],
   "source": [
    "train_images = x_train\n",
    "train_labels = y_train\n",
    "val_images = x_val\n",
    "val_labels = y_val\n",
    "test_images = x_test\n",
    "test_labels = y_test"
   ]
  },
  {
   "cell_type": "code",
   "execution_count": 30,
   "metadata": {},
   "outputs": [],
   "source": [
    "import tensorflow as tf\n",
    "\n",
    "base_model = tf.keras.applications.InceptionResNetV2(include_top=False, input_shape = (224, 224 ,3), weights = 'imagenet')\n",
    "\n",
    "base_model.trainable = False\n",
    "\n",
    "y_train = tf.keras.utils.to_categorical(train_labels, 3)\n",
    "y_val = tf.keras.utils.to_categorical(val_labels, 3)\n",
    "y_test = tf.keras.utils.to_categorical(test_labels, 3)\n",
    "y_train.shape, y_test.shape\n",
    "\n",
    "# model.Sequential()없이 모델 구축하는 방법\n",
    "inputs = tf.keras.Input(shape=(224, 224, 3))\n",
    "\n",
    "x = base_model(inputs, training=False)\n",
    "x = tf.keras.layers.Flatten(input_shape=base_model.output_shape[1:])(x)\n",
    "x = tf.keras.layers.Dense(256, activation='relu')(x)\n",
    "x= tf.keras.layers.Dropout(0.5)(x)\n",
    "outputs = tf.keras.layers.Dense(3, activation='softmax')(x)\n",
    "\n",
    "model_inception = tf.keras.Model(inputs, outputs)\n",
    "\n",
    "# categorical_crossentropy\n",
    "model_inception.compile(optimizer = tf.keras.optimizers.Adam(learning_rate= 0.001),\n",
    "                  loss = 'categorical_crossentropy',\n",
    "                  metrics=['accuracy'])"
   ]
  },
  {
   "cell_type": "code",
   "execution_count": 22,
   "metadata": {},
   "outputs": [],
   "source": [
    "early = tf.keras.callbacks.EarlyStopping(monitor='val_loss', patience=3)\n",
    "\n",
    "checkpoint_path = \"/Users/jeonminjeong/Downloads/알파코/프로젝트/이미지인식/checkpoints/inception/cp-1-{epoch:04d}.ckpt\"\n",
    "checkpoint_dir = os.path.dirname(checkpoint_path)\n",
    "\n",
    "cp_callback = tf.keras.callbacks.ModelCheckpoint(\n",
    "    filepath=checkpoint_path, # 고유한 파일이름 부여 가능 \n",
    "    monitor='val_loss', # val_loss값을 기준으로 최저점일때를 기록하고 싶다면\n",
    "    save_best_only=True, # True를 주면 monitor기준 최고상태 기록\n",
    "    save_weights_only=False, # False면 모델 레이어 및 weight값 모두\n",
    "    save_freq='epoch' # 체크포인트 저장하는 에폭주기 설정 가능\n",
    ")"
   ]
  },
  {
   "cell_type": "code",
   "execution_count": 23,
   "metadata": {},
   "outputs": [],
   "source": [
    "def scheduler(epoch, lr):\n",
    "   if epoch < 10:\n",
    "     return lr\n",
    "   else:\n",
    "     return lr * 0.1\n",
    "\n",
    "lr_schedule = tf.keras.callbacks.LearningRateScheduler(scheduler, verbose=0)"
   ]
  },
  {
   "cell_type": "code",
   "execution_count": 31,
   "metadata": {},
   "outputs": [
    {
     "name": "stdout",
     "output_type": "stream",
     "text": [
      "Epoch 1/30\n"
     ]
    },
    {
     "name": "stderr",
     "output_type": "stream",
     "text": [
      "2022-11-29 22:36:25.392546: I tensorflow/core/grappler/optimizers/custom_graph_optimizer_registry.cc:114] Plugin optimizer for device_type GPU is enabled.\n"
     ]
    },
    {
     "name": "stdout",
     "output_type": "stream",
     "text": [
      "138/138 [==============================] - ETA: 0s - loss: 345.3413 - accuracy: 0.3423"
     ]
    },
    {
     "name": "stderr",
     "output_type": "stream",
     "text": [
      "2022-11-29 22:41:04.171690: I tensorflow/core/grappler/optimizers/custom_graph_optimizer_registry.cc:114] Plugin optimizer for device_type GPU is enabled.\n",
      "WARNING:absl:Found untraced functions such as _jit_compiled_convolution_op, _jit_compiled_convolution_op, _jit_compiled_convolution_op, _jit_compiled_convolution_op, _jit_compiled_convolution_op while saving (showing 5 of 244). These functions will not be directly callable after loading.\n"
     ]
    },
    {
     "name": "stdout",
     "output_type": "stream",
     "text": [
      "INFO:tensorflow:Assets written to: /Users/jeonminjeong/Downloads/알파코/프로젝트/이미지인식/checkpoints/inception/cp-1-0001.ckpt/assets\n"
     ]
    },
    {
     "name": "stderr",
     "output_type": "stream",
     "text": [
      "INFO:tensorflow:Assets written to: /Users/jeonminjeong/Downloads/알파코/프로젝트/이미지인식/checkpoints/inception/cp-1-0001.ckpt/assets\n"
     ]
    },
    {
     "name": "stdout",
     "output_type": "stream",
     "text": [
      "138/138 [==============================] - 449s 3s/step - loss: 345.3413 - accuracy: 0.3423 - val_loss: 1.1001 - val_accuracy: 0.3498 - lr: 0.0010\n",
      "Epoch 2/30\n",
      "138/138 [==============================] - ETA: 0s - loss: 3.9782 - accuracy: 0.3502"
     ]
    },
    {
     "name": "stderr",
     "output_type": "stream",
     "text": [
      "WARNING:absl:Found untraced functions such as _jit_compiled_convolution_op, _jit_compiled_convolution_op, _jit_compiled_convolution_op, _jit_compiled_convolution_op, _jit_compiled_convolution_op while saving (showing 5 of 244). These functions will not be directly callable after loading.\n"
     ]
    },
    {
     "name": "stdout",
     "output_type": "stream",
     "text": [
      "INFO:tensorflow:Assets written to: /Users/jeonminjeong/Downloads/알파코/프로젝트/이미지인식/checkpoints/inception/cp-1-0002.ckpt/assets\n"
     ]
    },
    {
     "name": "stderr",
     "output_type": "stream",
     "text": [
      "INFO:tensorflow:Assets written to: /Users/jeonminjeong/Downloads/알파코/프로젝트/이미지인식/checkpoints/inception/cp-1-0002.ckpt/assets\n"
     ]
    },
    {
     "name": "stdout",
     "output_type": "stream",
     "text": [
      "138/138 [==============================] - 436s 3s/step - loss: 3.9782 - accuracy: 0.3502 - val_loss: 1.0990 - val_accuracy: 0.3499 - lr: 0.0010\n",
      "Epoch 3/30\n",
      "138/138 [==============================] - ETA: 0s - loss: 1.0977 - accuracy: 0.3501"
     ]
    },
    {
     "name": "stderr",
     "output_type": "stream",
     "text": [
      "WARNING:absl:Found untraced functions such as _jit_compiled_convolution_op, _jit_compiled_convolution_op, _jit_compiled_convolution_op, _jit_compiled_convolution_op, _jit_compiled_convolution_op while saving (showing 5 of 244). These functions will not be directly callable after loading.\n"
     ]
    },
    {
     "name": "stdout",
     "output_type": "stream",
     "text": [
      "INFO:tensorflow:Assets written to: /Users/jeonminjeong/Downloads/알파코/프로젝트/이미지인식/checkpoints/inception/cp-1-0003.ckpt/assets\n"
     ]
    },
    {
     "name": "stderr",
     "output_type": "stream",
     "text": [
      "INFO:tensorflow:Assets written to: /Users/jeonminjeong/Downloads/알파코/프로젝트/이미지인식/checkpoints/inception/cp-1-0003.ckpt/assets\n"
     ]
    },
    {
     "name": "stdout",
     "output_type": "stream",
     "text": [
      "138/138 [==============================] - 444s 3s/step - loss: 1.0977 - accuracy: 0.3501 - val_loss: 1.0990 - val_accuracy: 0.3499 - lr: 0.0010\n",
      "Epoch 4/30\n",
      "138/138 [==============================] - ETA: 0s - loss: 1.0976 - accuracy: 0.3501"
     ]
    },
    {
     "name": "stderr",
     "output_type": "stream",
     "text": [
      "WARNING:absl:Found untraced functions such as _jit_compiled_convolution_op, _jit_compiled_convolution_op, _jit_compiled_convolution_op, _jit_compiled_convolution_op, _jit_compiled_convolution_op while saving (showing 5 of 244). These functions will not be directly callable after loading.\n"
     ]
    },
    {
     "name": "stdout",
     "output_type": "stream",
     "text": [
      "INFO:tensorflow:Assets written to: /Users/jeonminjeong/Downloads/알파코/프로젝트/이미지인식/checkpoints/inception/cp-1-0004.ckpt/assets\n"
     ]
    },
    {
     "name": "stderr",
     "output_type": "stream",
     "text": [
      "INFO:tensorflow:Assets written to: /Users/jeonminjeong/Downloads/알파코/프로젝트/이미지인식/checkpoints/inception/cp-1-0004.ckpt/assets\n"
     ]
    },
    {
     "name": "stdout",
     "output_type": "stream",
     "text": [
      "138/138 [==============================] - 431s 3s/step - loss: 1.0976 - accuracy: 0.3501 - val_loss: 1.0989 - val_accuracy: 0.3499 - lr: 0.0010\n",
      "Epoch 5/30\n",
      "138/138 [==============================] - ETA: 0s - loss: 1.0976 - accuracy: 0.3501"
     ]
    },
    {
     "name": "stderr",
     "output_type": "stream",
     "text": [
      "WARNING:absl:Found untraced functions such as _jit_compiled_convolution_op, _jit_compiled_convolution_op, _jit_compiled_convolution_op, _jit_compiled_convolution_op, _jit_compiled_convolution_op while saving (showing 5 of 244). These functions will not be directly callable after loading.\n"
     ]
    },
    {
     "name": "stdout",
     "output_type": "stream",
     "text": [
      "INFO:tensorflow:Assets written to: /Users/jeonminjeong/Downloads/알파코/프로젝트/이미지인식/checkpoints/inception/cp-1-0005.ckpt/assets\n"
     ]
    },
    {
     "name": "stderr",
     "output_type": "stream",
     "text": [
      "INFO:tensorflow:Assets written to: /Users/jeonminjeong/Downloads/알파코/프로젝트/이미지인식/checkpoints/inception/cp-1-0005.ckpt/assets\n"
     ]
    },
    {
     "name": "stdout",
     "output_type": "stream",
     "text": [
      "138/138 [==============================] - 429s 3s/step - loss: 1.0976 - accuracy: 0.3501 - val_loss: 1.0989 - val_accuracy: 0.3499 - lr: 0.0010\n",
      "Epoch 6/30\n",
      "138/138 [==============================] - 357s 3s/step - loss: 5.3414 - accuracy: 0.3499 - val_loss: 1.0990 - val_accuracy: 0.3499 - lr: 0.0010\n",
      "Epoch 7/30\n",
      "138/138 [==============================] - 965s 7s/step - loss: 1.0976 - accuracy: 0.3501 - val_loss: 1.0990 - val_accuracy: 0.3499 - lr: 0.0010\n",
      "Epoch 8/30\n",
      "138/138 [==============================] - 1984s 14s/step - loss: 1.0976 - accuracy: 0.3501 - val_loss: 1.0990 - val_accuracy: 0.3499 - lr: 0.0010\n"
     ]
    }
   ],
   "source": [
    "hist_classifi_5 = model_inception.fit(train_images, y_train, epochs = 30, validation_data=(val_images, y_val), batch_size=125\n",
    "                            , callbacks=[cp_callback, early, board_inception, lr_schedule])"
   ]
  },
  {
   "cell_type": "code",
   "execution_count": 32,
   "metadata": {},
   "outputs": [
    {
     "name": "stdout",
     "output_type": "stream",
     "text": [
      "[345.34130859375, 3.978234052658081, 1.097655177116394, 1.0976241827011108, 1.0976179838180542, 5.34135103225708, 1.0976253747940063, 1.0976176261901855]\n",
      "[0.34225255250930786, 0.35023900866508484, 0.3501224219799042, 0.3501224219799042, 0.3501224219799042, 0.3499475419521332, 0.3501224219799042, 0.3501224219799042]\n",
      "[1.100127100944519, 1.0990254878997803, 1.0989556312561035, 1.0989326238632202, 1.0989255905151367, 1.098954439163208, 1.0989532470703125, 1.098953127861023]\n",
      "[0.3497726619243622, 0.3499475419521332, 0.3499475419521332, 0.3499475419521332, 0.3499475419521332, 0.3499475419521332, 0.3499475419521332, 0.3499475419521332]\n"
     ]
    }
   ],
   "source": [
    "print(hist_classifi_5.history['loss'])\n",
    "print(hist_classifi_5.history['accuracy'])\n",
    "print(hist_classifi_5.history['val_loss'])\n",
    "print(hist_classifi_5.history['val_accuracy'])"
   ]
  },
  {
   "cell_type": "code",
   "execution_count": 33,
   "metadata": {},
   "outputs": [
    {
     "data": {
      "image/png": "[encoded data removed]",
      "text/plain": [
       "<Figure size 640x480 with 2 Axes>"
      ]
     },
     "metadata": {},
     "output_type": "display_data"
    }
   ],
   "source": [
    "import matplotlib.pyplot as plt\n",
    "\n",
    "fig, loss_ax = plt.subplots()\n",
    "acc_ax = loss_ax.twinx()\n",
    "\n",
    "loss_ax.plot(hist_classifi_5.history['loss'], 'y', label='train loss')\n",
    "loss_ax.plot(hist_classifi_5.history['val_loss'], 'r', label='val loss')\n",
    "loss_ax.set_xlabel('epoch')\n",
    "loss_ax.set_ylabel('loss')\n",
    "loss_ax.legend(loc='upper left')\n",
    "\n",
    "acc_ax.plot(hist_classifi_5.history['accuracy'], 'b', label='train acc')\n",
    "acc_ax.plot(hist_classifi_5.history['val_accuracy'], 'g', label='val acc')\n",
    "acc_ax.set_ylabel('accuracy')\n",
    "acc_ax.legend(loc='lower left')\n",
    "\n",
    "plt.show()"
   ]
  },
  {
   "cell_type": "code",
   "execution_count": 34,
   "metadata": {},
   "outputs": [
    {
     "name": "stdout",
     "output_type": "stream",
     "text": [
      "179/179 - 690s - loss: 1.0976 - accuracy: 0.3503 - 690s/epoch - 4s/step\n",
      "loss:  1.0975652933120728 , acc:  0.35029730200767517\n"
     ]
    }
   ],
   "source": [
    "#모델 검증\n",
    "test_loss, test_acc = model_inception.evaluate(test_images, y_test, verbose=2)\n",
    "print('loss: ', test_loss, ', acc: ', test_acc) "
   ]
  },
  {
   "cell_type": "code",
   "execution_count": 36,
   "metadata": {},
   "outputs": [],
   "source": [
    "model_inception.save('models/inception1.h5')"
   ]
  },
  {
   "cell_type": "markdown",
   "metadata": {},
   "source": [
    "## 하위층만 학습"
   ]
  },
  {
   "cell_type": "code",
   "execution_count": 37,
   "metadata": {},
   "outputs": [],
   "source": [
    "base_model = tf.keras.applications.InceptionResNetV2(include_top=False, input_shape = (224, 224 ,3), weights = 'imagenet')"
   ]
  },
  {
   "cell_type": "code",
   "execution_count": 38,
   "metadata": {},
   "outputs": [
    {
     "name": "stdout",
     "output_type": "stream",
     "text": [
      "block8_4 False\n",
      "block8_4_ac False\n",
      "conv2d_789 False\n",
      "batch_normalization_789 False\n",
      "activation_789 False\n",
      "conv2d_790 False\n",
      "batch_normalization_790 False\n",
      "activation_790 False\n",
      "conv2d_788 False\n",
      "conv2d_791 False\n",
      "batch_normalization_788 False\n",
      "batch_normalization_791 False\n",
      "activation_788 False\n",
      "activation_791 False\n",
      "block8_5_mixed False\n",
      "block8_5_conv False\n",
      "block8_5 False\n",
      "block8_5_ac False\n",
      "conv2d_793 False\n",
      "batch_normalization_793 False\n",
      "activation_793 False\n",
      "conv2d_794 False\n",
      "batch_normalization_794 False\n",
      "activation_794 False\n",
      "conv2d_792 False\n",
      "conv2d_795 False\n",
      "batch_normalization_792 False\n",
      "batch_normalization_795 False\n",
      "activation_792 False\n",
      "activation_795 False\n",
      "block8_6_mixed False\n",
      "block8_6_conv False\n",
      "block8_6 False\n",
      "block8_6_ac False\n",
      "conv2d_797 False\n",
      "batch_normalization_797 False\n",
      "activation_797 False\n",
      "conv2d_798 False\n",
      "batch_normalization_798 False\n",
      "activation_798 False\n",
      "conv2d_796 False\n",
      "conv2d_799 False\n",
      "batch_normalization_796 False\n",
      "batch_normalization_799 False\n",
      "activation_796 False\n",
      "activation_799 False\n",
      "block8_7_mixed False\n",
      "block8_7_conv False\n",
      "block8_7 False\n",
      "block8_7_ac False\n",
      "conv2d_801 False\n",
      "batch_normalization_801 False\n",
      "activation_801 False\n",
      "conv2d_802 False\n",
      "batch_normalization_802 False\n",
      "activation_802 False\n",
      "conv2d_800 False\n",
      "conv2d_803 False\n",
      "batch_normalization_800 False\n",
      "batch_normalization_803 False\n",
      "activation_800 False\n",
      "activation_803 False\n",
      "block8_8_mixed False\n",
      "block8_8_conv False\n",
      "block8_8 False\n",
      "block8_8_ac False\n",
      "conv2d_805 False\n",
      "batch_normalization_805 False\n",
      "activation_805 False\n",
      "conv2d_806 False\n",
      "batch_normalization_806 False\n",
      "activation_806 False\n",
      "conv2d_804 False\n",
      "conv2d_807 False\n",
      "batch_normalization_804 False\n",
      "batch_normalization_807 False\n",
      "activation_804 False\n",
      "activation_807 False\n",
      "block8_9_mixed False\n",
      "block8_9_conv False\n",
      "block8_9 True\n",
      "block8_9_ac True\n",
      "conv2d_809 True\n",
      "batch_normalization_809 True\n",
      "activation_809 True\n",
      "conv2d_810 True\n",
      "batch_normalization_810 True\n",
      "activation_810 True\n",
      "conv2d_808 True\n",
      "conv2d_811 True\n",
      "batch_normalization_808 True\n",
      "batch_normalization_811 True\n",
      "activation_808 True\n",
      "activation_811 True\n",
      "block8_10_mixed True\n",
      "block8_10_conv True\n",
      "block8_10 True\n",
      "conv_7b True\n",
      "conv_7b_bn True\n",
      "conv_7b_ac True\n"
     ]
    }
   ],
   "source": [
    "base_model.trainable = False\n",
    "base_model.trainable = True\n",
    "\n",
    "for layer in base_model.layers[:-20]: \n",
    "  layer.trainable = False\t\t\t\t\n",
    "\n",
    "for layer in base_model.layers[-100:]:\t\n",
    "  print(layer.name, layer.trainable)"
   ]
  },
  {
   "cell_type": "code",
   "execution_count": 39,
   "metadata": {},
   "outputs": [],
   "source": [
    "inputs = tf.keras.Input(shape=(224, 224, 3))\n",
    "\n",
    "x = base_model(inputs, training=False) # batchnorm 부분 update 방지\n",
    "\n",
    "x = tf.keras.layers.Flatten(input_shape=base_model.output_shape[1:])(x)\n",
    "x = tf.keras.layers.Dense(256, activation='relu')(x)\n",
    "x= tf.keras.layers.Dropout(0.5)(x)\n",
    "outputs = tf.keras.layers.Dense(3, activation='softmax')(x)\n",
    "\n",
    "model_inception_2 = tf.keras.Model(inputs, outputs)"
   ]
  },
  {
   "cell_type": "code",
   "execution_count": 40,
   "metadata": {},
   "outputs": [],
   "source": [
    "model_inception_2.compile(optimizer = tf.keras.optimizers.Adam( learning_rate= 0.0001),\n",
    "                  loss = 'categorical_crossentropy',\n",
    "                  metrics=['accuracy'])"
   ]
  },
  {
   "cell_type": "code",
   "execution_count": 41,
   "metadata": {},
   "outputs": [],
   "source": [
    "early = tf.keras.callbacks.EarlyStopping(monitor='val_loss', patience=3)\n",
    "\n",
    "checkpoint_path = \"/Users/jeonminjeong/Downloads/알파코/프로젝트/이미지인식/checkpoints/inception/cp-2-{epoch:04d}.ckpt\"\n",
    "checkpoint_dir = os.path.dirname(checkpoint_path)\n",
    "\n",
    "cp_callback = tf.keras.callbacks.ModelCheckpoint(\n",
    "    filepath=checkpoint_path, # 고유한 파일이름 부여 가능 \n",
    "    monitor='val_loss', # val_loss값을 기준으로 최저점일때를 기록하고 싶다면\n",
    "    save_best_only=True, # True를 주면 monitor기준 최고상태 기록\n",
    "    save_weights_only=False, # False면 모델 레이어 및 weight값 모두\n",
    "    save_freq='epoch' # 체크포인트 저장하는 에폭주기 설정 가능\n",
    ")\n",
    "\n",
    "def scheduler(epoch, lr):\n",
    "   if epoch < 10:\n",
    "     return lr\n",
    "   else:\n",
    "     return lr * 0.1\n",
    "\n",
    "lr_schedule = tf.keras.callbacks.LearningRateScheduler(scheduler, verbose=0)"
   ]
  },
  {
   "cell_type": "code",
   "execution_count": 42,
   "metadata": {},
   "outputs": [],
   "source": [
    "model_name = '_InceptionResNetV2_2'\n",
    "current_time = datetime.datetime.now().strftime(\"%Y%m%d\") # Y : 연도 / m : 월 / d : 일 / H : 시 / M : 분 / S : 초\n",
    "\n",
    "log_dir = \"logs/\" + current_time + model_name\n",
    "board_inception2 = tf.keras.callbacks.TensorBoard(log_dir=log_dir, histogram_freq=1) # epoch마다 히스토그램 계산"
   ]
  },
  {
   "cell_type": "code",
   "execution_count": 43,
   "metadata": {},
   "outputs": [
    {
     "name": "stdout",
     "output_type": "stream",
     "text": [
      "Epoch 1/30\n"
     ]
    },
    {
     "name": "stderr",
     "output_type": "stream",
     "text": [
      "2022-11-30 01:43:32.138414: I tensorflow/core/grappler/optimizers/custom_graph_optimizer_registry.cc:114] Plugin optimizer for device_type GPU is enabled.\n"
     ]
    },
    {
     "name": "stdout",
     "output_type": "stream",
     "text": [
      "138/138 [==============================] - ETA: 0s - loss: 34.0495 - accuracy: 0.3540"
     ]
    },
    {
     "name": "stderr",
     "output_type": "stream",
     "text": [
      "2022-11-30 01:48:07.777716: I tensorflow/core/grappler/optimizers/custom_graph_optimizer_registry.cc:114] Plugin optimizer for device_type GPU is enabled.\n",
      "WARNING:absl:Found untraced functions such as _jit_compiled_convolution_op, _jit_compiled_convolution_op, _jit_compiled_convolution_op, _jit_compiled_convolution_op, _jit_compiled_convolution_op while saving (showing 5 of 244). These functions will not be directly callable after loading.\n"
     ]
    },
    {
     "name": "stdout",
     "output_type": "stream",
     "text": [
      "INFO:tensorflow:Assets written to: /Users/jeonminjeong/Downloads/알파코/프로젝트/이미지인식/checkpoints/inception/cp-2-0001.ckpt/assets\n"
     ]
    },
    {
     "name": "stderr",
     "output_type": "stream",
     "text": [
      "INFO:tensorflow:Assets written to: /Users/jeonminjeong/Downloads/알파코/프로젝트/이미지인식/checkpoints/inception/cp-2-0001.ckpt/assets\n"
     ]
    },
    {
     "name": "stdout",
     "output_type": "stream",
     "text": [
      "138/138 [==============================] - 447s 3s/step - loss: 34.0495 - accuracy: 0.3540 - val_loss: 1.0984 - val_accuracy: 0.3501 - lr: 1.0000e-04\n",
      "Epoch 2/30\n",
      "138/138 [==============================] - 345s 3s/step - loss: 1.0986 - accuracy: 0.3504 - val_loss: 1.0984 - val_accuracy: 0.3501 - lr: 1.0000e-04\n",
      "Epoch 3/30\n",
      "138/138 [==============================] - ETA: 0s - loss: 1.0984 - accuracy: 0.3501"
     ]
    },
    {
     "name": "stderr",
     "output_type": "stream",
     "text": [
      "WARNING:absl:Found untraced functions such as _jit_compiled_convolution_op, _jit_compiled_convolution_op, _jit_compiled_convolution_op, _jit_compiled_convolution_op, _jit_compiled_convolution_op while saving (showing 5 of 244). These functions will not be directly callable after loading.\n"
     ]
    },
    {
     "name": "stdout",
     "output_type": "stream",
     "text": [
      "INFO:tensorflow:Assets written to: /Users/jeonminjeong/Downloads/알파코/프로젝트/이미지인식/checkpoints/inception/cp-2-0003.ckpt/assets\n"
     ]
    },
    {
     "name": "stderr",
     "output_type": "stream",
     "text": [
      "INFO:tensorflow:Assets written to: /Users/jeonminjeong/Downloads/알파코/프로젝트/이미지인식/checkpoints/inception/cp-2-0003.ckpt/assets\n"
     ]
    },
    {
     "name": "stdout",
     "output_type": "stream",
     "text": [
      "138/138 [==============================] - 1323s 10s/step - loss: 1.0984 - accuracy: 0.3501 - val_loss: 1.0983 - val_accuracy: 0.3501 - lr: 1.0000e-04\n",
      "Epoch 4/30\n",
      "138/138 [==============================] - ETA: 0s - loss: 1.0984 - accuracy: 0.3501"
     ]
    },
    {
     "name": "stderr",
     "output_type": "stream",
     "text": [
      "WARNING:absl:Found untraced functions such as _jit_compiled_convolution_op, _jit_compiled_convolution_op, _jit_compiled_convolution_op, _jit_compiled_convolution_op, _jit_compiled_convolution_op while saving (showing 5 of 244). These functions will not be directly callable after loading.\n"
     ]
    },
    {
     "name": "stdout",
     "output_type": "stream",
     "text": [
      "INFO:tensorflow:Assets written to: /Users/jeonminjeong/Downloads/알파코/프로젝트/이미지인식/checkpoints/inception/cp-2-0004.ckpt/assets\n"
     ]
    },
    {
     "name": "stderr",
     "output_type": "stream",
     "text": [
      "INFO:tensorflow:Assets written to: /Users/jeonminjeong/Downloads/알파코/프로젝트/이미지인식/checkpoints/inception/cp-2-0004.ckpt/assets\n"
     ]
    },
    {
     "name": "stdout",
     "output_type": "stream",
     "text": [
      "138/138 [==============================] - 601s 4s/step - loss: 1.0984 - accuracy: 0.3501 - val_loss: 1.0982 - val_accuracy: 0.3501 - lr: 1.0000e-04\n",
      "Epoch 5/30\n",
      "138/138 [==============================] - ETA: 0s - loss: 1.0982 - accuracy: 0.3501"
     ]
    },
    {
     "name": "stderr",
     "output_type": "stream",
     "text": [
      "WARNING:absl:Found untraced functions such as _jit_compiled_convolution_op, _jit_compiled_convolution_op, _jit_compiled_convolution_op, _jit_compiled_convolution_op, _jit_compiled_convolution_op while saving (showing 5 of 244). These functions will not be directly callable after loading.\n"
     ]
    },
    {
     "name": "stdout",
     "output_type": "stream",
     "text": [
      "INFO:tensorflow:Assets written to: /Users/jeonminjeong/Downloads/알파코/프로젝트/이미지인식/checkpoints/inception/cp-2-0005.ckpt/assets\n"
     ]
    },
    {
     "name": "stderr",
     "output_type": "stream",
     "text": [
      "INFO:tensorflow:Assets written to: /Users/jeonminjeong/Downloads/알파코/프로젝트/이미지인식/checkpoints/inception/cp-2-0005.ckpt/assets\n"
     ]
    },
    {
     "name": "stdout",
     "output_type": "stream",
     "text": [
      "138/138 [==============================] - 653s 5s/step - loss: 1.0982 - accuracy: 0.3501 - val_loss: 1.0982 - val_accuracy: 0.3501 - lr: 1.0000e-04\n",
      "Epoch 6/30\n",
      "138/138 [==============================] - ETA: 0s - loss: 1.0981 - accuracy: 0.3501"
     ]
    },
    {
     "name": "stderr",
     "output_type": "stream",
     "text": [
      "WARNING:absl:Found untraced functions such as _jit_compiled_convolution_op, _jit_compiled_convolution_op, _jit_compiled_convolution_op, _jit_compiled_convolution_op, _jit_compiled_convolution_op while saving (showing 5 of 244). These functions will not be directly callable after loading.\n"
     ]
    },
    {
     "name": "stdout",
     "output_type": "stream",
     "text": [
      "INFO:tensorflow:Assets written to: /Users/jeonminjeong/Downloads/알파코/프로젝트/이미지인식/checkpoints/inception/cp-2-0006.ckpt/assets\n"
     ]
    },
    {
     "name": "stderr",
     "output_type": "stream",
     "text": [
      "INFO:tensorflow:Assets written to: /Users/jeonminjeong/Downloads/알파코/프로젝트/이미지인식/checkpoints/inception/cp-2-0006.ckpt/assets\n"
     ]
    },
    {
     "name": "stdout",
     "output_type": "stream",
     "text": [
      "138/138 [==============================] - 659s 5s/step - loss: 1.0981 - accuracy: 0.3501 - val_loss: 1.0981 - val_accuracy: 0.3501 - lr: 1.0000e-04\n",
      "Epoch 7/30\n",
      "138/138 [==============================] - ETA: 0s - loss: 1.0980 - accuracy: 0.3501"
     ]
    },
    {
     "name": "stderr",
     "output_type": "stream",
     "text": [
      "WARNING:absl:Found untraced functions such as _jit_compiled_convolution_op, _jit_compiled_convolution_op, _jit_compiled_convolution_op, _jit_compiled_convolution_op, _jit_compiled_convolution_op while saving (showing 5 of 244). These functions will not be directly callable after loading.\n"
     ]
    },
    {
     "name": "stdout",
     "output_type": "stream",
     "text": [
      "INFO:tensorflow:Assets written to: /Users/jeonminjeong/Downloads/알파코/프로젝트/이미지인식/checkpoints/inception/cp-2-0007.ckpt/assets\n"
     ]
    },
    {
     "name": "stderr",
     "output_type": "stream",
     "text": [
      "INFO:tensorflow:Assets written to: /Users/jeonminjeong/Downloads/알파코/프로젝트/이미지인식/checkpoints/inception/cp-2-0007.ckpt/assets\n"
     ]
    },
    {
     "name": "stdout",
     "output_type": "stream",
     "text": [
      "138/138 [==============================] - 652s 5s/step - loss: 1.0980 - accuracy: 0.3501 - val_loss: 1.0980 - val_accuracy: 0.3501 - lr: 1.0000e-04\n",
      "Epoch 8/30\n",
      "138/138 [==============================] - ETA: 0s - loss: 1.0980 - accuracy: 0.3501"
     ]
    },
    {
     "name": "stderr",
     "output_type": "stream",
     "text": [
      "WARNING:absl:Found untraced functions such as _jit_compiled_convolution_op, _jit_compiled_convolution_op, _jit_compiled_convolution_op, _jit_compiled_convolution_op, _jit_compiled_convolution_op while saving (showing 5 of 244). These functions will not be directly callable after loading.\n"
     ]
    },
    {
     "name": "stdout",
     "output_type": "stream",
     "text": [
      "INFO:tensorflow:Assets written to: /Users/jeonminjeong/Downloads/알파코/프로젝트/이미지인식/checkpoints/inception/cp-2-0008.ckpt/assets\n"
     ]
    },
    {
     "name": "stderr",
     "output_type": "stream",
     "text": [
      "INFO:tensorflow:Assets written to: /Users/jeonminjeong/Downloads/알파코/프로젝트/이미지인식/checkpoints/inception/cp-2-0008.ckpt/assets\n"
     ]
    },
    {
     "name": "stdout",
     "output_type": "stream",
     "text": [
      "138/138 [==============================] - 657s 5s/step - loss: 1.0980 - accuracy: 0.3501 - val_loss: 1.0979 - val_accuracy: 0.3501 - lr: 1.0000e-04\n",
      "Epoch 9/30\n",
      "138/138 [==============================] - ETA: 0s - loss: 1.0979 - accuracy: 0.3501"
     ]
    },
    {
     "name": "stderr",
     "output_type": "stream",
     "text": [
      "WARNING:absl:Found untraced functions such as _jit_compiled_convolution_op, _jit_compiled_convolution_op, _jit_compiled_convolution_op, _jit_compiled_convolution_op, _jit_compiled_convolution_op while saving (showing 5 of 244). These functions will not be directly callable after loading.\n"
     ]
    },
    {
     "name": "stdout",
     "output_type": "stream",
     "text": [
      "INFO:tensorflow:Assets written to: /Users/jeonminjeong/Downloads/알파코/프로젝트/이미지인식/checkpoints/inception/cp-2-0009.ckpt/assets\n"
     ]
    },
    {
     "name": "stderr",
     "output_type": "stream",
     "text": [
      "INFO:tensorflow:Assets written to: /Users/jeonminjeong/Downloads/알파코/프로젝트/이미지인식/checkpoints/inception/cp-2-0009.ckpt/assets\n"
     ]
    },
    {
     "name": "stdout",
     "output_type": "stream",
     "text": [
      "138/138 [==============================] - 2400s 18s/step - loss: 1.0979 - accuracy: 0.3501 - val_loss: 1.0979 - val_accuracy: 0.3501 - lr: 1.0000e-04\n",
      "Epoch 10/30\n",
      "138/138 [==============================] - ETA: 0s - loss: 1.0979 - accuracy: 0.3501"
     ]
    },
    {
     "name": "stderr",
     "output_type": "stream",
     "text": [
      "WARNING:absl:Found untraced functions such as _jit_compiled_convolution_op, _jit_compiled_convolution_op, _jit_compiled_convolution_op, _jit_compiled_convolution_op, _jit_compiled_convolution_op while saving (showing 5 of 244). These functions will not be directly callable after loading.\n"
     ]
    },
    {
     "name": "stdout",
     "output_type": "stream",
     "text": [
      "INFO:tensorflow:Assets written to: /Users/jeonminjeong/Downloads/알파코/프로젝트/이미지인식/checkpoints/inception/cp-2-0010.ckpt/assets\n"
     ]
    },
    {
     "name": "stderr",
     "output_type": "stream",
     "text": [
      "INFO:tensorflow:Assets written to: /Users/jeonminjeong/Downloads/알파코/프로젝트/이미지인식/checkpoints/inception/cp-2-0010.ckpt/assets\n"
     ]
    },
    {
     "name": "stdout",
     "output_type": "stream",
     "text": [
      "138/138 [==============================] - 512s 4s/step - loss: 1.0979 - accuracy: 0.3501 - val_loss: 1.0978 - val_accuracy: 0.3501 - lr: 1.0000e-04\n",
      "Epoch 11/30\n",
      "138/138 [==============================] - ETA: 0s - loss: 1.0978 - accuracy: 0.3501"
     ]
    },
    {
     "name": "stderr",
     "output_type": "stream",
     "text": [
      "WARNING:absl:Found untraced functions such as _jit_compiled_convolution_op, _jit_compiled_convolution_op, _jit_compiled_convolution_op, _jit_compiled_convolution_op, _jit_compiled_convolution_op while saving (showing 5 of 244). These functions will not be directly callable after loading.\n"
     ]
    },
    {
     "name": "stdout",
     "output_type": "stream",
     "text": [
      "INFO:tensorflow:Assets written to: /Users/jeonminjeong/Downloads/알파코/프로젝트/이미지인식/checkpoints/inception/cp-2-0011.ckpt/assets\n"
     ]
    },
    {
     "name": "stderr",
     "output_type": "stream",
     "text": [
      "INFO:tensorflow:Assets written to: /Users/jeonminjeong/Downloads/알파코/프로젝트/이미지인식/checkpoints/inception/cp-2-0011.ckpt/assets\n"
     ]
    },
    {
     "name": "stdout",
     "output_type": "stream",
     "text": [
      "138/138 [==============================] - 617s 4s/step - loss: 1.0978 - accuracy: 0.3501 - val_loss: 1.0978 - val_accuracy: 0.3501 - lr: 1.0000e-05\n",
      "Epoch 12/30\n",
      "138/138 [==============================] - ETA: 0s - loss: 1.0978 - accuracy: 0.3501"
     ]
    },
    {
     "name": "stderr",
     "output_type": "stream",
     "text": [
      "WARNING:absl:Found untraced functions such as _jit_compiled_convolution_op, _jit_compiled_convolution_op, _jit_compiled_convolution_op, _jit_compiled_convolution_op, _jit_compiled_convolution_op while saving (showing 5 of 244). These functions will not be directly callable after loading.\n"
     ]
    },
    {
     "name": "stdout",
     "output_type": "stream",
     "text": [
      "INFO:tensorflow:Assets written to: /Users/jeonminjeong/Downloads/알파코/프로젝트/이미지인식/checkpoints/inception/cp-2-0012.ckpt/assets\n"
     ]
    },
    {
     "name": "stderr",
     "output_type": "stream",
     "text": [
      "INFO:tensorflow:Assets written to: /Users/jeonminjeong/Downloads/알파코/프로젝트/이미지인식/checkpoints/inception/cp-2-0012.ckpt/assets\n"
     ]
    },
    {
     "name": "stdout",
     "output_type": "stream",
     "text": [
      "138/138 [==============================] - 641s 5s/step - loss: 1.0978 - accuracy: 0.3501 - val_loss: 1.0978 - val_accuracy: 0.3501 - lr: 1.0000e-06\n",
      "Epoch 13/30\n",
      "138/138 [==============================] - ETA: 0s - loss: 1.0978 - accuracy: 0.3501"
     ]
    },
    {
     "name": "stderr",
     "output_type": "stream",
     "text": [
      "WARNING:absl:Found untraced functions such as _jit_compiled_convolution_op, _jit_compiled_convolution_op, _jit_compiled_convolution_op, _jit_compiled_convolution_op, _jit_compiled_convolution_op while saving (showing 5 of 244). These functions will not be directly callable after loading.\n"
     ]
    },
    {
     "name": "stdout",
     "output_type": "stream",
     "text": [
      "INFO:tensorflow:Assets written to: /Users/jeonminjeong/Downloads/알파코/프로젝트/이미지인식/checkpoints/inception/cp-2-0013.ckpt/assets\n"
     ]
    },
    {
     "name": "stderr",
     "output_type": "stream",
     "text": [
      "INFO:tensorflow:Assets written to: /Users/jeonminjeong/Downloads/알파코/프로젝트/이미지인식/checkpoints/inception/cp-2-0013.ckpt/assets\n"
     ]
    },
    {
     "name": "stdout",
     "output_type": "stream",
     "text": [
      "138/138 [==============================] - 646s 5s/step - loss: 1.0978 - accuracy: 0.3501 - val_loss: 1.0978 - val_accuracy: 0.3501 - lr: 1.0000e-07\n",
      "Epoch 14/30\n",
      "138/138 [==============================] - 1378s 10s/step - loss: 1.0978 - accuracy: 0.3501 - val_loss: 1.0978 - val_accuracy: 0.3501 - lr: 1.0000e-08\n",
      "Epoch 15/30\n",
      "138/138 [==============================] - 446s 3s/step - loss: 1.0978 - accuracy: 0.3501 - val_loss: 1.0978 - val_accuracy: 0.3501 - lr: 1.0000e-09\n",
      "Epoch 16/30\n",
      "138/138 [==============================] - 346s 3s/step - loss: 1.0978 - accuracy: 0.3501 - val_loss: 1.0978 - val_accuracy: 0.3501 - lr: 1.0000e-10\n"
     ]
    }
   ],
   "source": [
    "hist_classifi_6 = model_inception_2.fit(train_images, y_train, epochs = 30, validation_data=(val_images, y_val), batch_size=125\n",
    "                            , callbacks=[cp_callback, early, board_inception2, lr_schedule])"
   ]
  },
  {
   "cell_type": "code",
   "execution_count": 44,
   "metadata": {},
   "outputs": [
    {
     "name": "stdout",
     "output_type": "stream",
     "text": [
      "[34.049468994140625, 1.0986236333847046, 1.098404049873352, 1.0983872413635254, 1.0982106924057007, 1.0981194972991943, 1.0980383157730103, 1.0979712009429932, 1.0979074239730835, 1.0978566408157349, 1.0978244543075562, 1.097821593284607, 1.0978211164474487, 1.0978212356567383, 1.0978209972381592, 1.0978213548660278]\n",
      "[0.35402822494506836, 0.35041388869285583, 0.3501224219799042, 0.3501224219799042, 0.3501224219799042, 0.3501224219799042, 0.3501224219799042, 0.3501224219799042, 0.3501224219799042, 0.3501224219799042, 0.3501224219799042, 0.3501224219799042, 0.3501224219799042, 0.3501224219799042, 0.3501224219799042, 0.3501224219799042]\n",
      "[1.0984195470809937, 1.0984216928482056, 1.0983213186264038, 1.0982481241226196, 1.0981570482254028, 1.0980703830718994, 1.0979984998703003, 1.097933292388916, 1.0978734493255615, 1.097825527191162, 1.0978220701217651, 1.0978214740753174, 1.0978208780288696, 1.0978208780288696, 1.0978208780288696, 1.0978208780288696]\n",
      "[0.3501224219799042, 0.3501224219799042, 0.3501224219799042, 0.3501224219799042, 0.3501224219799042, 0.3501224219799042, 0.3501224219799042, 0.3501224219799042, 0.3501224219799042, 0.3501224219799042, 0.3501224219799042, 0.3501224219799042, 0.3501224219799042, 0.3501224219799042, 0.3501224219799042, 0.3501224219799042]\n"
     ]
    }
   ],
   "source": [
    "print(hist_classifi_6.history['loss'])\n",
    "print(hist_classifi_6.history['accuracy'])\n",
    "print(hist_classifi_6.history['val_loss'])\n",
    "print(hist_classifi_6.history['val_accuracy'])"
   ]
  },
  {
   "cell_type": "code",
   "execution_count": 45,
   "metadata": {},
   "outputs": [
    {
     "data": {
      "image/png": "[encoded data removed]",
      "text/plain": [
       "<Figure size 640x480 with 2 Axes>"
      ]
     },
     "metadata": {},
     "output_type": "display_data"
    }
   ],
   "source": [
    "import matplotlib.pyplot as plt\n",
    "\n",
    "fig, loss_ax = plt.subplots()\n",
    "acc_ax = loss_ax.twinx()\n",
    "\n",
    "loss_ax.plot(hist_classifi_6.history['loss'], 'y', label='train loss')\n",
    "loss_ax.plot(hist_classifi_6.history['val_loss'], 'r', label='val loss')\n",
    "loss_ax.set_xlabel('epoch')\n",
    "loss_ax.set_ylabel('loss')\n",
    "loss_ax.legend(loc='upper left')\n",
    "\n",
    "acc_ax.plot(hist_classifi_6.history['accuracy'], 'b', label='train acc')\n",
    "acc_ax.plot(hist_classifi_6.history['val_accuracy'], 'g', label='val acc')\n",
    "acc_ax.set_ylabel('accuracy')\n",
    "acc_ax.legend(loc='lower left')\n",
    "\n",
    "plt.show()"
   ]
  },
  {
   "cell_type": "code",
   "execution_count": 46,
   "metadata": {},
   "outputs": [
    {
     "name": "stdout",
     "output_type": "stream",
     "text": [
      "179/179 - 89s - loss: 1.0978 - accuracy: 0.3501 - 89s/epoch - 499ms/step\n",
      "loss:  1.097823143005371 , acc:  0.3501224219799042\n"
     ]
    }
   ],
   "source": [
    "#모델 검증\n",
    "test_loss, test_acc = model_inception_2.evaluate(test_images, y_test, verbose=2)\n",
    "print('loss: ', test_loss, ', acc: ', test_acc)  "
   ]
  },
  {
   "cell_type": "code",
   "execution_count": 47,
   "metadata": {},
   "outputs": [],
   "source": [
    "model_inception_2.save('models/inception2.h5')"
   ]
  },
  {
   "cell_type": "markdown",
   "metadata": {},
   "source": [
    "## 전체학습"
   ]
  },
  {
   "cell_type": "code",
   "execution_count": 48,
   "metadata": {},
   "outputs": [],
   "source": [
    "base_model = tf.keras.applications.InceptionResNetV2(include_top=False, input_shape = (224, 224 ,3), weights = 'imagenet')"
   ]
  },
  {
   "cell_type": "code",
   "execution_count": 49,
   "metadata": {},
   "outputs": [],
   "source": [
    "base_model.trainable = True"
   ]
  },
  {
   "cell_type": "code",
   "execution_count": 50,
   "metadata": {},
   "outputs": [],
   "source": [
    "inputs = tf.keras.Input(shape=(224, 224, 3))\n",
    "\n",
    "x = base_model(inputs, training=False) # batchnorm 부분 update 방지\n",
    "\n",
    "x = tf.keras.layers.Flatten(input_shape=base_model.output_shape[1:])(x)\n",
    "x = tf.keras.layers.Dense(256, activation='relu')(x)\n",
    "x= tf.keras.layers.Dropout(0.5)(x)\n",
    "outputs = tf.keras.layers.Dense(3, activation='softmax')(x)\n",
    "\n",
    "model_inception_3 = tf.keras.Model(inputs, outputs)"
   ]
  },
  {
   "cell_type": "code",
   "execution_count": 51,
   "metadata": {},
   "outputs": [],
   "source": [
    "model_inception_3.compile(optimizer = tf.keras.optimizers.Adam( learning_rate= 0.0001),\n",
    "                  loss = 'categorical_crossentropy',\n",
    "                  metrics=['accuracy'])"
   ]
  },
  {
   "cell_type": "code",
   "execution_count": 52,
   "metadata": {},
   "outputs": [],
   "source": [
    "early = tf.keras.callbacks.EarlyStopping(monitor='val_loss', patience=3)\n",
    "\n",
    "checkpoint_path = \"/Users/jeonminjeong/Downloads/알파코/프로젝트/이미지인식/checkpoints/inception/cp-3-{epoch:04d}.ckpt\"\n",
    "checkpoint_dir = os.path.dirname(checkpoint_path)\n",
    "\n",
    "cp_callback = tf.keras.callbacks.ModelCheckpoint(\n",
    "    filepath=checkpoint_path, # 고유한 파일이름 부여 가능 \n",
    "    monitor='val_loss', # val_loss값을 기준으로 최저점일때를 기록하고 싶다면\n",
    "    save_best_only=True, # True를 주면 monitor기준 최고상태 기록\n",
    "    save_weights_only=False, # False면 모델 레이어 및 weight값 모두\n",
    "    save_freq='epoch' # 체크포인트 저장하는 에폭주기 설정 가능\n",
    ")\n",
    "\n",
    "def scheduler(epoch, lr):\n",
    "   if epoch < 10:\n",
    "     return lr\n",
    "   else:\n",
    "     return lr * 0.1\n",
    "\n",
    "lr_schedule = tf.keras.callbacks.LearningRateScheduler(scheduler, verbose=0)"
   ]
  },
  {
   "cell_type": "code",
   "execution_count": 53,
   "metadata": {},
   "outputs": [],
   "source": [
    "model_name = '_InceptionResNetV2_3'\n",
    "current_time = datetime.datetime.now().strftime(\"%Y%m%d\") # Y : 연도 / m : 월 / d : 일 / H : 시 / M : 분 / S : 초\n",
    "\n",
    "log_dir = \"logs/\" + current_time + model_name\n",
    "board_inception3 = tf.keras.callbacks.TensorBoard(log_dir=log_dir, histogram_freq=1) # epoch마다 히스토그램 계산"
   ]
  },
  {
   "cell_type": "code",
   "execution_count": 54,
   "metadata": {},
   "outputs": [
    {
     "name": "stdout",
     "output_type": "stream",
     "text": [
      "Epoch 1/30\n"
     ]
    },
    {
     "name": "stderr",
     "output_type": "stream",
     "text": [
      "2022-11-30 05:10:44.778015: I tensorflow/core/grappler/optimizers/custom_graph_optimizer_registry.cc:114] Plugin optimizer for device_type GPU is enabled.\n"
     ]
    },
    {
     "name": "stdout",
     "output_type": "stream",
     "text": [
      "138/138 [==============================] - ETA: 0s - loss: 6.3161 - accuracy: 0.3471 "
     ]
    },
    {
     "name": "stderr",
     "output_type": "stream",
     "text": [
      "2022-11-30 05:46:45.126014: I tensorflow/core/grappler/optimizers/custom_graph_optimizer_registry.cc:114] Plugin optimizer for device_type GPU is enabled.\n",
      "WARNING:absl:Found untraced functions such as _jit_compiled_convolution_op, _jit_compiled_convolution_op, _jit_compiled_convolution_op, _jit_compiled_convolution_op, _jit_compiled_convolution_op while saving (showing 5 of 244). These functions will not be directly callable after loading.\n"
     ]
    },
    {
     "name": "stdout",
     "output_type": "stream",
     "text": [
      "INFO:tensorflow:Assets written to: /Users/jeonminjeong/Downloads/알파코/프로젝트/이미지인식/checkpoints/inception/cp-3-0001.ckpt/assets\n"
     ]
    },
    {
     "name": "stderr",
     "output_type": "stream",
     "text": [
      "INFO:tensorflow:Assets written to: /Users/jeonminjeong/Downloads/알파코/프로젝트/이미지인식/checkpoints/inception/cp-3-0001.ckpt/assets\n"
     ]
    },
    {
     "name": "stdout",
     "output_type": "stream",
     "text": [
      "138/138 [==============================] - 2427s 18s/step - loss: 6.3161 - accuracy: 0.3471 - val_loss: 1.0985 - val_accuracy: 0.3501 - lr: 1.0000e-04\n",
      "Epoch 2/30\n",
      "138/138 [==============================] - ETA: 0s - loss: 1.0984 - accuracy: 0.3501 "
     ]
    },
    {
     "name": "stderr",
     "output_type": "stream",
     "text": [
      "WARNING:absl:Found untraced functions such as _jit_compiled_convolution_op, _jit_compiled_convolution_op, _jit_compiled_convolution_op, _jit_compiled_convolution_op, _jit_compiled_convolution_op while saving (showing 5 of 244). These functions will not be directly callable after loading.\n"
     ]
    },
    {
     "name": "stdout",
     "output_type": "stream",
     "text": [
      "INFO:tensorflow:Assets written to: /Users/jeonminjeong/Downloads/알파코/프로젝트/이미지인식/checkpoints/inception/cp-3-0002.ckpt/assets\n"
     ]
    },
    {
     "name": "stderr",
     "output_type": "stream",
     "text": [
      "INFO:tensorflow:Assets written to: /Users/jeonminjeong/Downloads/알파코/프로젝트/이미지인식/checkpoints/inception/cp-3-0002.ckpt/assets\n"
     ]
    },
    {
     "name": "stdout",
     "output_type": "stream",
     "text": [
      "138/138 [==============================] - 1943s 14s/step - loss: 1.0984 - accuracy: 0.3501 - val_loss: 1.0983 - val_accuracy: 0.3501 - lr: 1.0000e-04\n",
      "Epoch 3/30\n",
      "138/138 [==============================] - ETA: 0s - loss: 1.0982 - accuracy: 0.3501"
     ]
    },
    {
     "name": "stderr",
     "output_type": "stream",
     "text": [
      "WARNING:absl:Found untraced functions such as _jit_compiled_convolution_op, _jit_compiled_convolution_op, _jit_compiled_convolution_op, _jit_compiled_convolution_op, _jit_compiled_convolution_op while saving (showing 5 of 244). These functions will not be directly callable after loading.\n"
     ]
    },
    {
     "name": "stdout",
     "output_type": "stream",
     "text": [
      "INFO:tensorflow:Assets written to: /Users/jeonminjeong/Downloads/알파코/프로젝트/이미지인식/checkpoints/inception/cp-3-0003.ckpt/assets\n"
     ]
    },
    {
     "name": "stderr",
     "output_type": "stream",
     "text": [
      "INFO:tensorflow:Assets written to: /Users/jeonminjeong/Downloads/알파코/프로젝트/이미지인식/checkpoints/inception/cp-3-0003.ckpt/assets\n"
     ]
    },
    {
     "name": "stdout",
     "output_type": "stream",
     "text": [
      "138/138 [==============================] - 1182s 9s/step - loss: 1.0982 - accuracy: 0.3501 - val_loss: 1.0982 - val_accuracy: 0.3501 - lr: 1.0000e-04\n",
      "Epoch 4/30\n",
      "138/138 [==============================] - ETA: 0s - loss: 1.0981 - accuracy: 0.3501"
     ]
    },
    {
     "name": "stderr",
     "output_type": "stream",
     "text": [
      "WARNING:absl:Found untraced functions such as _jit_compiled_convolution_op, _jit_compiled_convolution_op, _jit_compiled_convolution_op, _jit_compiled_convolution_op, _jit_compiled_convolution_op while saving (showing 5 of 244). These functions will not be directly callable after loading.\n"
     ]
    },
    {
     "name": "stdout",
     "output_type": "stream",
     "text": [
      "INFO:tensorflow:Assets written to: /Users/jeonminjeong/Downloads/알파코/프로젝트/이미지인식/checkpoints/inception/cp-3-0004.ckpt/assets\n"
     ]
    },
    {
     "name": "stderr",
     "output_type": "stream",
     "text": [
      "INFO:tensorflow:Assets written to: /Users/jeonminjeong/Downloads/알파코/프로젝트/이미지인식/checkpoints/inception/cp-3-0004.ckpt/assets\n"
     ]
    },
    {
     "name": "stdout",
     "output_type": "stream",
     "text": [
      "138/138 [==============================] - 1742s 13s/step - loss: 1.0981 - accuracy: 0.3501 - val_loss: 1.0980 - val_accuracy: 0.3501 - lr: 1.0000e-04\n",
      "Epoch 5/30\n",
      "138/138 [==============================] - ETA: 0s - loss: 1.0980 - accuracy: 0.3501"
     ]
    },
    {
     "name": "stderr",
     "output_type": "stream",
     "text": [
      "WARNING:absl:Found untraced functions such as _jit_compiled_convolution_op, _jit_compiled_convolution_op, _jit_compiled_convolution_op, _jit_compiled_convolution_op, _jit_compiled_convolution_op while saving (showing 5 of 244). These functions will not be directly callable after loading.\n"
     ]
    },
    {
     "name": "stdout",
     "output_type": "stream",
     "text": [
      "INFO:tensorflow:Assets written to: /Users/jeonminjeong/Downloads/알파코/프로젝트/이미지인식/checkpoints/inception/cp-3-0005.ckpt/assets\n"
     ]
    },
    {
     "name": "stderr",
     "output_type": "stream",
     "text": [
      "INFO:tensorflow:Assets written to: /Users/jeonminjeong/Downloads/알파코/프로젝트/이미지인식/checkpoints/inception/cp-3-0005.ckpt/assets\n"
     ]
    },
    {
     "name": "stdout",
     "output_type": "stream",
     "text": [
      "138/138 [==============================] - 1447s 11s/step - loss: 1.0980 - accuracy: 0.3501 - val_loss: 1.0979 - val_accuracy: 0.3501 - lr: 1.0000e-04\n",
      "Epoch 6/30\n",
      "138/138 [==============================] - ETA: 0s - loss: 1.0980 - accuracy: 0.3501 "
     ]
    },
    {
     "name": "stderr",
     "output_type": "stream",
     "text": [
      "WARNING:absl:Found untraced functions such as _jit_compiled_convolution_op, _jit_compiled_convolution_op, _jit_compiled_convolution_op, _jit_compiled_convolution_op, _jit_compiled_convolution_op while saving (showing 5 of 244). These functions will not be directly callable after loading.\n"
     ]
    },
    {
     "name": "stdout",
     "output_type": "stream",
     "text": [
      "INFO:tensorflow:Assets written to: /Users/jeonminjeong/Downloads/알파코/프로젝트/이미지인식/checkpoints/inception/cp-3-0006.ckpt/assets\n"
     ]
    },
    {
     "name": "stderr",
     "output_type": "stream",
     "text": [
      "INFO:tensorflow:Assets written to: /Users/jeonminjeong/Downloads/알파코/프로젝트/이미지인식/checkpoints/inception/cp-3-0006.ckpt/assets\n"
     ]
    },
    {
     "name": "stdout",
     "output_type": "stream",
     "text": [
      "138/138 [==============================] - 4647s 34s/step - loss: 1.0980 - accuracy: 0.3501 - val_loss: 1.0979 - val_accuracy: 0.3501 - lr: 1.0000e-04\n",
      "Epoch 7/30\n",
      "138/138 [==============================] - ETA: 0s - loss: 1.0979 - accuracy: 0.3501"
     ]
    },
    {
     "name": "stderr",
     "output_type": "stream",
     "text": [
      "WARNING:absl:Found untraced functions such as _jit_compiled_convolution_op, _jit_compiled_convolution_op, _jit_compiled_convolution_op, _jit_compiled_convolution_op, _jit_compiled_convolution_op while saving (showing 5 of 244). These functions will not be directly callable after loading.\n"
     ]
    },
    {
     "name": "stdout",
     "output_type": "stream",
     "text": [
      "INFO:tensorflow:Assets written to: /Users/jeonminjeong/Downloads/알파코/프로젝트/이미지인식/checkpoints/inception/cp-3-0007.ckpt/assets\n"
     ]
    },
    {
     "name": "stderr",
     "output_type": "stream",
     "text": [
      "INFO:tensorflow:Assets written to: /Users/jeonminjeong/Downloads/알파코/프로젝트/이미지인식/checkpoints/inception/cp-3-0007.ckpt/assets\n"
     ]
    },
    {
     "name": "stdout",
     "output_type": "stream",
     "text": [
      "138/138 [==============================] - 1241s 9s/step - loss: 1.0979 - accuracy: 0.3501 - val_loss: 1.0978 - val_accuracy: 0.3501 - lr: 1.0000e-04\n",
      "Epoch 8/30\n",
      "138/138 [==============================] - ETA: 0s - loss: 1.0978 - accuracy: 0.3501"
     ]
    },
    {
     "name": "stderr",
     "output_type": "stream",
     "text": [
      "WARNING:absl:Found untraced functions such as _jit_compiled_convolution_op, _jit_compiled_convolution_op, _jit_compiled_convolution_op, _jit_compiled_convolution_op, _jit_compiled_convolution_op while saving (showing 5 of 244). These functions will not be directly callable after loading.\n"
     ]
    },
    {
     "name": "stdout",
     "output_type": "stream",
     "text": [
      "INFO:tensorflow:Assets written to: /Users/jeonminjeong/Downloads/알파코/프로젝트/이미지인식/checkpoints/inception/cp-3-0008.ckpt/assets\n"
     ]
    },
    {
     "name": "stderr",
     "output_type": "stream",
     "text": [
      "INFO:tensorflow:Assets written to: /Users/jeonminjeong/Downloads/알파코/프로젝트/이미지인식/checkpoints/inception/cp-3-0008.ckpt/assets\n"
     ]
    },
    {
     "name": "stdout",
     "output_type": "stream",
     "text": [
      "138/138 [==============================] - 1214s 9s/step - loss: 1.0978 - accuracy: 0.3501 - val_loss: 1.0978 - val_accuracy: 0.3501 - lr: 1.0000e-04\n",
      "Epoch 9/30\n",
      "138/138 [==============================] - ETA: 0s - loss: 1.0978 - accuracy: 0.3501"
     ]
    },
    {
     "name": "stderr",
     "output_type": "stream",
     "text": [
      "WARNING:absl:Found untraced functions such as _jit_compiled_convolution_op, _jit_compiled_convolution_op, _jit_compiled_convolution_op, _jit_compiled_convolution_op, _jit_compiled_convolution_op while saving (showing 5 of 244). These functions will not be directly callable after loading.\n"
     ]
    },
    {
     "name": "stdout",
     "output_type": "stream",
     "text": [
      "INFO:tensorflow:Assets written to: /Users/jeonminjeong/Downloads/알파코/프로젝트/이미지인식/checkpoints/inception/cp-3-0009.ckpt/assets\n"
     ]
    },
    {
     "name": "stderr",
     "output_type": "stream",
     "text": [
      "INFO:tensorflow:Assets written to: /Users/jeonminjeong/Downloads/알파코/프로젝트/이미지인식/checkpoints/inception/cp-3-0009.ckpt/assets\n"
     ]
    },
    {
     "name": "stdout",
     "output_type": "stream",
     "text": [
      "138/138 [==============================] - 1307s 9s/step - loss: 1.0978 - accuracy: 0.3501 - val_loss: 1.0977 - val_accuracy: 0.3501 - lr: 1.0000e-04\n",
      "Epoch 10/30\n",
      "138/138 [==============================] - ETA: 0s - loss: 1.0977 - accuracy: 0.3501"
     ]
    },
    {
     "name": "stderr",
     "output_type": "stream",
     "text": [
      "WARNING:absl:Found untraced functions such as _jit_compiled_convolution_op, _jit_compiled_convolution_op, _jit_compiled_convolution_op, _jit_compiled_convolution_op, _jit_compiled_convolution_op while saving (showing 5 of 244). These functions will not be directly callable after loading.\n"
     ]
    },
    {
     "name": "stdout",
     "output_type": "stream",
     "text": [
      "INFO:tensorflow:Assets written to: /Users/jeonminjeong/Downloads/알파코/프로젝트/이미지인식/checkpoints/inception/cp-3-0010.ckpt/assets\n"
     ]
    },
    {
     "name": "stderr",
     "output_type": "stream",
     "text": [
      "INFO:tensorflow:Assets written to: /Users/jeonminjeong/Downloads/알파코/프로젝트/이미지인식/checkpoints/inception/cp-3-0010.ckpt/assets\n"
     ]
    },
    {
     "name": "stdout",
     "output_type": "stream",
     "text": [
      "138/138 [==============================] - 1255s 9s/step - loss: 1.0977 - accuracy: 0.3501 - val_loss: 1.0977 - val_accuracy: 0.3501 - lr: 1.0000e-04\n",
      "Epoch 11/30\n",
      "138/138 [==============================] - ETA: 0s - loss: 1.0976 - accuracy: 0.3501 "
     ]
    },
    {
     "name": "stderr",
     "output_type": "stream",
     "text": [
      "WARNING:absl:Found untraced functions such as _jit_compiled_convolution_op, _jit_compiled_convolution_op, _jit_compiled_convolution_op, _jit_compiled_convolution_op, _jit_compiled_convolution_op while saving (showing 5 of 244). These functions will not be directly callable after loading.\n"
     ]
    },
    {
     "name": "stdout",
     "output_type": "stream",
     "text": [
      "INFO:tensorflow:Assets written to: /Users/jeonminjeong/Downloads/알파코/프로젝트/이미지인식/checkpoints/inception/cp-3-0011.ckpt/assets\n"
     ]
    },
    {
     "name": "stderr",
     "output_type": "stream",
     "text": [
      "INFO:tensorflow:Assets written to: /Users/jeonminjeong/Downloads/알파코/프로젝트/이미지인식/checkpoints/inception/cp-3-0011.ckpt/assets\n"
     ]
    },
    {
     "name": "stdout",
     "output_type": "stream",
     "text": [
      "138/138 [==============================] - 2319s 17s/step - loss: 1.0976 - accuracy: 0.3501 - val_loss: 1.0977 - val_accuracy: 0.3501 - lr: 1.0000e-05\n",
      "Epoch 12/30\n",
      "138/138 [==============================] - ETA: 0s - loss: 1.0977 - accuracy: 0.3501 "
     ]
    },
    {
     "name": "stderr",
     "output_type": "stream",
     "text": [
      "WARNING:absl:Found untraced functions such as _jit_compiled_convolution_op, _jit_compiled_convolution_op, _jit_compiled_convolution_op, _jit_compiled_convolution_op, _jit_compiled_convolution_op while saving (showing 5 of 244). These functions will not be directly callable after loading.\n"
     ]
    },
    {
     "name": "stdout",
     "output_type": "stream",
     "text": [
      "INFO:tensorflow:Assets written to: /Users/jeonminjeong/Downloads/알파코/프로젝트/이미지인식/checkpoints/inception/cp-3-0012.ckpt/assets\n"
     ]
    },
    {
     "name": "stderr",
     "output_type": "stream",
     "text": [
      "INFO:tensorflow:Assets written to: /Users/jeonminjeong/Downloads/알파코/프로젝트/이미지인식/checkpoints/inception/cp-3-0012.ckpt/assets\n"
     ]
    },
    {
     "name": "stdout",
     "output_type": "stream",
     "text": [
      "138/138 [==============================] - 2708s 20s/step - loss: 1.0977 - accuracy: 0.3501 - val_loss: 1.0977 - val_accuracy: 0.3501 - lr: 1.0000e-06\n",
      "Epoch 13/30\n",
      "138/138 [==============================] - 1531s 11s/step - loss: 1.0977 - accuracy: 0.3501 - val_loss: 1.0977 - val_accuracy: 0.3501 - lr: 1.0000e-07\n",
      "Epoch 14/30\n",
      "138/138 [==============================] - 1206s 9s/step - loss: 1.0977 - accuracy: 0.3501 - val_loss: 1.0977 - val_accuracy: 0.3501 - lr: 1.0000e-08\n",
      "Epoch 15/30\n",
      "138/138 [==============================] - 2198s 16s/step - loss: 1.0977 - accuracy: 0.3501 - val_loss: 1.0977 - val_accuracy: 0.3501 - lr: 1.0000e-09\n"
     ]
    }
   ],
   "source": [
    "hist_classifi_7 = model_inception_3.fit(train_images, y_train, epochs = 30, validation_data=(val_images, y_val), batch_size=125\n",
    "                            , callbacks=[cp_callback, early, board_inception3, lr_schedule])"
   ]
  },
  {
   "cell_type": "code",
   "execution_count": 55,
   "metadata": {},
   "outputs": [
    {
     "name": "stdout",
     "output_type": "stream",
     "text": [
      "[6.316059112548828, 1.098403811454773, 1.0982472896575928, 1.0980936288833618, 1.0980336666107178, 1.0979948043823242, 1.0978657007217407, 1.097784161567688, 1.0977665185928345, 1.0977386236190796, 1.0975984334945679, 1.0976954698562622, 1.097748875617981, 1.097705364227295, 1.0976641178131104]\n",
      "[0.3471493422985077, 0.3501224219799042, 0.3501224219799042, 0.3501224219799042, 0.3501224219799042, 0.3501224219799042, 0.3501224219799042, 0.3501224219799042, 0.3501224219799042, 0.3501224219799042, 0.3501224219799042, 0.3501224219799042, 0.3501224219799042, 0.3501224219799042, 0.3501224219799042]\n",
      "[1.0984817743301392, 1.0983226299285889, 1.0981643199920654, 1.098046064376831, 1.097947597503662, 1.0978670120239258, 1.0978118181228638, 1.0977524518966675, 1.0977139472961426, 1.09768545627594, 1.0976817607879639, 1.0976811647415161, 1.0976821184158325, 1.0976821184158325, 1.0976821184158325]\n",
      "[0.3501224219799042, 0.3501224219799042, 0.3501224219799042, 0.3501224219799042, 0.3501224219799042, 0.3501224219799042, 0.3501224219799042, 0.3501224219799042, 0.3501224219799042, 0.3501224219799042, 0.3501224219799042, 0.3501224219799042, 0.3501224219799042, 0.3501224219799042, 0.3501224219799042]\n"
     ]
    }
   ],
   "source": [
    "print(hist_classifi_7.history['loss'])\n",
    "print(hist_classifi_7.history['accuracy'])\n",
    "print(hist_classifi_7.history['val_loss'])\n",
    "print(hist_classifi_7.history['val_accuracy'])"
   ]
  },
  {
   "cell_type": "code",
   "execution_count": 56,
   "metadata": {},
   "outputs": [
    {
     "data": {
      "image/png": "[encoded data removed]",
      "text/plain": [
       "<Figure size 640x480 with 2 Axes>"
      ]
     },
     "metadata": {},
     "output_type": "display_data"
    }
   ],
   "source": [
    "import matplotlib.pyplot as plt\n",
    "\n",
    "fig, loss_ax = plt.subplots()\n",
    "acc_ax = loss_ax.twinx()\n",
    "\n",
    "loss_ax.plot(hist_classifi_7.history['loss'], 'y', label='train loss')\n",
    "loss_ax.plot(hist_classifi_7.history['val_loss'], 'r', label='val loss')\n",
    "loss_ax.set_xlabel('epoch')\n",
    "loss_ax.set_ylabel('loss')\n",
    "loss_ax.legend(loc='upper left')\n",
    "\n",
    "acc_ax.plot(hist_classifi_7.history['accuracy'], 'b', label='train acc')\n",
    "acc_ax.plot(hist_classifi_7.history['val_accuracy'], 'g', label='val acc')\n",
    "acc_ax.set_ylabel('accuracy')\n",
    "acc_ax.legend(loc='lower left')\n",
    "\n",
    "plt.show()"
   ]
  },
  {
   "cell_type": "code",
   "execution_count": 57,
   "metadata": {},
   "outputs": [
    {
     "name": "stdout",
     "output_type": "stream",
     "text": [
      "179/179 - 101s - loss: 1.0977 - accuracy: 0.3501 - 101s/epoch - 564ms/step\n",
      "loss:  1.0976827144622803 , acc:  0.3501224219799042\n"
     ]
    }
   ],
   "source": [
    "#모델 검증\n",
    "test_loss, test_acc = model_inception_3.evaluate(test_images, y_test, verbose=2)\n",
    "print('loss: ', test_loss, ', acc: ', test_acc)  "
   ]
  },
  {
   "cell_type": "code",
   "execution_count": 58,
   "metadata": {},
   "outputs": [],
   "source": [
    "model_inception_3.save('models/inception3.h5')"
   ]
  },
  {
   "cell_type": "markdown",
   "metadata": {},
   "source": [
    "## fine-tune"
   ]
  },
  {
   "cell_type": "code",
   "execution_count": 59,
   "metadata": {},
   "outputs": [],
   "source": [
    "## fine-tune\n",
    "model_inception.trainable = True\n",
    "\n",
    "model_inception.compile(optimizer = tf.keras.optimizers.Adam( learning_rate= 0.0001),\n",
    "                loss = 'categorical_crossentropy',\n",
    "                metrics=['accuracy'])"
   ]
  },
  {
   "cell_type": "code",
   "execution_count": 60,
   "metadata": {},
   "outputs": [],
   "source": [
    "early = tf.keras.callbacks.EarlyStopping(monitor='val_loss', patience=3)\n",
    "\n",
    "checkpoint_path = \"/Users/jeonminjeong/Downloads/알파코/프로젝트/이미지인식/checkpoints/inception/cp-4-{epoch:04d}.ckpt\"\n",
    "checkpoint_dir = os.path.dirname(checkpoint_path)\n",
    "\n",
    "cp_callback = tf.keras.callbacks.ModelCheckpoint(\n",
    "    filepath=checkpoint_path, # 고유한 파일이름 부여 가능 \n",
    "    monitor='val_loss', # val_loss값을 기준으로 최저점일때를 기록하고 싶다면\n",
    "    save_best_only=True, # True를 주면 monitor기준 최고상태 기록\n",
    "    save_weights_only=False, # False면 모델 레이어 및 weight값 모두\n",
    "    save_freq='epoch' # 체크포인트 저장하는 에폭주기 설정 가능\n",
    ")\n",
    "\n",
    "def scheduler(epoch, lr):\n",
    "   if epoch < 10:\n",
    "     return lr\n",
    "   else:\n",
    "     return lr * 0.1\n",
    "\n",
    "lr_schedule = tf.keras.callbacks.LearningRateScheduler(scheduler, verbose=0)"
   ]
  },
  {
   "cell_type": "code",
   "execution_count": 61,
   "metadata": {},
   "outputs": [],
   "source": [
    "model_name = '_InceptionResNetV2_4'\n",
    "current_time = datetime.datetime.now().strftime(\"%Y%m%d\") # Y : 연도 / m : 월 / d : 일 / H : 시 / M : 분 / S : 초\n",
    "\n",
    "log_dir = \"logs/\" + current_time + model_name\n",
    "board_inception4 = tf.keras.callbacks.TensorBoard(log_dir=log_dir, histogram_freq=1) # epoch마다 히스토그램 계산"
   ]
  },
  {
   "cell_type": "code",
   "execution_count": 62,
   "metadata": {},
   "outputs": [
    {
     "name": "stdout",
     "output_type": "stream",
     "text": [
      "Epoch 1/30\n"
     ]
    },
    {
     "name": "stderr",
     "output_type": "stream",
     "text": [
      "2022-11-30 13:16:20.486692: I tensorflow/core/grappler/optimizers/custom_graph_optimizer_registry.cc:114] Plugin optimizer for device_type GPU is enabled.\n"
     ]
    },
    {
     "name": "stdout",
     "output_type": "stream",
     "text": [
      "138/138 [==============================] - ETA: 0s - loss: 1.0976 - accuracy: 0.3501"
     ]
    },
    {
     "name": "stderr",
     "output_type": "stream",
     "text": [
      "2022-11-30 13:36:42.375746: I tensorflow/core/grappler/optimizers/custom_graph_optimizer_registry.cc:114] Plugin optimizer for device_type GPU is enabled.\n",
      "WARNING:absl:Found untraced functions such as _jit_compiled_convolution_op, _jit_compiled_convolution_op, _jit_compiled_convolution_op, _jit_compiled_convolution_op, _jit_compiled_convolution_op while saving (showing 5 of 244). These functions will not be directly callable after loading.\n"
     ]
    },
    {
     "name": "stdout",
     "output_type": "stream",
     "text": [
      "INFO:tensorflow:Assets written to: /Users/jeonminjeong/Downloads/알파코/프로젝트/이미지인식/checkpoints/inception/cp-4-0001.ckpt/assets\n"
     ]
    },
    {
     "name": "stderr",
     "output_type": "stream",
     "text": [
      "INFO:tensorflow:Assets written to: /Users/jeonminjeong/Downloads/알파코/프로젝트/이미지인식/checkpoints/inception/cp-4-0001.ckpt/assets\n"
     ]
    },
    {
     "name": "stdout",
     "output_type": "stream",
     "text": [
      "138/138 [==============================] - 1431s 10s/step - loss: 1.0976 - accuracy: 0.3501 - val_loss: 1.0990 - val_accuracy: 0.3499 - lr: 1.0000e-04\n",
      "Epoch 2/30\n",
      "138/138 [==============================] - ETA: 0s - loss: 1.0976 - accuracy: 0.3501 "
     ]
    },
    {
     "name": "stderr",
     "output_type": "stream",
     "text": [
      "WARNING:absl:Found untraced functions such as _jit_compiled_convolution_op, _jit_compiled_convolution_op, _jit_compiled_convolution_op, _jit_compiled_convolution_op, _jit_compiled_convolution_op while saving (showing 5 of 244). These functions will not be directly callable after loading.\n"
     ]
    },
    {
     "name": "stdout",
     "output_type": "stream",
     "text": [
      "INFO:tensorflow:Assets written to: /Users/jeonminjeong/Downloads/알파코/프로젝트/이미지인식/checkpoints/inception/cp-4-0002.ckpt/assets\n"
     ]
    },
    {
     "name": "stderr",
     "output_type": "stream",
     "text": [
      "INFO:tensorflow:Assets written to: /Users/jeonminjeong/Downloads/알파코/프로젝트/이미지인식/checkpoints/inception/cp-4-0002.ckpt/assets\n"
     ]
    },
    {
     "name": "stdout",
     "output_type": "stream",
     "text": [
      "138/138 [==============================] - 1740s 13s/step - loss: 1.0976 - accuracy: 0.3501 - val_loss: 1.0990 - val_accuracy: 0.3499 - lr: 1.0000e-04\n",
      "Epoch 3/30\n",
      "138/138 [==============================] - 1329s 10s/step - loss: 1.0976 - accuracy: 0.3501 - val_loss: 1.0990 - val_accuracy: 0.3499 - lr: 1.0000e-04\n",
      "Epoch 4/30\n",
      "138/138 [==============================] - 1398s 10s/step - loss: 1.0976 - accuracy: 0.3501 - val_loss: 1.0990 - val_accuracy: 0.3499 - lr: 1.0000e-04\n",
      "Epoch 5/30\n",
      " 30/138 [=====>........................] - ETA: 16:20 - loss: 1.0978 - accuracy: 0.3464"
     ]
    },
    {
     "ename": "KeyboardInterrupt",
     "evalue": "",
     "output_type": "error",
     "traceback": [
      "\u001b[0;31m---------------------------------------------------------------------------\u001b[0m",
      "\u001b[0;31mKeyboardInterrupt\u001b[0m                         Traceback (most recent call last)",
      "Cell \u001b[0;32mIn [62], line 1\u001b[0m\n\u001b[0;32m----> 1\u001b[0m hist_classifi_8 \u001b[38;5;241m=\u001b[39m \u001b[43mmodel_inception\u001b[49m\u001b[38;5;241;43m.\u001b[39;49m\u001b[43mfit\u001b[49m\u001b[43m(\u001b[49m\u001b[43mtrain_images\u001b[49m\u001b[43m,\u001b[49m\u001b[43m \u001b[49m\u001b[43my_train\u001b[49m\u001b[43m,\u001b[49m\u001b[43m \u001b[49m\u001b[43mepochs\u001b[49m\u001b[43m \u001b[49m\u001b[38;5;241;43m=\u001b[39;49m\u001b[43m \u001b[49m\u001b[38;5;241;43m30\u001b[39;49m\u001b[43m,\u001b[49m\u001b[43m \u001b[49m\u001b[43mvalidation_data\u001b[49m\u001b[38;5;241;43m=\u001b[39;49m\u001b[43m(\u001b[49m\u001b[43mval_images\u001b[49m\u001b[43m,\u001b[49m\u001b[43m \u001b[49m\u001b[43my_val\u001b[49m\u001b[43m)\u001b[49m\u001b[43m,\u001b[49m\u001b[43m \u001b[49m\u001b[43mbatch_size\u001b[49m\u001b[38;5;241;43m=\u001b[39;49m\u001b[38;5;241;43m125\u001b[39;49m\n\u001b[1;32m      2\u001b[0m \u001b[43m                            \u001b[49m\u001b[43m,\u001b[49m\u001b[43m \u001b[49m\u001b[43mcallbacks\u001b[49m\u001b[38;5;241;43m=\u001b[39;49m\u001b[43m[\u001b[49m\u001b[43mcp_callback\u001b[49m\u001b[43m,\u001b[49m\u001b[43m \u001b[49m\u001b[43mearly\u001b[49m\u001b[43m,\u001b[49m\u001b[43m \u001b[49m\u001b[43mboard_inception4\u001b[49m\u001b[43m,\u001b[49m\u001b[43m \u001b[49m\u001b[43mlr_schedule\u001b[49m\u001b[43m]\u001b[49m\u001b[43m)\u001b[49m\n",
      "File \u001b[0;32m~/opt/miniconda3/lib/python3.9/site-packages/keras/utils/traceback_utils.py:65\u001b[0m, in \u001b[0;36mfilter_traceback.<locals>.error_handler\u001b[0;34m(*args, **kwargs)\u001b[0m\n\u001b[1;32m     63\u001b[0m filtered_tb \u001b[38;5;241m=\u001b[39m \u001b[38;5;28;01mNone\u001b[39;00m\n\u001b[1;32m     64\u001b[0m \u001b[38;5;28;01mtry\u001b[39;00m:\n\u001b[0;32m---> 65\u001b[0m     \u001b[38;5;28;01mreturn\u001b[39;00m \u001b[43mfn\u001b[49m\u001b[43m(\u001b[49m\u001b[38;5;241;43m*\u001b[39;49m\u001b[43margs\u001b[49m\u001b[43m,\u001b[49m\u001b[43m \u001b[49m\u001b[38;5;241;43m*\u001b[39;49m\u001b[38;5;241;43m*\u001b[39;49m\u001b[43mkwargs\u001b[49m\u001b[43m)\u001b[49m\n\u001b[1;32m     66\u001b[0m \u001b[38;5;28;01mexcept\u001b[39;00m \u001b[38;5;167;01mException\u001b[39;00m \u001b[38;5;28;01mas\u001b[39;00m e:\n\u001b[1;32m     67\u001b[0m     filtered_tb \u001b[38;5;241m=\u001b[39m _process_traceback_frames(e\u001b[38;5;241m.\u001b[39m__traceback__)\n",
      "File \u001b[0;32m~/opt/miniconda3/lib/python3.9/site-packages/keras/engine/training.py:1564\u001b[0m, in \u001b[0;36mModel.fit\u001b[0;34m(self, x, y, batch_size, epochs, verbose, callbacks, validation_split, validation_data, shuffle, class_weight, sample_weight, initial_epoch, steps_per_epoch, validation_steps, validation_batch_size, validation_freq, max_queue_size, workers, use_multiprocessing)\u001b[0m\n\u001b[1;32m   1556\u001b[0m \u001b[38;5;28;01mwith\u001b[39;00m tf\u001b[38;5;241m.\u001b[39mprofiler\u001b[38;5;241m.\u001b[39mexperimental\u001b[38;5;241m.\u001b[39mTrace(\n\u001b[1;32m   1557\u001b[0m     \u001b[38;5;124m\"\u001b[39m\u001b[38;5;124mtrain\u001b[39m\u001b[38;5;124m\"\u001b[39m,\n\u001b[1;32m   1558\u001b[0m     epoch_num\u001b[38;5;241m=\u001b[39mepoch,\n\u001b[0;32m   (...)\u001b[0m\n\u001b[1;32m   1561\u001b[0m     _r\u001b[38;5;241m=\u001b[39m\u001b[38;5;241m1\u001b[39m,\n\u001b[1;32m   1562\u001b[0m ):\n\u001b[1;32m   1563\u001b[0m     callbacks\u001b[38;5;241m.\u001b[39mon_train_batch_begin(step)\n\u001b[0;32m-> 1564\u001b[0m     tmp_logs \u001b[38;5;241m=\u001b[39m \u001b[38;5;28;43mself\u001b[39;49m\u001b[38;5;241;43m.\u001b[39;49m\u001b[43mtrain_function\u001b[49m\u001b[43m(\u001b[49m\u001b[43miterator\u001b[49m\u001b[43m)\u001b[49m\n\u001b[1;32m   1565\u001b[0m     \u001b[38;5;28;01mif\u001b[39;00m data_handler\u001b[38;5;241m.\u001b[39mshould_sync:\n\u001b[1;32m   1566\u001b[0m         context\u001b[38;5;241m.\u001b[39masync_wait()\n",
      "File \u001b[0;32m~/opt/miniconda3/lib/python3.9/site-packages/tensorflow/python/util/traceback_utils.py:150\u001b[0m, in \u001b[0;36mfilter_traceback.<locals>.error_handler\u001b[0;34m(*args, **kwargs)\u001b[0m\n\u001b[1;32m    148\u001b[0m filtered_tb \u001b[38;5;241m=\u001b[39m \u001b[38;5;28;01mNone\u001b[39;00m\n\u001b[1;32m    149\u001b[0m \u001b[38;5;28;01mtry\u001b[39;00m:\n\u001b[0;32m--> 150\u001b[0m   \u001b[38;5;28;01mreturn\u001b[39;00m \u001b[43mfn\u001b[49m\u001b[43m(\u001b[49m\u001b[38;5;241;43m*\u001b[39;49m\u001b[43margs\u001b[49m\u001b[43m,\u001b[49m\u001b[43m \u001b[49m\u001b[38;5;241;43m*\u001b[39;49m\u001b[38;5;241;43m*\u001b[39;49m\u001b[43mkwargs\u001b[49m\u001b[43m)\u001b[49m\n\u001b[1;32m    151\u001b[0m \u001b[38;5;28;01mexcept\u001b[39;00m \u001b[38;5;167;01mException\u001b[39;00m \u001b[38;5;28;01mas\u001b[39;00m e:\n\u001b[1;32m    152\u001b[0m   filtered_tb \u001b[38;5;241m=\u001b[39m _process_traceback_frames(e\u001b[38;5;241m.\u001b[39m__traceback__)\n",
      "File \u001b[0;32m~/opt/miniconda3/lib/python3.9/site-packages/tensorflow/python/eager/def_function.py:915\u001b[0m, in \u001b[0;36mFunction.__call__\u001b[0;34m(self, *args, **kwds)\u001b[0m\n\u001b[1;32m    912\u001b[0m compiler \u001b[38;5;241m=\u001b[39m \u001b[38;5;124m\"\u001b[39m\u001b[38;5;124mxla\u001b[39m\u001b[38;5;124m\"\u001b[39m \u001b[38;5;28;01mif\u001b[39;00m \u001b[38;5;28mself\u001b[39m\u001b[38;5;241m.\u001b[39m_jit_compile \u001b[38;5;28;01melse\u001b[39;00m \u001b[38;5;124m\"\u001b[39m\u001b[38;5;124mnonXla\u001b[39m\u001b[38;5;124m\"\u001b[39m\n\u001b[1;32m    914\u001b[0m \u001b[38;5;28;01mwith\u001b[39;00m OptionalXlaContext(\u001b[38;5;28mself\u001b[39m\u001b[38;5;241m.\u001b[39m_jit_compile):\n\u001b[0;32m--> 915\u001b[0m   result \u001b[38;5;241m=\u001b[39m \u001b[38;5;28;43mself\u001b[39;49m\u001b[38;5;241;43m.\u001b[39;49m\u001b[43m_call\u001b[49m\u001b[43m(\u001b[49m\u001b[38;5;241;43m*\u001b[39;49m\u001b[43margs\u001b[49m\u001b[43m,\u001b[49m\u001b[43m \u001b[49m\u001b[38;5;241;43m*\u001b[39;49m\u001b[38;5;241;43m*\u001b[39;49m\u001b[43mkwds\u001b[49m\u001b[43m)\u001b[49m\n\u001b[1;32m    917\u001b[0m new_tracing_count \u001b[38;5;241m=\u001b[39m \u001b[38;5;28mself\u001b[39m\u001b[38;5;241m.\u001b[39mexperimental_get_tracing_count()\n\u001b[1;32m    918\u001b[0m without_tracing \u001b[38;5;241m=\u001b[39m (tracing_count \u001b[38;5;241m==\u001b[39m new_tracing_count)\n",
      "File \u001b[0;32m~/opt/miniconda3/lib/python3.9/site-packages/tensorflow/python/eager/def_function.py:947\u001b[0m, in \u001b[0;36mFunction._call\u001b[0;34m(self, *args, **kwds)\u001b[0m\n\u001b[1;32m    944\u001b[0m   \u001b[38;5;28mself\u001b[39m\u001b[38;5;241m.\u001b[39m_lock\u001b[38;5;241m.\u001b[39mrelease()\n\u001b[1;32m    945\u001b[0m   \u001b[38;5;66;03m# In this case we have created variables on the first call, so we run the\u001b[39;00m\n\u001b[1;32m    946\u001b[0m   \u001b[38;5;66;03m# defunned version which is guaranteed to never create variables.\u001b[39;00m\n\u001b[0;32m--> 947\u001b[0m   \u001b[38;5;28;01mreturn\u001b[39;00m \u001b[38;5;28;43mself\u001b[39;49m\u001b[38;5;241;43m.\u001b[39;49m\u001b[43m_stateless_fn\u001b[49m\u001b[43m(\u001b[49m\u001b[38;5;241;43m*\u001b[39;49m\u001b[43margs\u001b[49m\u001b[43m,\u001b[49m\u001b[43m \u001b[49m\u001b[38;5;241;43m*\u001b[39;49m\u001b[38;5;241;43m*\u001b[39;49m\u001b[43mkwds\u001b[49m\u001b[43m)\u001b[49m  \u001b[38;5;66;03m# pylint: disable=not-callable\u001b[39;00m\n\u001b[1;32m    948\u001b[0m \u001b[38;5;28;01melif\u001b[39;00m \u001b[38;5;28mself\u001b[39m\u001b[38;5;241m.\u001b[39m_stateful_fn \u001b[38;5;129;01mis\u001b[39;00m \u001b[38;5;129;01mnot\u001b[39;00m \u001b[38;5;28;01mNone\u001b[39;00m:\n\u001b[1;32m    949\u001b[0m   \u001b[38;5;66;03m# Release the lock early so that multiple threads can perform the call\u001b[39;00m\n\u001b[1;32m    950\u001b[0m   \u001b[38;5;66;03m# in parallel.\u001b[39;00m\n\u001b[1;32m    951\u001b[0m   \u001b[38;5;28mself\u001b[39m\u001b[38;5;241m.\u001b[39m_lock\u001b[38;5;241m.\u001b[39mrelease()\n",
      "File \u001b[0;32m~/opt/miniconda3/lib/python3.9/site-packages/tensorflow/python/eager/function.py:2496\u001b[0m, in \u001b[0;36mFunction.__call__\u001b[0;34m(self, *args, **kwargs)\u001b[0m\n\u001b[1;32m   2493\u001b[0m \u001b[38;5;28;01mwith\u001b[39;00m \u001b[38;5;28mself\u001b[39m\u001b[38;5;241m.\u001b[39m_lock:\n\u001b[1;32m   2494\u001b[0m   (graph_function,\n\u001b[1;32m   2495\u001b[0m    filtered_flat_args) \u001b[38;5;241m=\u001b[39m \u001b[38;5;28mself\u001b[39m\u001b[38;5;241m.\u001b[39m_maybe_define_function(args, kwargs)\n\u001b[0;32m-> 2496\u001b[0m \u001b[38;5;28;01mreturn\u001b[39;00m \u001b[43mgraph_function\u001b[49m\u001b[38;5;241;43m.\u001b[39;49m\u001b[43m_call_flat\u001b[49m\u001b[43m(\u001b[49m\n\u001b[1;32m   2497\u001b[0m \u001b[43m    \u001b[49m\u001b[43mfiltered_flat_args\u001b[49m\u001b[43m,\u001b[49m\u001b[43m \u001b[49m\u001b[43mcaptured_inputs\u001b[49m\u001b[38;5;241;43m=\u001b[39;49m\u001b[43mgraph_function\u001b[49m\u001b[38;5;241;43m.\u001b[39;49m\u001b[43mcaptured_inputs\u001b[49m\u001b[43m)\u001b[49m\n",
      "File \u001b[0;32m~/opt/miniconda3/lib/python3.9/site-packages/tensorflow/python/eager/function.py:1862\u001b[0m, in \u001b[0;36mConcreteFunction._call_flat\u001b[0;34m(self, args, captured_inputs, cancellation_manager)\u001b[0m\n\u001b[1;32m   1858\u001b[0m possible_gradient_type \u001b[38;5;241m=\u001b[39m gradients_util\u001b[38;5;241m.\u001b[39mPossibleTapeGradientTypes(args)\n\u001b[1;32m   1859\u001b[0m \u001b[38;5;28;01mif\u001b[39;00m (possible_gradient_type \u001b[38;5;241m==\u001b[39m gradients_util\u001b[38;5;241m.\u001b[39mPOSSIBLE_GRADIENT_TYPES_NONE\n\u001b[1;32m   1860\u001b[0m     \u001b[38;5;129;01mand\u001b[39;00m executing_eagerly):\n\u001b[1;32m   1861\u001b[0m   \u001b[38;5;66;03m# No tape is watching; skip to running the function.\u001b[39;00m\n\u001b[0;32m-> 1862\u001b[0m   \u001b[38;5;28;01mreturn\u001b[39;00m \u001b[38;5;28mself\u001b[39m\u001b[38;5;241m.\u001b[39m_build_call_outputs(\u001b[38;5;28;43mself\u001b[39;49m\u001b[38;5;241;43m.\u001b[39;49m\u001b[43m_inference_function\u001b[49m\u001b[38;5;241;43m.\u001b[39;49m\u001b[43mcall\u001b[49m\u001b[43m(\u001b[49m\n\u001b[1;32m   1863\u001b[0m \u001b[43m      \u001b[49m\u001b[43mctx\u001b[49m\u001b[43m,\u001b[49m\u001b[43m \u001b[49m\u001b[43margs\u001b[49m\u001b[43m,\u001b[49m\u001b[43m \u001b[49m\u001b[43mcancellation_manager\u001b[49m\u001b[38;5;241;43m=\u001b[39;49m\u001b[43mcancellation_manager\u001b[49m\u001b[43m)\u001b[49m)\n\u001b[1;32m   1864\u001b[0m forward_backward \u001b[38;5;241m=\u001b[39m \u001b[38;5;28mself\u001b[39m\u001b[38;5;241m.\u001b[39m_select_forward_and_backward_functions(\n\u001b[1;32m   1865\u001b[0m     args,\n\u001b[1;32m   1866\u001b[0m     possible_gradient_type,\n\u001b[1;32m   1867\u001b[0m     executing_eagerly)\n\u001b[1;32m   1868\u001b[0m forward_function, args_with_tangents \u001b[38;5;241m=\u001b[39m forward_backward\u001b[38;5;241m.\u001b[39mforward()\n",
      "File \u001b[0;32m~/opt/miniconda3/lib/python3.9/site-packages/tensorflow/python/eager/function.py:499\u001b[0m, in \u001b[0;36m_EagerDefinedFunction.call\u001b[0;34m(self, ctx, args, cancellation_manager)\u001b[0m\n\u001b[1;32m    497\u001b[0m \u001b[38;5;28;01mwith\u001b[39;00m _InterpolateFunctionError(\u001b[38;5;28mself\u001b[39m):\n\u001b[1;32m    498\u001b[0m   \u001b[38;5;28;01mif\u001b[39;00m cancellation_manager \u001b[38;5;129;01mis\u001b[39;00m \u001b[38;5;28;01mNone\u001b[39;00m:\n\u001b[0;32m--> 499\u001b[0m     outputs \u001b[38;5;241m=\u001b[39m \u001b[43mexecute\u001b[49m\u001b[38;5;241;43m.\u001b[39;49m\u001b[43mexecute\u001b[49m\u001b[43m(\u001b[49m\n\u001b[1;32m    500\u001b[0m \u001b[43m        \u001b[49m\u001b[38;5;28;43mstr\u001b[39;49m\u001b[43m(\u001b[49m\u001b[38;5;28;43mself\u001b[39;49m\u001b[38;5;241;43m.\u001b[39;49m\u001b[43msignature\u001b[49m\u001b[38;5;241;43m.\u001b[39;49m\u001b[43mname\u001b[49m\u001b[43m)\u001b[49m\u001b[43m,\u001b[49m\n\u001b[1;32m    501\u001b[0m \u001b[43m        \u001b[49m\u001b[43mnum_outputs\u001b[49m\u001b[38;5;241;43m=\u001b[39;49m\u001b[38;5;28;43mself\u001b[39;49m\u001b[38;5;241;43m.\u001b[39;49m\u001b[43m_num_outputs\u001b[49m\u001b[43m,\u001b[49m\n\u001b[1;32m    502\u001b[0m \u001b[43m        \u001b[49m\u001b[43minputs\u001b[49m\u001b[38;5;241;43m=\u001b[39;49m\u001b[43margs\u001b[49m\u001b[43m,\u001b[49m\n\u001b[1;32m    503\u001b[0m \u001b[43m        \u001b[49m\u001b[43mattrs\u001b[49m\u001b[38;5;241;43m=\u001b[39;49m\u001b[43mattrs\u001b[49m\u001b[43m,\u001b[49m\n\u001b[1;32m    504\u001b[0m \u001b[43m        \u001b[49m\u001b[43mctx\u001b[49m\u001b[38;5;241;43m=\u001b[39;49m\u001b[43mctx\u001b[49m\u001b[43m)\u001b[49m\n\u001b[1;32m    505\u001b[0m   \u001b[38;5;28;01melse\u001b[39;00m:\n\u001b[1;32m    506\u001b[0m     outputs \u001b[38;5;241m=\u001b[39m execute\u001b[38;5;241m.\u001b[39mexecute_with_cancellation(\n\u001b[1;32m    507\u001b[0m         \u001b[38;5;28mstr\u001b[39m(\u001b[38;5;28mself\u001b[39m\u001b[38;5;241m.\u001b[39msignature\u001b[38;5;241m.\u001b[39mname),\n\u001b[1;32m    508\u001b[0m         num_outputs\u001b[38;5;241m=\u001b[39m\u001b[38;5;28mself\u001b[39m\u001b[38;5;241m.\u001b[39m_num_outputs,\n\u001b[0;32m   (...)\u001b[0m\n\u001b[1;32m    511\u001b[0m         ctx\u001b[38;5;241m=\u001b[39mctx,\n\u001b[1;32m    512\u001b[0m         cancellation_manager\u001b[38;5;241m=\u001b[39mcancellation_manager)\n",
      "File \u001b[0;32m~/opt/miniconda3/lib/python3.9/site-packages/tensorflow/python/eager/execute.py:54\u001b[0m, in \u001b[0;36mquick_execute\u001b[0;34m(op_name, num_outputs, inputs, attrs, ctx, name)\u001b[0m\n\u001b[1;32m     52\u001b[0m \u001b[38;5;28;01mtry\u001b[39;00m:\n\u001b[1;32m     53\u001b[0m   ctx\u001b[38;5;241m.\u001b[39mensure_initialized()\n\u001b[0;32m---> 54\u001b[0m   tensors \u001b[38;5;241m=\u001b[39m \u001b[43mpywrap_tfe\u001b[49m\u001b[38;5;241;43m.\u001b[39;49m\u001b[43mTFE_Py_Execute\u001b[49m\u001b[43m(\u001b[49m\u001b[43mctx\u001b[49m\u001b[38;5;241;43m.\u001b[39;49m\u001b[43m_handle\u001b[49m\u001b[43m,\u001b[49m\u001b[43m \u001b[49m\u001b[43mdevice_name\u001b[49m\u001b[43m,\u001b[49m\u001b[43m \u001b[49m\u001b[43mop_name\u001b[49m\u001b[43m,\u001b[49m\n\u001b[1;32m     55\u001b[0m \u001b[43m                                      \u001b[49m\u001b[43minputs\u001b[49m\u001b[43m,\u001b[49m\u001b[43m \u001b[49m\u001b[43mattrs\u001b[49m\u001b[43m,\u001b[49m\u001b[43m \u001b[49m\u001b[43mnum_outputs\u001b[49m\u001b[43m)\u001b[49m\n\u001b[1;32m     56\u001b[0m \u001b[38;5;28;01mexcept\u001b[39;00m core\u001b[38;5;241m.\u001b[39m_NotOkStatusException \u001b[38;5;28;01mas\u001b[39;00m e:\n\u001b[1;32m     57\u001b[0m   \u001b[38;5;28;01mif\u001b[39;00m name \u001b[38;5;129;01mis\u001b[39;00m \u001b[38;5;129;01mnot\u001b[39;00m \u001b[38;5;28;01mNone\u001b[39;00m:\n",
      "\u001b[0;31mKeyboardInterrupt\u001b[0m: "
     ]
    }
   ],
   "source": [
    "hist_classifi_8 = model_inception.fit(train_images, y_train, epochs = 30, validation_data=(val_images, y_val), batch_size=125\n",
    "                            , callbacks=[cp_callback, early, board_inception4, lr_schedule])"
   ]
  },
  {
   "cell_type": "code",
   "execution_count": null,
   "metadata": {},
   "outputs": [],
   "source": [
    "print(hist_classifi_8.history['loss'])\n",
    "print(hist_classifi_8.history['accuracy'])\n",
    "print(hist_classifi_8.history['val_loss'])\n",
    "print(hist_classifi_8.history['val_accuracy'])"
   ]
  },
  {
   "cell_type": "code",
   "execution_count": null,
   "metadata": {},
   "outputs": [],
   "source": [
    "import matplotlib.pyplot as plt\n",
    "\n",
    "fig, loss_ax = plt.subplots()\n",
    "acc_ax = loss_ax.twinx()\n",
    "\n",
    "loss_ax.plot(hist_classifi_8.history['loss'], 'y', label='train loss')\n",
    "loss_ax.plot(hist_classifi_8.history['val_loss'], 'r', label='val loss')\n",
    "loss_ax.set_xlabel('epoch')\n",
    "loss_ax.set_ylabel('loss')\n",
    "loss_ax.legend(loc='upper left')\n",
    "\n",
    "acc_ax.plot(hist_classifi_8.history['accuracy'], 'b', label='train acc')\n",
    "acc_ax.plot(hist_classifi_8.history['val_accuracy'], 'g', label='val acc')\n",
    "acc_ax.set_ylabel('accuracy')\n",
    "acc_ax.legend(loc='lower left')\n",
    "\n",
    "plt.show()"
   ]
  },
  {
   "cell_type": "code",
   "execution_count": null,
   "metadata": {},
   "outputs": [],
   "source": [
    "#모델 검증\n",
    "test_loss, test_acc = model_inception.evaluate(test_images, y_test, verbose=2)\n",
    "print('loss: ', test_loss, ', acc: ', test_acc)  "
   ]
  },
  {
   "cell_type": "code",
   "execution_count": null,
   "metadata": {},
   "outputs": [],
   "source": [
    "model_inception.save('models/inception4.h5')"
   ]
  },
  {
   "cell_type": "markdown",
   "metadata": {},
   "source": [
    "# EfficientNetB7"
   ]
  },
  {
   "cell_type": "code",
   "execution_count": null,
   "metadata": {},
   "outputs": [],
   "source": [
    "import tensorflow as tf\n",
    "\n",
    "base_model = tf.keras.applications.EfficientNetB7(include_top=False, input_shape = (224, 224 ,3), weights = 'imagenet')\n",
    "\n",
    "base_model.trainable = False\n",
    "\n",
    "y_train = tf.keras.utils.to_categorical(train_labels, 3)\n",
    "y_test = tf.keras.utils.to_categorical(test_labels, 3)\n",
    "y_train.shape, y_test.shape\n",
    "\n",
    "# model.Sequential()없이 모델 구축하는 방법\n",
    "inputs = tf.keras.Input(shape=(224, 224, 3))\n",
    "\n",
    "x = base_model(inputs, training=False)\n",
    "x = tf.keras.layers.Flatten(input_shape=base_model.output_shape[1:])(x)\n",
    "x = tf.keras.layers.Dense(256, activation='relu')(x)\n",
    "x= tf.keras.layers.Dropout(0.5)(x)\n",
    "outputs = tf.keras.layers.Dense(3, activation='softmax')(x)\n",
    "\n",
    "model_inception = tf.keras.Model(inputs, outputs)\n",
    "\n",
    "# categorical_crossentropy\n",
    "model_inception.compile(optimizer = tf.keras.optimizers.Adam(learning_rate= 0.001),\n",
    "                  loss = 'categorical_crossentropy',\n",
    "                  metrics=['accuracy'])"
   ]
  }
 ],
 "metadata": {
  "kernelspec": {
   "display_name": "Python 3 (ipykernel)",
   "language": "python",
   "name": "python3"
  },
  "language_info": {
   "codemirror_mode": {
    "name": "ipython",
    "version": 3
   },
   "file_extension": ".py",
   "mimetype": "text/x-python",
   "name": "python",
   "nbconvert_exporter": "python",
   "pygments_lexer": "ipython3",
   "version": "3.9.12"
  },
  "vscode": {
   "interpreter": {
    "hash": "bd66a3275e96aee4b4cb96c25af671870044333669e75ee46a630b0d04b108e7"
   }
  }
 },
 "nbformat": 4,
 "nbformat_minor": 2
}
