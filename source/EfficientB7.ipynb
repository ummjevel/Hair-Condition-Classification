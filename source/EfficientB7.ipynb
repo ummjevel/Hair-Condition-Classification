{
 "cells": [
  {
   "cell_type": "markdown",
   "id": "1667a6dd",
   "metadata": {},
   "source": [
    "# 분류기만"
   ]
  },
  {
   "cell_type": "code",
   "execution_count": 1,
   "id": "0c39a0ac",
   "metadata": {},
   "outputs": [
    {
     "name": "stdout",
     "output_type": "stream",
     "text": [
      "(17154, 224, 224, 3) (17154,) (5718, 224, 224, 3) (5718,) (5718, 224, 224, 3) (5718,)\n"
     ]
    }
   ],
   "source": [
    "import os\n",
    "import pickle\n",
    "import datetime\n",
    "\n",
    "folder_path = 'dataset_224_224/'\n",
    "x_train, y_train, x_val, y_val, x_test, y_test = [], [], [], [], [], []\n",
    "\n",
    "with open(folder_path+'x_train.pickle', 'rb') as f:\n",
    "    x_train = pickle.load(f)\n",
    "\n",
    "with open(folder_path+'y_train.pickle', 'rb') as f:\n",
    "    y_train = pickle.load(f)\n",
    "\n",
    "with open(folder_path+'x_val.pickle', 'rb') as f:\n",
    "    x_val = pickle.load(f)\n",
    "\n",
    "with open(folder_path+'y_val.pickle', 'rb') as f:\n",
    "    y_val = pickle.load(f)\n",
    "\n",
    "with open(folder_path+'x_test.pickle', 'rb') as f:\n",
    "    x_test = pickle.load(f)\n",
    "\n",
    "with open(folder_path+'y_test.pickle', 'rb') as f:\n",
    "    y_test = pickle.load(f)\n",
    "    \n",
    "print(x_train.shape, y_train.shape, x_val.shape, y_val.shape, x_test.shape, y_test.shape)"
   ]
  },
  {
   "cell_type": "code",
   "execution_count": 2,
   "id": "ea7e60af",
   "metadata": {},
   "outputs": [],
   "source": [
    "train_images = x_train\n",
    "train_labels = y_train\n",
    "val_images = x_val\n",
    "val_labels = y_val\n",
    "test_images = x_test\n",
    "test_labels = y_test"
   ]
  },
  {
   "cell_type": "code",
   "execution_count": 3,
   "id": "f1f03973",
   "metadata": {},
   "outputs": [
    {
     "data": {
      "text/plain": [
       "((17154, 3), (5718, 3), (5718, 3))"
      ]
     },
     "execution_count": 3,
     "metadata": {},
     "output_type": "execute_result"
    }
   ],
   "source": [
    "import tensorflow as tf\n",
    "\n",
    "from tensorflow.keras import datasets, layers, models\n",
    "\n",
    "from tensorflow.keras.layers import Dense, Flatten, MaxPooling2D\n",
    "from tensorflow.keras import Input\n",
    "from tensorflow.keras.layers import Dropout, BatchNormalization\n",
    "\n",
    "import matplotlib.pyplot as plt\n",
    "import os\n",
    "import tensorflow as tf\n",
    "\n",
    "y_train = tf.keras.utils.to_categorical(train_labels, 3)\n",
    "y_val = tf.keras.utils.to_categorical(val_labels, 3)\n",
    "y_test = tf.keras.utils.to_categorical(test_labels, 3)\n",
    "y_train.shape, y_val.shape, y_test.shape"
   ]
  },
  {
   "cell_type": "code",
   "execution_count": 4,
   "id": "756edc1c",
   "metadata": {},
   "outputs": [
    {
     "name": "stdout",
     "output_type": "stream",
     "text": [
      "Metal device set to: Apple M1\n"
     ]
    },
    {
     "name": "stderr",
     "output_type": "stream",
     "text": [
      "2022-11-30 22:11:18.191691: I tensorflow/core/common_runtime/pluggable_device/pluggable_device_factory.cc:306] Could not identify NUMA node of platform GPU ID 0, defaulting to 0. Your kernel may not have been built with NUMA support.\n",
      "2022-11-30 22:11:18.191998: I tensorflow/core/common_runtime/pluggable_device/pluggable_device_factory.cc:272] Created TensorFlow device (/job:localhost/replica:0/task:0/device:GPU:0 with 0 MB memory) -> physical PluggableDevice (device: 0, name: METAL, pci bus id: <undefined>)\n"
     ]
    },
    {
     "name": "stdout",
     "output_type": "stream",
     "text": [
      "Downloading data from https://storage.googleapis.com/keras-applications/efficientnetb7_notop.h5\n",
      "258076736/258076736 [==============================] - 119s 0us/step\n",
      "WARNING:tensorflow:Model failed to serialize as JSON. Ignoring... Unable to serialize [2.0896919 2.1128855 2.108185 ] to JSON. Unrecognized type <class 'tensorflow.python.framework.ops.EagerTensor'>.\n",
      "Epoch 1/30\n"
     ]
    },
    {
     "name": "stderr",
     "output_type": "stream",
     "text": [
      "2022-11-30 22:13:28.202529: W tensorflow/core/platform/profile_utils/cpu_utils.cc:128] Failed to get CPU frequency: 0 Hz\n",
      "2022-11-30 22:13:36.405287: I tensorflow/core/grappler/optimizers/custom_graph_optimizer_registry.cc:114] Plugin optimizer for device_type GPU is enabled.\n"
     ]
    },
    {
     "name": "stdout",
     "output_type": "stream",
     "text": [
      "138/138 [==============================] - ETA: 0s - loss: 1.9952 - accuracy: 0.6612"
     ]
    },
    {
     "name": "stderr",
     "output_type": "stream",
     "text": [
      "2022-11-30 22:26:23.370618: I tensorflow/core/grappler/optimizers/custom_graph_optimizer_registry.cc:114] Plugin optimizer for device_type GPU is enabled.\n"
     ]
    },
    {
     "name": "stdout",
     "output_type": "stream",
     "text": [
      "138/138 [==============================] - 1040s 7s/step - loss: 1.9952 - accuracy: 0.6612 - val_loss: 0.5333 - val_accuracy: 0.7744\n",
      "Epoch 2/30\n",
      "138/138 [==============================] - 5236s 38s/step - loss: 0.5424 - accuracy: 0.7418 - val_loss: 0.4742 - val_accuracy: 0.7915\n",
      "Epoch 3/30\n",
      "138/138 [==============================] - 3311s 24s/step - loss: 0.4864 - accuracy: 0.7668 - val_loss: 0.4480 - val_accuracy: 0.8022\n",
      "Epoch 4/30\n",
      "138/138 [==============================] - 2636s 19s/step - loss: 0.4422 - accuracy: 0.7898 - val_loss: 0.4404 - val_accuracy: 0.8054\n",
      "Epoch 5/30\n",
      "138/138 [==============================] - 5599s 41s/step - loss: 0.4241 - accuracy: 0.8008 - val_loss: 0.4239 - val_accuracy: 0.8109\n",
      "Epoch 6/30\n",
      "138/138 [==============================] - 5073s 37s/step - loss: 0.3988 - accuracy: 0.8119 - val_loss: 0.4162 - val_accuracy: 0.8228\n",
      "Epoch 7/30\n",
      "138/138 [==============================] - 1437s 10s/step - loss: 0.3839 - accuracy: 0.8171 - val_loss: 0.4025 - val_accuracy: 0.8165\n",
      "Epoch 8/30\n",
      "138/138 [==============================] - 2692s 20s/step - loss: 0.3698 - accuracy: 0.8273 - val_loss: 0.4185 - val_accuracy: 0.8202\n",
      "Epoch 9/30\n",
      "138/138 [==============================] - 1698s 12s/step - loss: 0.3604 - accuracy: 0.8264 - val_loss: 0.4168 - val_accuracy: 0.8190\n",
      "Epoch 10/30\n",
      "138/138 [==============================] - 1640s 12s/step - loss: 0.3547 - accuracy: 0.8322 - val_loss: 0.4029 - val_accuracy: 0.8281\n"
     ]
    }
   ],
   "source": [
    "base_model = tf.keras.applications.EfficientNetB7(include_top=False, input_shape = (224, 224 ,3), weights = 'imagenet')\n",
    "base_model.output_shape\n",
    "base_model.trainable = False\n",
    "\n",
    "# model.Sequential()없이 모델 구축하는 방법\n",
    "inputs = tf.keras.Input(shape=(224, 224, 3))\n",
    "\n",
    "x = base_model(inputs, training=False)\n",
    "x = tf.keras.layers.Flatten(input_shape=base_model.output_shape[1:])(x)\n",
    "x = tf.keras.layers.Dense(256, activation='relu')(x)\n",
    "x= tf.keras.layers.Dropout(0.5)(x)\n",
    "outputs = tf.keras.layers.Dense(3, activation='softmax')(x)\n",
    "\n",
    "model = tf.keras.Model(inputs, outputs)\n",
    "\n",
    "early = tf.keras.callbacks.EarlyStopping(monitor='val_loss', patience=3)\n",
    "\n",
    "checkpoint_path = \"checkpoints/EfficientNetB7/cp-0-{epoch:04d}.ckpt\"\n",
    "checkpoint_dir = os.path.dirname(checkpoint_path)\n",
    "\n",
    "model_name = '_EffienctNetB7_1'\n",
    "current_time = datetime.datetime.now().strftime(\"%Y%m%d\") # Y : 연도 / m : 월 / d : 일 / H : 시 / M : 분 / S : 초\n",
    "\n",
    "log_dir = \"logs/\" + current_time + model_name\n",
    "board_effib7_1 = tf.keras.callbacks.TensorBoard(log_dir=log_dir, histogram_freq=1) # epoch마다 히스토그램 계산\n",
    "\n",
    "\n",
    "# categorical_crossentropy\n",
    "model.compile(optimizer = tf.keras.optimizers.Adam(learning_rate= 0.001),\n",
    "                  loss = 'categorical_crossentropy',\n",
    "                  metrics=['accuracy'])\n",
    "\n",
    "# 모델 fitting\n",
    "hist_classifi = model.fit(train_images, y_train, epochs = 30, validation_data=(val_images, y_val)\n",
    ", batch_size=125, callbacks=[early, board_effib7_1])"
   ]
  },
  {
   "cell_type": "code",
   "execution_count": 5,
   "id": "4d04669a",
   "metadata": {},
   "outputs": [
    {
     "name": "stdout",
     "output_type": "stream",
     "text": [
      "[1.9951823949813843, 0.5424017906188965, 0.4863602817058563, 0.44221386313438416, 0.42406994104385376, 0.3988002836704254, 0.383916974067688, 0.369824081659317, 0.3604128360748291, 0.35470420122146606]\n",
      "[0.6611868739128113, 0.7418094873428345, 0.7667599320411682, 0.7898449301719666, 0.8008044958114624, 0.8118805885314941, 0.8171272277832031, 0.8272706270217896, 0.8263961672782898, 0.8321674466133118]\n",
      "[0.5332538485527039, 0.4742378890514374, 0.44798555970191956, 0.440386027097702, 0.42388445138931274, 0.4161829352378845, 0.4024977385997772, 0.41848549246788025, 0.416808545589447, 0.4028814435005188]\n",
      "[0.7743966579437256, 0.791535496711731, 0.8022035956382751, 0.8053515553474426, 0.8109478950500488, 0.82284015417099, 0.8165442943572998, 0.8202168941497803, 0.8189926743507385, 0.828086793422699]\n"
     ]
    },
    {
     "data": {
      "image/png": "[encoded data removed]",
      "text/plain": [
       "<Figure size 640x480 with 2 Axes>"
      ]
     },
     "metadata": {},
     "output_type": "display_data"
    },
    {
     "name": "stdout",
     "output_type": "stream",
     "text": [
      "179/179 - 413s - loss: 0.3792 - accuracy: 0.8340 - 413s/epoch - 2s/step\n",
      "loss:  0.3792400658130646 , acc:  0.8340328931808472\n"
     ]
    },
    {
     "ename": "TypeError",
     "evalue": "Unable to serialize [2.0896919 2.1128855 2.108185 ] to JSON. Unrecognized type <class 'tensorflow.python.framework.ops.EagerTensor'>.",
     "output_type": "error",
     "traceback": [
      "\u001b[0;31m---------------------------------------------------------------------------\u001b[0m",
      "\u001b[0;31mTypeError\u001b[0m                                 Traceback (most recent call last)",
      "Cell \u001b[0;32mIn [5], line 28\u001b[0m\n\u001b[1;32m     25\u001b[0m test_loss, test_acc \u001b[38;5;241m=\u001b[39m model\u001b[38;5;241m.\u001b[39mevaluate(test_images, y_test, verbose\u001b[38;5;241m=\u001b[39m\u001b[38;5;241m2\u001b[39m)\n\u001b[1;32m     26\u001b[0m \u001b[38;5;28mprint\u001b[39m(\u001b[38;5;124m'\u001b[39m\u001b[38;5;124mloss: \u001b[39m\u001b[38;5;124m'\u001b[39m, test_loss, \u001b[38;5;124m'\u001b[39m\u001b[38;5;124m, acc: \u001b[39m\u001b[38;5;124m'\u001b[39m, test_acc)  \n\u001b[0;32m---> 28\u001b[0m \u001b[43mmodel\u001b[49m\u001b[38;5;241;43m.\u001b[39;49m\u001b[43msave\u001b[49m\u001b[43m(\u001b[49m\u001b[38;5;124;43m'\u001b[39;49m\u001b[38;5;124;43mmodels/EfficientNetB7_1.h5\u001b[39;49m\u001b[38;5;124;43m'\u001b[39;49m\u001b[43m)\u001b[49m\n",
      "File \u001b[0;32m~/opt/miniconda3/lib/python3.9/site-packages/keras/utils/traceback_utils.py:70\u001b[0m, in \u001b[0;36mfilter_traceback.<locals>.error_handler\u001b[0;34m(*args, **kwargs)\u001b[0m\n\u001b[1;32m     67\u001b[0m     filtered_tb \u001b[38;5;241m=\u001b[39m _process_traceback_frames(e\u001b[38;5;241m.\u001b[39m__traceback__)\n\u001b[1;32m     68\u001b[0m     \u001b[38;5;66;03m# To get the full stack trace, call:\u001b[39;00m\n\u001b[1;32m     69\u001b[0m     \u001b[38;5;66;03m# `tf.debugging.disable_traceback_filtering()`\u001b[39;00m\n\u001b[0;32m---> 70\u001b[0m     \u001b[38;5;28;01mraise\u001b[39;00m e\u001b[38;5;241m.\u001b[39mwith_traceback(filtered_tb) \u001b[38;5;28;01mfrom\u001b[39;00m \u001b[38;5;28mNone\u001b[39m\n\u001b[1;32m     71\u001b[0m \u001b[38;5;28;01mfinally\u001b[39;00m:\n\u001b[1;32m     72\u001b[0m     \u001b[38;5;28;01mdel\u001b[39;00m filtered_tb\n",
      "File \u001b[0;32m~/opt/miniconda3/lib/python3.9/json/__init__.py:234\u001b[0m, in \u001b[0;36mdumps\u001b[0;34m(obj, skipkeys, ensure_ascii, check_circular, allow_nan, cls, indent, separators, default, sort_keys, **kw)\u001b[0m\n\u001b[1;32m    232\u001b[0m \u001b[38;5;28;01mif\u001b[39;00m \u001b[38;5;28mcls\u001b[39m \u001b[38;5;129;01mis\u001b[39;00m \u001b[38;5;28;01mNone\u001b[39;00m:\n\u001b[1;32m    233\u001b[0m     \u001b[38;5;28mcls\u001b[39m \u001b[38;5;241m=\u001b[39m JSONEncoder\n\u001b[0;32m--> 234\u001b[0m \u001b[38;5;28;01mreturn\u001b[39;00m \u001b[38;5;28;43mcls\u001b[39;49m\u001b[43m(\u001b[49m\n\u001b[1;32m    235\u001b[0m \u001b[43m    \u001b[49m\u001b[43mskipkeys\u001b[49m\u001b[38;5;241;43m=\u001b[39;49m\u001b[43mskipkeys\u001b[49m\u001b[43m,\u001b[49m\u001b[43m \u001b[49m\u001b[43mensure_ascii\u001b[49m\u001b[38;5;241;43m=\u001b[39;49m\u001b[43mensure_ascii\u001b[49m\u001b[43m,\u001b[49m\n\u001b[1;32m    236\u001b[0m \u001b[43m    \u001b[49m\u001b[43mcheck_circular\u001b[49m\u001b[38;5;241;43m=\u001b[39;49m\u001b[43mcheck_circular\u001b[49m\u001b[43m,\u001b[49m\u001b[43m \u001b[49m\u001b[43mallow_nan\u001b[49m\u001b[38;5;241;43m=\u001b[39;49m\u001b[43mallow_nan\u001b[49m\u001b[43m,\u001b[49m\u001b[43m \u001b[49m\u001b[43mindent\u001b[49m\u001b[38;5;241;43m=\u001b[39;49m\u001b[43mindent\u001b[49m\u001b[43m,\u001b[49m\n\u001b[1;32m    237\u001b[0m \u001b[43m    \u001b[49m\u001b[43mseparators\u001b[49m\u001b[38;5;241;43m=\u001b[39;49m\u001b[43mseparators\u001b[49m\u001b[43m,\u001b[49m\u001b[43m \u001b[49m\u001b[43mdefault\u001b[49m\u001b[38;5;241;43m=\u001b[39;49m\u001b[43mdefault\u001b[49m\u001b[43m,\u001b[49m\u001b[43m \u001b[49m\u001b[43msort_keys\u001b[49m\u001b[38;5;241;43m=\u001b[39;49m\u001b[43msort_keys\u001b[49m\u001b[43m,\u001b[49m\n\u001b[1;32m    238\u001b[0m \u001b[43m    \u001b[49m\u001b[38;5;241;43m*\u001b[39;49m\u001b[38;5;241;43m*\u001b[39;49m\u001b[43mkw\u001b[49m\u001b[43m)\u001b[49m\u001b[38;5;241;43m.\u001b[39;49m\u001b[43mencode\u001b[49m\u001b[43m(\u001b[49m\u001b[43mobj\u001b[49m\u001b[43m)\u001b[49m\n",
      "File \u001b[0;32m~/opt/miniconda3/lib/python3.9/json/encoder.py:199\u001b[0m, in \u001b[0;36mJSONEncoder.encode\u001b[0;34m(self, o)\u001b[0m\n\u001b[1;32m    195\u001b[0m         \u001b[38;5;28;01mreturn\u001b[39;00m encode_basestring(o)\n\u001b[1;32m    196\u001b[0m \u001b[38;5;66;03m# This doesn't pass the iterator directly to ''.join() because the\u001b[39;00m\n\u001b[1;32m    197\u001b[0m \u001b[38;5;66;03m# exceptions aren't as detailed.  The list call should be roughly\u001b[39;00m\n\u001b[1;32m    198\u001b[0m \u001b[38;5;66;03m# equivalent to the PySequence_Fast that ''.join() would do.\u001b[39;00m\n\u001b[0;32m--> 199\u001b[0m chunks \u001b[38;5;241m=\u001b[39m \u001b[38;5;28;43mself\u001b[39;49m\u001b[38;5;241;43m.\u001b[39;49m\u001b[43miterencode\u001b[49m\u001b[43m(\u001b[49m\u001b[43mo\u001b[49m\u001b[43m,\u001b[49m\u001b[43m \u001b[49m\u001b[43m_one_shot\u001b[49m\u001b[38;5;241;43m=\u001b[39;49m\u001b[38;5;28;43;01mTrue\u001b[39;49;00m\u001b[43m)\u001b[49m\n\u001b[1;32m    200\u001b[0m \u001b[38;5;28;01mif\u001b[39;00m \u001b[38;5;129;01mnot\u001b[39;00m \u001b[38;5;28misinstance\u001b[39m(chunks, (\u001b[38;5;28mlist\u001b[39m, \u001b[38;5;28mtuple\u001b[39m)):\n\u001b[1;32m    201\u001b[0m     chunks \u001b[38;5;241m=\u001b[39m \u001b[38;5;28mlist\u001b[39m(chunks)\n",
      "File \u001b[0;32m~/opt/miniconda3/lib/python3.9/json/encoder.py:257\u001b[0m, in \u001b[0;36mJSONEncoder.iterencode\u001b[0;34m(self, o, _one_shot)\u001b[0m\n\u001b[1;32m    252\u001b[0m \u001b[38;5;28;01melse\u001b[39;00m:\n\u001b[1;32m    253\u001b[0m     _iterencode \u001b[38;5;241m=\u001b[39m _make_iterencode(\n\u001b[1;32m    254\u001b[0m         markers, \u001b[38;5;28mself\u001b[39m\u001b[38;5;241m.\u001b[39mdefault, _encoder, \u001b[38;5;28mself\u001b[39m\u001b[38;5;241m.\u001b[39mindent, floatstr,\n\u001b[1;32m    255\u001b[0m         \u001b[38;5;28mself\u001b[39m\u001b[38;5;241m.\u001b[39mkey_separator, \u001b[38;5;28mself\u001b[39m\u001b[38;5;241m.\u001b[39mitem_separator, \u001b[38;5;28mself\u001b[39m\u001b[38;5;241m.\u001b[39msort_keys,\n\u001b[1;32m    256\u001b[0m         \u001b[38;5;28mself\u001b[39m\u001b[38;5;241m.\u001b[39mskipkeys, _one_shot)\n\u001b[0;32m--> 257\u001b[0m \u001b[38;5;28;01mreturn\u001b[39;00m \u001b[43m_iterencode\u001b[49m\u001b[43m(\u001b[49m\u001b[43mo\u001b[49m\u001b[43m,\u001b[49m\u001b[43m \u001b[49m\u001b[38;5;241;43m0\u001b[39;49m\u001b[43m)\u001b[49m\n",
      "\u001b[0;31mTypeError\u001b[0m: Unable to serialize [2.0896919 2.1128855 2.108185 ] to JSON. Unrecognized type <class 'tensorflow.python.framework.ops.EagerTensor'>."
     ]
    }
   ],
   "source": [
    "print(hist_classifi.history['loss'])\n",
    "print(hist_classifi.history['accuracy'])\n",
    "print(hist_classifi.history['val_loss'])\n",
    "print(hist_classifi.history['val_accuracy'])\n",
    "\n",
    "import matplotlib.pyplot as plt\n",
    "\n",
    "fig, loss_ax = plt.subplots()\n",
    "acc_ax = loss_ax.twinx()\n",
    "\n",
    "loss_ax.plot(hist_classifi.history['loss'], 'y', label='train loss')\n",
    "loss_ax.plot(hist_classifi.history['val_loss'], 'r', label='val loss')\n",
    "loss_ax.set_xlabel('epoch')\n",
    "loss_ax.set_ylabel('loss')\n",
    "loss_ax.legend(loc='upper left')\n",
    "\n",
    "acc_ax.plot(hist_classifi.history['accuracy'], 'b', label='train acc')\n",
    "acc_ax.plot(hist_classifi.history['val_accuracy'], 'g', label='val acc')\n",
    "acc_ax.set_ylabel('accuracy')\n",
    "acc_ax.legend(loc='lower left')\n",
    "\n",
    "plt.show()\n",
    "\n",
    "#모델 검증\n",
    "test_loss, test_acc = model.evaluate(test_images, y_test, verbose=2)\n",
    "print('loss: ', test_loss, ', acc: ', test_acc)  \n",
    "\n",
    "model.save('models/EfficientNetB7_1.h5')"
   ]
  },
  {
   "cell_type": "code",
   "execution_count": 6,
   "id": "28bbbdcc",
   "metadata": {},
   "outputs": [
    {
     "ename": "TypeError",
     "evalue": "Unable to serialize [2.0896919 2.1128855 2.108185 ] to JSON. Unrecognized type <class 'tensorflow.python.framework.ops.EagerTensor'>.",
     "output_type": "error",
     "traceback": [
      "\u001b[0;31m---------------------------------------------------------------------------\u001b[0m",
      "\u001b[0;31mTypeError\u001b[0m                                 Traceback (most recent call last)",
      "Cell \u001b[0;32mIn [6], line 1\u001b[0m\n\u001b[0;32m----> 1\u001b[0m \u001b[43mmodel\u001b[49m\u001b[38;5;241;43m.\u001b[39;49m\u001b[43msave\u001b[49m\u001b[43m(\u001b[49m\u001b[38;5;124;43m'\u001b[39;49m\u001b[38;5;124;43mmodels/EfficientNetB7_1.h5\u001b[39;49m\u001b[38;5;124;43m'\u001b[39;49m\u001b[43m)\u001b[49m\n",
      "File \u001b[0;32m~/opt/miniconda3/lib/python3.9/site-packages/keras/utils/traceback_utils.py:70\u001b[0m, in \u001b[0;36mfilter_traceback.<locals>.error_handler\u001b[0;34m(*args, **kwargs)\u001b[0m\n\u001b[1;32m     67\u001b[0m     filtered_tb \u001b[38;5;241m=\u001b[39m _process_traceback_frames(e\u001b[38;5;241m.\u001b[39m__traceback__)\n\u001b[1;32m     68\u001b[0m     \u001b[38;5;66;03m# To get the full stack trace, call:\u001b[39;00m\n\u001b[1;32m     69\u001b[0m     \u001b[38;5;66;03m# `tf.debugging.disable_traceback_filtering()`\u001b[39;00m\n\u001b[0;32m---> 70\u001b[0m     \u001b[38;5;28;01mraise\u001b[39;00m e\u001b[38;5;241m.\u001b[39mwith_traceback(filtered_tb) \u001b[38;5;28;01mfrom\u001b[39;00m \u001b[38;5;28mNone\u001b[39m\n\u001b[1;32m     71\u001b[0m \u001b[38;5;28;01mfinally\u001b[39;00m:\n\u001b[1;32m     72\u001b[0m     \u001b[38;5;28;01mdel\u001b[39;00m filtered_tb\n",
      "File \u001b[0;32m~/opt/miniconda3/lib/python3.9/json/__init__.py:234\u001b[0m, in \u001b[0;36mdumps\u001b[0;34m(obj, skipkeys, ensure_ascii, check_circular, allow_nan, cls, indent, separators, default, sort_keys, **kw)\u001b[0m\n\u001b[1;32m    232\u001b[0m \u001b[38;5;28;01mif\u001b[39;00m \u001b[38;5;28mcls\u001b[39m \u001b[38;5;129;01mis\u001b[39;00m \u001b[38;5;28;01mNone\u001b[39;00m:\n\u001b[1;32m    233\u001b[0m     \u001b[38;5;28mcls\u001b[39m \u001b[38;5;241m=\u001b[39m JSONEncoder\n\u001b[0;32m--> 234\u001b[0m \u001b[38;5;28;01mreturn\u001b[39;00m \u001b[38;5;28;43mcls\u001b[39;49m\u001b[43m(\u001b[49m\n\u001b[1;32m    235\u001b[0m \u001b[43m    \u001b[49m\u001b[43mskipkeys\u001b[49m\u001b[38;5;241;43m=\u001b[39;49m\u001b[43mskipkeys\u001b[49m\u001b[43m,\u001b[49m\u001b[43m \u001b[49m\u001b[43mensure_ascii\u001b[49m\u001b[38;5;241;43m=\u001b[39;49m\u001b[43mensure_ascii\u001b[49m\u001b[43m,\u001b[49m\n\u001b[1;32m    236\u001b[0m \u001b[43m    \u001b[49m\u001b[43mcheck_circular\u001b[49m\u001b[38;5;241;43m=\u001b[39;49m\u001b[43mcheck_circular\u001b[49m\u001b[43m,\u001b[49m\u001b[43m \u001b[49m\u001b[43mallow_nan\u001b[49m\u001b[38;5;241;43m=\u001b[39;49m\u001b[43mallow_nan\u001b[49m\u001b[43m,\u001b[49m\u001b[43m \u001b[49m\u001b[43mindent\u001b[49m\u001b[38;5;241;43m=\u001b[39;49m\u001b[43mindent\u001b[49m\u001b[43m,\u001b[49m\n\u001b[1;32m    237\u001b[0m \u001b[43m    \u001b[49m\u001b[43mseparators\u001b[49m\u001b[38;5;241;43m=\u001b[39;49m\u001b[43mseparators\u001b[49m\u001b[43m,\u001b[49m\u001b[43m \u001b[49m\u001b[43mdefault\u001b[49m\u001b[38;5;241;43m=\u001b[39;49m\u001b[43mdefault\u001b[49m\u001b[43m,\u001b[49m\u001b[43m \u001b[49m\u001b[43msort_keys\u001b[49m\u001b[38;5;241;43m=\u001b[39;49m\u001b[43msort_keys\u001b[49m\u001b[43m,\u001b[49m\n\u001b[1;32m    238\u001b[0m \u001b[43m    \u001b[49m\u001b[38;5;241;43m*\u001b[39;49m\u001b[38;5;241;43m*\u001b[39;49m\u001b[43mkw\u001b[49m\u001b[43m)\u001b[49m\u001b[38;5;241;43m.\u001b[39;49m\u001b[43mencode\u001b[49m\u001b[43m(\u001b[49m\u001b[43mobj\u001b[49m\u001b[43m)\u001b[49m\n",
      "File \u001b[0;32m~/opt/miniconda3/lib/python3.9/json/encoder.py:199\u001b[0m, in \u001b[0;36mJSONEncoder.encode\u001b[0;34m(self, o)\u001b[0m\n\u001b[1;32m    195\u001b[0m         \u001b[38;5;28;01mreturn\u001b[39;00m encode_basestring(o)\n\u001b[1;32m    196\u001b[0m \u001b[38;5;66;03m# This doesn't pass the iterator directly to ''.join() because the\u001b[39;00m\n\u001b[1;32m    197\u001b[0m \u001b[38;5;66;03m# exceptions aren't as detailed.  The list call should be roughly\u001b[39;00m\n\u001b[1;32m    198\u001b[0m \u001b[38;5;66;03m# equivalent to the PySequence_Fast that ''.join() would do.\u001b[39;00m\n\u001b[0;32m--> 199\u001b[0m chunks \u001b[38;5;241m=\u001b[39m \u001b[38;5;28;43mself\u001b[39;49m\u001b[38;5;241;43m.\u001b[39;49m\u001b[43miterencode\u001b[49m\u001b[43m(\u001b[49m\u001b[43mo\u001b[49m\u001b[43m,\u001b[49m\u001b[43m \u001b[49m\u001b[43m_one_shot\u001b[49m\u001b[38;5;241;43m=\u001b[39;49m\u001b[38;5;28;43;01mTrue\u001b[39;49;00m\u001b[43m)\u001b[49m\n\u001b[1;32m    200\u001b[0m \u001b[38;5;28;01mif\u001b[39;00m \u001b[38;5;129;01mnot\u001b[39;00m \u001b[38;5;28misinstance\u001b[39m(chunks, (\u001b[38;5;28mlist\u001b[39m, \u001b[38;5;28mtuple\u001b[39m)):\n\u001b[1;32m    201\u001b[0m     chunks \u001b[38;5;241m=\u001b[39m \u001b[38;5;28mlist\u001b[39m(chunks)\n",
      "File \u001b[0;32m~/opt/miniconda3/lib/python3.9/json/encoder.py:257\u001b[0m, in \u001b[0;36mJSONEncoder.iterencode\u001b[0;34m(self, o, _one_shot)\u001b[0m\n\u001b[1;32m    252\u001b[0m \u001b[38;5;28;01melse\u001b[39;00m:\n\u001b[1;32m    253\u001b[0m     _iterencode \u001b[38;5;241m=\u001b[39m _make_iterencode(\n\u001b[1;32m    254\u001b[0m         markers, \u001b[38;5;28mself\u001b[39m\u001b[38;5;241m.\u001b[39mdefault, _encoder, \u001b[38;5;28mself\u001b[39m\u001b[38;5;241m.\u001b[39mindent, floatstr,\n\u001b[1;32m    255\u001b[0m         \u001b[38;5;28mself\u001b[39m\u001b[38;5;241m.\u001b[39mkey_separator, \u001b[38;5;28mself\u001b[39m\u001b[38;5;241m.\u001b[39mitem_separator, \u001b[38;5;28mself\u001b[39m\u001b[38;5;241m.\u001b[39msort_keys,\n\u001b[1;32m    256\u001b[0m         \u001b[38;5;28mself\u001b[39m\u001b[38;5;241m.\u001b[39mskipkeys, _one_shot)\n\u001b[0;32m--> 257\u001b[0m \u001b[38;5;28;01mreturn\u001b[39;00m \u001b[43m_iterencode\u001b[49m\u001b[43m(\u001b[49m\u001b[43mo\u001b[49m\u001b[43m,\u001b[49m\u001b[43m \u001b[49m\u001b[38;5;241;43m0\u001b[39;49m\u001b[43m)\u001b[49m\n",
      "\u001b[0;31mTypeError\u001b[0m: Unable to serialize [2.0896919 2.1128855 2.108185 ] to JSON. Unrecognized type <class 'tensorflow.python.framework.ops.EagerTensor'>."
     ]
    }
   ],
   "source": [
    "model.save('models/EfficientNetB7_1.h5')"
   ]
  },
  {
   "cell_type": "markdown",
   "id": "5ab0a073",
   "metadata": {},
   "source": [
    "# 하위층만"
   ]
  },
  {
   "cell_type": "code",
   "execution_count": 7,
   "id": "bc2c417a",
   "metadata": {},
   "outputs": [
    {
     "name": "stdout",
     "output_type": "stream",
     "text": [
      "block6k_se_squeeze False\n",
      "block6k_se_reshape False\n",
      "block6k_se_reduce False\n",
      "block6k_se_expand False\n",
      "block6k_se_excite False\n",
      "block6k_project_conv False\n",
      "block6k_project_bn False\n",
      "block6k_drop False\n",
      "block6k_add False\n",
      "block6l_expand_conv False\n",
      "block6l_expand_bn False\n",
      "block6l_expand_activation False\n",
      "block6l_dwconv False\n",
      "block6l_bn False\n",
      "block6l_activation False\n",
      "block6l_se_squeeze False\n",
      "block6l_se_reshape False\n",
      "block6l_se_reduce False\n",
      "block6l_se_expand False\n",
      "block6l_se_excite False\n",
      "block6l_project_conv False\n",
      "block6l_project_bn False\n",
      "block6l_drop False\n",
      "block6l_add False\n",
      "block6m_expand_conv False\n",
      "block6m_expand_bn False\n",
      "block6m_expand_activation False\n",
      "block6m_dwconv False\n",
      "block6m_bn False\n",
      "block6m_activation False\n",
      "block6m_se_squeeze False\n",
      "block6m_se_reshape False\n",
      "block6m_se_reduce False\n",
      "block6m_se_expand False\n",
      "block6m_se_excite False\n",
      "block6m_project_conv False\n",
      "block6m_project_bn False\n",
      "block6m_drop False\n",
      "block6m_add False\n",
      "block7a_expand_conv False\n",
      "block7a_expand_bn False\n",
      "block7a_expand_activation False\n",
      "block7a_dwconv False\n",
      "block7a_bn False\n",
      "block7a_activation False\n",
      "block7a_se_squeeze False\n",
      "block7a_se_reshape False\n",
      "block7a_se_reduce False\n",
      "block7a_se_expand False\n",
      "block7a_se_excite False\n",
      "block7a_project_conv False\n",
      "block7a_project_bn False\n",
      "block7b_expand_conv False\n",
      "block7b_expand_bn False\n",
      "block7b_expand_activation False\n",
      "block7b_dwconv False\n",
      "block7b_bn False\n",
      "block7b_activation False\n",
      "block7b_se_squeeze False\n",
      "block7b_se_reshape False\n",
      "block7b_se_reduce False\n",
      "block7b_se_expand False\n",
      "block7b_se_excite False\n",
      "block7b_project_conv False\n",
      "block7b_project_bn False\n",
      "block7b_drop False\n",
      "block7b_add False\n",
      "block7c_expand_conv False\n",
      "block7c_expand_bn False\n",
      "block7c_expand_activation False\n",
      "block7c_dwconv False\n",
      "block7c_bn False\n",
      "block7c_activation False\n",
      "block7c_se_squeeze False\n",
      "block7c_se_reshape False\n",
      "block7c_se_reduce False\n",
      "block7c_se_expand False\n",
      "block7c_se_excite False\n",
      "block7c_project_conv False\n",
      "block7c_project_bn False\n",
      "block7c_drop True\n",
      "block7c_add True\n",
      "block7d_expand_conv True\n",
      "block7d_expand_bn True\n",
      "block7d_expand_activation True\n",
      "block7d_dwconv True\n",
      "block7d_bn True\n",
      "block7d_activation True\n",
      "block7d_se_squeeze True\n",
      "block7d_se_reshape True\n",
      "block7d_se_reduce True\n",
      "block7d_se_expand True\n",
      "block7d_se_excite True\n",
      "block7d_project_conv True\n",
      "block7d_project_bn True\n",
      "block7d_drop True\n",
      "block7d_add True\n",
      "top_conv True\n",
      "top_bn True\n",
      "top_activation True\n"
     ]
    }
   ],
   "source": [
    "base_model = tf.keras.applications.EfficientNetB7(include_top=False, input_shape = (224, 224 ,3), weights = 'imagenet')\n",
    "\n",
    "base_model.trainable = False\n",
    "base_model.trainable = True\n",
    "\n",
    "for layer in base_model.layers[:-20]: \n",
    "  layer.trainable = False\t\t\t\t\n",
    "\n",
    "for layer in base_model.layers[-100:]:\t\n",
    "  print(layer.name, layer.trainable)\n",
    "\n",
    "inputs = tf.keras.Input(shape=(224, 224, 3))\n",
    "\n",
    "x = base_model(inputs, training=False) # batchnorm 부분 update 방지\n",
    "\n",
    "x = tf.keras.layers.Flatten(input_shape=base_model.output_shape[1:])(x)\n",
    "x = tf.keras.layers.Dense(256, activation='relu')(x)\n",
    "x= tf.keras.layers.Dropout(0.5)(x)\n",
    "outputs = tf.keras.layers.Dense(3, activation='softmax')(x)\n",
    "\n",
    "model_efficientb7 = tf.keras.Model(inputs, outputs)\n",
    "\n",
    "model_efficientb7.compile(optimizer = tf.keras.optimizers.Adam( learning_rate= 0.0001),\n",
    "                  loss = 'categorical_crossentropy',\n",
    "                  metrics=['accuracy'])\n",
    "\n",
    "early = tf.keras.callbacks.EarlyStopping(monitor='val_loss', patience=2)\n",
    "\n",
    "checkpoint_path = \"checkpoints/EfficientNetB7/cp-2-{epoch:04d}.ckpt\"\n",
    "checkpoint_dir = os.path.dirname(checkpoint_path)\n",
    "\n",
    "cp_callback = tf.keras.callbacks.ModelCheckpoint(\n",
    "    filepath=checkpoint_path, # 고유한 파일이름 부여 가능 \n",
    "    monitor='val_loss', # val_loss값을 기준으로 최저점일때를 기록하고 싶다면\n",
    "    save_best_only=True, # True를 주면 monitor기준 최고상태 기록\n",
    "    save_weights_only=False, # False면 모델 레이어 및 weight값 모두\n",
    "    save_freq='epoch' # 체크포인트 저장하는 에폭주기 설정 가능\n",
    ")\n",
    "\n",
    "def scheduler(epoch, lr):\n",
    "   if epoch < 10:\n",
    "     return lr\n",
    "   else:\n",
    "     return lr * 0.1\n",
    "\n",
    "lr_schedule = tf.keras.callbacks.LearningRateScheduler(scheduler, verbose=0)\n",
    "\n",
    "model_name = '_EfficientNetB7_2'\n",
    "current_time = datetime.datetime.now().strftime(\"%Y%m%d\") # Y : 연도 / m : 월 / d : 일 / H : 시 / M : 분 / S : 초\n",
    "\n",
    "log_dir = \"logs/\" + current_time + model_name\n",
    "board_effib7 = tf.keras.callbacks.TensorBoard(log_dir=log_dir, histogram_freq=1) # epoch마다 히스토그램 계산"
   ]
  },
  {
   "cell_type": "code",
   "execution_count": 9,
   "id": "823cc67c",
   "metadata": {},
   "outputs": [
    {
     "name": "stdout",
     "output_type": "stream",
     "text": [
      "WARNING:tensorflow:Model failed to serialize as JSON. Ignoring... Unable to serialize [2.0896919 2.1128855 2.108185 ] to JSON. Unrecognized type <class 'tensorflow.python.framework.ops.EagerTensor'>.\n"
     ]
    },
    {
     "name": "stderr",
     "output_type": "stream",
     "text": [
      "WARNING:tensorflow:Model failed to serialize as JSON. Ignoring... Unable to serialize [2.0896919 2.1128855 2.108185 ] to JSON. Unrecognized type <class 'tensorflow.python.framework.ops.EagerTensor'>.\n"
     ]
    },
    {
     "name": "stdout",
     "output_type": "stream",
     "text": [
      "Epoch 1/30\n",
      "138/138 [==============================] - ETA: 0s - loss: 0.3707 - accuracy: 0.8336"
     ]
    },
    {
     "name": "stderr",
     "output_type": "stream",
     "text": [
      "WARNING:absl:Found untraced functions such as _jit_compiled_convolution_op, _jit_compiled_convolution_op, _jit_compiled_convolution_op, _jit_compiled_convolution_op, _jit_compiled_convolution_op while saving (showing 5 of 273). These functions will not be directly callable after loading.\n"
     ]
    },
    {
     "name": "stdout",
     "output_type": "stream",
     "text": [
      "INFO:tensorflow:Assets written to: checkpoints/EfficientNetB7/cp-2-0001.ckpt/assets\n"
     ]
    },
    {
     "name": "stderr",
     "output_type": "stream",
     "text": [
      "INFO:tensorflow:Assets written to: checkpoints/EfficientNetB7/cp-2-0001.ckpt/assets\n"
     ]
    },
    {
     "ename": "TypeError",
     "evalue": "Unable to serialize [2.0896919 2.1128855 2.108185 ] to JSON. Unrecognized type <class 'tensorflow.python.framework.ops.EagerTensor'>.",
     "output_type": "error",
     "traceback": [
      "\u001b[0;31m---------------------------------------------------------------------------\u001b[0m",
      "\u001b[0;31mTypeError\u001b[0m                                 Traceback (most recent call last)",
      "Cell \u001b[0;32mIn [9], line 1\u001b[0m\n\u001b[0;32m----> 1\u001b[0m hist_classifi_2 \u001b[38;5;241m=\u001b[39m \u001b[43mmodel_efficientb7\u001b[49m\u001b[38;5;241;43m.\u001b[39;49m\u001b[43mfit\u001b[49m\u001b[43m(\u001b[49m\u001b[43mtrain_images\u001b[49m\u001b[43m,\u001b[49m\u001b[43m \u001b[49m\u001b[43my_train\u001b[49m\u001b[43m,\u001b[49m\u001b[43m \u001b[49m\u001b[43mepochs\u001b[49m\u001b[43m \u001b[49m\u001b[38;5;241;43m=\u001b[39;49m\u001b[43m \u001b[49m\u001b[38;5;241;43m30\u001b[39;49m\u001b[43m,\u001b[49m\u001b[43m \u001b[49m\u001b[43mvalidation_data\u001b[49m\u001b[38;5;241;43m=\u001b[39;49m\u001b[43m(\u001b[49m\u001b[43mval_images\u001b[49m\u001b[43m,\u001b[49m\u001b[43m \u001b[49m\u001b[43my_val\u001b[49m\u001b[43m)\u001b[49m\u001b[43m,\u001b[49m\u001b[43m \u001b[49m\u001b[43mbatch_size\u001b[49m\u001b[38;5;241;43m=\u001b[39;49m\u001b[38;5;241;43m125\u001b[39;49m\n\u001b[1;32m      2\u001b[0m \u001b[43m                            \u001b[49m\u001b[43m,\u001b[49m\u001b[43m \u001b[49m\u001b[43mcallbacks\u001b[49m\u001b[38;5;241;43m=\u001b[39;49m\u001b[43m[\u001b[49m\u001b[43mcp_callback\u001b[49m\u001b[43m,\u001b[49m\u001b[43m \u001b[49m\u001b[43mearly\u001b[49m\u001b[43m,\u001b[49m\u001b[43m \u001b[49m\u001b[43mboard_effib7\u001b[49m\u001b[43m,\u001b[49m\u001b[43m \u001b[49m\u001b[43mlr_schedule\u001b[49m\u001b[43m]\u001b[49m\u001b[43m)\u001b[49m\n",
      "File \u001b[0;32m~/opt/miniconda3/lib/python3.9/site-packages/keras/utils/traceback_utils.py:70\u001b[0m, in \u001b[0;36mfilter_traceback.<locals>.error_handler\u001b[0;34m(*args, **kwargs)\u001b[0m\n\u001b[1;32m     67\u001b[0m     filtered_tb \u001b[38;5;241m=\u001b[39m _process_traceback_frames(e\u001b[38;5;241m.\u001b[39m__traceback__)\n\u001b[1;32m     68\u001b[0m     \u001b[38;5;66;03m# To get the full stack trace, call:\u001b[39;00m\n\u001b[1;32m     69\u001b[0m     \u001b[38;5;66;03m# `tf.debugging.disable_traceback_filtering()`\u001b[39;00m\n\u001b[0;32m---> 70\u001b[0m     \u001b[38;5;28;01mraise\u001b[39;00m e\u001b[38;5;241m.\u001b[39mwith_traceback(filtered_tb) \u001b[38;5;28;01mfrom\u001b[39;00m \u001b[38;5;28mNone\u001b[39m\n\u001b[1;32m     71\u001b[0m \u001b[38;5;28;01mfinally\u001b[39;00m:\n\u001b[1;32m     72\u001b[0m     \u001b[38;5;28;01mdel\u001b[39;00m filtered_tb\n",
      "File \u001b[0;32m~/opt/miniconda3/lib/python3.9/json/encoder.py:199\u001b[0m, in \u001b[0;36mJSONEncoder.encode\u001b[0;34m(self, o)\u001b[0m\n\u001b[1;32m    195\u001b[0m         \u001b[38;5;28;01mreturn\u001b[39;00m encode_basestring(o)\n\u001b[1;32m    196\u001b[0m \u001b[38;5;66;03m# This doesn't pass the iterator directly to ''.join() because the\u001b[39;00m\n\u001b[1;32m    197\u001b[0m \u001b[38;5;66;03m# exceptions aren't as detailed.  The list call should be roughly\u001b[39;00m\n\u001b[1;32m    198\u001b[0m \u001b[38;5;66;03m# equivalent to the PySequence_Fast that ''.join() would do.\u001b[39;00m\n\u001b[0;32m--> 199\u001b[0m chunks \u001b[38;5;241m=\u001b[39m \u001b[38;5;28;43mself\u001b[39;49m\u001b[38;5;241;43m.\u001b[39;49m\u001b[43miterencode\u001b[49m\u001b[43m(\u001b[49m\u001b[43mo\u001b[49m\u001b[43m,\u001b[49m\u001b[43m \u001b[49m\u001b[43m_one_shot\u001b[49m\u001b[38;5;241;43m=\u001b[39;49m\u001b[38;5;28;43;01mTrue\u001b[39;49;00m\u001b[43m)\u001b[49m\n\u001b[1;32m    200\u001b[0m \u001b[38;5;28;01mif\u001b[39;00m \u001b[38;5;129;01mnot\u001b[39;00m \u001b[38;5;28misinstance\u001b[39m(chunks, (\u001b[38;5;28mlist\u001b[39m, \u001b[38;5;28mtuple\u001b[39m)):\n\u001b[1;32m    201\u001b[0m     chunks \u001b[38;5;241m=\u001b[39m \u001b[38;5;28mlist\u001b[39m(chunks)\n",
      "File \u001b[0;32m~/opt/miniconda3/lib/python3.9/json/encoder.py:257\u001b[0m, in \u001b[0;36mJSONEncoder.iterencode\u001b[0;34m(self, o, _one_shot)\u001b[0m\n\u001b[1;32m    252\u001b[0m \u001b[38;5;28;01melse\u001b[39;00m:\n\u001b[1;32m    253\u001b[0m     _iterencode \u001b[38;5;241m=\u001b[39m _make_iterencode(\n\u001b[1;32m    254\u001b[0m         markers, \u001b[38;5;28mself\u001b[39m\u001b[38;5;241m.\u001b[39mdefault, _encoder, \u001b[38;5;28mself\u001b[39m\u001b[38;5;241m.\u001b[39mindent, floatstr,\n\u001b[1;32m    255\u001b[0m         \u001b[38;5;28mself\u001b[39m\u001b[38;5;241m.\u001b[39mkey_separator, \u001b[38;5;28mself\u001b[39m\u001b[38;5;241m.\u001b[39mitem_separator, \u001b[38;5;28mself\u001b[39m\u001b[38;5;241m.\u001b[39msort_keys,\n\u001b[1;32m    256\u001b[0m         \u001b[38;5;28mself\u001b[39m\u001b[38;5;241m.\u001b[39mskipkeys, _one_shot)\n\u001b[0;32m--> 257\u001b[0m \u001b[38;5;28;01mreturn\u001b[39;00m \u001b[43m_iterencode\u001b[49m\u001b[43m(\u001b[49m\u001b[43mo\u001b[49m\u001b[43m,\u001b[49m\u001b[43m \u001b[49m\u001b[38;5;241;43m0\u001b[39;49m\u001b[43m)\u001b[49m\n",
      "\u001b[0;31mTypeError\u001b[0m: Unable to serialize [2.0896919 2.1128855 2.108185 ] to JSON. Unrecognized type <class 'tensorflow.python.framework.ops.EagerTensor'>."
     ]
    }
   ],
   "source": [
    "hist_classifi_2 = model_efficientb7.fit(train_images, y_train, epochs = 30, validation_data=(val_images, y_val), batch_size=125\n",
    "                            , callbacks=[cp_callback, early, board_effib7, lr_schedule])"
   ]
  },
  {
   "cell_type": "code",
   "execution_count": null,
   "id": "ab0f9d77",
   "metadata": {},
   "outputs": [],
   "source": [
    "print(hist_classifi_2.history['loss'])\n",
    "print(hist_classifi_2.history['accuracy'])\n",
    "print(hist_classifi_2.history['val_loss'])\n",
    "print(hist_classifi_2.history['val_accuracy'])\n",
    "\n",
    "import matplotlib.pyplot as plt\n",
    "\n",
    "fig, loss_ax = plt.subplots()\n",
    "acc_ax = loss_ax.twinx()\n",
    "\n",
    "loss_ax.plot(hist_classifi.history['loss'], 'y', label='train loss')\n",
    "loss_ax.plot(hist_classifi.history['val_loss'], 'r', label='val loss')\n",
    "loss_ax.set_xlabel('epoch')\n",
    "loss_ax.set_ylabel('loss')\n",
    "loss_ax.legend(loc='upper left')\n",
    "\n",
    "acc_ax.plot(hist_classifi.history['accuracy'], 'b', label='train acc')\n",
    "acc_ax.plot(hist_classifi.history['val_accuracy'], 'g', label='val acc')\n",
    "acc_ax.set_ylabel('accuracy')\n",
    "acc_ax.legend(loc='lower left')\n",
    "\n",
    "plt.show()\n",
    "\n",
    "#모델 검증\n",
    "test_loss, test_acc = model.evaluate(test_images, y_test, verbose=2)\n",
    "print('loss: ', test_loss, ', acc: ', test_acc)  \n",
    "model_efficientb7.save('models/EfficientNetB7_2.h5')"
   ]
  },
  {
   "cell_type": "markdown",
   "id": "5fde48f9",
   "metadata": {},
   "source": [
    "# 전부재학습"
   ]
  },
  {
   "cell_type": "code",
   "execution_count": null,
   "id": "0be53d6c",
   "metadata": {},
   "outputs": [],
   "source": [
    "base_model = tf.keras.applications.EfficientNetB7(include_top=False, input_shape = (224, 224 ,3), weights = 'imagenet')\n",
    "\n",
    "base_model.trainable = True\n",
    "\n",
    "inputs = tf.keras.Input(shape=(224, 224, 3))\n",
    "\n",
    "x = base_model(inputs, training=False) # batchnorm 부분 update 방지\n",
    "\n",
    "x = tf.keras.layers.Flatten(input_shape=base_model.output_shape[1:])(x)\n",
    "x = tf.keras.layers.Dense(256, activation='relu')(x)\n",
    "x= tf.keras.layers.Dropout(0.5)(x)\n",
    "outputs = tf.keras.layers.Dense(3, activation='softmax')(x)\n",
    "\n",
    "model_effib7_3 = tf.keras.Model(inputs, outputs)\n",
    "\n",
    "model_effib7_3.compile(optimizer = tf.keras.optimizers.Adam( learning_rate= 0.0001),\n",
    "                  loss = 'categorical_crossentropy',\n",
    "                  metrics=['accuracy'])\n",
    "\n",
    "early = tf.keras.callbacks.EarlyStopping(monitor='val_loss', patience=2)\n",
    "\n",
    "checkpoint_path = \"checkpoints/EfficientNetB7/cp-3-{epoch:04d}.ckpt\"\n",
    "checkpoint_dir = os.path.dirname(checkpoint_path)\n",
    "\n",
    "cp_callback = tf.keras.callbacks.ModelCheckpoint(\n",
    "    filepath=checkpoint_path, # 고유한 파일이름 부여 가능 \n",
    "    monitor='val_loss', # val_loss값을 기준으로 최저점일때를 기록하고 싶다면\n",
    "    save_best_only=True, # True를 주면 monitor기준 최고상태 기록\n",
    "    save_weights_only=False, # False면 모델 레이어 및 weight값 모두\n",
    "    save_freq='epoch' # 체크포인트 저장하는 에폭주기 설정 가능\n",
    ")\n",
    "\n",
    "def scheduler(epoch, lr):\n",
    "   if epoch < 10:\n",
    "     return lr\n",
    "   else:\n",
    "     return lr * 0.1\n",
    "\n",
    "lr_schedule = tf.keras.callbacks.LearningRateScheduler(scheduler, verbose=0)\n",
    "\n",
    "model_name = '_EfficientNetB7_3'\n",
    "current_time = datetime.datetime.now().strftime(\"%Y%m%d\") # Y : 연도 / m : 월 / d : 일 / H : 시 / M : 분 / S : 초\n",
    "\n",
    "log_dir = \"logs/\" + current_time + model_name\n",
    "board_effib7 = tf.keras.callbacks.TensorBoard(log_dir=log_dir, histogram_freq=1) # epoch마다 히스토그램 계산"
   ]
  },
  {
   "cell_type": "code",
   "execution_count": null,
   "id": "c1a788ce",
   "metadata": {},
   "outputs": [],
   "source": [
    "hist_classifi_7 = model_effib7_3.fit(train_images, y_train, epochs = 30, validation_data=(val_images, y_val), batch_size=125\n",
    "                            , callbacks=[cp_callback, early, board_effib7, lr_schedule])"
   ]
  },
  {
   "cell_type": "code",
   "execution_count": null,
   "id": "f390035a",
   "metadata": {},
   "outputs": [],
   "source": [
    "print(hist_classifi_7.history['loss'])\n",
    "print(hist_classifi_7.history['accuracy'])\n",
    "print(hist_classifi_7.history['val_loss'])\n",
    "print(hist_classifi_7.history['val_accuracy'])\n",
    "\n",
    "import matplotlib.pyplot as plt\n",
    "\n",
    "fig, loss_ax = plt.subplots()\n",
    "acc_ax = loss_ax.twinx()\n",
    "\n",
    "loss_ax.plot(hist_classifi_7.history['loss'], 'y', label='train loss')\n",
    "loss_ax.plot(hist_classifi_7.history['val_loss'], 'r', label='val loss')\n",
    "loss_ax.set_xlabel('epoch')\n",
    "loss_ax.set_ylabel('loss')\n",
    "loss_ax.legend(loc='upper left')\n",
    "\n",
    "acc_ax.plot(hist_classifi_7.history['accuracy'], 'b', label='train acc')\n",
    "acc_ax.plot(hist_classifi_7.history['val_accuracy'], 'g', label='val acc')\n",
    "acc_ax.set_ylabel('accuracy')\n",
    "acc_ax.legend(loc='lower left')\n",
    "\n",
    "plt.show()\n",
    "\n",
    "#모델 검증\n",
    "test_loss, test_acc = model_effib7_3.evaluate(test_images, y_test, verbose=2)\n",
    "print('loss: ', test_loss, ', acc: ', test_acc)  \n",
    "model_effib7_3.save('models/EfficientB7_3.h5')"
   ]
  },
  {
   "cell_type": "markdown",
   "id": "e4891399",
   "metadata": {},
   "source": [
    "# fine-tune"
   ]
  },
  {
   "cell_type": "code",
   "execution_count": null,
   "id": "9a59eaca",
   "metadata": {},
   "outputs": [],
   "source": [
    "## fine-tune\n",
    "model_inception.trainable = True\n",
    "\n",
    "model_inception.compile(optimizer = tf.keras.optimizers.Adam( learning_rate= 0.0001),\n",
    "                loss = 'categorical_crossentropy',\n",
    "                metrics=['accuracy'])\n",
    "\n",
    "early = tf.keras.callbacks.EarlyStopping(monitor='val_loss', patience=3)\n",
    "\n",
    "checkpoint_path = \"/Users/jeonminjeong/Downloads/알파코/프로젝트/이미지인식/checkpoints/EfficientNetB7/cp-4-{epoch:04d}.ckpt\"\n",
    "checkpoint_dir = os.path.dirname(checkpoint_path)\n",
    "\n",
    "cp_callback = tf.keras.callbacks.ModelCheckpoint(\n",
    "    filepath=checkpoint_path, # 고유한 파일이름 부여 가능 \n",
    "    monitor='val_loss', # val_loss값을 기준으로 최저점일때를 기록하고 싶다면\n",
    "    save_best_only=True, # True를 주면 monitor기준 최고상태 기록\n",
    "    save_weights_only=False, # False면 모델 레이어 및 weight값 모두\n",
    "    save_freq='epoch' # 체크포인트 저장하는 에폭주기 설정 가능\n",
    ")\n",
    "\n",
    "def scheduler(epoch, lr):\n",
    "   if epoch < 10:\n",
    "     return lr\n",
    "   else:\n",
    "     return lr * 0.1\n",
    "\n",
    "lr_schedule = tf.keras.callbacks.LearningRateScheduler(scheduler, verbose=0)\n",
    "\n",
    "model_name = '_EfficientNetB7_4'\n",
    "current_time = datetime.datetime.now().strftime(\"%Y%m%d\") # Y : 연도 / m : 월 / d : 일 / H : 시 / M : 분 / S : 초\n",
    "\n",
    "log_dir = \"logs/\" + current_time + model_name\n",
    "board_inception4 = tf.keras.callbacks.TensorBoard(log_dir=log_dir, histogram_freq=1) # epoch마다 히스토그램 계산"
   ]
  },
  {
   "cell_type": "code",
   "execution_count": null,
   "id": "bf73c8c8",
   "metadata": {},
   "outputs": [],
   "source": [
    "hist_classifi_8 = model.fit(train_images, y_train, epochs = 30, validation_data=(val_images, y_val), batch_size=125\n",
    "                            , callbacks=[cp_callback, early, board_inception4, lr_schedule])"
   ]
  },
  {
   "cell_type": "code",
   "execution_count": null,
   "id": "325ff82f",
   "metadata": {},
   "outputs": [],
   "source": [
    "print(hist_classifi_8.history['loss'])\n",
    "print(hist_classifi_8.history['accuracy'])\n",
    "print(hist_classifi_8.history['val_loss'])\n",
    "print(hist_classifi_8.history['val_accuracy'])\n",
    "\n",
    "import matplotlib.pyplot as plt\n",
    "\n",
    "fig, loss_ax = plt.subplots()\n",
    "acc_ax = loss_ax.twinx()\n",
    "\n",
    "loss_ax.plot(hist_classifi_8.history['loss'], 'y', label='train loss')\n",
    "loss_ax.plot(hist_classifi_8.history['val_loss'], 'r', label='val loss')\n",
    "loss_ax.set_xlabel('epoch')\n",
    "loss_ax.set_ylabel('loss')\n",
    "loss_ax.legend(loc='upper left')\n",
    "\n",
    "acc_ax.plot(hist_classifi_8.history['accuracy'], 'b', label='train acc')\n",
    "acc_ax.plot(hist_classifi_8.history['val_accuracy'], 'g', label='val acc')\n",
    "acc_ax.set_ylabel('accuracy')\n",
    "acc_ax.legend(loc='lower left')\n",
    "\n",
    "plt.show()"
   ]
  },
  {
   "cell_type": "code",
   "execution_count": null,
   "id": "69b020a2",
   "metadata": {},
   "outputs": [],
   "source": [
    "#모델 검증\n",
    "test_loss, test_acc = model_inception.evaluate(test_images, y_test, verbose=2)\n",
    "print('loss: ', test_loss, ', acc: ', test_acc)  \n",
    "model.save('models/EfficientB7_4.h5')"
   ]
  }
 ],
 "metadata": {
  "kernelspec": {
   "display_name": "Python 3 (ipykernel)",
   "language": "python",
   "name": "python3"
  },
  "language_info": {
   "codemirror_mode": {
    "name": "ipython",
    "version": 3
   },
   "file_extension": ".py",
   "mimetype": "text/x-python",
   "name": "python",
   "nbconvert_exporter": "python",
   "pygments_lexer": "ipython3",
   "version": "3.9.12"
  }
 },
 "nbformat": 4,
 "nbformat_minor": 5
}
